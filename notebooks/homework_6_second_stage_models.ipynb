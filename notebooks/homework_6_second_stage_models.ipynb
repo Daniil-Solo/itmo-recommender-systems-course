{
 "cells": [
  {
   "cell_type": "markdown",
   "id": "41e38d3e-3edd-437d-a35a-3a87e1086b4f",
   "metadata": {},
   "source": [
    "# Попытка сделать двухэтапную модель"
   ]
  },
  {
   "cell_type": "markdown",
   "id": "94199806-d4fd-4a07-8ad7-b15458a1c5eb",
   "metadata": {
    "collapsed": true,
    "jupyter": {
     "outputs_hidden": true
    }
   },
   "source": [
    "## Импорт библиотек и константы"
   ]
  },
  {
   "cell_type": "code",
   "execution_count": 1,
   "id": "d89b75b7-0530-437b-9ff4-0a9189698614",
   "metadata": {},
   "outputs": [],
   "source": [
    "import warnings\n",
    "warnings.filterwarnings('ignore')"
   ]
  },
  {
   "cell_type": "code",
   "execution_count": 2,
   "id": "ea1e3a4d-bf2d-42ba-bd14-4b4c384b0f81",
   "metadata": {},
   "outputs": [],
   "source": [
    "import json\n",
    "import shap\n",
    "import pandas as pd\n",
    "import numpy as np\n",
    "from tqdm.auto import tqdm\n",
    "\n",
    "import xgboost as xgb\n",
    "from lightgbm import LGBMRanker, LGBMClassifier\n",
    "from rectools import Columns\n",
    "from rectools.dataset import Dataset\n",
    "from rectools.metrics import MAP, NDCG, Recall, Serendipity, calc_metrics\n",
    "from rectools.model_selection import TimeRangeSplitter"
   ]
  },
  {
   "cell_type": "code",
   "execution_count": 3,
   "id": "3a0393f8-9a71-4d0b-b9cb-a896d7db89d3",
   "metadata": {},
   "outputs": [],
   "source": [
    "RANDOM_STATE = 0"
   ]
  },
  {
   "cell_type": "markdown",
   "id": "bc544296-38a8-4db4-ab1a-d43d1f84b1f5",
   "metadata": {},
   "source": [
    "## Загрузка данных"
   ]
  },
  {
   "cell_type": "markdown",
   "id": "30177796-a098-4555-b40d-103cd7433f12",
   "metadata": {},
   "source": [
    "Оптимизируем память для хранения датафремов через приведение типов"
   ]
  },
  {
   "cell_type": "code",
   "execution_count": 4,
   "id": "239d9c93-4ec4-44d0-9b09-fad2b6435a87",
   "metadata": {},
   "outputs": [],
   "source": [
    "lightfm_recommendations_df = pd.read_csv(\"new_data/lightfm_recommendations.csv\")\n",
    "lightfm_recommendations_df = lightfm_recommendations_df.astype(\n",
    "    {'user_id': 'int32', 'item_id': 'int32', 'score': 'float32', 'rank': 'int16'}\n",
    ")\n",
    "lightfm_recommendations_df = lightfm_recommendations_df.rename({\"score\": \"lightfm_score\", \"rank\": \"lightfm_rank\"}, axis=1)"
   ]
  },
  {
   "cell_type": "code",
   "execution_count": 5,
   "id": "dfdb3370-424c-4e01-a1c4-3ca53840269a",
   "metadata": {},
   "outputs": [],
   "source": [
    "userknn_recommendations_df = pd.read_csv(\"new_data/userknn_recommendations.csv\")\n",
    "userknn_recommendations_df = userknn_recommendations_df.astype(\n",
    "    {'user_id': 'int32', 'item_id': 'int32', 'score': 'float32', 'rank': 'int16'}\n",
    ")\n",
    "userknn_recommendations_df = userknn_recommendations_df.rename({\"score\": \"userknn_score\", \"rank\": \"userknn_rank\"}, axis=1)"
   ]
  },
  {
   "cell_type": "code",
   "execution_count": 6,
   "id": "605ed980-2a0d-4555-88b0-f333d2df6765",
   "metadata": {},
   "outputs": [],
   "source": [
    "popular_recommendations_df = pd.read_csv(\"new_data/popular_recommendations.csv\")\n",
    "popular_recommendations_df = popular_recommendations_df.astype(\n",
    "    {'user_id': 'int32', 'item_id': 'int32', 'score': 'float32', 'rank': 'int16'}\n",
    ")\n",
    "popular_recommendations_df = popular_recommendations_df.rename({\"score\": \"popular_score\", \"rank\": \"popular_rank\"}, axis=1)"
   ]
  },
  {
   "cell_type": "code",
   "execution_count": 7,
   "id": "d52e43df-a268-4d00-9ffd-ef03d9b0453c",
   "metadata": {},
   "outputs": [],
   "source": [
    "test_df = pd.read_csv(\"new_data/ranker_test_data.csv\")\n",
    "test_df = test_df.astype(\n",
    "    {'user_id': 'int32', 'item_id': 'int32', 'weight': 'float32', 'total_dur': 'int32'}\n",
    ")"
   ]
  },
  {
   "cell_type": "code",
   "execution_count": 8,
   "id": "beb3a149-dd93-4ffe-8984-cb3691f87a0f",
   "metadata": {},
   "outputs": [],
   "source": [
    "train_df = pd.read_csv(\"new_data/ranker_train_data.csv\")\n",
    "train_df = train_df.astype(\n",
    "    {'user_id': 'int32', 'item_id': 'int32', 'weight': 'float32', 'total_dur': 'int32'}\n",
    ")\n",
    "\n",
    "valid_df = pd.read_csv(\"new_data/ranker_valid_data.csv\")\n",
    "valid_df = valid_df.astype(\n",
    "    {'user_id': 'int32', 'item_id': 'int32', 'weight': 'float32', 'total_dur': 'int32'}\n",
    ")"
   ]
  },
  {
   "cell_type": "code",
   "execution_count": 9,
   "id": "c045ad81-d2ac-4a50-b97a-e5f2804cdb46",
   "metadata": {},
   "outputs": [],
   "source": [
    "users_df = pd.read_csv(\"new_data/user_new_features_data.csv\")\n",
    "users_df = users_df.astype(\n",
    "    {\n",
    "        'user_id': 'int32', 'age': 'int8', 'income': 'int8', 'sex': 'int8', 'kids_flg': 'int8',\n",
    "        'user_history': 'int32', 'user_avg_popularity': 'float32', 'user_last_popularity': 'float32',\n",
    "        'serials_count': 'int16', 'films_count': 'int16', 'serials_part': 'float16',\n",
    "    }\n",
    ")\n",
    "\n",
    "items_df = pd.read_csv(\"new_data/item_new_features_data.csv\")\n",
    "items_df = items_df.astype(\n",
    "    {\n",
    "        'item_id': 'int32', 'content_type': 'int8', 'release_year_cat': 'int8', 'for_kids': 'int8', 'age_rating': 'int8',\n",
    "        'actors_count': 'int32', 'description_len': 'int32', 'american': 'int8', 'russian': 'int8', 'soviet': 'int8',\n",
    "        'item_popularity': 'float32', 'item_avg_history': 'float32'\n",
    "    }\n",
    ")"
   ]
  },
  {
   "cell_type": "code",
   "execution_count": 10,
   "id": "983a2883-09d4-4f9d-812e-da3e806138d9",
   "metadata": {},
   "outputs": [],
   "source": [
    "models_results = pd.read_csv(\"new_data/first_stage_models.csv\", index_col=0)"
   ]
  },
  {
   "cell_type": "code",
   "execution_count": 11,
   "id": "3c9e7e0d-e410-40fc-9908-c3944fe866aa",
   "metadata": {},
   "outputs": [],
   "source": [
    "with open(\"new_data/users_default_values.json\", \"r\") as f:\n",
    "    users_default_features = json.load(f)"
   ]
  },
  {
   "cell_type": "code",
   "execution_count": 12,
   "id": "31512e04-1755-483c-ad74-705694fe860a",
   "metadata": {},
   "outputs": [],
   "source": [
    "with open(\"new_data/user_features_mapping.json\", \"r\") as f:\n",
    "    users_features_mapping = json.load(f)"
   ]
  },
  {
   "cell_type": "code",
   "execution_count": 13,
   "id": "e8768809-577b-4982-b024-9b828c6f2eae",
   "metadata": {},
   "outputs": [],
   "source": [
    "users_features_inv_mapping = dict()\n",
    "for key in users_features_mapping:\n",
    "    users_features_inv_mapping[key] = dict()\n",
    "    for (k, v) in users_features_mapping[key].items():\n",
    "        users_features_inv_mapping[key][v] = k"
   ]
  },
  {
   "cell_type": "code",
   "execution_count": 14,
   "id": "24e5f2b0-1cdd-45bc-a3b6-e0bebd9b9e25",
   "metadata": {},
   "outputs": [],
   "source": [
    "users_default_features = {\n",
    "    **users_default_features,\n",
    "    \"age\": int(users_features_inv_mapping[\"age\"][\"age_unknown\"]),\n",
    "    \"income\": int(users_features_inv_mapping[\"income\"][\"income_unknown\"]),\n",
    "    \"sex\": int(users_features_inv_mapping[\"sex\"][\"sex_unknown\"]),\n",
    "    \"kids_flg\": int(users_features_inv_mapping[\"kids_flg\"][\"kids_flg_0\"]),\n",
    "}"
   ]
  },
  {
   "cell_type": "markdown",
   "id": "4f88f40a-19f2-4f88-9523-753dd69dab87",
   "metadata": {},
   "source": [
    "## Подготовка данных для обучения"
   ]
  },
  {
   "cell_type": "code",
   "execution_count": 15,
   "id": "b7aa3271-1ea1-46c6-b00a-5d046376f147",
   "metadata": {},
   "outputs": [],
   "source": [
    "def get_users(users, n=100):\n",
    "    for user_id in users:\n",
    "        for _ in range(n):\n",
    "            yield user_id"
   ]
  },
  {
   "cell_type": "code",
   "execution_count": 16,
   "id": "01ebf0d8-2ec8-4c32-a920-911997588231",
   "metadata": {},
   "outputs": [],
   "source": [
    "train_users = train_df[\"user_id\"].unique()\n",
    "# получаем рекомендации популярного для всех юзеров из тренировочного датасета\n",
    "# просто копируем датафрейм с популярными по количеству юзеров и правильно расставляем user_id\n",
    "train_popular_reco_df = pd.concat([popular_recommendations_df] * len(train_users))\n",
    "train_popular_reco_df[\"user_id\"] = list(get_users(train_users))"
   ]
  },
  {
   "cell_type": "code",
   "execution_count": 17,
   "id": "aef5c1b3-f9c9-4c43-9636-8f4bdcd2de0d",
   "metadata": {},
   "outputs": [],
   "source": [
    "# соединяем популярные рекомендации и LIGHTFM так чтобы попали все рекомендации\n",
    "recommendations_df = (\n",
    "    pd.merge(\n",
    "        train_popular_reco_df, \n",
    "        lightfm_recommendations_df[lightfm_recommendations_df[\"user_id\"].isin(train_users)], \n",
    "        how='outer',\n",
    "        on=['user_id', 'item_id']\n",
    "    )\n",
    ")\n",
    "\n",
    "# продолжаем соединять, но уже UserKNN\n",
    "recommendations_df = (\n",
    "    pd.merge(\n",
    "        recommendations_df, \n",
    "        userknn_recommendations_df[userknn_recommendations_df[\"user_id\"].isin(train_users)], \n",
    "        how='outer',\n",
    "        on=['user_id', 'item_id']\n",
    "    )\n",
    ")\n",
    "\n",
    "# соединяем с данными для обучения так, чтобы сохранить примеры для обучения (так как нам интересны и холодные юзеры тоже)\n",
    "recommendations_df = (\n",
    "    pd.merge(\n",
    "        recommendations_df, \n",
    "        train_df, \n",
    "        how='right',\n",
    "        on=['user_id', 'item_id']\n",
    "    )\n",
    ")\n",
    "\n",
    "# заполняем пропуски и оптимизируемся по памяти\n",
    "recommendations_df = (\n",
    "    recommendations_df[[\"user_id\", \"item_id\", \"weight\", \"lightfm_score\", \"lightfm_rank\", \"userknn_score\", \"userknn_rank\", \"popular_score\", \"popular_rank\"]]\n",
    "    .fillna(\n",
    "        {\n",
    "            'lightfm_score': 0, 'lightfm_rank': 101,\n",
    "            'userknn_score': 0, 'userknn_rank': 101,\n",
    "            'popular_score': 0, 'popular_rank': 101,\n",
    "        }\n",
    "    )\n",
    "    .astype(\n",
    "        {\n",
    "            'user_id': 'int32', 'item_id': 'int32', 'weight': 'float16',\n",
    "            'lightfm_score': 'float16', 'lightfm_rank': 'int16',\n",
    "            'userknn_score': 'float16', 'userknn_rank': 'int16',\n",
    "            'popular_score': 'float16', 'popular_rank': 'int16'\n",
    "        }\n",
    "    )\n",
    "    \n",
    ")\n",
    "\n",
    "# добавляем юзеров и айтемы\n",
    "recommendations_df = pd.merge(\n",
    "    recommendations_df,\n",
    "    users_df,\n",
    "    how='left', \n",
    "    on=['user_id']\n",
    ")\n",
    "\n",
    "recommendations_df = pd.merge(\n",
    "    recommendations_df,\n",
    "    items_df,\n",
    "    how='left', \n",
    "    on=['item_id']\n",
    ")\n",
    "\n",
    "recommendations_df = recommendations_df.fillna(users_default_features)"
   ]
  },
  {
   "cell_type": "code",
   "execution_count": 18,
   "id": "ac28e027-0be4-4a5e-831a-822421abbd8e",
   "metadata": {},
   "outputs": [
    {
     "data": {
      "application/vnd.jupyter.widget-view+json": {
       "model_id": "3e1b07e158b0472087e51c19dceeabc7",
       "version_major": 2,
       "version_minor": 0
      },
      "text/plain": [
       "  0%|          | 0/1245527 [00:00<?, ?it/s]"
      ]
     },
     "metadata": {},
     "output_type": "display_data"
    }
   ],
   "source": [
    "is_genre_match = []\n",
    "for i in tqdm(range(len(recommendations_df))):\n",
    "    favorite_genre = recommendations_df.iloc[i][\"favorite_genre\"]\n",
    "    genres = recommendations_df.iloc[i][\"genres\"]\n",
    "    is_genre_match.append(favorite_genre in genres)\n",
    "recommendations_df[\"is_genre_match\"] = is_genre_match"
   ]
  },
  {
   "cell_type": "code",
   "execution_count": 19,
   "id": "3df6303b-8df8-4845-b3b8-6e170d19e82f",
   "metadata": {},
   "outputs": [],
   "source": [
    "train_df = recommendations_df"
   ]
  },
  {
   "cell_type": "code",
   "execution_count": 20,
   "id": "1a0df2d0-828e-4bb6-954f-4e0368e00e15",
   "metadata": {},
   "outputs": [
    {
     "name": "stdout",
     "output_type": "stream",
     "text": [
      "<class 'pandas.core.frame.DataFrame'>\n",
      "Int64Index: 1245527 entries, 0 to 1245526\n",
      "Data columns (total 33 columns):\n",
      " #   Column                Non-Null Count    Dtype  \n",
      "---  ------                --------------    -----  \n",
      " 0   user_id               1245527 non-null  int32  \n",
      " 1   item_id               1245527 non-null  int32  \n",
      " 2   weight                1245527 non-null  float16\n",
      " 3   lightfm_score         1245527 non-null  float16\n",
      " 4   lightfm_rank          1245527 non-null  int16  \n",
      " 5   userknn_score         1245527 non-null  float16\n",
      " 6   userknn_rank          1245527 non-null  int16  \n",
      " 7   popular_score         1245527 non-null  float16\n",
      " 8   popular_rank          1245527 non-null  int16  \n",
      " 9   age                   1245527 non-null  float64\n",
      " 10  income                1245527 non-null  float64\n",
      " 11  sex                   1245527 non-null  float64\n",
      " 12  kids_flg              1245527 non-null  float64\n",
      " 13  user_history          1245527 non-null  float64\n",
      " 14  user_avg_popularity   1245527 non-null  float32\n",
      " 15  user_last_popularity  1245527 non-null  float32\n",
      " 16  serials_count         1245527 non-null  float64\n",
      " 17  films_count           1245527 non-null  float64\n",
      " 18  serials_part          1245527 non-null  float64\n",
      " 19  favorite_genre        1245527 non-null  object \n",
      " 20  content_type          1245527 non-null  int8   \n",
      " 21  release_year_cat      1245527 non-null  int8   \n",
      " 22  for_kids              1245527 non-null  int8   \n",
      " 23  age_rating            1245527 non-null  int8   \n",
      " 24  genres                1245527 non-null  object \n",
      " 25  actors_count          1245527 non-null  int32  \n",
      " 26  description_len       1245527 non-null  int32  \n",
      " 27  american              1245527 non-null  int8   \n",
      " 28  russian               1245527 non-null  int8   \n",
      " 29  soviet                1245527 non-null  int8   \n",
      " 30  item_popularity       1245527 non-null  float32\n",
      " 31  item_avg_history      1245527 non-null  float32\n",
      " 32  is_genre_match        1245527 non-null  bool   \n",
      "dtypes: bool(1), float16(4), float32(4), float64(8), int16(3), int32(4), int8(7), object(2)\n",
      "memory usage: 168.7+ MB\n"
     ]
    }
   ],
   "source": [
    "train_df.info()"
   ]
  },
  {
   "cell_type": "markdown",
   "id": "920abd9a-41f7-4b1b-bb86-21e2283b9cad",
   "metadata": {},
   "source": [
    "## Подготовка данных для валидации"
   ]
  },
  {
   "cell_type": "code",
   "execution_count": 21,
   "id": "88346820-6929-4c4b-b254-eaf6c40ce043",
   "metadata": {},
   "outputs": [],
   "source": [
    "valid_users = valid_df[\"user_id\"].unique()\n",
    "# получаем рекомендации популярного для всех юзеров из тренировочного датасета\n",
    "# просто копируем датафрейм с популярными по количеству юзеров и правильно расставляем user_id\n",
    "valid_popular_reco_df = pd.concat([popular_recommendations_df] * len(valid_users))\n",
    "valid_popular_reco_df[\"user_id\"] = list(get_users(valid_users))"
   ]
  },
  {
   "cell_type": "code",
   "execution_count": 22,
   "id": "f2542ba8-1cb5-4d60-b202-d890a6a93afa",
   "metadata": {},
   "outputs": [],
   "source": [
    "# соединяем популярные рекомендации и LIGHTFM так чтобы попали все рекомендации\n",
    "recommendations_df = (\n",
    "    pd.merge(\n",
    "        valid_popular_reco_df, \n",
    "        lightfm_recommendations_df[lightfm_recommendations_df[\"user_id\"].isin(valid_users)], \n",
    "        how='outer',\n",
    "        on=['user_id', 'item_id']\n",
    "    )\n",
    ")\n",
    "\n",
    "# продолжаем соединять, но уже UserKNN\n",
    "recommendations_df = (\n",
    "    pd.merge(\n",
    "        recommendations_df, \n",
    "        userknn_recommendations_df[userknn_recommendations_df[\"user_id\"].isin(valid_users)], \n",
    "        how='outer',\n",
    "        on=['user_id', 'item_id']\n",
    "    )\n",
    ")\n",
    "\n",
    "# соединяем с данными для валидации так, чтобы сохранить примеры для обучения (так как нам интересны и холодные юзеры тоже)\n",
    "recommendations_df = (\n",
    "    pd.merge(\n",
    "        recommendations_df, \n",
    "        valid_df, \n",
    "        how='right',\n",
    "        on=['user_id', 'item_id']\n",
    "    )\n",
    ")\n",
    "\n",
    "# заполняем пропуски и оптимизируемся по памяти\n",
    "recommendations_df = (\n",
    "    recommendations_df[[\"user_id\", \"item_id\", \"weight\", \"lightfm_score\", \"lightfm_rank\", \"userknn_score\", \"userknn_rank\", \"popular_score\", \"popular_rank\"]]\n",
    "    .fillna(\n",
    "        {\n",
    "            'lightfm_score': 0, 'lightfm_rank': 101,\n",
    "            'userknn_score': 0, 'userknn_rank': 101,\n",
    "            'popular_score': 0, 'popular_rank': 101,\n",
    "        }\n",
    "    )\n",
    "    .astype(\n",
    "        {\n",
    "            'user_id': 'int32', 'item_id': 'int32', 'weight': 'float16',\n",
    "            'lightfm_score': 'float16', 'lightfm_rank': 'int16',\n",
    "            'userknn_score': 'float16', 'userknn_rank': 'int16',\n",
    "            'popular_score': 'float16', 'popular_rank': 'int16'\n",
    "        }\n",
    "    )\n",
    "    \n",
    ")\n",
    "\n",
    "# добавляем юзеров и айтемы\n",
    "recommendations_df = pd.merge(\n",
    "    recommendations_df,\n",
    "    users_df,\n",
    "    how='left', \n",
    "    on=['user_id']\n",
    ")\n",
    "\n",
    "recommendations_df = pd.merge(\n",
    "    recommendations_df,\n",
    "    items_df,\n",
    "    how='left', \n",
    "    on=['item_id']\n",
    ")\n",
    "\n",
    "recommendations_df = recommendations_df.fillna(users_default_features)"
   ]
  },
  {
   "cell_type": "code",
   "execution_count": 23,
   "id": "ce498399-bb61-46c2-9884-5c3aff134d81",
   "metadata": {},
   "outputs": [
    {
     "data": {
      "application/vnd.jupyter.widget-view+json": {
       "model_id": "e94b4306602d4082bb94eac5c842c749",
       "version_major": 2,
       "version_minor": 0
      },
      "text/plain": [
       "  0%|          | 0/268321 [00:00<?, ?it/s]"
      ]
     },
     "metadata": {},
     "output_type": "display_data"
    }
   ],
   "source": [
    "is_genre_match = []\n",
    "for i in tqdm(range(len(recommendations_df))):\n",
    "    favorite_genre = recommendations_df.iloc[i][\"favorite_genre\"]\n",
    "    genres = recommendations_df.iloc[i][\"genres\"]\n",
    "    is_genre_match.append(favorite_genre in genres)\n",
    "recommendations_df[\"is_genre_match\"] = is_genre_match"
   ]
  },
  {
   "cell_type": "code",
   "execution_count": 24,
   "id": "90e28cfa-9bd8-4d14-9442-7812e25cb853",
   "metadata": {},
   "outputs": [],
   "source": [
    "valid_df = recommendations_df"
   ]
  },
  {
   "cell_type": "markdown",
   "id": "dd7858a0-e66f-480b-8fdf-d8ca1ab5e49e",
   "metadata": {},
   "source": [
    "## Подготовка данных для тестирования"
   ]
  },
  {
   "cell_type": "code",
   "execution_count": 25,
   "id": "6d4c4165-7c14-4fa1-a7f2-80bcd545bf1c",
   "metadata": {},
   "outputs": [],
   "source": [
    "test_users = test_df[\"user_id\"].unique()\n",
    "# получаем рекомендации популярного для всех юзеров из тренировочного датасета\n",
    "# просто копируем датафрейм с популярными по количеству юзеров и правильно расставляем user_id\n",
    "test_popular_reco_df = pd.concat([popular_recommendations_df] * len(test_users))\n",
    "test_popular_reco_df[\"user_id\"] = list(get_users(test_users))"
   ]
  },
  {
   "cell_type": "code",
   "execution_count": 26,
   "id": "3f06fd8f-dc05-41f5-bd3e-63baa525d18f",
   "metadata": {},
   "outputs": [],
   "source": [
    "# соединяем популярные рекомендации и LIGHTFM так чтобы попали все рекомендации\n",
    "recommendations_df = (\n",
    "    pd.merge(\n",
    "        test_popular_reco_df, \n",
    "        lightfm_recommendations_df[lightfm_recommendations_df[\"user_id\"].isin(test_users)], \n",
    "        how='outer',\n",
    "        on=['user_id', 'item_id']\n",
    "    )\n",
    ")\n",
    "\n",
    "# продолжаем соединять, но уже UserKNN\n",
    "recommendations_df = (\n",
    "    pd.merge(\n",
    "        recommendations_df, \n",
    "        userknn_recommendations_df[userknn_recommendations_df[\"user_id\"].isin(test_users)], \n",
    "        how='outer',\n",
    "        on=['user_id', 'item_id']\n",
    "    )\n",
    ")\n",
    "\n",
    "# заполняем пропуски и оптимизируемся по памяти\n",
    "recommendations_df = (\n",
    "    recommendations_df[[\"user_id\", \"item_id\", \"lightfm_score\", \"lightfm_rank\", \"userknn_score\", \"userknn_rank\", \"popular_score\", \"popular_rank\"]]\n",
    "    .fillna(\n",
    "        {\n",
    "            'lightfm_score': 0, 'lightfm_rank': 101,\n",
    "            'userknn_score': 0, 'userknn_rank': 101,\n",
    "            'popular_score': 0, 'popular_rank': 101,\n",
    "        }\n",
    "    )\n",
    "    .astype(\n",
    "        {\n",
    "            'user_id': 'int32', 'item_id': 'int32',\n",
    "            'lightfm_score': 'float16', 'lightfm_rank': 'int16',\n",
    "            'userknn_score': 'float16', 'userknn_rank': 'int16',\n",
    "            'popular_score': 'float16', 'popular_rank': 'int16'\n",
    "        }\n",
    "    )\n",
    "    \n",
    ")\n",
    "\n",
    "# добавляем юзеров и айтемы\n",
    "recommendations_df = pd.merge(\n",
    "    recommendations_df,\n",
    "    users_df,\n",
    "    how='left', \n",
    "    on=['user_id']\n",
    ")\n",
    "\n",
    "recommendations_df = pd.merge(\n",
    "    recommendations_df,\n",
    "    items_df,\n",
    "    how='left', \n",
    "    on=['item_id']\n",
    ")\n",
    "\n",
    "recommendations_df = recommendations_df.fillna(users_default_features)"
   ]
  },
  {
   "cell_type": "code",
   "execution_count": 27,
   "id": "cb599ae3-2530-46d0-b8c0-c1a3b8b7ce63",
   "metadata": {},
   "outputs": [
    {
     "data": {
      "application/vnd.jupyter.widget-view+json": {
       "model_id": "70a140b20f674ebfb48e38155f5bfa19",
       "version_major": 2,
       "version_minor": 0
      },
      "text/plain": [
       "  0%|          | 0/9135136 [00:00<?, ?it/s]"
      ]
     },
     "metadata": {},
     "output_type": "display_data"
    }
   ],
   "source": [
    "is_genre_match = []\n",
    "for i in tqdm(range(len(recommendations_df))):\n",
    "    favorite_genre = recommendations_df.iloc[i][\"favorite_genre\"]\n",
    "    genres = recommendations_df.iloc[i][\"genres\"]\n",
    "    is_genre_match.append(favorite_genre in genres)\n",
    "recommendations_df[\"is_genre_match\"] = is_genre_match"
   ]
  },
  {
   "cell_type": "code",
   "execution_count": 28,
   "id": "d8bae512-8403-4117-be5a-c3f6d2ab2ec4",
   "metadata": {},
   "outputs": [],
   "source": [
    "test_extra_df = recommendations_df"
   ]
  },
  {
   "cell_type": "markdown",
   "id": "580528bc-1c50-48a2-9479-1c699343680c",
   "metadata": {},
   "source": [
    "## Создание таргета"
   ]
  },
  {
   "cell_type": "markdown",
   "id": "ba171928-b1e3-46e6-bae5-119453dce8ab",
   "metadata": {},
   "source": [
    "Создадим таргет на основе процента просмотра фильма:\n",
    "- 0: доля досмотра < 10%\n",
    "- 1: 10% <=  доля досмотра < 70%\n",
    "- 2: 70% <= доля досмотра"
   ]
  },
  {
   "cell_type": "code",
   "execution_count": 29,
   "id": "8eb66e7e-179d-4e6f-ae03-7d4822e1a326",
   "metadata": {},
   "outputs": [],
   "source": [
    "def to_target(x):\n",
    "    if x < 10:\n",
    "        return 0\n",
    "    elif x < 70:\n",
    "        return 1\n",
    "    else:\n",
    "        return 2"
   ]
  },
  {
   "cell_type": "code",
   "execution_count": 30,
   "id": "0d65d3fe-2184-4517-8c23-8321706e74b8",
   "metadata": {},
   "outputs": [],
   "source": [
    "train_df['target_ranker'] = train_df[Columns.Weight].apply(to_target).astype(int)\n",
    "valid_df['target_ranker'] = valid_df[Columns.Weight].apply(to_target).astype(int)\n",
    "test_df['target_ranker'] = test_df[Columns.Weight].apply(to_target).astype(int)"
   ]
  },
  {
   "cell_type": "code",
   "execution_count": 31,
   "id": "d640b3da-3d3b-41e6-9dc8-7a0d1b276e86",
   "metadata": {},
   "outputs": [],
   "source": [
    "train_df = train_df.sort_values(by=['user_id', 'item_id'])\n",
    "valid_df = valid_df.sort_values(by=['user_id', 'item_id'])\n",
    "test_df = test_df.sort_values(by=['user_id', 'item_id'])"
   ]
  },
  {
   "cell_type": "code",
   "execution_count": 32,
   "id": "b0fd1d62-c3bd-44ae-afc0-a67064143ed4",
   "metadata": {},
   "outputs": [],
   "source": [
    "metrics = {\n",
    "    'ndcg@10': NDCG(k = 10),\n",
    "    'map@10': MAP(k = 10),\n",
    "    'recall@10': Recall(k = 10),\n",
    "    'serendipity@10': Serendipity(k=10)\n",
    "}"
   ]
  },
  {
   "cell_type": "markdown",
   "id": "94f0067a-f6e5-4952-bb6f-bc0a5bac6a9d",
   "metadata": {},
   "source": [
    "## Обучение ранкера от LightGBM"
   ]
  },
  {
   "cell_type": "code",
   "execution_count": 33,
   "id": "5465cf68-ee79-47b4-9810-22af8e47e33d",
   "metadata": {},
   "outputs": [],
   "source": [
    "def get_group(df):\n",
    "    return np.array(\n",
    "        df[['user_id', 'item_id']]\n",
    "        .groupby(by=['user_id']).count()\n",
    "        ['item_id']\n",
    "    )"
   ]
  },
  {
   "cell_type": "code",
   "execution_count": 34,
   "id": "7d399c8a-ac4a-4f73-836f-0288a30cb256",
   "metadata": {},
   "outputs": [],
   "source": [
    "# Колонки, которые будут участвовать в обучении (с учетом моделей первого уровня)\n",
    "cols = [\n",
    "    'lightfm_score', 'lightfm_rank', 'userknn_rank', 'popular_score', 'popular_rank',\n",
    "    'age', 'income', 'sex', 'kids_flg', 'user_history', 'user_avg_popularity', 'user_last_popularity',\n",
    "    'serials_count', 'films_count', 'serials_part',\n",
    "    'content_type', 'release_year_cat', 'for_kids', 'age_rating', 'item_popularity', 'item_avg_history',\n",
    "    'actors_count', 'description_len', 'american', 'russian', 'soviet'\n",
    "]\n",
    "\n",
    "# Из них категориальные:\n",
    "cat_cols = [\n",
    "    'age', 'income', 'sex', 'kids_flg', 'american', 'russian', 'soviet',\n",
    "    'content_type', 'release_year_cat', 'age_rating', 'for_kids',\n",
    "]"
   ]
  },
  {
   "cell_type": "code",
   "execution_count": 35,
   "id": "43015345-d9b6-4553-87d6-39e464dda7ff",
   "metadata": {},
   "outputs": [],
   "source": [
    "early_stopping_rounds = 32\n",
    "params = {\n",
    "    'objective': 'lambdarank',  # lambdarank, оптимизирующий ndcg \n",
    "    'n_estimators': 2000,  # максимальное число деревьев\n",
    "    'max_depth': 5,  # максимальная глубина дерева\n",
    "    'num_leaves': 16,  # число листьев << 2^max_depth\n",
    "    'min_child_samples': 100,  # число примеров в листе\n",
    "    'learning_rate': 0.05,  # шаг обучения\n",
    "    'reg_lambda': 1,  # L2 регуляризация\n",
    "    'colsample_bytree': 0.9,  # доля колонок, которая используется в каждом дереве\n",
    "    'early_stopping_rounds': early_stopping_rounds,  # число итераций, в течение которых нет улучшения метрик\n",
    "    'verbose': -1,  # период вывода метрик\n",
    "    'random_state': RANDOM_STATE,\n",
    "}\n",
    "fit_params = {\n",
    "    'X': train_df[cols],\n",
    "    'y': train_df['target_ranker'],\n",
    "    'group': get_group(train_df),\n",
    "    'eval_set': [(valid_df[cols], valid_df['target_ranker'])],\n",
    "    'eval_group': [get_group(valid_df)],\n",
    "    'eval_metric': 'ndcg',\n",
    "    'eval_at': (1, 5, 10),\n",
    "    'categorical_feature': cat_cols,\n",
    "    'feature_name': cols,\n",
    "}\n",
    "listwise_model = LGBMRanker(**params)\n",
    "listwise_model.fit(**fit_params)\n",
    "\n",
    "listwise_df = test_extra_df[[\"user_id\", \"item_id\"]].copy()\n",
    "listwise_df[\"listwise_score\"] = listwise_model.predict(test_extra_df[cols])\n",
    "listwise_df.sort_values([\"user_id\", \"listwise_score\"], ascending=False)\n",
    "listwise_df[\"listwise_rank\"] = listwise_df.groupby(\"user_id\").cumcount() + 1"
   ]
  },
  {
   "cell_type": "code",
   "execution_count": 36,
   "id": "44b15827-9574-4ff0-b048-580bdfff7ca3",
   "metadata": {},
   "outputs": [
    {
     "name": "stdout",
     "output_type": "stream",
     "text": [
      "17 s ± 320 ms per loop (mean ± std. dev. of 7 runs, 1 loop each)\n"
     ]
    }
   ],
   "source": [
    "%%timeit\n",
    "listwise_model = LGBMRanker(**params)\n",
    "listwise_model.fit(**fit_params)"
   ]
  },
  {
   "cell_type": "code",
   "execution_count": 56,
   "id": "909367cb-e150-41eb-8824-91e4ae14d5cb",
   "metadata": {},
   "outputs": [],
   "source": [
    "listwise_metrics = calc_metrics(\n",
    "    metrics=metrics,\n",
    "    reco=(\n",
    "        listwise_df\n",
    "        .rename(columns={'listwise_rank': Columns.Rank})\n",
    "        [[Columns.User, Columns.Item, Columns.Rank]]\n",
    "    ),\n",
    "    interactions=(\n",
    "        test_df\n",
    "        [[Columns.User, Columns.Item, Columns.Weight]]\n",
    "    ), \n",
    "    prev_interactions=(\n",
    "        train_df\n",
    "        [[Columns.User, Columns.Item, Columns.Weight]]\n",
    "    ),\n",
    "    catalog=test_df['item_id'].unique()\n",
    ")"
   ]
  },
  {
   "cell_type": "code",
   "execution_count": 57,
   "id": "27ad8493-e417-4858-8260-b91d48e30d9d",
   "metadata": {},
   "outputs": [],
   "source": [
    "models_results[\"LightGBMRanker\"] = [listwise_metrics[metric] for metric in models_results.index]"
   ]
  },
  {
   "cell_type": "code",
   "execution_count": 58,
   "id": "c4f19c78-066e-44de-a9aa-38fd22b3ad1e",
   "metadata": {},
   "outputs": [
    {
     "data": {
      "text/html": [
       "<div>\n",
       "<style scoped>\n",
       "    .dataframe tbody tr th:only-of-type {\n",
       "        vertical-align: middle;\n",
       "    }\n",
       "\n",
       "    .dataframe tbody tr th {\n",
       "        vertical-align: top;\n",
       "    }\n",
       "\n",
       "    .dataframe thead th {\n",
       "        text-align: right;\n",
       "    }\n",
       "</style>\n",
       "<table border=\"1\" class=\"dataframe\">\n",
       "  <thead>\n",
       "    <tr style=\"text-align: right;\">\n",
       "      <th></th>\n",
       "      <th>LightFM</th>\n",
       "      <th>UserKNN_BM25</th>\n",
       "      <th>Popular</th>\n",
       "      <th>LightGBMRanker</th>\n",
       "      <th>XGBoostRanker</th>\n",
       "    </tr>\n",
       "  </thead>\n",
       "  <tbody>\n",
       "    <tr>\n",
       "      <th>ndcg@10</th>\n",
       "      <td>0.032116</td>\n",
       "      <td>0.032472</td>\n",
       "      <td>0.035194</td>\n",
       "      <td>0.076413</td>\n",
       "      <td>0.076413</td>\n",
       "    </tr>\n",
       "    <tr>\n",
       "      <th>map@10</th>\n",
       "      <td>0.042491</td>\n",
       "      <td>0.042748</td>\n",
       "      <td>0.047337</td>\n",
       "      <td>0.127436</td>\n",
       "      <td>0.127436</td>\n",
       "    </tr>\n",
       "    <tr>\n",
       "      <th>recall@10</th>\n",
       "      <td>0.083713</td>\n",
       "      <td>0.081155</td>\n",
       "      <td>0.096176</td>\n",
       "      <td>0.246643</td>\n",
       "      <td>0.246643</td>\n",
       "    </tr>\n",
       "    <tr>\n",
       "      <th>serendipity@10</th>\n",
       "      <td>0.000253</td>\n",
       "      <td>0.000150</td>\n",
       "      <td>0.000075</td>\n",
       "      <td>0.000013</td>\n",
       "      <td>0.000013</td>\n",
       "    </tr>\n",
       "  </tbody>\n",
       "</table>\n",
       "</div>"
      ],
      "text/plain": [
       "                 LightFM  UserKNN_BM25   Popular  LightGBMRanker  \\\n",
       "ndcg@10         0.032116      0.032472  0.035194        0.076413   \n",
       "map@10          0.042491      0.042748  0.047337        0.127436   \n",
       "recall@10       0.083713      0.081155  0.096176        0.246643   \n",
       "serendipity@10  0.000253      0.000150  0.000075        0.000013   \n",
       "\n",
       "                XGBoostRanker  \n",
       "ndcg@10              0.076413  \n",
       "map@10               0.127436  \n",
       "recall@10            0.246643  \n",
       "serendipity@10       0.000013  "
      ]
     },
     "execution_count": 58,
     "metadata": {},
     "output_type": "execute_result"
    }
   ],
   "source": [
    "models_results"
   ]
  },
  {
   "cell_type": "code",
   "execution_count": 40,
   "id": "48c81be7-c7d9-423e-97a4-672eb894ebcd",
   "metadata": {},
   "outputs": [
    {
     "data": {
      "image/png": "[encoded data removed]",
      "text/plain": [
       "<Figure size 800x1450 with 1 Axes>"
      ]
     },
     "metadata": {},
     "output_type": "display_data"
    }
   ],
   "source": [
    "explainer = shap.Explainer(listwise_model)\n",
    "shap_values = explainer(test_extra_df[cols].iloc[:20_000])\n",
    "shap.plots.bar(shap_values, max_display=len(cols))"
   ]
  },
  {
   "cell_type": "markdown",
   "id": "9adb2425-c2e7-480e-8954-487945aabfae",
   "metadata": {},
   "source": [
    "## Обучение ранкера от XGBoost"
   ]
  },
  {
   "cell_type": "markdown",
   "id": "f0180eed-ba6b-47e6-82ac-5cf8ac997381",
   "metadata": {},
   "source": [
    "У библиотеки XGBoost немного отличается по формату группы для обучения"
   ]
  },
  {
   "cell_type": "code",
   "execution_count": 41,
   "id": "d8c8e1f1-2177-4bf7-9ad2-115da0b8483e",
   "metadata": {},
   "outputs": [],
   "source": [
    "def get_xgboost_group(df):\n",
    "    counts = train_df[['user_id', 'item_id']].groupby(by=['user_id']).count()['item_id'].values\n",
    "    group_id = 1\n",
    "    for count in counts:\n",
    "        for i in range(count):\n",
    "            yield group_id\n",
    "        group_id += 1"
   ]
  },
  {
   "cell_type": "code",
   "execution_count": 42,
   "id": "06da765d-eabf-4941-9b78-4286bca679b0",
   "metadata": {},
   "outputs": [],
   "source": [
    "quids = list(get_xgboost_group(train_df))"
   ]
  },
  {
   "cell_type": "code",
   "execution_count": 43,
   "id": "7b1db504-c6a7-4fa6-b2cf-441f755ee389",
   "metadata": {},
   "outputs": [],
   "source": [
    "xgb_cols = [\n",
    "    'lightfm_score', 'lightfm_rank', 'userknn_rank', 'popular_score', 'popular_rank',\n",
    "    'age', 'income', 'sex', 'kids_flg', 'user_history', 'user_avg_popularity', 'user_last_popularity',\n",
    "    'serials_count', 'films_count', 'serials_part',\n",
    "    'content_type', 'release_year_cat', 'for_kids', 'age_rating', 'item_popularity', 'item_avg_history',\n",
    "    'actors_count', 'description_len', 'american', 'russian', 'soviet'\n",
    "]"
   ]
  },
  {
   "cell_type": "code",
   "execution_count": 44,
   "id": "6f7dadeb-d2fa-4cab-8ad0-ed69128f1de9",
   "metadata": {},
   "outputs": [
    {
     "data": {
      "text/plain": [
       "XGBRanker(base_score=None, booster=None, callbacks=None, colsample_bylevel=None,\n",
       "          colsample_bynode=None, colsample_bytree=None, device=None,\n",
       "          early_stopping_rounds=None, enable_categorical=False,\n",
       "          eval_metric=None, feature_types=None, gamma=None, grow_policy=None,\n",
       "          importance_type=None, interaction_constraints=None,\n",
       "          lambdarank_num_pair_per_sample=8, lambdarank_pair_method='topk',\n",
       "          learning_rate=0.1, max_bin=None, max_cat_threshold=None,\n",
       "          max_cat_to_onehot=None, max_delta_step=None, max_depth=7,\n",
       "          max_leaves=16, min_child_weight=None, missing=nan,\n",
       "          monotone_constraints=None, multi_strategy=None, n_estimators=1000,\n",
       "          n_jobs=None, ...)"
      ]
     },
     "execution_count": 44,
     "metadata": {},
     "output_type": "execute_result"
    }
   ],
   "source": [
    "xgb_model = xgb.XGBRanker(\n",
    "    n_estimators=1000,\n",
    "    max_depth=7,\n",
    "    max_leaves=16,\n",
    "    learning_rate=0.1,\n",
    "    tree_method=\"hist\", \n",
    "    lambdarank_num_pair_per_sample=8, \n",
    "    objective=\"rank:ndcg\", \n",
    "    lambdarank_pair_method=\"topk\"\n",
    ")\n",
    "xgb_model.fit(train_df[xgb_cols], train_df['target_ranker'], qid=quids)"
   ]
  },
  {
   "cell_type": "code",
   "execution_count": 45,
   "id": "f7048557-bc79-4aa2-ad28-101a67a8ac79",
   "metadata": {},
   "outputs": [
    {
     "name": "stdout",
     "output_type": "stream",
     "text": [
      "1min 8s ± 4.71 s per loop (mean ± std. dev. of 7 runs, 1 loop each)\n"
     ]
    }
   ],
   "source": [
    "%%timeit\n",
    "xgb_model = xgb.XGBRanker(\n",
    "    n_estimators=1000,\n",
    "    max_depth=7,\n",
    "    max_leaves=16,\n",
    "    learning_rate=0.1,\n",
    "    tree_method=\"hist\", \n",
    "    lambdarank_num_pair_per_sample=8, \n",
    "    objective=\"rank:ndcg\", \n",
    "    lambdarank_pair_method=\"topk\"\n",
    ")\n",
    "xgb_model.fit(train_df[xgb_cols], train_df['target_ranker'], qid=quids)"
   ]
  },
  {
   "cell_type": "code",
   "execution_count": 46,
   "id": "f7755ba1-bf93-4d16-8585-ef9c1d5259e8",
   "metadata": {},
   "outputs": [],
   "source": [
    "xgb_df = test_extra_df[[\"user_id\", \"item_id\"]].copy()\n",
    "xgb_df[\"xgb_score\"] = xgb_model.predict(test_extra_df[xgb_cols])\n",
    "xgb_df.sort_values([\"user_id\", \"xgb_score\"], ascending=False)\n",
    "xgb_df[\"xgb_rank\"] = xgb_df.groupby(\"user_id\").cumcount() + 1"
   ]
  },
  {
   "cell_type": "code",
   "execution_count": 53,
   "id": "35a29995-79ac-4a8b-b0ad-f92115230f53",
   "metadata": {},
   "outputs": [],
   "source": [
    "xgb_metrics = calc_metrics(\n",
    "    metrics=metrics,\n",
    "    reco=(\n",
    "        xgb_df\n",
    "        .rename(columns={'xgb_rank': Columns.Rank})\n",
    "        [[Columns.User, Columns.Item, Columns.Rank]]\n",
    "    ),\n",
    "    interactions=(\n",
    "        test_df\n",
    "        [[Columns.User, Columns.Item, Columns.Weight]]\n",
    "    ), \n",
    "    prev_interactions=(\n",
    "        train_df\n",
    "        [[Columns.User, Columns.Item, Columns.Weight]]\n",
    "    ),\n",
    "    catalog=test_df['item_id'].unique()\n",
    ")"
   ]
  },
  {
   "cell_type": "code",
   "execution_count": 54,
   "id": "ba562bec-656f-4ff9-b8ef-e1e0b6c4e00b",
   "metadata": {},
   "outputs": [],
   "source": [
    "models_results[\"XGBoostRanker\"] = [xgb_metrics[metric] for metric in models_results.index]"
   ]
  },
  {
   "cell_type": "code",
   "execution_count": 55,
   "id": "b5988f3e-bf47-41e1-ae71-1fdb02f2c2f9",
   "metadata": {},
   "outputs": [
    {
     "data": {
      "text/html": [
       "<div>\n",
       "<style scoped>\n",
       "    .dataframe tbody tr th:only-of-type {\n",
       "        vertical-align: middle;\n",
       "    }\n",
       "\n",
       "    .dataframe tbody tr th {\n",
       "        vertical-align: top;\n",
       "    }\n",
       "\n",
       "    .dataframe thead th {\n",
       "        text-align: right;\n",
       "    }\n",
       "</style>\n",
       "<table border=\"1\" class=\"dataframe\">\n",
       "  <thead>\n",
       "    <tr style=\"text-align: right;\">\n",
       "      <th></th>\n",
       "      <th>LightFM</th>\n",
       "      <th>UserKNN_BM25</th>\n",
       "      <th>Popular</th>\n",
       "      <th>LightGBMRanker</th>\n",
       "      <th>XGBoostRanker</th>\n",
       "    </tr>\n",
       "  </thead>\n",
       "  <tbody>\n",
       "    <tr>\n",
       "      <th>ndcg@10</th>\n",
       "      <td>0.032116</td>\n",
       "      <td>0.032472</td>\n",
       "      <td>0.035194</td>\n",
       "      <td>0.076413</td>\n",
       "      <td>0.076413</td>\n",
       "    </tr>\n",
       "    <tr>\n",
       "      <th>map@10</th>\n",
       "      <td>0.042491</td>\n",
       "      <td>0.042748</td>\n",
       "      <td>0.047337</td>\n",
       "      <td>0.127436</td>\n",
       "      <td>0.127436</td>\n",
       "    </tr>\n",
       "    <tr>\n",
       "      <th>recall@10</th>\n",
       "      <td>0.083713</td>\n",
       "      <td>0.081155</td>\n",
       "      <td>0.096176</td>\n",
       "      <td>0.246643</td>\n",
       "      <td>0.246643</td>\n",
       "    </tr>\n",
       "    <tr>\n",
       "      <th>serendipity@10</th>\n",
       "      <td>0.000253</td>\n",
       "      <td>0.000150</td>\n",
       "      <td>0.000075</td>\n",
       "      <td>0.000005</td>\n",
       "      <td>0.000013</td>\n",
       "    </tr>\n",
       "  </tbody>\n",
       "</table>\n",
       "</div>"
      ],
      "text/plain": [
       "                 LightFM  UserKNN_BM25   Popular  LightGBMRanker  \\\n",
       "ndcg@10         0.032116      0.032472  0.035194        0.076413   \n",
       "map@10          0.042491      0.042748  0.047337        0.127436   \n",
       "recall@10       0.083713      0.081155  0.096176        0.246643   \n",
       "serendipity@10  0.000253      0.000150  0.000075        0.000005   \n",
       "\n",
       "                XGBoostRanker  \n",
       "ndcg@10              0.076413  \n",
       "map@10               0.127436  \n",
       "recall@10            0.246643  \n",
       "serendipity@10       0.000013  "
      ]
     },
     "execution_count": 55,
     "metadata": {},
     "output_type": "execute_result"
    }
   ],
   "source": [
    "models_results"
   ]
  },
  {
   "cell_type": "code",
   "execution_count": 50,
   "id": "63e3c445-1323-4c2b-987c-98bf740a5366",
   "metadata": {},
   "outputs": [
    {
     "data": {
      "image/png": "[encoded data removed]",
      "text/plain": [
       "<Figure size 800x1450 with 1 Axes>"
      ]
     },
     "metadata": {},
     "output_type": "display_data"
    }
   ],
   "source": [
    "explainer = shap.Explainer(xgb_model)\n",
    "shap_values = explainer(test_extra_df[xgb_cols].iloc[:20_000])\n",
    "shap.plots.bar(shap_values, max_display=len(cols))"
   ]
  },
  {
   "cell_type": "markdown",
   "id": "564c36d7-7eca-4b23-a63e-ebf466239ff3",
   "metadata": {},
   "source": [
    "## Сравнение"
   ]
  },
  {
   "cell_type": "markdown",
   "id": "17056574-041f-4ae5-9f3a-94f09260951a",
   "metadata": {},
   "source": [
    "Так как модели обучались на тех же данных и на похожих значениях параметров, то и обучились они до примерно одинакового результата (есть подозрения что они рекомендуют популярное)"
   ]
  },
  {
   "cell_type": "markdown",
   "id": "8b667965-edba-441d-b026-00dff2312f14",
   "metadata": {},
   "source": [
    "По времени обучения LightGBM (17 s) справляется быстрее XGBoost (88 s)"
   ]
  },
  {
   "cell_type": "markdown",
   "id": "7bdf1cb4-a4a1-4312-998e-47ba6f056750",
   "metadata": {},
   "source": [
    "## Подготовка оффлайн рекомендаций"
   ]
  },
  {
   "cell_type": "code",
   "execution_count": 51,
   "id": "0afa5b56-ee2c-4ac9-a721-20da03a46d0c",
   "metadata": {},
   "outputs": [
    {
     "name": "stdout",
     "output_type": "stream",
     "text": [
      "mkdir: cannot create directory ‘offline_recommendations’: File exists\n"
     ]
    }
   ],
   "source": [
    "mkdir offline_recommendations"
   ]
  },
  {
   "cell_type": "code",
   "execution_count": null,
   "id": "0fc20419-5068-4c36-9440-fb9dbf874a54",
   "metadata": {},
   "outputs": [
    {
     "data": {
      "application/vnd.jupyter.widget-view+json": {
       "model_id": "f865df16deea4048ae9ae09a84a11650",
       "version_major": 2,
       "version_minor": 0
      },
      "text/plain": [
       "  0%|          | 0/22 [00:00<?, ?it/s]"
      ]
     },
     "metadata": {},
     "output_type": "display_data"
    }
   ],
   "source": [
    "batch_size = 50_000\n",
    "popular_reco_df = pd.concat([popular_recommendations_df] * batch_size)\n",
    "\n",
    "for user_border in tqdm(range(0, 1_100_000, batch_size)):\n",
    "    down_border = user_border\n",
    "    up_border = user_border + batch_size\n",
    "    user_id_list = np.arange(down_border, up_border)\n",
    "    popular_reco_df[\"user_id\"] = list(get_users(user_id_list))\n",
    "\n",
    "    recommendations_df = (\n",
    "        pd.merge(\n",
    "            popular_reco_df, \n",
    "            lightfm_recommendations_df[lightfm_recommendations_df[\"user_id\"].isin(user_id_list)], \n",
    "            how='outer',\n",
    "            on=['user_id', 'item_id']\n",
    "        )\n",
    "    )\n",
    "\n",
    "    recommendations_df = (\n",
    "        pd.merge(\n",
    "            recommendations_df, \n",
    "            userknn_recommendations_df[userknn_recommendations_df[\"user_id\"].isin(user_id_list)], \n",
    "            how='outer',\n",
    "            on=['user_id', 'item_id']\n",
    "        )\n",
    "    )\n",
    "\n",
    "    recommendations_df = (\n",
    "        recommendations_df[[\"user_id\", \"item_id\", \"lightfm_score\", \"lightfm_rank\", \"userknn_score\", \"userknn_rank\", \"popular_score\", \"popular_rank\"]]\n",
    "        .fillna(\n",
    "            {\n",
    "                'lightfm_score': 0, 'lightfm_rank': 101,\n",
    "                'userknn_score': 0, 'userknn_rank': 101,\n",
    "                'popular_score': 0, 'popular_rank': 101,\n",
    "            }\n",
    "        )\n",
    "        .astype(\n",
    "            {\n",
    "                'user_id': 'int32', 'item_id': 'int32',\n",
    "                'lightfm_score': 'float16', 'lightfm_rank': 'int16',\n",
    "                'userknn_score': 'float16', 'userknn_rank': 'int16',\n",
    "                'popular_score': 'float16', 'popular_rank': 'int16'\n",
    "            }\n",
    "        )\n",
    "        \n",
    "    )\n",
    "\n",
    "    recommendations_df = pd.merge(\n",
    "        recommendations_df,\n",
    "        users_df,\n",
    "        how='left', \n",
    "        on=['user_id']\n",
    "    )\n",
    "    \n",
    "    recommendations_df = pd.merge(\n",
    "        recommendations_df,\n",
    "        items_df,\n",
    "        how='left', \n",
    "        on=['item_id']\n",
    "    )\n",
    "    \n",
    "    recommendations_df = recommendations_df.fillna(users_default_features)\n",
    "\n",
    "    predicted_df = recommendations_df[[\"user_id\", \"item_id\"]].copy()\n",
    "    predicted_df[\"score\"] = listwise_model.predict(recommendations_df[cols])\n",
    "    predicted_df.sort_values([\"user_id\", \"score\"], ascending=False)\n",
    "    predicted_df[\"rank\"] = predicted_df.groupby(\"user_id\").cumcount() + 1\n",
    "\n",
    "    predicted_df = predicted_df[predicted_df[\"rank\"] <= 10]\n",
    "    predicted_dict = predicted_df.groupby('user_id')['item_id'].apply(list).to_dict()\n",
    "    with open(f\"offline_recommendations/{down_border}-{up_border}.json\", \"w\") as f:\n",
    "        json.dump(predicted_dict, f)"
   ]
  },
  {
   "cell_type": "code",
   "execution_count": null,
   "id": "971ecf8f-54e8-4daf-bcd8-b08a47c9be04",
   "metadata": {},
   "outputs": [],
   "source": []
  }
 ],
 "metadata": {
  "kernelspec": {
   "display_name": "Python 3 (ipykernel)",
   "language": "python",
   "name": "python3"
  },
  "language_info": {
   "codemirror_mode": {
    "name": "ipython",
    "version": 3
   },
   "file_extension": ".py",
   "mimetype": "text/x-python",
   "name": "python",
   "nbconvert_exporter": "python",
   "pygments_lexer": "ipython3",
   "version": "3.10.11"
  }
 },
 "nbformat": 4,
 "nbformat_minor": 5
}
