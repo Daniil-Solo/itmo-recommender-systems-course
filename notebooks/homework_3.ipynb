{
 "cells": [
  {
   "cell_type": "markdown",
   "id": "b6866535-329a-481e-a208-fb80cdc328b1",
   "metadata": {},
   "source": [
    "## Импорт библиотек и константы"
   ]
  },
  {
   "cell_type": "code",
   "execution_count": 1,
   "id": "472e5745-6d70-4903-80de-acb0cb34dd3d",
   "metadata": {},
   "outputs": [],
   "source": [
    "import pandas as pd\n",
    "import numpy as np\n",
    "import seaborn as sns\n",
    "import matplotlib.pyplot as plt\n",
    "from tqdm.auto import tqdm\n",
    "from rectools import Columns\n",
    "from rectools.dataset import Interactions, Dataset\n",
    "from rectools.models.popular import PopularModel\n",
    "from rectools.metrics import MAP, Serendipity, calc_metrics\n",
    "from rectools.model_selection import TimeRangeSplitter\n",
    "from implicit.nearest_neighbours import CosineRecommender, TFIDFRecommender, BM25Recommender\n",
    "from utils import MetricCalculator, VisualAnalyzer\n",
    "from user_knn import UserKnn\n",
    "from rectools.models import PopularModel\n",
    "from scipy import sparse\n",
    "import json"
   ]
  },
  {
   "cell_type": "code",
   "execution_count": 2,
   "id": "02e26833-5e65-4361-bc32-5aced702c1bb",
   "metadata": {},
   "outputs": [],
   "source": [
    "import warnings\n",
    "warnings.filterwarnings('ignore')"
   ]
  },
  {
   "cell_type": "code",
   "execution_count": 3,
   "id": "ee03b992-0667-44ac-9a19-d883b63e0b6f",
   "metadata": {},
   "outputs": [],
   "source": [
    "# Constants\n",
    "INTERACTIONS_PATH = \"./data/interactions.csv\"\n",
    "ITEMS_PATH = \"./data/items.csv\"\n",
    "K_RECOMMENDATIONS = 10"
   ]
  },
  {
   "cell_type": "markdown",
   "id": "8d8ca694-4320-49ef-a649-a941fa158e9f",
   "metadata": {},
   "source": [
    "## Загрузка данных"
   ]
  },
  {
   "cell_type": "code",
   "execution_count": 4,
   "id": "faefa32c-a3a3-43a5-89f4-1173ccd00dc4",
   "metadata": {},
   "outputs": [
    {
     "data": {
      "text/html": [
       "<div>\n",
       "<style scoped>\n",
       "    .dataframe tbody tr th:only-of-type {\n",
       "        vertical-align: middle;\n",
       "    }\n",
       "\n",
       "    .dataframe tbody tr th {\n",
       "        vertical-align: top;\n",
       "    }\n",
       "\n",
       "    .dataframe thead th {\n",
       "        text-align: right;\n",
       "    }\n",
       "</style>\n",
       "<table border=\"1\" class=\"dataframe\">\n",
       "  <thead>\n",
       "    <tr style=\"text-align: right;\">\n",
       "      <th></th>\n",
       "      <th>user_id</th>\n",
       "      <th>item_id</th>\n",
       "      <th>datetime</th>\n",
       "      <th>total_dur</th>\n",
       "      <th>weight</th>\n",
       "    </tr>\n",
       "  </thead>\n",
       "  <tbody>\n",
       "    <tr>\n",
       "      <th>0</th>\n",
       "      <td>176549</td>\n",
       "      <td>9506</td>\n",
       "      <td>2021-05-11</td>\n",
       "      <td>4250</td>\n",
       "      <td>72.0</td>\n",
       "    </tr>\n",
       "    <tr>\n",
       "      <th>1</th>\n",
       "      <td>699317</td>\n",
       "      <td>1659</td>\n",
       "      <td>2021-05-29</td>\n",
       "      <td>8317</td>\n",
       "      <td>100.0</td>\n",
       "    </tr>\n",
       "    <tr>\n",
       "      <th>2</th>\n",
       "      <td>656683</td>\n",
       "      <td>7107</td>\n",
       "      <td>2021-05-09</td>\n",
       "      <td>10</td>\n",
       "      <td>0.0</td>\n",
       "    </tr>\n",
       "    <tr>\n",
       "      <th>3</th>\n",
       "      <td>864613</td>\n",
       "      <td>7638</td>\n",
       "      <td>2021-07-05</td>\n",
       "      <td>14483</td>\n",
       "      <td>100.0</td>\n",
       "    </tr>\n",
       "    <tr>\n",
       "      <th>4</th>\n",
       "      <td>964868</td>\n",
       "      <td>9506</td>\n",
       "      <td>2021-04-30</td>\n",
       "      <td>6725</td>\n",
       "      <td>100.0</td>\n",
       "    </tr>\n",
       "  </tbody>\n",
       "</table>\n",
       "</div>"
      ],
      "text/plain": [
       "   user_id  item_id   datetime  total_dur  weight\n",
       "0   176549     9506 2021-05-11       4250    72.0\n",
       "1   699317     1659 2021-05-29       8317   100.0\n",
       "2   656683     7107 2021-05-09         10     0.0\n",
       "3   864613     7638 2021-07-05      14483   100.0\n",
       "4   964868     9506 2021-04-30       6725   100.0"
      ]
     },
     "execution_count": 4,
     "metadata": {},
     "output_type": "execute_result"
    }
   ],
   "source": [
    "interactions_df = pd.read_csv(INTERACTIONS_PATH)\n",
    "interactions_df = interactions_df.rename(columns={\"watched_pct\": \"weight\", \"last_watch_dt\": \"datetime\"})\n",
    "interactions_df['datetime'] = pd.to_datetime(interactions_df['datetime'])\n",
    "interactions_df.head(5)"
   ]
  },
  {
   "cell_type": "code",
   "execution_count": 5,
   "id": "d2747bca-7736-4095-a140-c6cd21eb00c7",
   "metadata": {},
   "outputs": [
    {
     "data": {
      "text/html": [
       "<div>\n",
       "<style scoped>\n",
       "    .dataframe tbody tr th:only-of-type {\n",
       "        vertical-align: middle;\n",
       "    }\n",
       "\n",
       "    .dataframe tbody tr th {\n",
       "        vertical-align: top;\n",
       "    }\n",
       "\n",
       "    .dataframe thead th {\n",
       "        text-align: right;\n",
       "    }\n",
       "</style>\n",
       "<table border=\"1\" class=\"dataframe\">\n",
       "  <thead>\n",
       "    <tr style=\"text-align: right;\">\n",
       "      <th></th>\n",
       "      <th>item_id</th>\n",
       "      <th>content_type</th>\n",
       "      <th>title</th>\n",
       "      <th>title_orig</th>\n",
       "      <th>release_year</th>\n",
       "      <th>genres</th>\n",
       "      <th>countries</th>\n",
       "      <th>for_kids</th>\n",
       "      <th>age_rating</th>\n",
       "      <th>studios</th>\n",
       "      <th>directors</th>\n",
       "      <th>actors</th>\n",
       "      <th>description</th>\n",
       "      <th>keywords</th>\n",
       "    </tr>\n",
       "  </thead>\n",
       "  <tbody>\n",
       "    <tr>\n",
       "      <th>0</th>\n",
       "      <td>10711</td>\n",
       "      <td>film</td>\n",
       "      <td>Поговори с ней</td>\n",
       "      <td>Hable con ella</td>\n",
       "      <td>2002.0</td>\n",
       "      <td>драмы, зарубежные, детективы, мелодрамы</td>\n",
       "      <td>Испания</td>\n",
       "      <td>NaN</td>\n",
       "      <td>16.0</td>\n",
       "      <td>NaN</td>\n",
       "      <td>Педро Альмодовар</td>\n",
       "      <td>Адольфо Фернандес, Ана Фернандес, Дарио Гранди...</td>\n",
       "      <td>Мелодрама легендарного Педро Альмодовара «Пого...</td>\n",
       "      <td>Поговори, ней, 2002, Испания, друзья, любовь, ...</td>\n",
       "    </tr>\n",
       "    <tr>\n",
       "      <th>1</th>\n",
       "      <td>2508</td>\n",
       "      <td>film</td>\n",
       "      <td>Голые перцы</td>\n",
       "      <td>Search Party</td>\n",
       "      <td>2014.0</td>\n",
       "      <td>зарубежные, приключения, комедии</td>\n",
       "      <td>США</td>\n",
       "      <td>NaN</td>\n",
       "      <td>16.0</td>\n",
       "      <td>NaN</td>\n",
       "      <td>Скот Армстронг</td>\n",
       "      <td>Адам Палли, Брайан Хаски, Дж.Б. Смув, Джейсон ...</td>\n",
       "      <td>Уморительная современная комедия на популярную...</td>\n",
       "      <td>Голые, перцы, 2014, США, друзья, свадьбы, прео...</td>\n",
       "    </tr>\n",
       "    <tr>\n",
       "      <th>2</th>\n",
       "      <td>10716</td>\n",
       "      <td>film</td>\n",
       "      <td>Тактическая сила</td>\n",
       "      <td>Tactical Force</td>\n",
       "      <td>2011.0</td>\n",
       "      <td>криминал, зарубежные, триллеры, боевики, комедии</td>\n",
       "      <td>Канада</td>\n",
       "      <td>NaN</td>\n",
       "      <td>16.0</td>\n",
       "      <td>NaN</td>\n",
       "      <td>Адам П. Калтраро</td>\n",
       "      <td>Адриан Холмс, Даррен Шалави, Джерри Вассерман,...</td>\n",
       "      <td>Профессиональный рестлер Стив Остин («Все или ...</td>\n",
       "      <td>Тактическая, сила, 2011, Канада, бандиты, ганг...</td>\n",
       "    </tr>\n",
       "    <tr>\n",
       "      <th>3</th>\n",
       "      <td>7868</td>\n",
       "      <td>film</td>\n",
       "      <td>45 лет</td>\n",
       "      <td>45 Years</td>\n",
       "      <td>2015.0</td>\n",
       "      <td>драмы, зарубежные, мелодрамы</td>\n",
       "      <td>Великобритания</td>\n",
       "      <td>NaN</td>\n",
       "      <td>16.0</td>\n",
       "      <td>NaN</td>\n",
       "      <td>Эндрю Хэй</td>\n",
       "      <td>Александра Риддлстон-Барретт, Джеральдин Джейм...</td>\n",
       "      <td>Шарлотта Рэмплинг, Том Кортни, Джеральдин Джей...</td>\n",
       "      <td>45, лет, 2015, Великобритания, брак, жизнь, лю...</td>\n",
       "    </tr>\n",
       "    <tr>\n",
       "      <th>4</th>\n",
       "      <td>16268</td>\n",
       "      <td>film</td>\n",
       "      <td>Все решает мгновение</td>\n",
       "      <td>NaN</td>\n",
       "      <td>1978.0</td>\n",
       "      <td>драмы, спорт, советские, мелодрамы</td>\n",
       "      <td>СССР</td>\n",
       "      <td>NaN</td>\n",
       "      <td>12.0</td>\n",
       "      <td>Ленфильм</td>\n",
       "      <td>Виктор Садовский</td>\n",
       "      <td>Александр Абдулов, Александр Демьяненко, Алекс...</td>\n",
       "      <td>Расчетливая чаровница из советского кинохита «...</td>\n",
       "      <td>Все, решает, мгновение, 1978, СССР, сильные, ж...</td>\n",
       "    </tr>\n",
       "  </tbody>\n",
       "</table>\n",
       "</div>"
      ],
      "text/plain": [
       "   item_id content_type                 title      title_orig  release_year  \\\n",
       "0    10711         film        Поговори с ней  Hable con ella        2002.0   \n",
       "1     2508         film           Голые перцы    Search Party        2014.0   \n",
       "2    10716         film      Тактическая сила  Tactical Force        2011.0   \n",
       "3     7868         film                45 лет        45 Years        2015.0   \n",
       "4    16268         film  Все решает мгновение             NaN        1978.0   \n",
       "\n",
       "                                             genres       countries  for_kids  \\\n",
       "0           драмы, зарубежные, детективы, мелодрамы         Испания       NaN   \n",
       "1                  зарубежные, приключения, комедии             США       NaN   \n",
       "2  криминал, зарубежные, триллеры, боевики, комедии          Канада       NaN   \n",
       "3                      драмы, зарубежные, мелодрамы  Великобритания       NaN   \n",
       "4                драмы, спорт, советские, мелодрамы            СССР       NaN   \n",
       "\n",
       "   age_rating   studios         directors  \\\n",
       "0        16.0       NaN  Педро Альмодовар   \n",
       "1        16.0       NaN    Скот Армстронг   \n",
       "2        16.0       NaN  Адам П. Калтраро   \n",
       "3        16.0       NaN         Эндрю Хэй   \n",
       "4        12.0  Ленфильм  Виктор Садовский   \n",
       "\n",
       "                                              actors  \\\n",
       "0  Адольфо Фернандес, Ана Фернандес, Дарио Гранди...   \n",
       "1  Адам Палли, Брайан Хаски, Дж.Б. Смув, Джейсон ...   \n",
       "2  Адриан Холмс, Даррен Шалави, Джерри Вассерман,...   \n",
       "3  Александра Риддлстон-Барретт, Джеральдин Джейм...   \n",
       "4  Александр Абдулов, Александр Демьяненко, Алекс...   \n",
       "\n",
       "                                         description  \\\n",
       "0  Мелодрама легендарного Педро Альмодовара «Пого...   \n",
       "1  Уморительная современная комедия на популярную...   \n",
       "2  Профессиональный рестлер Стив Остин («Все или ...   \n",
       "3  Шарлотта Рэмплинг, Том Кортни, Джеральдин Джей...   \n",
       "4  Расчетливая чаровница из советского кинохита «...   \n",
       "\n",
       "                                            keywords  \n",
       "0  Поговори, ней, 2002, Испания, друзья, любовь, ...  \n",
       "1  Голые, перцы, 2014, США, друзья, свадьбы, прео...  \n",
       "2  Тактическая, сила, 2011, Канада, бандиты, ганг...  \n",
       "3  45, лет, 2015, Великобритания, брак, жизнь, лю...  \n",
       "4  Все, решает, мгновение, 1978, СССР, сильные, ж...  "
      ]
     },
     "execution_count": 5,
     "metadata": {},
     "output_type": "execute_result"
    }
   ],
   "source": [
    "items_df = pd.read_csv(ITEMS_PATH)\n",
    "items_df.head(5)"
   ]
  },
  {
   "cell_type": "markdown",
   "id": "1b1f43db-efae-4f78-a623-da37cbf083f6",
   "metadata": {},
   "source": [
    "## Эксперименты"
   ]
  },
  {
   "cell_type": "markdown",
   "id": "4c815f4c-4623-4992-af6a-7d8717609717",
   "metadata": {},
   "source": [
    "### Холодные пользователи (3 балла)"
   ]
  },
  {
   "cell_type": "markdown",
   "id": "e96ef23b-d0d7-401d-80f0-975e2783381b",
   "metadata": {},
   "source": [
    "__Для холодных юзеров будем использовать популярные айтемы. Ниже определим наилучшую модель для этого__"
   ]
  },
  {
   "cell_type": "code",
   "execution_count": 9,
   "id": "0da3b2e7-c473-4b2d-a1d2-fe1badb9a497",
   "metadata": {},
   "outputs": [],
   "source": [
    "cold_users_interactions = Interactions(interactions_df.copy())"
   ]
  },
  {
   "cell_type": "code",
   "execution_count": 10,
   "id": "eb652ad8-1949-45c8-bdf7-4911a4f1b17c",
   "metadata": {},
   "outputs": [
    {
     "data": {
      "text/plain": [
       "5476251"
      ]
     },
     "execution_count": 10,
     "metadata": {},
     "output_type": "execute_result"
    }
   ],
   "source": [
    "len(cold_users_interactions.df)"
   ]
  },
  {
   "cell_type": "code",
   "execution_count": 22,
   "id": "9294ff17-2d34-4f59-b7ea-b1c49ade64f0",
   "metadata": {},
   "outputs": [],
   "source": [
    "cold_users_splitter = TimeRangeSplitter(\n",
    "    test_size=\"7D\",\n",
    "    n_splits=2,\n",
    "    filter_already_seen=True,\n",
    "    filter_cold_items=True,\n",
    "    filter_cold_users=True\n",
    ")"
   ]
  },
  {
   "cell_type": "code",
   "execution_count": 27,
   "id": "327887e2-abef-444c-832d-b86f112ce5d6",
   "metadata": {},
   "outputs": [],
   "source": [
    "cold_users_metrics = {\n",
    "    'map@10': MAP(k=K_RECOMMENDATIONS),\n",
    "    'serendipity': Serendipity(k=K_RECOMMENDATIONS),\n",
    "}\n",
    "\n",
    "cold_users_models = {\n",
    "    \"popular_n_users\": PopularModel(popularity=\"n_users\"),\n",
    "    \"popular_n_interactions\": PopularModel(popularity=\"n_interactions\"),\n",
    "    \"popular_mean_weight\": PopularModel(popularity=\"mean_weight\"),\n",
    "    \"popular_sum_weight\": PopularModel(popularity=\"sum_weight\")\n",
    "}"
   ]
  },
  {
   "cell_type": "code",
   "execution_count": 28,
   "id": "9130416e-e0c7-48c5-94ae-f08550edf7bd",
   "metadata": {},
   "outputs": [
    {
     "name": "stdout",
     "output_type": "stream",
     "text": [
      "Test fold: 1, model: popular_n_users, fitted in: 406 milliseconds, predicted in: 983 milliseconds\n",
      "Test fold: 1, model: popular_n_interactions, fitted in: 50 milliseconds, predicted in: 4 milliseconds\n",
      "Test fold: 1, model: popular_mean_weight, fitted in: 56 milliseconds, predicted in: 961 milliseconds\n",
      "Test fold: 1, model: popular_sum_weight, fitted in: 57 milliseconds, predicted in: 983 milliseconds\n",
      "Test fold: 2, model: popular_n_users, fitted in: 975 milliseconds, predicted in: 502 milliseconds\n",
      "Test fold: 2, model: popular_n_interactions, fitted in: 54 milliseconds, predicted in: 543 milliseconds\n",
      "Test fold: 2, model: popular_mean_weight, fitted in: 61 milliseconds, predicted in: 484 milliseconds\n",
      "Test fold: 2, model: popular_sum_weight, fitted in: 62 milliseconds, predicted in: 562 milliseconds\n"
     ]
    }
   ],
   "source": [
    "cold_users_mc = MetricCalculator(cold_users_models, cold_users_metrics, cold_users_splitter, K_RECOMMENDATIONS, cold_users_interactions)\n",
    "cold_users_report_df = cold_users_mc.generate_report(show_logs=True)"
   ]
  },
  {
   "cell_type": "code",
   "execution_count": 29,
   "id": "38b380c9-0607-4302-a130-b7e55c1b0101",
   "metadata": {},
   "outputs": [
    {
     "data": {
      "text/html": [
       "<div>\n",
       "<style scoped>\n",
       "    .dataframe tbody tr th:only-of-type {\n",
       "        vertical-align: middle;\n",
       "    }\n",
       "\n",
       "    .dataframe tbody tr th {\n",
       "        vertical-align: top;\n",
       "    }\n",
       "\n",
       "    .dataframe thead th {\n",
       "        text-align: right;\n",
       "    }\n",
       "</style>\n",
       "<table border=\"1\" class=\"dataframe\">\n",
       "  <thead>\n",
       "    <tr style=\"text-align: right;\">\n",
       "      <th></th>\n",
       "      <th>map@10</th>\n",
       "      <th>serendipity</th>\n",
       "    </tr>\n",
       "    <tr>\n",
       "      <th>model</th>\n",
       "      <th></th>\n",
       "      <th></th>\n",
       "    </tr>\n",
       "  </thead>\n",
       "  <tbody>\n",
       "    <tr>\n",
       "      <th>popular_n_users</th>\n",
       "      <td>0.081361</td>\n",
       "      <td>0.000002</td>\n",
       "    </tr>\n",
       "    <tr>\n",
       "      <th>popular_n_interactions</th>\n",
       "      <td>0.081361</td>\n",
       "      <td>0.000002</td>\n",
       "    </tr>\n",
       "    <tr>\n",
       "      <th>popular_mean_weight</th>\n",
       "      <td>0.000000</td>\n",
       "      <td>0.000000</td>\n",
       "    </tr>\n",
       "    <tr>\n",
       "      <th>popular_sum_weight</th>\n",
       "      <td>0.079390</td>\n",
       "      <td>0.000003</td>\n",
       "    </tr>\n",
       "  </tbody>\n",
       "</table>\n",
       "</div>"
      ],
      "text/plain": [
       "                          map@10  serendipity\n",
       "model                                        \n",
       "popular_n_users         0.081361     0.000002\n",
       "popular_n_interactions  0.081361     0.000002\n",
       "popular_mean_weight     0.000000     0.000000\n",
       "popular_sum_weight      0.079390     0.000003"
      ]
     },
     "execution_count": 29,
     "metadata": {},
     "output_type": "execute_result"
    }
   ],
   "source": [
    "cold_users_report_df.head()"
   ]
  },
  {
   "cell_type": "markdown",
   "id": "f1b734d0-7fda-475b-90cf-764a726cb46a",
   "metadata": {},
   "source": [
    "__Можно заметить что `popular_n_users` и `popular_n_interactions` имеют одинаковое значение MAP@10, это связано с тем, что в датасете пара юзер-айтем не повторяется, поэтому количество уникальных юзеров и интеракций с айтемом равны__\n",
    "\n",
    "__Таким образом, будем использовать топ 10 популярных айтемов для рекомендации холодным пользователям. Ниже приведен список таких айтемов. Список сохраняется при уменьшении верхней временной границы датасета, хотя и меняется порядок айтемов__"
   ]
  },
  {
   "cell_type": "code",
   "execution_count": 8,
   "id": "8e8fec04-0179-488c-a5f1-0bd4c936b3dd",
   "metadata": {},
   "outputs": [
    {
     "data": {
      "text/html": [
       "<div>\n",
       "<style scoped>\n",
       "    .dataframe tbody tr th:only-of-type {\n",
       "        vertical-align: middle;\n",
       "    }\n",
       "\n",
       "    .dataframe tbody tr th {\n",
       "        vertical-align: top;\n",
       "    }\n",
       "\n",
       "    .dataframe thead th {\n",
       "        text-align: right;\n",
       "    }\n",
       "</style>\n",
       "<table border=\"1\" class=\"dataframe\">\n",
       "  <thead>\n",
       "    <tr style=\"text-align: right;\">\n",
       "      <th></th>\n",
       "      <th>user_id</th>\n",
       "      <th>item_id</th>\n",
       "      <th>score</th>\n",
       "      <th>rank</th>\n",
       "      <th>title</th>\n",
       "    </tr>\n",
       "  </thead>\n",
       "  <tbody>\n",
       "    <tr>\n",
       "      <th>0</th>\n",
       "      <td>2</td>\n",
       "      <td>10440</td>\n",
       "      <td>202457.0</td>\n",
       "      <td>1</td>\n",
       "      <td>Хрустальный</td>\n",
       "    </tr>\n",
       "    <tr>\n",
       "      <th>1</th>\n",
       "      <td>2</td>\n",
       "      <td>15297</td>\n",
       "      <td>193123.0</td>\n",
       "      <td>2</td>\n",
       "      <td>Клиника счастья</td>\n",
       "    </tr>\n",
       "    <tr>\n",
       "      <th>2</th>\n",
       "      <td>2</td>\n",
       "      <td>9728</td>\n",
       "      <td>132865.0</td>\n",
       "      <td>3</td>\n",
       "      <td>Гнев человеческий</td>\n",
       "    </tr>\n",
       "    <tr>\n",
       "      <th>3</th>\n",
       "      <td>2</td>\n",
       "      <td>13865</td>\n",
       "      <td>122119.0</td>\n",
       "      <td>4</td>\n",
       "      <td>Девятаев</td>\n",
       "    </tr>\n",
       "    <tr>\n",
       "      <th>4</th>\n",
       "      <td>2</td>\n",
       "      <td>4151</td>\n",
       "      <td>91167.0</td>\n",
       "      <td>5</td>\n",
       "      <td>Секреты семейной жизни</td>\n",
       "    </tr>\n",
       "    <tr>\n",
       "      <th>5</th>\n",
       "      <td>2</td>\n",
       "      <td>3734</td>\n",
       "      <td>74803.0</td>\n",
       "      <td>6</td>\n",
       "      <td>Прабабушка легкого поведения</td>\n",
       "    </tr>\n",
       "    <tr>\n",
       "      <th>6</th>\n",
       "      <td>2</td>\n",
       "      <td>2657</td>\n",
       "      <td>68581.0</td>\n",
       "      <td>7</td>\n",
       "      <td>Подслушано</td>\n",
       "    </tr>\n",
       "    <tr>\n",
       "      <th>7</th>\n",
       "      <td>2</td>\n",
       "      <td>4880</td>\n",
       "      <td>55043.0</td>\n",
       "      <td>8</td>\n",
       "      <td>Афера</td>\n",
       "    </tr>\n",
       "    <tr>\n",
       "      <th>8</th>\n",
       "      <td>2</td>\n",
       "      <td>142</td>\n",
       "      <td>45367.0</td>\n",
       "      <td>9</td>\n",
       "      <td>Маша</td>\n",
       "    </tr>\n",
       "    <tr>\n",
       "      <th>9</th>\n",
       "      <td>2</td>\n",
       "      <td>6809</td>\n",
       "      <td>40372.0</td>\n",
       "      <td>10</td>\n",
       "      <td>Дуров</td>\n",
       "    </tr>\n",
       "  </tbody>\n",
       "</table>\n",
       "</div>"
      ],
      "text/plain": [
       "   user_id  item_id     score  rank                         title\n",
       "0        2    10440  202457.0     1                   Хрустальный\n",
       "1        2    15297  193123.0     2               Клиника счастья\n",
       "2        2     9728  132865.0     3             Гнев человеческий\n",
       "3        2    13865  122119.0     4                      Девятаев\n",
       "4        2     4151   91167.0     5        Секреты семейной жизни\n",
       "5        2     3734   74803.0     6  Прабабушка легкого поведения\n",
       "6        2     2657   68581.0     7                    Подслушано\n",
       "7        2     4880   55043.0     8                         Афера\n",
       "8        2      142   45367.0     9                          Маша\n",
       "9        2     6809   40372.0    10                         Дуров"
      ]
     },
     "execution_count": 8,
     "metadata": {},
     "output_type": "execute_result"
    }
   ],
   "source": [
    "model = PopularModel(popularity=\"n_interactions\")\n",
    "dataset = Dataset.construct(interactions_df.copy())\n",
    "model.fit(dataset)\n",
    "\n",
    "va = VisualAnalyzer(model, dataset, [2], [\"title\"], K_RECOMMENDATIONS, items_df)\n",
    "history_df, reco_df = va.get_history_and_recommendation_dataframes()\n",
    "reco_df"
   ]
  },
  {
   "cell_type": "markdown",
   "id": "3e8e39de-b666-4e3e-ba58-a033c61fb97b",
   "metadata": {},
   "source": [
    "### Количество рекомендаций фиксированное (3 балла)"
   ]
  },
  {
   "cell_type": "markdown",
   "id": "2da319f2-da4e-4f47-97f5-e66fec9aa755",
   "metadata": {},
   "source": [
    "__Для того чтобы количество рекомендаций было фиксированным (равным N), а не ниже N, нужно дополнять рекомендации популярнымм айтемами__\n",
    "\n",
    "__Данная функция уже реализована в классе UserKnn с помощью методов `_get_cold_user_recommendations` и `finalize_recommendations`. Первый добавляет каждому пользователю популярные рекомендации, а второй отсекает и передает для рекомендации только N айтмеов__"
   ]
  },
  {
   "cell_type": "code",
   "execution_count": 21,
   "id": "b07f4015-6e1e-4c36-a6d7-9d8081927673",
   "metadata": {},
   "outputs": [],
   "source": [
    "fix_reco_interactions = Interactions(interactions_df.copy())"
   ]
  },
  {
   "cell_type": "code",
   "execution_count": 22,
   "id": "c962ac7e-6bdf-4bbf-802d-094ec635e775",
   "metadata": {},
   "outputs": [],
   "source": [
    "interactions = fix_reco_interactions"
   ]
  },
  {
   "cell_type": "code",
   "execution_count": 23,
   "id": "b9786fd1-5dc4-4bdf-8407-438fe18670ef",
   "metadata": {},
   "outputs": [],
   "source": [
    "fix_reco_metrics = {\n",
    "    'map@10': MAP(k=K_RECOMMENDATIONS),\n",
    "    'serendipity': Serendipity(k=K_RECOMMENDATIONS),\n",
    "}\n",
    "\n",
    "fix_reco_models = {\n",
    "    'user_knn': UserKnn(model=CosineRecommender(20), n_similar_users=20)\n",
    "}"
   ]
  },
  {
   "cell_type": "code",
   "execution_count": 24,
   "id": "33f16cac-6175-46f8-b648-e512f90fcf9d",
   "metadata": {},
   "outputs": [],
   "source": [
    "metrics = fix_reco_metrics\n",
    "models = fix_reco_models"
   ]
  },
  {
   "cell_type": "code",
   "execution_count": 25,
   "id": "fe764c16-4ad5-410f-88d0-92ccd6aa7e6e",
   "metadata": {},
   "outputs": [],
   "source": [
    "fix_reco_splitter = TimeRangeSplitter(\n",
    "    test_size=\"7D\",\n",
    "    n_splits=1,\n",
    "    filter_already_seen=True,\n",
    "    filter_cold_items=True,\n",
    "    filter_cold_users=False\n",
    ")"
   ]
  },
  {
   "cell_type": "code",
   "execution_count": null,
   "id": "6fca2bdf-c02a-44e5-a832-6f35c660c10d",
   "metadata": {},
   "outputs": [],
   "source": [
    "fold_iterator = fix_reco_splitter.split(interactions, collect_fold_stats=True)\n",
    "\n",
    "fix_reco_results = []\n",
    "\n",
    "for i_fold, (train_ids, test_ids, fold_info) in enumerate(fold_iterator):\n",
    "    print(f\"\\n==================== Fold {i_fold}\")\n",
    "    df_train = fix_reco_interactions.df.iloc[train_ids].copy()\n",
    "    df_test = fix_reco_interactions.df.iloc[test_ids][Columns.UserItem].copy()\n",
    "    test_users = df_test[Columns.User].unique()\n",
    "    catalog = df_train[Columns.Item].unique()\n",
    "    \n",
    "    for model_name, model in fix_reco_models.items():\n",
    "        model.fit(df_train)\n",
    "    \n",
    "        recos = model.recommend(test_users, k=K_RECOMMENDATIONS)\n",
    "    \n",
    "        metric_values = calc_metrics(\n",
    "            fix_reco_metrics,\n",
    "            reco=recos,\n",
    "            interactions=df_test,\n",
    "            prev_interactions=df_train,\n",
    "            catalog=catalog,\n",
    "        )\n",
    "    \n",
    "        fold = {\"fold\": i_fold, \"model\": model_name}\n",
    "        fold.update(metric_values)\n",
    "        fix_reco_results.append(fold)"
   ]
  },
  {
   "cell_type": "code",
   "execution_count": 32,
   "id": "748db543-b1d5-482a-88c4-6caa909d29d2",
   "metadata": {},
   "outputs": [
    {
     "data": {
      "text/plain": [
       "{'map@10': 0.0785473340543117, 'serendipity': 3.8314219041045575e-05}"
      ]
     },
     "execution_count": 32,
     "metadata": {},
     "output_type": "execute_result"
    }
   ],
   "source": [
    "pd.DataFrame(fix_reco_results)"
   ]
  },
  {
   "cell_type": "markdown",
   "id": "8e873c42-fd2f-487d-9ce2-80bd9731d3ad",
   "metadata": {},
   "source": [
    "Видно, что качество с использованием kNN немного ниже чем у модели с константными прогнозами, однако выше новизна рекомендаций на целый порядок. Попробуем перебрать гиперпараметры, чтобы повысить качество"
   ]
  },
  {
   "cell_type": "markdown",
   "id": "71e7c5a4-f6bf-437c-9d32-4a47193cc84a",
   "metadata": {},
   "source": [
    "## Тюниг гиперпараметров (3 балла)"
   ]
  },
  {
   "cell_type": "markdown",
   "id": "da8cd992-7188-4623-bc40-32c50414f9c4",
   "metadata": {},
   "source": [
    "__Переберем различные типы рекомендеров из implicit и количество соседей. Для того чтобы это было быстрее считать, возьмем только 5-ую часть всех пользователей__"
   ]
  },
  {
   "cell_type": "code",
   "execution_count": 60,
   "id": "4763e031-9115-4b44-9ea0-248f7cb00e83",
   "metadata": {},
   "outputs": [],
   "source": [
    "tuning_interactions = Interactions(interactions_df[interactions_df[Columns.User] % 5 == 0].copy())"
   ]
  },
  {
   "cell_type": "code",
   "execution_count": 61,
   "id": "9022c0b3-f908-4080-a44b-fd5da188582f",
   "metadata": {},
   "outputs": [],
   "source": [
    "tuning_models = dict()\n",
    "for n_similar_users in (10, 20, 40, 60):\n",
    "    for (recommender, name) in zip((CosineRecommender, TFIDFRecommender, BM25Recommender), (\"cosine\", \"tfidf\", \"bm25\")):\n",
    "        tuning_models[f\"user_knn_{name}_{n_similar_users}\"] = UserKnn(model=recommender(n_similar_users), n_similar_users=n_similar_users)"
   ]
  },
  {
   "cell_type": "code",
   "execution_count": 62,
   "id": "4cb1c792-ff80-4c21-aad7-3181d93a58cd",
   "metadata": {},
   "outputs": [],
   "source": [
    "tuning_metrics = {\n",
    "    'map@10': MAP(k=K_RECOMMENDATIONS),\n",
    "    'serendipity': Serendipity(k=K_RECOMMENDATIONS),\n",
    "}"
   ]
  },
  {
   "cell_type": "code",
   "execution_count": 63,
   "id": "e9377748-c62e-4e8d-8002-62938fe8a3f7",
   "metadata": {},
   "outputs": [],
   "source": [
    "tuning_splitter = TimeRangeSplitter(\n",
    "    test_size=\"7D\",\n",
    "    n_splits=1,\n",
    "    filter_already_seen=True,\n",
    "    filter_cold_items=True,\n",
    "    filter_cold_users=False\n",
    ")"
   ]
  },
  {
   "cell_type": "code",
   "execution_count": 64,
   "id": "3bf065dc-df0a-4760-9049-5441bc50d395",
   "metadata": {},
   "outputs": [
    {
     "name": "stdout",
     "output_type": "stream",
     "text": [
      "\n",
      "==================== Fold 0\n",
      "205710\n"
     ]
    },
    {
     "data": {
      "application/vnd.jupyter.widget-view+json": {
       "model_id": "ade43bfaa26b47dab7d8555910cc89af",
       "version_major": 2,
       "version_minor": 0
      },
      "text/plain": [
       "  0%|          | 0/181391 [00:00<?, ?it/s]"
      ]
     },
     "metadata": {},
     "output_type": "display_data"
    },
    {
     "name": "stdout",
     "output_type": "stream",
     "text": [
      "205710\n"
     ]
    },
    {
     "data": {
      "application/vnd.jupyter.widget-view+json": {
       "model_id": "c332a4619534407898a812dc88e08d65",
       "version_major": 2,
       "version_minor": 0
      },
      "text/plain": [
       "  0%|          | 0/181391 [00:00<?, ?it/s]"
      ]
     },
     "metadata": {},
     "output_type": "display_data"
    },
    {
     "name": "stdout",
     "output_type": "stream",
     "text": [
      "205710\n"
     ]
    },
    {
     "data": {
      "application/vnd.jupyter.widget-view+json": {
       "model_id": "072330a1c6af499195b8db81a0c2524d",
       "version_major": 2,
       "version_minor": 0
      },
      "text/plain": [
       "  0%|          | 0/181391 [00:00<?, ?it/s]"
      ]
     },
     "metadata": {},
     "output_type": "display_data"
    },
    {
     "name": "stdout",
     "output_type": "stream",
     "text": [
      "205710\n"
     ]
    },
    {
     "data": {
      "application/vnd.jupyter.widget-view+json": {
       "model_id": "fa3765811493439d88b5fcb87d92e5f7",
       "version_major": 2,
       "version_minor": 0
      },
      "text/plain": [
       "  0%|          | 0/181391 [00:00<?, ?it/s]"
      ]
     },
     "metadata": {},
     "output_type": "display_data"
    },
    {
     "name": "stdout",
     "output_type": "stream",
     "text": [
      "205710\n"
     ]
    },
    {
     "data": {
      "application/vnd.jupyter.widget-view+json": {
       "model_id": "4e984f09d6534c54822e06e3ef97ef5e",
       "version_major": 2,
       "version_minor": 0
      },
      "text/plain": [
       "  0%|          | 0/181391 [00:00<?, ?it/s]"
      ]
     },
     "metadata": {},
     "output_type": "display_data"
    },
    {
     "name": "stdout",
     "output_type": "stream",
     "text": [
      "205710\n"
     ]
    },
    {
     "data": {
      "application/vnd.jupyter.widget-view+json": {
       "model_id": "4e64bee06f844538adc7c81447c85f9a",
       "version_major": 2,
       "version_minor": 0
      },
      "text/plain": [
       "  0%|          | 0/181391 [00:00<?, ?it/s]"
      ]
     },
     "metadata": {},
     "output_type": "display_data"
    },
    {
     "name": "stdout",
     "output_type": "stream",
     "text": [
      "205710\n"
     ]
    },
    {
     "data": {
      "application/vnd.jupyter.widget-view+json": {
       "model_id": "19d64ffef211408282cfe896cfbb4eff",
       "version_major": 2,
       "version_minor": 0
      },
      "text/plain": [
       "  0%|          | 0/181391 [00:00<?, ?it/s]"
      ]
     },
     "metadata": {},
     "output_type": "display_data"
    },
    {
     "name": "stdout",
     "output_type": "stream",
     "text": [
      "205710\n"
     ]
    },
    {
     "data": {
      "application/vnd.jupyter.widget-view+json": {
       "model_id": "cd8074f7e008451382ba9a1617762748",
       "version_major": 2,
       "version_minor": 0
      },
      "text/plain": [
       "  0%|          | 0/181391 [00:00<?, ?it/s]"
      ]
     },
     "metadata": {},
     "output_type": "display_data"
    },
    {
     "name": "stdout",
     "output_type": "stream",
     "text": [
      "205710\n"
     ]
    },
    {
     "data": {
      "application/vnd.jupyter.widget-view+json": {
       "model_id": "da34158c02f8416f9943405a09c9b05a",
       "version_major": 2,
       "version_minor": 0
      },
      "text/plain": [
       "  0%|          | 0/181391 [00:00<?, ?it/s]"
      ]
     },
     "metadata": {},
     "output_type": "display_data"
    },
    {
     "name": "stdout",
     "output_type": "stream",
     "text": [
      "205710\n"
     ]
    },
    {
     "data": {
      "application/vnd.jupyter.widget-view+json": {
       "model_id": "e6a0ea72669c488586b02633f4e2f86c",
       "version_major": 2,
       "version_minor": 0
      },
      "text/plain": [
       "  0%|          | 0/181391 [00:00<?, ?it/s]"
      ]
     },
     "metadata": {},
     "output_type": "display_data"
    },
    {
     "name": "stdout",
     "output_type": "stream",
     "text": [
      "205710\n"
     ]
    },
    {
     "data": {
      "application/vnd.jupyter.widget-view+json": {
       "model_id": "91cf1dd9d44143379c4b405a6284db51",
       "version_major": 2,
       "version_minor": 0
      },
      "text/plain": [
       "  0%|          | 0/181391 [00:00<?, ?it/s]"
      ]
     },
     "metadata": {},
     "output_type": "display_data"
    },
    {
     "name": "stdout",
     "output_type": "stream",
     "text": [
      "205710\n"
     ]
    },
    {
     "data": {
      "application/vnd.jupyter.widget-view+json": {
       "model_id": "5a0bda2b3e784f3da22e5e74ed87900a",
       "version_major": 2,
       "version_minor": 0
      },
      "text/plain": [
       "  0%|          | 0/181391 [00:00<?, ?it/s]"
      ]
     },
     "metadata": {},
     "output_type": "display_data"
    }
   ],
   "source": [
    "fold_iterator = tuning_splitter.split(tuning_interactions, collect_fold_stats=True)\n",
    "\n",
    "tuning_results = []\n",
    "\n",
    "for i_fold, (train_ids, test_ids, fold_info) in enumerate(fold_iterator):\n",
    "    print(f\"\\n==================== Fold {i_fold}\")\n",
    "    df_train = tuning_interactions.df.iloc[train_ids].copy()\n",
    "    df_test = tuning_interactions.df.iloc[test_ids][Columns.UserItem].copy()\n",
    "    test_users = df_test[Columns.User].unique()\n",
    "    catalog = df_train[Columns.Item].unique()\n",
    "    \n",
    "    for model_name, model in tuning_models.items():\n",
    "        model.fit(df_train)\n",
    "    \n",
    "        recos = model.recommend(test_users, k=K_RECOMMENDATIONS)\n",
    "    \n",
    "        metric_values = calc_metrics(\n",
    "            tuning_metrics,\n",
    "            reco=recos,\n",
    "            interactions=df_test,\n",
    "            prev_interactions=df_train,\n",
    "            catalog=catalog,\n",
    "        )\n",
    "    \n",
    "        fold = {\"fold\": i_fold, \"model\": model_name}\n",
    "        fold.update(metric_values)\n",
    "        tuning_results.append(fold)"
   ]
  },
  {
   "cell_type": "code",
   "execution_count": 65,
   "id": "9263bd7d-3f42-4798-a326-88d99b061f78",
   "metadata": {},
   "outputs": [],
   "source": [
    "tuning_df = pd.DataFrame(tuning_results)"
   ]
  },
  {
   "cell_type": "code",
   "execution_count": 66,
   "id": "f99a4ca4-b39b-4122-ad2c-bd65308bec6f",
   "metadata": {},
   "outputs": [
    {
     "data": {
      "text/html": [
       "<div>\n",
       "<style scoped>\n",
       "    .dataframe tbody tr th:only-of-type {\n",
       "        vertical-align: middle;\n",
       "    }\n",
       "\n",
       "    .dataframe tbody tr th {\n",
       "        vertical-align: top;\n",
       "    }\n",
       "\n",
       "    .dataframe thead th {\n",
       "        text-align: right;\n",
       "    }\n",
       "</style>\n",
       "<table border=\"1\" class=\"dataframe\">\n",
       "  <thead>\n",
       "    <tr style=\"text-align: right;\">\n",
       "      <th></th>\n",
       "      <th>fold</th>\n",
       "      <th>model</th>\n",
       "      <th>map@10</th>\n",
       "      <th>serendipity</th>\n",
       "    </tr>\n",
       "  </thead>\n",
       "  <tbody>\n",
       "    <tr>\n",
       "      <th>0</th>\n",
       "      <td>0</td>\n",
       "      <td>user_knn_cosine_10</td>\n",
       "      <td>0.079104</td>\n",
       "      <td>0.000029</td>\n",
       "    </tr>\n",
       "    <tr>\n",
       "      <th>1</th>\n",
       "      <td>0</td>\n",
       "      <td>user_knn_tfidf_10</td>\n",
       "      <td>0.079036</td>\n",
       "      <td>0.000035</td>\n",
       "    </tr>\n",
       "    <tr>\n",
       "      <th>2</th>\n",
       "      <td>0</td>\n",
       "      <td>user_knn_bm25_10</td>\n",
       "      <td>0.105936</td>\n",
       "      <td>0.000000</td>\n",
       "    </tr>\n",
       "    <tr>\n",
       "      <th>3</th>\n",
       "      <td>0</td>\n",
       "      <td>user_knn_cosine_20</td>\n",
       "      <td>0.075975</td>\n",
       "      <td>0.000036</td>\n",
       "    </tr>\n",
       "    <tr>\n",
       "      <th>4</th>\n",
       "      <td>0</td>\n",
       "      <td>user_knn_tfidf_20</td>\n",
       "      <td>0.075434</td>\n",
       "      <td>0.000045</td>\n",
       "    </tr>\n",
       "    <tr>\n",
       "      <th>5</th>\n",
       "      <td>0</td>\n",
       "      <td>user_knn_bm25_20</td>\n",
       "      <td>0.105936</td>\n",
       "      <td>0.000000</td>\n",
       "    </tr>\n",
       "    <tr>\n",
       "      <th>6</th>\n",
       "      <td>0</td>\n",
       "      <td>user_knn_cosine_40</td>\n",
       "      <td>0.073089</td>\n",
       "      <td>0.000037</td>\n",
       "    </tr>\n",
       "    <tr>\n",
       "      <th>7</th>\n",
       "      <td>0</td>\n",
       "      <td>user_knn_tfidf_40</td>\n",
       "      <td>0.072560</td>\n",
       "      <td>0.000046</td>\n",
       "    </tr>\n",
       "    <tr>\n",
       "      <th>8</th>\n",
       "      <td>0</td>\n",
       "      <td>user_knn_bm25_40</td>\n",
       "      <td>0.105936</td>\n",
       "      <td>0.000000</td>\n",
       "    </tr>\n",
       "    <tr>\n",
       "      <th>9</th>\n",
       "      <td>0</td>\n",
       "      <td>user_knn_cosine_60</td>\n",
       "      <td>0.071403</td>\n",
       "      <td>0.000035</td>\n",
       "    </tr>\n",
       "    <tr>\n",
       "      <th>10</th>\n",
       "      <td>0</td>\n",
       "      <td>user_knn_tfidf_60</td>\n",
       "      <td>0.071208</td>\n",
       "      <td>0.000043</td>\n",
       "    </tr>\n",
       "    <tr>\n",
       "      <th>11</th>\n",
       "      <td>0</td>\n",
       "      <td>user_knn_bm25_60</td>\n",
       "      <td>0.105936</td>\n",
       "      <td>0.000000</td>\n",
       "    </tr>\n",
       "  </tbody>\n",
       "</table>\n",
       "</div>"
      ],
      "text/plain": [
       "    fold               model    map@10  serendipity\n",
       "0      0  user_knn_cosine_10  0.079104     0.000029\n",
       "1      0   user_knn_tfidf_10  0.079036     0.000035\n",
       "2      0    user_knn_bm25_10  0.105936     0.000000\n",
       "3      0  user_knn_cosine_20  0.075975     0.000036\n",
       "4      0   user_knn_tfidf_20  0.075434     0.000045\n",
       "5      0    user_knn_bm25_20  0.105936     0.000000\n",
       "6      0  user_knn_cosine_40  0.073089     0.000037\n",
       "7      0   user_knn_tfidf_40  0.072560     0.000046\n",
       "8      0    user_knn_bm25_40  0.105936     0.000000\n",
       "9      0  user_knn_cosine_60  0.071403     0.000035\n",
       "10     0   user_knn_tfidf_60  0.071208     0.000043\n",
       "11     0    user_knn_bm25_60  0.105936     0.000000"
      ]
     },
     "execution_count": 66,
     "metadata": {},
     "output_type": "execute_result"
    }
   ],
   "source": [
    "tuning_df"
   ]
  },
  {
   "cell_type": "markdown",
   "id": "e3045e1c-50e2-457d-9096-d2a60a62437e",
   "metadata": {},
   "source": [
    "__Визуализируем точки, у которых новизна не нулевая__"
   ]
  },
  {
   "cell_type": "code",
   "execution_count": 67,
   "id": "b6216f21-e3a4-4f8b-9df3-5d7deaf07495",
   "metadata": {},
   "outputs": [
    {
     "data": {
      "image/png": "[encoded data removed]",
      "text/plain": [
       "<Figure size 640x480 with 1 Axes>"
      ]
     },
     "metadata": {},
     "output_type": "display_data"
    }
   ],
   "source": [
    "sns.scatterplot(data = tuning_df[tuning_df.serendipity > 0], x=\"serendipity\", y=\"map@10\", hue=\"model\", legend=True)\n",
    "plt.legend(bbox_to_anchor=(1.02, 1), loc='upper left', borderaxespad=0)\n",
    "plt.title(\"Grid search for user kNN\")\n",
    "plt.show()"
   ]
  },
  {
   "cell_type": "markdown",
   "id": "3fbd35a6-0d71-4ab0-89fc-78e507b1f90a",
   "metadata": {},
   "source": [
    "__По графику видно, что наилучшей моделью с точки зрения качества является user kNN с использование Cosine на 10 ближайших соседях. Но при том же качестве есть модель на TF-IDF с лучшим значением Serendipity. При этом не нужно забывать, что использовалось только 5-ая часть соседей и на большем количестве юзеров модель с большим количество соседей может сработать лучше__\n",
    "\n",
    "__Таким образом в качестве финальной модели была использования user kNN на TFIDF и на 20 соседях__"
   ]
  },
  {
   "cell_type": "code",
   "execution_count": 68,
   "id": "70432518-cd91-49bb-9389-6f55622c4349",
   "metadata": {},
   "outputs": [],
   "source": [
    "tuning_final_interactions = Interactions(interactions_df.copy())"
   ]
  },
  {
   "cell_type": "code",
   "execution_count": 70,
   "id": "25847f44-e369-4aae-b134-3758fdd641ed",
   "metadata": {},
   "outputs": [],
   "source": [
    "tuning_final_models = {\n",
    "    'user_knn': UserKnn(model=TFIDFRecommender(20), n_similar_users=20)\n",
    "}\n",
    "tuning_final_metrics = {\n",
    "    'map@10': MAP(k=K_RECOMMENDATIONS),\n",
    "    'serendipity': Serendipity(k=K_RECOMMENDATIONS),\n",
    "}"
   ]
  },
  {
   "cell_type": "code",
   "execution_count": 71,
   "id": "967c1b7d-9159-40d2-a0e6-9b57a1d6c33b",
   "metadata": {},
   "outputs": [],
   "source": [
    "tuning_final_splitter = TimeRangeSplitter(\n",
    "    test_size=\"7D\",\n",
    "    n_splits=1,\n",
    "    filter_already_seen=True,\n",
    "    filter_cold_items=True,\n",
    "    filter_cold_users=False\n",
    ")"
   ]
  },
  {
   "cell_type": "code",
   "execution_count": 72,
   "id": "346ef61c-0238-420c-b5a9-39ecc61ae2be",
   "metadata": {},
   "outputs": [
    {
     "name": "stdout",
     "output_type": "stream",
     "text": [
      "\n",
      "==================== Fold 0\n",
      "176549\n"
     ]
    },
    {
     "data": {
      "application/vnd.jupyter.widget-view+json": {
       "model_id": "d7dda58c15854cdcb308598df08aac5e",
       "version_major": 2,
       "version_minor": 0
      },
      "text/plain": [
       "  0%|          | 0/906071 [00:00<?, ?it/s]"
      ]
     },
     "metadata": {},
     "output_type": "display_data"
    }
   ],
   "source": [
    "fold_iterator = tuning_final_splitter.split(tuning_final_interactions, collect_fold_stats=True)\n",
    "\n",
    "tuning_final_results = []\n",
    "\n",
    "for i_fold, (train_ids, test_ids, fold_info) in enumerate(fold_iterator):\n",
    "    print(f\"\\n==================== Fold {i_fold}\")\n",
    "    df_train = tuning_final_interactions.df.iloc[train_ids].copy()\n",
    "    df_test = tuning_final_interactions.df.iloc[test_ids][Columns.UserItem].copy()\n",
    "    test_users = df_test[Columns.User].unique()\n",
    "    catalog = df_train[Columns.Item].unique()\n",
    "    \n",
    "    for model_name, model in tuning_final_models.items():\n",
    "        model.fit(df_train)\n",
    "    \n",
    "        recos = model.recommend(test_users, k=K_RECOMMENDATIONS)\n",
    "    \n",
    "        metric_values = calc_metrics(\n",
    "            tuning_final_metrics,\n",
    "            reco=recos,\n",
    "            interactions=df_test,\n",
    "            prev_interactions=df_train,\n",
    "            catalog=catalog,\n",
    "        )\n",
    "    \n",
    "        fold = {\"fold\": i_fold, \"model\": model_name}\n",
    "        fold.update(metric_values)\n",
    "        tuning_final_results.append(fold)"
   ]
  },
  {
   "cell_type": "code",
   "execution_count": 74,
   "id": "29df1529-216c-4e8b-8757-cc76d72b702e",
   "metadata": {},
   "outputs": [],
   "source": [
    "tuning_final_report_df = pd.DataFrame(tuning_final_results)"
   ]
  },
  {
   "cell_type": "code",
   "execution_count": 75,
   "id": "8abae35f-89a2-4487-a253-f54820aa07dd",
   "metadata": {},
   "outputs": [
    {
     "data": {
      "text/html": [
       "<div>\n",
       "<style scoped>\n",
       "    .dataframe tbody tr th:only-of-type {\n",
       "        vertical-align: middle;\n",
       "    }\n",
       "\n",
       "    .dataframe tbody tr th {\n",
       "        vertical-align: top;\n",
       "    }\n",
       "\n",
       "    .dataframe thead th {\n",
       "        text-align: right;\n",
       "    }\n",
       "</style>\n",
       "<table border=\"1\" class=\"dataframe\">\n",
       "  <thead>\n",
       "    <tr style=\"text-align: right;\">\n",
       "      <th></th>\n",
       "      <th>fold</th>\n",
       "      <th>model</th>\n",
       "      <th>map@10</th>\n",
       "      <th>serendipity</th>\n",
       "    </tr>\n",
       "  </thead>\n",
       "  <tbody>\n",
       "    <tr>\n",
       "      <th>0</th>\n",
       "      <td>0</td>\n",
       "      <td>user_knn</td>\n",
       "      <td>0.078371</td>\n",
       "      <td>0.000043</td>\n",
       "    </tr>\n",
       "  </tbody>\n",
       "</table>\n",
       "</div>"
      ],
      "text/plain": [
       "   fold     model    map@10  serendipity\n",
       "0     0  user_knn  0.078371     0.000043"
      ]
     },
     "execution_count": 75,
     "metadata": {},
     "output_type": "execute_result"
    }
   ],
   "source": [
    "tuning_final_report_df"
   ]
  },
  {
   "cell_type": "markdown",
   "id": "d0a820b2-98a8-4214-ba41-5a457de18e76",
   "metadata": {},
   "source": [
    "## Обучение модели для сервиса и сохранение"
   ]
  },
  {
   "cell_type": "markdown",
   "id": "41e0cbc8-58b8-4432-b625-f134bdb979f5",
   "metadata": {},
   "source": [
    "__Обучим модель с финальными параметрами и сохраним её артефакты для использования в сервисе__"
   ]
  },
  {
   "cell_type": "code",
   "execution_count": 475,
   "id": "c198c8c0-6aeb-4ddc-86d5-95f205f29577",
   "metadata": {},
   "outputs": [
    {
     "name": "stdout",
     "output_type": "stream",
     "text": [
      "176549\n"
     ]
    },
    {
     "data": {
      "application/vnd.jupyter.widget-view+json": {
       "model_id": "58817b94be8d4dc9b9657a38dc25d346",
       "version_major": 2,
       "version_minor": 0
      },
      "text/plain": [
       "  0%|          | 0/962179 [00:00<?, ?it/s]"
      ]
     },
     "metadata": {},
     "output_type": "display_data"
    }
   ],
   "source": [
    "model = UserKnn(model=TFIDFRecommender(20), n_similar_users=20)\n",
    "model.fit(interactions_df)"
   ]
  },
  {
   "cell_type": "code",
   "execution_count": 476,
   "id": "74d4e274-b01c-4a0d-a752-8e116c985f8d",
   "metadata": {},
   "outputs": [],
   "source": [
    "model.model.save(\"user_knn.npz\")"
   ]
  },
  {
   "cell_type": "code",
   "execution_count": 477,
   "id": "85f53551-4724-451f-af71-5e397aedf41d",
   "metadata": {},
   "outputs": [],
   "source": [
    "user_item_matrix  = model._get_item_user_matrix(df_train)\n",
    "sparse.save_npz(\"matrix_for_user_knn.npz\", user_item_matrix)"
   ]
  },
  {
   "cell_type": "code",
   "execution_count": 478,
   "id": "9b66a9f1-2e45-432c-b866-c5f28c83c470",
   "metadata": {},
   "outputs": [],
   "source": [
    "# from external to internal user_id\n",
    "users_mapping = {int(k): int(v) for (k, v) in model.users_mapping.items()}\n",
    "with open(\"users_mapping.json\", \"w\") as f:\n",
    "    json.dump(users_mapping, f)"
   ]
  },
  {
   "cell_type": "code",
   "execution_count": 479,
   "id": "9aa6d657-c367-4aca-98ea-4b1b2646e378",
   "metadata": {},
   "outputs": [],
   "source": [
    "# from internal to external item_id\n",
    "items_inv_mapping = {int(k): int(v) for (k, v) in model.items_inv_mapping.items()}\n",
    "with open(\"items_inv_mapping.json\", \"w\") as f:\n",
    "    json.dump(items_inv_mapping, f)"
   ]
  },
  {
   "cell_type": "code",
   "execution_count": 480,
   "id": "a6cd12d8-89a5-4da4-9cd9-18f1f604d2fd",
   "metadata": {},
   "outputs": [],
   "source": [
    "top_items = [int(item_id) for item_id in model.top_items]\n",
    "with open(\"top_items.json\", \"w\") as f:\n",
    "    json.dump({\"items\": top_items}, f)"
   ]
  },
  {
   "cell_type": "code",
   "execution_count": 481,
   "id": "bd072da9-ef6e-4b17-aa65-28b5af51c0fd",
   "metadata": {},
   "outputs": [],
   "source": [
    "item_idfs = [float(v) for v in model.item_idf.idf.values]\n",
    "with open(\"item_idfs.json\", \"w\") as f:\n",
    "    json.dump({\"items\": item_idfs}, f)"
   ]
  }
 ],
 "metadata": {
  "kernelspec": {
   "display_name": "Python 3 (ipykernel)",
   "language": "python",
   "name": "python3"
  },
  "language_info": {
   "codemirror_mode": {
    "name": "ipython",
    "version": 3
   },
   "file_extension": ".py",
   "mimetype": "text/x-python",
   "name": "python",
   "nbconvert_exporter": "python",
   "pygments_lexer": "ipython3",
   "version": "3.10.0"
  }
 },
 "nbformat": 4,
 "nbformat_minor": 5
}
