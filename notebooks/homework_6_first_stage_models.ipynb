{
 "cells": [
  {
   "cell_type": "markdown",
   "id": "67b6d477-5929-45dd-a6d0-da86636bd688",
   "metadata": {},
   "source": [
    "## Импорт библиотек и константы"
   ]
  },
  {
   "cell_type": "code",
   "execution_count": 1,
   "id": "5467cf41-7177-4d21-a65a-b49327514fbb",
   "metadata": {},
   "outputs": [],
   "source": [
    "import warnings\n",
    "warnings.filterwarnings('ignore')"
   ]
  },
  {
   "cell_type": "code",
   "execution_count": 2,
   "id": "b903d3b7-831a-4b3f-b6cb-59607075da8d",
   "metadata": {},
   "outputs": [],
   "source": [
    "import json\n",
    "import pandas as pd\n",
    "import numpy as np\n",
    "import optuna\n",
    "from datetime import timedelta\n",
    "from tqdm.auto import tqdm\n",
    "from lightfm import LightFM\n",
    "from implicit.nearest_neighbours import TFIDFRecommender, BM25Recommender, CosineRecommender\n",
    "from rectools import Columns\n",
    "from rectools.dataset import Dataset, Interactions\n",
    "from rectools.model_selection import TimeRangeSplitter\n",
    "from rectools.models import PopularModel, LightFMWrapperModel,ImplicitItemKNNWrapperModel\n",
    "from rectools.metrics import MAP, NDCG, Recall, Serendipity, calc_metrics"
   ]
  },
  {
   "cell_type": "code",
   "execution_count": 3,
   "id": "0eb3f4ed-eaf1-4de0-a79d-4c74aa7090f6",
   "metadata": {},
   "outputs": [],
   "source": [
    "K_RECOMMENDATIONS = 50\n",
    "RANDOM_STATE = 0\n",
    "NUM_LOGICAL_PROCESSORS = 10"
   ]
  },
  {
   "cell_type": "markdown",
   "id": "e221173b-5676-4b4b-930a-627115cd4c8c",
   "metadata": {},
   "source": [
    "## Загрузка данных"
   ]
  },
  {
   "cell_type": "code",
   "execution_count": 4,
   "id": "f557f01b-0efe-430c-99d9-e19170eaf410",
   "metadata": {},
   "outputs": [],
   "source": [
    "interactions_df = pd.read_csv(\"new_data/base_models_data.csv\")"
   ]
  },
  {
   "cell_type": "code",
   "execution_count": 5,
   "id": "eb3cb83d-b494-4ca3-88e5-54b2587fe61e",
   "metadata": {},
   "outputs": [],
   "source": [
    "test_df = pd.read_csv(\"new_data/ranker_test_data.csv\")"
   ]
  },
  {
   "cell_type": "code",
   "execution_count": 6,
   "id": "84d45eec-ef42-4dd9-a24e-b277541f8677",
   "metadata": {},
   "outputs": [],
   "source": [
    "test_users = test_df[Columns.User].values"
   ]
  },
  {
   "cell_type": "code",
   "execution_count": 7,
   "id": "6a7b861d-a32f-4aeb-a770-574febff94cc",
   "metadata": {},
   "outputs": [],
   "source": [
    "test_without_cold_users = list(set(test_df[Columns.User].values).intersection(set(interactions_df[Columns.User].values)))"
   ]
  },
  {
   "cell_type": "markdown",
   "id": "5efdf6f8-5259-48bd-92bc-388343068e3d",
   "metadata": {},
   "source": [
    "## Подготовка датасета и метрик"
   ]
  },
  {
   "cell_type": "code",
   "execution_count": 8,
   "id": "50a77fcb-c420-4648-b80b-e0a64bf9deaa",
   "metadata": {},
   "outputs": [],
   "source": [
    "dataset = Dataset.construct(interactions_df)"
   ]
  },
  {
   "cell_type": "code",
   "execution_count": 9,
   "id": "f4a90108-b90d-4289-a044-f866f6edbf73",
   "metadata": {},
   "outputs": [],
   "source": [
    "interactions = Interactions(interactions_df)"
   ]
  },
  {
   "cell_type": "code",
   "execution_count": 10,
   "id": "d9932fcb-9bfa-4ab3-bc39-79f229f59c93",
   "metadata": {},
   "outputs": [],
   "source": [
    "splitter = TimeRangeSplitter(\n",
    "    test_size=\"14D\",\n",
    "    n_splits=1,\n",
    "    filter_already_seen=True,\n",
    "    filter_cold_items=True,\n",
    "    filter_cold_users=True\n",
    ")"
   ]
  },
  {
   "cell_type": "code",
   "execution_count": 11,
   "id": "0834016b-47e0-4668-aed9-61d8f8d49f0f",
   "metadata": {},
   "outputs": [],
   "source": [
    "metrics = {\n",
    "    'ndcg@10': NDCG(k = 10),\n",
    "    'map@10': MAP(k = 10),\n",
    "    'recall@10': Recall(k = 10),\n",
    "    'serendipity@10': Serendipity(k=10)\n",
    "}"
   ]
  },
  {
   "cell_type": "code",
   "execution_count": 12,
   "id": "96477c85-894a-4517-9695-c334658c4bd5",
   "metadata": {},
   "outputs": [],
   "source": [
    "models_results_df = pd.DataFrame(index=list(metrics.keys()))"
   ]
  },
  {
   "cell_type": "code",
   "execution_count": 13,
   "id": "a47628e3-44dc-4da3-8f06-9bcdc8c6d4df",
   "metadata": {},
   "outputs": [],
   "source": [
    "def train_and_calculate_score(model, interactions, splitter, metrics, head_metric=\"map@10\"):\n",
    "    fold_iterator = splitter.split(interactions, collect_fold_stats=True)\n",
    "    \n",
    "    for i_fold, (train_ids, test_ids, fold_info) in enumerate(fold_iterator):\n",
    "        df_train = interactions.df.iloc[train_ids].copy()\n",
    "        df_test = interactions.df.iloc[test_ids].copy()\n",
    "        test_users = df_test[Columns.User].unique()\n",
    "        catalog = df_train[Columns.Item].unique()\n",
    "        \n",
    "        dataset = Dataset.construct(df_train)\n",
    "        model.fit(dataset)\n",
    "        recos = model.recommend(test_users, dataset, k=K_RECOMMENDATIONS, filter_viewed=True)\n",
    "        metric_values = calc_metrics(\n",
    "            metrics,\n",
    "            reco=recos,\n",
    "            interactions=df_test,\n",
    "            prev_interactions=df_train,\n",
    "            catalog=catalog,\n",
    "        )\n",
    "        \n",
    "    return metric_values[head_metric]"
   ]
  },
  {
   "cell_type": "markdown",
   "id": "3d319291-eaca-4051-8fdb-0e28d3404505",
   "metadata": {},
   "source": [
    "## Обучение LightFM"
   ]
  },
  {
   "cell_type": "code",
   "execution_count": 14,
   "id": "1133e70a-69d7-4e36-8172-3a2b7d848212",
   "metadata": {},
   "outputs": [],
   "source": [
    "LIGHTFM_K_RECOMMENDATIONS = 100\n",
    "LIGHTFM_N_TRIALS = 40"
   ]
  },
  {
   "cell_type": "code",
   "execution_count": 15,
   "id": "5227e14f-2097-4360-aca2-cd494efe4d4b",
   "metadata": {},
   "outputs": [],
   "source": [
    "def lightfm_objective(trial: optuna.Trial):\n",
    "    global interactions, splitter, metrics\n",
    "\n",
    "    loss = trial.suggest_categorical(\"loss\", ['bpr', 'warp'])\n",
    "    no_components = trial.suggest_categorical(\"no_components\", [100, 128, 256, 512])\n",
    "    learning_rate = trial.suggest_categorical(\"learning_rate\", [1e-2, 5e-2, 1e-1])\n",
    "    epochs = trial.suggest_categorical(\"epochs\", [3, 6, 9, 12])\n",
    "    learning_schedule = trial.suggest_categorical(\"learning_schedule\", ['adagrad', 'adadelta'])\n",
    "    max_sampled = trial.suggest_categorical(\"max_sampled\", [5, 10, 20, 40])\n",
    "    \n",
    "    lightfm_model = LightFMWrapperModel(\n",
    "        model=LightFM(\n",
    "            no_components=no_components,\n",
    "            loss=loss,\n",
    "            learning_rate=learning_rate,\n",
    "            learning_schedule=learning_schedule,\n",
    "            max_sampled=max_sampled,\n",
    "            random_state=RANDOM_STATE,\n",
    "        ),\n",
    "        num_threads=NUM_LOGICAL_PROCESSORS,\n",
    "        epochs=epochs,\n",
    "        verbose=False\n",
    "    )\n",
    "    \n",
    "    score = train_and_calculate_score(lightfm_model, interactions, splitter, metrics)\n",
    "    return score"
   ]
  },
  {
   "cell_type": "code",
   "execution_count": 16,
   "id": "e56a8cd3-2fd1-4b69-b222-9fe029fb8951",
   "metadata": {},
   "outputs": [
    {
     "name": "stderr",
     "output_type": "stream",
     "text": [
      "[I 2023-12-27 08:15:16,080] A new study created in memory with name: LightFM\n",
      "[I 2023-12-27 08:16:13,498] Trial 0 finished with value: 9.082256573297112e-05 and parameters: {'loss': 'bpr', 'no_components': 512, 'learning_rate': 0.1, 'epochs': 6, 'learning_schedule': 'adagrad', 'max_sampled': 20}. Best is trial 0 with value: 9.082256573297112e-05.\n",
      "[I 2023-12-27 08:17:28,312] Trial 1 finished with value: 0.12028451260820126 and parameters: {'loss': 'warp', 'no_components': 512, 'learning_rate': 0.01, 'epochs': 12, 'learning_schedule': 'adadelta', 'max_sampled': 10}. Best is trial 1 with value: 0.12028451260820126.\n",
      "[I 2023-12-27 08:18:53,509] Trial 2 finished with value: 0.027582407980469358 and parameters: {'loss': 'bpr', 'no_components': 512, 'learning_rate': 0.01, 'epochs': 12, 'learning_schedule': 'adagrad', 'max_sampled': 5}. Best is trial 1 with value: 0.12028451260820126.\n",
      "[I 2023-12-27 08:19:57,474] Trial 3 finished with value: 0.12360985289323544 and parameters: {'loss': 'warp', 'no_components': 256, 'learning_rate': 0.1, 'epochs': 12, 'learning_schedule': 'adadelta', 'max_sampled': 20}. Best is trial 3 with value: 0.12360985289323544.\n",
      "[I 2023-12-27 08:20:27,461] Trial 4 finished with value: 0.13355632216924496 and parameters: {'loss': 'warp', 'no_components': 100, 'learning_rate': 0.05, 'epochs': 3, 'learning_schedule': 'adadelta', 'max_sampled': 20}. Best is trial 4 with value: 0.13355632216924496.\n",
      "[I 2023-12-27 08:21:32,899] Trial 5 finished with value: 0.015523043349887406 and parameters: {'loss': 'bpr', 'no_components': 512, 'learning_rate': 0.05, 'epochs': 6, 'learning_schedule': 'adadelta', 'max_sampled': 10}. Best is trial 4 with value: 0.13355632216924496.\n",
      "[I 2023-12-27 08:22:44,557] Trial 6 finished with value: 0.030307182551693214 and parameters: {'loss': 'bpr', 'no_components': 512, 'learning_rate': 0.01, 'epochs': 9, 'learning_schedule': 'adagrad', 'max_sampled': 5}. Best is trial 4 with value: 0.13355632216924496.\n",
      "[I 2023-12-27 08:23:24,943] Trial 7 finished with value: 0.1046015801551181 and parameters: {'loss': 'warp', 'no_components': 128, 'learning_rate': 0.1, 'epochs': 9, 'learning_schedule': 'adagrad', 'max_sampled': 20}. Best is trial 4 with value: 0.13355632216924496.\n",
      "[I 2023-12-27 08:23:57,805] Trial 8 finished with value: 0.055568103501871635 and parameters: {'loss': 'bpr', 'no_components': 100, 'learning_rate': 0.01, 'epochs': 6, 'learning_schedule': 'adagrad', 'max_sampled': 40}. Best is trial 4 with value: 0.13355632216924496.\n",
      "[I 2023-12-27 08:24:55,910] Trial 9 finished with value: 0.03240199980624967 and parameters: {'loss': 'bpr', 'no_components': 256, 'learning_rate': 0.01, 'epochs': 12, 'learning_schedule': 'adagrad', 'max_sampled': 20}. Best is trial 4 with value: 0.13355632216924496.\n",
      "[I 2023-12-27 08:25:25,846] Trial 10 finished with value: 0.1302368224567292 and parameters: {'loss': 'warp', 'no_components': 100, 'learning_rate': 0.05, 'epochs': 3, 'learning_schedule': 'adadelta', 'max_sampled': 40}. Best is trial 4 with value: 0.13355632216924496.\n",
      "[I 2023-12-27 08:25:55,953] Trial 11 finished with value: 0.12828831526944423 and parameters: {'loss': 'warp', 'no_components': 100, 'learning_rate': 0.05, 'epochs': 3, 'learning_schedule': 'adadelta', 'max_sampled': 40}. Best is trial 4 with value: 0.13355632216924496.\n",
      "[I 2023-12-27 08:26:26,515] Trial 12 finished with value: 0.13020988802472608 and parameters: {'loss': 'warp', 'no_components': 100, 'learning_rate': 0.05, 'epochs': 3, 'learning_schedule': 'adadelta', 'max_sampled': 40}. Best is trial 4 with value: 0.13355632216924496.\n",
      "[I 2023-12-27 08:26:57,385] Trial 13 finished with value: 0.12873745439939974 and parameters: {'loss': 'warp', 'no_components': 100, 'learning_rate': 0.05, 'epochs': 3, 'learning_schedule': 'adadelta', 'max_sampled': 40}. Best is trial 4 with value: 0.13355632216924496.\n",
      "[I 2023-12-27 08:27:26,436] Trial 14 finished with value: 0.13037027364953654 and parameters: {'loss': 'warp', 'no_components': 100, 'learning_rate': 0.05, 'epochs': 3, 'learning_schedule': 'adadelta', 'max_sampled': 20}. Best is trial 4 with value: 0.13355632216924496.\n",
      "[I 2023-12-27 08:27:56,897] Trial 15 finished with value: 0.12456126128624777 and parameters: {'loss': 'warp', 'no_components': 128, 'learning_rate': 0.05, 'epochs': 3, 'learning_schedule': 'adadelta', 'max_sampled': 20}. Best is trial 4 with value: 0.13355632216924496.\n",
      "[I 2023-12-27 08:28:25,399] Trial 16 finished with value: 0.13131509156103677 and parameters: {'loss': 'warp', 'no_components': 100, 'learning_rate': 0.05, 'epochs': 3, 'learning_schedule': 'adadelta', 'max_sampled': 20}. Best is trial 4 with value: 0.13355632216924496.\n",
      "[I 2023-12-27 08:28:54,131] Trial 17 finished with value: 0.1303578471974771 and parameters: {'loss': 'warp', 'no_components': 100, 'learning_rate': 0.05, 'epochs': 3, 'learning_schedule': 'adadelta', 'max_sampled': 20}. Best is trial 4 with value: 0.13355632216924496.\n",
      "[I 2023-12-27 08:29:23,231] Trial 18 finished with value: 0.1315916672001341 and parameters: {'loss': 'warp', 'no_components': 100, 'learning_rate': 0.05, 'epochs': 3, 'learning_schedule': 'adadelta', 'max_sampled': 20}. Best is trial 4 with value: 0.13355632216924496.\n",
      "[I 2023-12-27 08:30:00,357] Trial 19 finished with value: 0.12074536714974135 and parameters: {'loss': 'warp', 'no_components': 128, 'learning_rate': 0.05, 'epochs': 9, 'learning_schedule': 'adadelta', 'max_sampled': 10}. Best is trial 4 with value: 0.13355632216924496.\n",
      "[I 2023-12-27 08:30:32,168] Trial 20 finished with value: 0.12836746860682696 and parameters: {'loss': 'warp', 'no_components': 256, 'learning_rate': 0.1, 'epochs': 3, 'learning_schedule': 'adadelta', 'max_sampled': 5}. Best is trial 4 with value: 0.13355632216924496.\n",
      "[I 2023-12-27 08:31:01,409] Trial 21 finished with value: 0.12715616430357538 and parameters: {'loss': 'warp', 'no_components': 100, 'learning_rate': 0.05, 'epochs': 3, 'learning_schedule': 'adadelta', 'max_sampled': 20}. Best is trial 4 with value: 0.13355632216924496.\n",
      "[I 2023-12-27 08:31:30,856] Trial 22 finished with value: 0.1334031192484845 and parameters: {'loss': 'warp', 'no_components': 100, 'learning_rate': 0.05, 'epochs': 3, 'learning_schedule': 'adadelta', 'max_sampled': 20}. Best is trial 4 with value: 0.13355632216924496.\n",
      "[I 2023-12-27 08:31:59,615] Trial 23 finished with value: 0.13385995247162225 and parameters: {'loss': 'warp', 'no_components': 100, 'learning_rate': 0.05, 'epochs': 3, 'learning_schedule': 'adadelta', 'max_sampled': 20}. Best is trial 23 with value: 0.13385995247162225.\n",
      "[I 2023-12-27 08:32:29,029] Trial 24 finished with value: 0.13440982081449296 and parameters: {'loss': 'warp', 'no_components': 100, 'learning_rate': 0.05, 'epochs': 3, 'learning_schedule': 'adadelta', 'max_sampled': 20}. Best is trial 24 with value: 0.13440982081449296.\n",
      "[I 2023-12-27 08:32:58,410] Trial 25 finished with value: 0.13064945481264723 and parameters: {'loss': 'warp', 'no_components': 100, 'learning_rate': 0.05, 'epochs': 3, 'learning_schedule': 'adadelta', 'max_sampled': 20}. Best is trial 24 with value: 0.13440982081449296.\n",
      "[I 2023-12-27 08:33:27,379] Trial 26 finished with value: 0.13236065977940992 and parameters: {'loss': 'warp', 'no_components': 100, 'learning_rate': 0.05, 'epochs': 3, 'learning_schedule': 'adadelta', 'max_sampled': 20}. Best is trial 24 with value: 0.13440982081449296.\n",
      "[I 2023-12-27 08:34:06,444] Trial 27 finished with value: 0.12361154579417667 and parameters: {'loss': 'warp', 'no_components': 100, 'learning_rate': 0.05, 'epochs': 9, 'learning_schedule': 'adadelta', 'max_sampled': 20}. Best is trial 24 with value: 0.13440982081449296.\n",
      "[I 2023-12-27 08:34:44,627] Trial 28 finished with value: 0.1351361372836273 and parameters: {'loss': 'warp', 'no_components': 256, 'learning_rate': 0.05, 'epochs': 6, 'learning_schedule': 'adadelta', 'max_sampled': 5}. Best is trial 28 with value: 0.1351361372836273.\n",
      "[I 2023-12-27 08:35:27,731] Trial 29 finished with value: 0.0001375975688035927 and parameters: {'loss': 'bpr', 'no_components': 256, 'learning_rate': 0.1, 'epochs': 6, 'learning_schedule': 'adagrad', 'max_sampled': 5}. Best is trial 28 with value: 0.1351361372836273.\n",
      "[I 2023-12-27 08:36:04,632] Trial 30 finished with value: 0.1367656917270343 and parameters: {'loss': 'warp', 'no_components': 256, 'learning_rate': 0.1, 'epochs': 6, 'learning_schedule': 'adadelta', 'max_sampled': 5}. Best is trial 30 with value: 0.1367656917270343.\n",
      "[I 2023-12-27 08:36:42,361] Trial 31 finished with value: 0.13541545057085128 and parameters: {'loss': 'warp', 'no_components': 256, 'learning_rate': 0.1, 'epochs': 6, 'learning_schedule': 'adadelta', 'max_sampled': 5}. Best is trial 30 with value: 0.1367656917270343.\n",
      "[I 2023-12-27 08:37:19,576] Trial 32 finished with value: 0.1351981077244273 and parameters: {'loss': 'warp', 'no_components': 256, 'learning_rate': 0.1, 'epochs': 6, 'learning_schedule': 'adadelta', 'max_sampled': 5}. Best is trial 30 with value: 0.1367656917270343.\n",
      "[I 2023-12-27 08:37:56,693] Trial 33 finished with value: 0.1347899624538057 and parameters: {'loss': 'warp', 'no_components': 256, 'learning_rate': 0.1, 'epochs': 6, 'learning_schedule': 'adadelta', 'max_sampled': 5}. Best is trial 30 with value: 0.1367656917270343.\n",
      "[I 2023-12-27 08:38:34,016] Trial 34 finished with value: 0.132766394910936 and parameters: {'loss': 'warp', 'no_components': 256, 'learning_rate': 0.1, 'epochs': 6, 'learning_schedule': 'adadelta', 'max_sampled': 5}. Best is trial 30 with value: 0.1367656917270343.\n",
      "[I 2023-12-27 08:39:10,900] Trial 35 finished with value: 0.13649385167595562 and parameters: {'loss': 'warp', 'no_components': 256, 'learning_rate': 0.1, 'epochs': 6, 'learning_schedule': 'adadelta', 'max_sampled': 5}. Best is trial 30 with value: 0.1367656917270343.\n",
      "[I 2023-12-27 08:39:57,033] Trial 36 finished with value: 0.017132024225050585 and parameters: {'loss': 'bpr', 'no_components': 256, 'learning_rate': 0.1, 'epochs': 6, 'learning_schedule': 'adadelta', 'max_sampled': 5}. Best is trial 30 with value: 0.1367656917270343.\n",
      "[I 2023-12-27 08:40:31,755] Trial 37 finished with value: 0.10879536598558064 and parameters: {'loss': 'warp', 'no_components': 256, 'learning_rate': 0.1, 'epochs': 6, 'learning_schedule': 'adagrad', 'max_sampled': 5}. Best is trial 30 with value: 0.1367656917270343.\n",
      "[I 2023-12-27 08:41:10,690] Trial 38 finished with value: 0.13585023154345097 and parameters: {'loss': 'warp', 'no_components': 256, 'learning_rate': 0.1, 'epochs': 6, 'learning_schedule': 'adadelta', 'max_sampled': 5}. Best is trial 30 with value: 0.1367656917270343.\n",
      "[I 2023-12-27 08:41:53,443] Trial 39 finished with value: 0.0001600038547871638 and parameters: {'loss': 'bpr', 'no_components': 256, 'learning_rate': 0.1, 'epochs': 6, 'learning_schedule': 'adagrad', 'max_sampled': 5}. Best is trial 30 with value: 0.1367656917270343.\n"
     ]
    }
   ],
   "source": [
    "lightfm_study = optuna.create_study(direction=\"maximize\", study_name=\"LightFM\", sampler=optuna.samplers.TPESampler(), pruner=optuna.pruners.NopPruner())\n",
    "lightfm_study.optimize(lightfm_objective, n_trials=LIGHTFM_N_TRIALS) "
   ]
  },
  {
   "cell_type": "code",
   "execution_count": 17,
   "id": "af4c710a-7dee-444b-a2a3-764d4eb584ab",
   "metadata": {},
   "outputs": [
    {
     "name": "stdout",
     "output_type": "stream",
     "text": [
      "Параметры лучшей модели:  {'loss': 'warp', 'no_components': 256, 'learning_rate': 0.1, 'epochs': 6, 'learning_schedule': 'adadelta', 'max_sampled': 5}\n",
      "MAP@10 лучшей модели:  0.1367656917270343\n"
     ]
    }
   ],
   "source": [
    "print(\"Параметры лучшей модели: \", lightfm_study.best_params)\n",
    "print(\"MAP@10 лучшей модели: \", lightfm_study.best_value)"
   ]
  },
  {
   "cell_type": "code",
   "execution_count": 18,
   "id": "e2911008-c06f-4d15-9cf0-2076e3935823",
   "metadata": {},
   "outputs": [
    {
     "data": {
      "text/plain": [
       "<rectools.models.lightfm.LightFMWrapperModel at 0x7f1440c839a0>"
      ]
     },
     "execution_count": 18,
     "metadata": {},
     "output_type": "execute_result"
    }
   ],
   "source": [
    "best_lightfm_params = lightfm_study.best_params.copy()\n",
    "epochs = best_lightfm_params[\"epochs\"]\n",
    "del best_lightfm_params[\"epochs\"]\n",
    "best_lightfm_model = LightFMWrapperModel(\n",
    "    model=LightFM(**best_lightfm_params),\n",
    "    num_threads=NUM_LOGICAL_PROCESSORS,\n",
    "    epochs=epochs,\n",
    "    verbose=False\n",
    ")\n",
    "best_lightfm_model.fit(dataset)"
   ]
  },
  {
   "cell_type": "code",
   "execution_count": 19,
   "id": "94b60cf9-f284-46d3-8a64-52cd62d7d3c2",
   "metadata": {},
   "outputs": [],
   "source": [
    "lightfm_reco_df = best_lightfm_model.recommend(test_without_cold_users, dataset, k=LIGHTFM_K_RECOMMENDATIONS, filter_viewed=True)"
   ]
  },
  {
   "cell_type": "code",
   "execution_count": 20,
   "id": "9f7e5444-66fa-42f2-b1fa-b21532966796",
   "metadata": {},
   "outputs": [
    {
     "data": {
      "text/html": [
       "<div>\n",
       "<style scoped>\n",
       "    .dataframe tbody tr th:only-of-type {\n",
       "        vertical-align: middle;\n",
       "    }\n",
       "\n",
       "    .dataframe tbody tr th {\n",
       "        vertical-align: top;\n",
       "    }\n",
       "\n",
       "    .dataframe thead th {\n",
       "        text-align: right;\n",
       "    }\n",
       "</style>\n",
       "<table border=\"1\" class=\"dataframe\">\n",
       "  <thead>\n",
       "    <tr style=\"text-align: right;\">\n",
       "      <th></th>\n",
       "      <th>user_id</th>\n",
       "      <th>item_id</th>\n",
       "      <th>score</th>\n",
       "      <th>rank</th>\n",
       "    </tr>\n",
       "  </thead>\n",
       "  <tbody>\n",
       "    <tr>\n",
       "      <th>0</th>\n",
       "      <td>262147</td>\n",
       "      <td>15297</td>\n",
       "      <td>3.274814</td>\n",
       "      <td>1</td>\n",
       "    </tr>\n",
       "    <tr>\n",
       "      <th>1</th>\n",
       "      <td>262147</td>\n",
       "      <td>10440</td>\n",
       "      <td>3.196383</td>\n",
       "      <td>2</td>\n",
       "    </tr>\n",
       "    <tr>\n",
       "      <th>2</th>\n",
       "      <td>262147</td>\n",
       "      <td>13865</td>\n",
       "      <td>3.142883</td>\n",
       "      <td>3</td>\n",
       "    </tr>\n",
       "    <tr>\n",
       "      <th>3</th>\n",
       "      <td>262147</td>\n",
       "      <td>3734</td>\n",
       "      <td>2.921471</td>\n",
       "      <td>4</td>\n",
       "    </tr>\n",
       "    <tr>\n",
       "      <th>4</th>\n",
       "      <td>262147</td>\n",
       "      <td>9728</td>\n",
       "      <td>2.902673</td>\n",
       "      <td>5</td>\n",
       "    </tr>\n",
       "  </tbody>\n",
       "</table>\n",
       "</div>"
      ],
      "text/plain": [
       "   user_id  item_id     score  rank\n",
       "0   262147    15297  3.274814     1\n",
       "1   262147    10440  3.196383     2\n",
       "2   262147    13865  3.142883     3\n",
       "3   262147     3734  2.921471     4\n",
       "4   262147     9728  2.902673     5"
      ]
     },
     "execution_count": 20,
     "metadata": {},
     "output_type": "execute_result"
    }
   ],
   "source": [
    "lightfm_reco_df.head()"
   ]
  },
  {
   "cell_type": "code",
   "execution_count": 21,
   "id": "12ef7d46-7e0e-4536-b318-52c0ca37a849",
   "metadata": {},
   "outputs": [],
   "source": [
    "lightfm_metrics = calc_metrics(\n",
    "    metrics=metrics,\n",
    "    reco=lightfm_reco_df,\n",
    "    interactions=test_df, \n",
    "    prev_interactions=interactions_df,\n",
    "    catalog=test_df['item_id'].unique()\n",
    ")\n",
    "models_results_df[\"LightFM\"] = [lightfm_metrics[metric] for metric in models_results_df.index]"
   ]
  },
  {
   "cell_type": "code",
   "execution_count": 22,
   "id": "da9b13bc-fc40-4c3a-9bfe-691f80606b23",
   "metadata": {},
   "outputs": [],
   "source": [
    "del lightfm_reco_df"
   ]
  },
  {
   "cell_type": "markdown",
   "id": "5b2925ad-b477-4763-985b-f51fb0070a57",
   "metadata": {},
   "source": [
    "## Обучение UserKNN"
   ]
  },
  {
   "cell_type": "code",
   "execution_count": 23,
   "id": "02d0bb48-7253-4857-9e37-4fe596814a52",
   "metadata": {},
   "outputs": [],
   "source": [
    "USERKNN_K_RECOMMENDATIONS = 100\n",
    "USERKNN_N_TRIALS = 10"
   ]
  },
  {
   "cell_type": "code",
   "execution_count": 24,
   "id": "c1631a6a-50fd-4e18-984f-11e7bee2db8d",
   "metadata": {},
   "outputs": [],
   "source": [
    "def userknn_objective(trial: optuna.Trial):\n",
    "    global interactions, splitter, metrics\n",
    "\n",
    "    recommender_type = trial.suggest_categorical(\"type\", ['cosine', 'bm25', 'tfidf'])\n",
    "    if recommender_type == 'cosine':\n",
    "        recommender = CosineRecommender(\n",
    "            K=USERKNN_K_RECOMMENDATIONS,\n",
    "            num_threads=NUM_LOGICAL_PROCESSORS,\n",
    "        )\n",
    "    elif recommender_type == 'bm25':\n",
    "        k1 = trial.suggest_categorical(\"k1\", [0.8, 1.2, 1.5])\n",
    "        b = trial.suggest_categorical(\"b\", [0.3, 0.7, 1])\n",
    "        recommender = BM25Recommender(\n",
    "            K=USERKNN_K_RECOMMENDATIONS,\n",
    "            num_threads=NUM_LOGICAL_PROCESSORS,\n",
    "            K1=k1, \n",
    "            B=b\n",
    "        )\n",
    "    else:\n",
    "        recommender = TFIDFRecommender(\n",
    "            K=USERKNN_K_RECOMMENDATIONS,\n",
    "            num_threads=NUM_LOGICAL_PROCESSORS,\n",
    "        )\n",
    "    \n",
    "    userknn_model = ImplicitItemKNNWrapperModel(\n",
    "        recommender,\n",
    "        verbose=False\n",
    "    )          \n",
    "    score = train_and_calculate_score(userknn_model, interactions, splitter, metrics)\n",
    "    return score"
   ]
  },
  {
   "cell_type": "code",
   "execution_count": 25,
   "id": "b9f0c693-2f40-4548-9324-f839b1bde33f",
   "metadata": {},
   "outputs": [
    {
     "name": "stderr",
     "output_type": "stream",
     "text": [
      "[I 2023-12-27 08:42:17,725] A new study created in memory with name: UserKNN\n",
      "[I 2023-12-27 08:42:58,230] Trial 0 finished with value: 0.08549164715082347 and parameters: {'type': 'tfidf'}. Best is trial 0 with value: 0.08549164715082347.\n",
      "[I 2023-12-27 08:43:38,359] Trial 1 finished with value: 0.13154118191733294 and parameters: {'type': 'bm25', 'k1': 0.8, 'b': 0.3}. Best is trial 1 with value: 0.13154118191733294.\n",
      "[I 2023-12-27 08:44:19,094] Trial 2 finished with value: 0.08549164715082347 and parameters: {'type': 'tfidf'}. Best is trial 1 with value: 0.13154118191733294.\n",
      "[I 2023-12-27 08:44:59,680] Trial 3 finished with value: 0.08549164715082347 and parameters: {'type': 'tfidf'}. Best is trial 1 with value: 0.13154118191733294.\n",
      "[I 2023-12-27 08:45:39,915] Trial 4 finished with value: 0.12016716979597941 and parameters: {'type': 'bm25', 'k1': 1.2, 'b': 0.7}. Best is trial 1 with value: 0.13154118191733294.\n",
      "[I 2023-12-27 08:46:20,543] Trial 5 finished with value: 0.07885556882590268 and parameters: {'type': 'cosine'}. Best is trial 1 with value: 0.13154118191733294.\n",
      "[I 2023-12-27 08:47:01,101] Trial 6 finished with value: 0.08549164715082347 and parameters: {'type': 'tfidf'}. Best is trial 1 with value: 0.13154118191733294.\n",
      "[I 2023-12-27 08:47:41,203] Trial 7 finished with value: 0.12965713552890268 and parameters: {'type': 'bm25', 'k1': 1.2, 'b': 0.3}. Best is trial 1 with value: 0.13154118191733294.\n",
      "[I 2023-12-27 08:48:21,754] Trial 8 finished with value: 0.07885556882590268 and parameters: {'type': 'cosine'}. Best is trial 1 with value: 0.13154118191733294.\n",
      "[I 2023-12-27 08:49:01,924] Trial 9 finished with value: 0.11661975415076481 and parameters: {'type': 'bm25', 'k1': 1.5, 'b': 0.7}. Best is trial 1 with value: 0.13154118191733294.\n"
     ]
    }
   ],
   "source": [
    "userknn_study = optuna.create_study(direction=\"maximize\", study_name=\"UserKNN\", sampler=optuna.samplers.TPESampler(), pruner=optuna.pruners.NopPruner())\n",
    "userknn_study.optimize(userknn_objective, n_trials=USERKNN_N_TRIALS) "
   ]
  },
  {
   "cell_type": "code",
   "execution_count": 26,
   "id": "19eb940f-9247-4b6b-b83c-cbed861a9611",
   "metadata": {},
   "outputs": [
    {
     "name": "stdout",
     "output_type": "stream",
     "text": [
      "Параметры лучшей модели:  {'type': 'bm25', 'k1': 0.8, 'b': 0.3}\n",
      "MAP@10 лучшей модели:  0.13154118191733294\n"
     ]
    }
   ],
   "source": [
    "print(\"Параметры лучшей модели: \", userknn_study.best_params)\n",
    "print(\"MAP@10 лучшей модели: \", userknn_study.best_value)"
   ]
  },
  {
   "cell_type": "code",
   "execution_count": 27,
   "id": "a10b033c-51d3-4786-aa0b-c7247056ae1b",
   "metadata": {},
   "outputs": [
    {
     "data": {
      "text/plain": [
       "<rectools.models.implicit_knn.ImplicitItemKNNWrapperModel at 0x7f1440c837f0>"
      ]
     },
     "execution_count": 27,
     "metadata": {},
     "output_type": "execute_result"
    }
   ],
   "source": [
    "best_userknn_model = ImplicitItemKNNWrapperModel(\n",
    "    model = BM25Recommender(\n",
    "        K=USERKNN_K_RECOMMENDATIONS,\n",
    "        num_threads=NUM_LOGICAL_PROCESSORS,\n",
    "        K1=0.8, \n",
    "        B=0.3\n",
    "    ),\n",
    "    verbose=False\n",
    ")\n",
    "best_userknn_model.fit(dataset)"
   ]
  },
  {
   "cell_type": "code",
   "execution_count": 28,
   "id": "173ddb19-a116-4f81-866a-c39a22201bde",
   "metadata": {},
   "outputs": [],
   "source": [
    "userknn_reco_df = best_userknn_model.recommend(test_without_cold_users, dataset, k=USERKNN_K_RECOMMENDATIONS, filter_viewed=True)"
   ]
  },
  {
   "cell_type": "code",
   "execution_count": 29,
   "id": "25621d61-4b69-4852-9e70-8afbe886457c",
   "metadata": {},
   "outputs": [
    {
     "data": {
      "text/html": [
       "<div>\n",
       "<style scoped>\n",
       "    .dataframe tbody tr th:only-of-type {\n",
       "        vertical-align: middle;\n",
       "    }\n",
       "\n",
       "    .dataframe tbody tr th {\n",
       "        vertical-align: top;\n",
       "    }\n",
       "\n",
       "    .dataframe thead th {\n",
       "        text-align: right;\n",
       "    }\n",
       "</style>\n",
       "<table border=\"1\" class=\"dataframe\">\n",
       "  <thead>\n",
       "    <tr style=\"text-align: right;\">\n",
       "      <th></th>\n",
       "      <th>user_id</th>\n",
       "      <th>item_id</th>\n",
       "      <th>score</th>\n",
       "      <th>rank</th>\n",
       "    </tr>\n",
       "  </thead>\n",
       "  <tbody>\n",
       "    <tr>\n",
       "      <th>0</th>\n",
       "      <td>262147</td>\n",
       "      <td>10440</td>\n",
       "      <td>2.681858e+07</td>\n",
       "      <td>1</td>\n",
       "    </tr>\n",
       "    <tr>\n",
       "      <th>1</th>\n",
       "      <td>262147</td>\n",
       "      <td>15297</td>\n",
       "      <td>2.107992e+07</td>\n",
       "      <td>2</td>\n",
       "    </tr>\n",
       "    <tr>\n",
       "      <th>2</th>\n",
       "      <td>262147</td>\n",
       "      <td>4151</td>\n",
       "      <td>1.806002e+07</td>\n",
       "      <td>3</td>\n",
       "    </tr>\n",
       "    <tr>\n",
       "      <th>3</th>\n",
       "      <td>262147</td>\n",
       "      <td>13865</td>\n",
       "      <td>1.502891e+07</td>\n",
       "      <td>4</td>\n",
       "    </tr>\n",
       "    <tr>\n",
       "      <th>4</th>\n",
       "      <td>262147</td>\n",
       "      <td>4880</td>\n",
       "      <td>1.280747e+07</td>\n",
       "      <td>5</td>\n",
       "    </tr>\n",
       "  </tbody>\n",
       "</table>\n",
       "</div>"
      ],
      "text/plain": [
       "   user_id  item_id         score  rank\n",
       "0   262147    10440  2.681858e+07     1\n",
       "1   262147    15297  2.107992e+07     2\n",
       "2   262147     4151  1.806002e+07     3\n",
       "3   262147    13865  1.502891e+07     4\n",
       "4   262147     4880  1.280747e+07     5"
      ]
     },
     "execution_count": 29,
     "metadata": {},
     "output_type": "execute_result"
    }
   ],
   "source": [
    "userknn_reco_df.head()"
   ]
  },
  {
   "cell_type": "code",
   "execution_count": 30,
   "id": "ac7394ec-2e9a-4fe2-9b1e-8f10f601ea30",
   "metadata": {},
   "outputs": [],
   "source": [
    "userknn_metrics = calc_metrics(\n",
    "    metrics=metrics,\n",
    "    reco=userknn_reco_df,\n",
    "    interactions=test_df, \n",
    "    prev_interactions=interactions_df,\n",
    "    catalog=test_df['item_id'].unique()\n",
    ")\n",
    "models_results_df[\"UserKNN_BM25\"] = [userknn_metrics[metric] for metric in models_results_df.index]"
   ]
  },
  {
   "cell_type": "code",
   "execution_count": 31,
   "id": "129b3e73-206c-4aac-9c13-d228b1ae0723",
   "metadata": {},
   "outputs": [],
   "source": [
    "del userknn_reco_df"
   ]
  },
  {
   "cell_type": "markdown",
   "id": "734c041e-6bdc-4d28-8b5f-59a344a53e46",
   "metadata": {},
   "source": [
    "## Обучение Популярной модели"
   ]
  },
  {
   "cell_type": "code",
   "execution_count": 47,
   "id": "3fc688d7-7b03-4be0-ab05-d2ef690cd093",
   "metadata": {},
   "outputs": [],
   "source": [
    "POPULAR_K_RECOMMENDATIONS = 50\n",
    "POPULAR_N_TRIALS = 10"
   ]
  },
  {
   "cell_type": "code",
   "execution_count": 33,
   "id": "f0414854-7bcb-4225-8f5a-b8ad89c8b488",
   "metadata": {},
   "outputs": [],
   "source": [
    "def popular_objective(trial: optuna.Trial):\n",
    "    global interactions, splitter, metrics\n",
    "\n",
    "    popularity = trial.suggest_categorical(\"popularity\", ['n_users', 'mean_weight', 'sum_weight'])\n",
    "    period = trial.suggest_categorical(\"period\", [timedelta(days=7), timedelta(days=14), timedelta(days=30)])\n",
    "    \n",
    "    popular_model = PopularModel(\n",
    "        popularity = popularity,\n",
    "        period = period\n",
    "    )        \n",
    "    score = train_and_calculate_score(popular_model, interactions, splitter, metrics)\n",
    "    return score"
   ]
  },
  {
   "cell_type": "code",
   "execution_count": 34,
   "id": "0fb3237f-153d-4c43-bc2b-8577294120f5",
   "metadata": {},
   "outputs": [
    {
     "name": "stderr",
     "output_type": "stream",
     "text": [
      "[I 2023-12-27 08:54:08,858] A new study created in memory with name: Popular\n",
      "[I 2023-12-27 08:54:30,582] Trial 0 finished with value: 0.13105024810721633 and parameters: {'popularity': 'n_users', 'period': datetime.timedelta(days=30)}. Best is trial 0 with value: 0.13105024810721633.\n",
      "[I 2023-12-27 08:54:52,018] Trial 1 finished with value: 8.270188438967508e-05 and parameters: {'popularity': 'mean_weight', 'period': datetime.timedelta(days=30)}. Best is trial 0 with value: 0.13105024810721633.\n",
      "[I 2023-12-27 08:55:13,656] Trial 2 finished with value: 0.13721913676170075 and parameters: {'popularity': 'sum_weight', 'period': datetime.timedelta(days=30)}. Best is trial 2 with value: 0.13721913676170075.\n",
      "[I 2023-12-27 08:55:35,206] Trial 3 finished with value: 8.145136775705791e-05 and parameters: {'popularity': 'mean_weight', 'period': datetime.timedelta(days=14)}. Best is trial 2 with value: 0.13721913676170075.\n",
      "[I 2023-12-27 08:55:56,875] Trial 4 finished with value: 0.13721913676170075 and parameters: {'popularity': 'sum_weight', 'period': datetime.timedelta(days=30)}. Best is trial 2 with value: 0.13721913676170075.\n",
      "[I 2023-12-27 08:56:18,508] Trial 5 finished with value: 0.13764120892454246 and parameters: {'popularity': 'n_users', 'period': datetime.timedelta(days=14)}. Best is trial 5 with value: 0.13764120892454246.\n",
      "[I 2023-12-27 08:56:40,032] Trial 6 finished with value: 0.13721913676170075 and parameters: {'popularity': 'sum_weight', 'period': datetime.timedelta(days=30)}. Best is trial 5 with value: 0.13764120892454246.\n",
      "[I 2023-12-27 08:57:01,565] Trial 7 finished with value: 0.1314881398643115 and parameters: {'popularity': 'sum_weight', 'period': datetime.timedelta(days=14)}. Best is trial 5 with value: 0.13764120892454246.\n",
      "[I 2023-12-27 08:57:23,167] Trial 8 finished with value: 0.13764120892454246 and parameters: {'popularity': 'n_users', 'period': datetime.timedelta(days=14)}. Best is trial 5 with value: 0.13764120892454246.\n",
      "[I 2023-12-27 08:57:44,857] Trial 9 finished with value: 0.13430427928204686 and parameters: {'popularity': 'sum_weight', 'period': datetime.timedelta(days=7)}. Best is trial 5 with value: 0.13764120892454246.\n"
     ]
    }
   ],
   "source": [
    "popular_study = optuna.create_study(direction=\"maximize\", study_name=\"Popular\", sampler=optuna.samplers.TPESampler(), pruner=optuna.pruners.NopPruner())\n",
    "popular_study.optimize(popular_objective, n_trials=POPULAR_N_TRIALS) "
   ]
  },
  {
   "cell_type": "code",
   "execution_count": 35,
   "id": "d329e03d-7864-4885-ac0b-f46273b4180a",
   "metadata": {},
   "outputs": [
    {
     "name": "stdout",
     "output_type": "stream",
     "text": [
      "Параметры лучшей модели:  {'popularity': 'n_users', 'period': datetime.timedelta(days=14)}\n",
      "MAP@10 лучшей модели:  0.13764120892454246\n"
     ]
    }
   ],
   "source": [
    "print(\"Параметры лучшей модели: \", popular_study.best_params)\n",
    "print(\"MAP@10 лучшей модели: \", popular_study.best_value)"
   ]
  },
  {
   "cell_type": "code",
   "execution_count": 36,
   "id": "5140727a-0e9d-43ac-b6e9-f40e36f07018",
   "metadata": {},
   "outputs": [
    {
     "data": {
      "text/plain": [
       "<rectools.models.popular.PopularModel at 0x7f1440c84940>"
      ]
     },
     "execution_count": 36,
     "metadata": {},
     "output_type": "execute_result"
    }
   ],
   "source": [
    "best_popular_model = PopularModel(\n",
    "    **popular_study.best_params\n",
    ")\n",
    "best_popular_model.fit(dataset)"
   ]
  },
  {
   "cell_type": "code",
   "execution_count": 37,
   "id": "d559fbba-10b2-4181-8b63-31e6499576c5",
   "metadata": {},
   "outputs": [],
   "source": [
    "popular_reco_df = best_popular_model.recommend(test_without_cold_users, dataset, k=POPULAR_K_RECOMMENDATIONS, filter_viewed=True)"
   ]
  },
  {
   "cell_type": "code",
   "execution_count": 38,
   "id": "b66c9b7b-3e0a-45ed-b4d0-39c46cac1bc4",
   "metadata": {},
   "outputs": [
    {
     "data": {
      "text/html": [
       "<div>\n",
       "<style scoped>\n",
       "    .dataframe tbody tr th:only-of-type {\n",
       "        vertical-align: middle;\n",
       "    }\n",
       "\n",
       "    .dataframe tbody tr th {\n",
       "        vertical-align: top;\n",
       "    }\n",
       "\n",
       "    .dataframe thead th {\n",
       "        text-align: right;\n",
       "    }\n",
       "</style>\n",
       "<table border=\"1\" class=\"dataframe\">\n",
       "  <thead>\n",
       "    <tr style=\"text-align: right;\">\n",
       "      <th></th>\n",
       "      <th>user_id</th>\n",
       "      <th>item_id</th>\n",
       "      <th>score</th>\n",
       "      <th>rank</th>\n",
       "    </tr>\n",
       "  </thead>\n",
       "  <tbody>\n",
       "    <tr>\n",
       "      <th>0</th>\n",
       "      <td>262147</td>\n",
       "      <td>15297</td>\n",
       "      <td>31879.0</td>\n",
       "      <td>1</td>\n",
       "    </tr>\n",
       "    <tr>\n",
       "      <th>1</th>\n",
       "      <td>262147</td>\n",
       "      <td>10440</td>\n",
       "      <td>23793.0</td>\n",
       "      <td>2</td>\n",
       "    </tr>\n",
       "    <tr>\n",
       "      <th>2</th>\n",
       "      <td>262147</td>\n",
       "      <td>9728</td>\n",
       "      <td>22085.0</td>\n",
       "      <td>3</td>\n",
       "    </tr>\n",
       "    <tr>\n",
       "      <th>3</th>\n",
       "      <td>262147</td>\n",
       "      <td>13865</td>\n",
       "      <td>19712.0</td>\n",
       "      <td>4</td>\n",
       "    </tr>\n",
       "    <tr>\n",
       "      <th>4</th>\n",
       "      <td>262147</td>\n",
       "      <td>3734</td>\n",
       "      <td>16244.0</td>\n",
       "      <td>5</td>\n",
       "    </tr>\n",
       "  </tbody>\n",
       "</table>\n",
       "</div>"
      ],
      "text/plain": [
       "   user_id  item_id    score  rank\n",
       "0   262147    15297  31879.0     1\n",
       "1   262147    10440  23793.0     2\n",
       "2   262147     9728  22085.0     3\n",
       "3   262147    13865  19712.0     4\n",
       "4   262147     3734  16244.0     5"
      ]
     },
     "execution_count": 38,
     "metadata": {},
     "output_type": "execute_result"
    }
   ],
   "source": [
    "popular_reco_df.head()"
   ]
  },
  {
   "cell_type": "code",
   "execution_count": 39,
   "id": "033c1374-02bf-4004-a397-0dfc1ca0d8eb",
   "metadata": {},
   "outputs": [],
   "source": [
    "popular_metrics = calc_metrics(\n",
    "    metrics=metrics,\n",
    "    reco=popular_reco_df,\n",
    "    interactions=test_df, \n",
    "    prev_interactions=interactions_df,\n",
    "    catalog=test_df['item_id'].unique()\n",
    ")\n",
    "models_results_df[\"Popular\"] = [popular_metrics[metric] for metric in models_results_df.index]"
   ]
  },
  {
   "cell_type": "code",
   "execution_count": 40,
   "id": "4b0829cc-0aee-4d60-a899-091e3b26d779",
   "metadata": {},
   "outputs": [],
   "source": [
    "del popular_reco_df"
   ]
  },
  {
   "cell_type": "markdown",
   "id": "253183b6-c762-49cb-ad36-235dd5117fef",
   "metadata": {},
   "source": [
    "### Оценки лучших моделей на тестовых данных"
   ]
  },
  {
   "cell_type": "code",
   "execution_count": 41,
   "id": "c30d9370-9b8c-4ecf-a4a0-ebb08dd4c005",
   "metadata": {},
   "outputs": [
    {
     "data": {
      "text/html": [
       "<div>\n",
       "<style scoped>\n",
       "    .dataframe tbody tr th:only-of-type {\n",
       "        vertical-align: middle;\n",
       "    }\n",
       "\n",
       "    .dataframe tbody tr th {\n",
       "        vertical-align: top;\n",
       "    }\n",
       "\n",
       "    .dataframe thead th {\n",
       "        text-align: right;\n",
       "    }\n",
       "</style>\n",
       "<table border=\"1\" class=\"dataframe\">\n",
       "  <thead>\n",
       "    <tr style=\"text-align: right;\">\n",
       "      <th></th>\n",
       "      <th>LightFM</th>\n",
       "      <th>UserKNN_BM25</th>\n",
       "      <th>Popular</th>\n",
       "    </tr>\n",
       "  </thead>\n",
       "  <tbody>\n",
       "    <tr>\n",
       "      <th>ndcg@10</th>\n",
       "      <td>0.032116</td>\n",
       "      <td>0.032472</td>\n",
       "      <td>0.035194</td>\n",
       "    </tr>\n",
       "    <tr>\n",
       "      <th>map@10</th>\n",
       "      <td>0.042491</td>\n",
       "      <td>0.042748</td>\n",
       "      <td>0.047337</td>\n",
       "    </tr>\n",
       "    <tr>\n",
       "      <th>recall@10</th>\n",
       "      <td>0.083713</td>\n",
       "      <td>0.081155</td>\n",
       "      <td>0.096176</td>\n",
       "    </tr>\n",
       "    <tr>\n",
       "      <th>serendipity@10</th>\n",
       "      <td>0.000253</td>\n",
       "      <td>0.000150</td>\n",
       "      <td>0.000075</td>\n",
       "    </tr>\n",
       "  </tbody>\n",
       "</table>\n",
       "</div>"
      ],
      "text/plain": [
       "                 LightFM  UserKNN_BM25   Popular\n",
       "ndcg@10         0.032116      0.032472  0.035194\n",
       "map@10          0.042491      0.042748  0.047337\n",
       "recall@10       0.083713      0.081155  0.096176\n",
       "serendipity@10  0.000253      0.000150  0.000075"
      ]
     },
     "execution_count": 41,
     "metadata": {},
     "output_type": "execute_result"
    }
   ],
   "source": [
    "models_results_df"
   ]
  },
  {
   "cell_type": "markdown",
   "id": "2990ec47-c4a0-459e-8068-fa134c4f0c9a",
   "metadata": {},
   "source": [
    "## Генерация рекомендаций для моделей второго уровня и сохранение"
   ]
  },
  {
   "cell_type": "code",
   "execution_count": 42,
   "id": "905ed5b6-117d-4b5e-905a-16b1cae65676",
   "metadata": {},
   "outputs": [],
   "source": [
    "lightfm_df = best_lightfm_model.recommend(interactions_df[Columns.User].unique(), dataset, k=LIGHTFM_K_RECOMMENDATIONS, filter_viewed=True)\n",
    "lightfm_df.to_csv(\"new_data/lightfm_recommendations.csv\", index=False)\n",
    "del lightfm_df"
   ]
  },
  {
   "cell_type": "code",
   "execution_count": 43,
   "id": "21da80b6-47b1-4a1b-9d9d-a937d9fced8e",
   "metadata": {},
   "outputs": [],
   "source": [
    "userknn_df = best_userknn_model.recommend(interactions_df[Columns.User].unique(), dataset, k=USERKNN_K_RECOMMENDATIONS, filter_viewed=True)\n",
    "userknn_df.to_csv(\"new_data/userknn_recommendations.csv\", index=False)\n",
    "del userknn_df"
   ]
  },
  {
   "cell_type": "code",
   "execution_count": null,
   "id": "31aee1ec-e597-4e1d-bc53-bf2a2e669601",
   "metadata": {},
   "outputs": [],
   "source": [
    "popular_df = best_popular_model.recommend(interactions_df[Columns.User].unique()[:1], dataset, k=POPULAR_K_RECOMMENDATIONS, filter_viewed=True)\n",
    "popular_df.to_csv(\"new_data/popular_recommendations.csv\", index=False)"
   ]
  },
  {
   "cell_type": "markdown",
   "id": "2cdc2730-23aa-4cab-a336-5ee0ef478d0c",
   "metadata": {},
   "source": [
    "Популярные генерируем только для одного пользователя, так как они не особо отличаются"
   ]
  },
  {
   "cell_type": "code",
   "execution_count": 46,
   "id": "14e293e9-6b7a-45cc-a748-37edb697494e",
   "metadata": {},
   "outputs": [],
   "source": [
    "models_results_df.to_csv(\"new_data/first_stage_models.csv\")"
   ]
  },
  {
   "cell_type": "code",
   "execution_count": null,
   "id": "9222a907-b286-4cdb-87c7-b31f61b68a7c",
   "metadata": {},
   "outputs": [],
   "source": []
  }
 ],
 "metadata": {
  "kernelspec": {
   "display_name": "Python 3 (ipykernel)",
   "language": "python",
   "name": "python3"
  },
  "language_info": {
   "codemirror_mode": {
    "name": "ipython",
    "version": 3
   },
   "file_extension": ".py",
   "mimetype": "text/x-python",
   "name": "python",
   "nbconvert_exporter": "python",
   "pygments_lexer": "ipython3",
   "version": "3.10.11"
  }
 },
 "nbformat": 4,
 "nbformat_minor": 5
}
