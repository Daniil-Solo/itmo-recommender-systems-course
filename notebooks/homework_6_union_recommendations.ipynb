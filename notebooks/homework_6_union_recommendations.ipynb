{
 "cells": [
  {
   "cell_type": "markdown",
   "id": "e70943c0-bf0d-4c7d-a697-af816d9bb973",
   "metadata": {},
   "source": [
    "# Объединение предсказаний из разных файлов"
   ]
  },
  {
   "cell_type": "code",
   "execution_count": 1,
   "id": "6ee854b9-b4e6-43cd-ad9b-4365459f3361",
   "metadata": {},
   "outputs": [],
   "source": [
    "import json"
   ]
  },
  {
   "cell_type": "code",
   "execution_count": 9,
   "id": "68c05f7e-65ff-47b0-8fd8-1a8d4ffd9731",
   "metadata": {},
   "outputs": [],
   "source": [
    "batch_size = 50_000\n",
    "\n",
    "predicts = dict()\n",
    "\n",
    "for user_border in range(50_000, 1_100_000, batch_size):\n",
    "    down_border = user_border\n",
    "    up_border = user_border + batch_size\n",
    "    with open(f\"offline_recommendations/{down_border}-{up_border}.json\", \"r\") as f:\n",
    "        current_predicts = json.load(f)\n",
    "    predicts.update(current_predicts)"
   ]
  },
  {
   "cell_type": "code",
   "execution_count": 10,
   "id": "c2e99580-1ee3-4740-96fa-1c960a75d8e7",
   "metadata": {},
   "outputs": [],
   "source": [
    "with open(f\"predicts.json\", \"w\") as f:\n",
    "    json.dump(predicts, f)"
   ]
  },
  {
   "cell_type": "code",
   "execution_count": null,
   "id": "11cfc93c-fb3b-4f1a-b947-3ba42791df37",
   "metadata": {},
   "outputs": [],
   "source": []
  }
 ],
 "metadata": {
  "kernelspec": {
   "display_name": "Python 3 (ipykernel)",
   "language": "python",
   "name": "python3"
  },
  "language_info": {
   "codemirror_mode": {
    "name": "ipython",
    "version": 3
   },
   "file_extension": ".py",
   "mimetype": "text/x-python",
   "name": "python",
   "nbconvert_exporter": "python",
   "pygments_lexer": "ipython3",
   "version": "3.10.11"
  }
 },
 "nbformat": 4,
 "nbformat_minor": 5
}
