{
 "cells": [
  {
   "cell_type": "markdown",
   "id": "71ae5990-b3fe-4389-993f-350c427876a9",
   "metadata": {},
   "source": [
    "## Импорт библиотек и константы"
   ]
  },
  {
   "cell_type": "code",
   "execution_count": 124,
   "id": "9a0c8c70-7d04-428c-a61b-070d897bac79",
   "metadata": {},
   "outputs": [],
   "source": [
    "import json\n",
    "import pickle\n",
    "import os\n",
    "import pandas as pd\n",
    "import numpy as np\n",
    "import seaborn as sns\n",
    "import matplotlib.pyplot as plt\n",
    "import optuna\n",
    "import faiss\n",
    "\n",
    "from scipy import sparse\n",
    "from tqdm import tqdm\n",
    "\n",
    "from rectools import Columns\n",
    "from rectools.dataset import Interactions, Dataset\n",
    "from rectools.models.popular import PopularModel\n",
    "from rectools.metrics import MAP, Serendipity, calc_metrics\n",
    "from rectools.model_selection import TimeRangeSplitter\n",
    "from rectools.models import ImplicitALSWrapperModel, LightFMWrapperModel\n",
    "\n",
    "from lightfm import LightFM\n",
    "from implicit.als import AlternatingLeastSquares\n",
    "from implicit.bpr import BayesianPersonalizedRanking\n",
    "from implicit.lmf import LogisticMatrixFactorization"
   ]
  },
  {
   "cell_type": "code",
   "execution_count": 2,
   "id": "2d5dabce-526d-4cb0-b6ac-79de0d22a19c",
   "metadata": {},
   "outputs": [],
   "source": [
    "import warnings\n",
    "warnings.filterwarnings('ignore')"
   ]
  },
  {
   "cell_type": "code",
   "execution_count": 3,
   "id": "c21bbff7-1cfc-4af3-8077-ff6bfb543357",
   "metadata": {},
   "outputs": [],
   "source": [
    "os.environ[\"OPENBLAS_NUM_THREADS\"] = \"1\"  # implicit.ALS"
   ]
  },
  {
   "cell_type": "code",
   "execution_count": 4,
   "id": "a067b70d-26c6-46e7-9702-4909fc377551",
   "metadata": {},
   "outputs": [],
   "source": [
    "INTERACTIONS_PATH = \"./data/interactions.csv\"\n",
    "ITEMS_PATH = \"./data/items.csv\"\n",
    "USERS_PATH = \"./data/users.csv\"\n",
    "K_RECOMMENDATIONS = 10\n",
    "RANDOM_STATE = 0"
   ]
  },
  {
   "cell_type": "markdown",
   "id": "bb1ae325-eea7-47aa-99be-c4eb063af613",
   "metadata": {},
   "source": [
    "## Загрузка данных"
   ]
  },
  {
   "cell_type": "code",
   "execution_count": 5,
   "id": "41092ef7-c461-4122-844c-0fb4ca6f8774",
   "metadata": {},
   "outputs": [
    {
     "data": {
      "text/html": [
       "<div>\n",
       "<style scoped>\n",
       "    .dataframe tbody tr th:only-of-type {\n",
       "        vertical-align: middle;\n",
       "    }\n",
       "\n",
       "    .dataframe tbody tr th {\n",
       "        vertical-align: top;\n",
       "    }\n",
       "\n",
       "    .dataframe thead th {\n",
       "        text-align: right;\n",
       "    }\n",
       "</style>\n",
       "<table border=\"1\" class=\"dataframe\">\n",
       "  <thead>\n",
       "    <tr style=\"text-align: right;\">\n",
       "      <th></th>\n",
       "      <th>user_id</th>\n",
       "      <th>item_id</th>\n",
       "      <th>datetime</th>\n",
       "      <th>total_dur</th>\n",
       "      <th>weight</th>\n",
       "    </tr>\n",
       "  </thead>\n",
       "  <tbody>\n",
       "    <tr>\n",
       "      <th>0</th>\n",
       "      <td>176549</td>\n",
       "      <td>9506</td>\n",
       "      <td>2021-05-11</td>\n",
       "      <td>4250</td>\n",
       "      <td>72.0</td>\n",
       "    </tr>\n",
       "    <tr>\n",
       "      <th>1</th>\n",
       "      <td>699317</td>\n",
       "      <td>1659</td>\n",
       "      <td>2021-05-29</td>\n",
       "      <td>8317</td>\n",
       "      <td>100.0</td>\n",
       "    </tr>\n",
       "    <tr>\n",
       "      <th>3</th>\n",
       "      <td>864613</td>\n",
       "      <td>7638</td>\n",
       "      <td>2021-07-05</td>\n",
       "      <td>14483</td>\n",
       "      <td>100.0</td>\n",
       "    </tr>\n",
       "    <tr>\n",
       "      <th>4</th>\n",
       "      <td>964868</td>\n",
       "      <td>9506</td>\n",
       "      <td>2021-04-30</td>\n",
       "      <td>6725</td>\n",
       "      <td>100.0</td>\n",
       "    </tr>\n",
       "    <tr>\n",
       "      <th>5</th>\n",
       "      <td>1032142</td>\n",
       "      <td>6686</td>\n",
       "      <td>2021-05-13</td>\n",
       "      <td>11286</td>\n",
       "      <td>100.0</td>\n",
       "    </tr>\n",
       "  </tbody>\n",
       "</table>\n",
       "</div>"
      ],
      "text/plain": [
       "   user_id  item_id   datetime  total_dur  weight\n",
       "0   176549     9506 2021-05-11       4250    72.0\n",
       "1   699317     1659 2021-05-29       8317   100.0\n",
       "3   864613     7638 2021-07-05      14483   100.0\n",
       "4   964868     9506 2021-04-30       6725   100.0\n",
       "5  1032142     6686 2021-05-13      11286   100.0"
      ]
     },
     "execution_count": 5,
     "metadata": {},
     "output_type": "execute_result"
    }
   ],
   "source": [
    "interactions_df = pd.read_csv(INTERACTIONS_PATH)\n",
    "interactions_df = interactions_df.rename(columns={\"watched_pct\": \"weight\", \"last_watch_dt\": \"datetime\"})\n",
    "interactions_df['datetime'] = pd.to_datetime(interactions_df['datetime'])\n",
    "interactions_df = interactions_df[interactions_df[\"total_dur\"] > 300]\n",
    "interactions_df = interactions_df.dropna()\n",
    "interactions_df.head(5)"
   ]
  },
  {
   "cell_type": "code",
   "execution_count": 6,
   "id": "51ab77de-91c9-4e5e-b3b0-339f3b3c5b70",
   "metadata": {},
   "outputs": [
    {
     "data": {
      "text/html": [
       "<div>\n",
       "<style scoped>\n",
       "    .dataframe tbody tr th:only-of-type {\n",
       "        vertical-align: middle;\n",
       "    }\n",
       "\n",
       "    .dataframe tbody tr th {\n",
       "        vertical-align: top;\n",
       "    }\n",
       "\n",
       "    .dataframe thead th {\n",
       "        text-align: right;\n",
       "    }\n",
       "</style>\n",
       "<table border=\"1\" class=\"dataframe\">\n",
       "  <thead>\n",
       "    <tr style=\"text-align: right;\">\n",
       "      <th></th>\n",
       "      <th>item_id</th>\n",
       "      <th>content_type</th>\n",
       "      <th>title</th>\n",
       "      <th>title_orig</th>\n",
       "      <th>release_year</th>\n",
       "      <th>genres</th>\n",
       "      <th>countries</th>\n",
       "      <th>for_kids</th>\n",
       "      <th>age_rating</th>\n",
       "      <th>studios</th>\n",
       "      <th>directors</th>\n",
       "      <th>actors</th>\n",
       "      <th>description</th>\n",
       "      <th>keywords</th>\n",
       "    </tr>\n",
       "  </thead>\n",
       "  <tbody>\n",
       "    <tr>\n",
       "      <th>0</th>\n",
       "      <td>10711</td>\n",
       "      <td>film</td>\n",
       "      <td>Поговори с ней</td>\n",
       "      <td>Hable con ella</td>\n",
       "      <td>2002.0</td>\n",
       "      <td>драмы, зарубежные, детективы, мелодрамы</td>\n",
       "      <td>Испания</td>\n",
       "      <td>NaN</td>\n",
       "      <td>16.0</td>\n",
       "      <td>NaN</td>\n",
       "      <td>Педро Альмодовар</td>\n",
       "      <td>Адольфо Фернандес, Ана Фернандес, Дарио Гранди...</td>\n",
       "      <td>Мелодрама легендарного Педро Альмодовара «Пого...</td>\n",
       "      <td>Поговори, ней, 2002, Испания, друзья, любовь, ...</td>\n",
       "    </tr>\n",
       "    <tr>\n",
       "      <th>1</th>\n",
       "      <td>2508</td>\n",
       "      <td>film</td>\n",
       "      <td>Голые перцы</td>\n",
       "      <td>Search Party</td>\n",
       "      <td>2014.0</td>\n",
       "      <td>зарубежные, приключения, комедии</td>\n",
       "      <td>США</td>\n",
       "      <td>NaN</td>\n",
       "      <td>16.0</td>\n",
       "      <td>NaN</td>\n",
       "      <td>Скот Армстронг</td>\n",
       "      <td>Адам Палли, Брайан Хаски, Дж.Б. Смув, Джейсон ...</td>\n",
       "      <td>Уморительная современная комедия на популярную...</td>\n",
       "      <td>Голые, перцы, 2014, США, друзья, свадьбы, прео...</td>\n",
       "    </tr>\n",
       "    <tr>\n",
       "      <th>2</th>\n",
       "      <td>10716</td>\n",
       "      <td>film</td>\n",
       "      <td>Тактическая сила</td>\n",
       "      <td>Tactical Force</td>\n",
       "      <td>2011.0</td>\n",
       "      <td>криминал, зарубежные, триллеры, боевики, комедии</td>\n",
       "      <td>Канада</td>\n",
       "      <td>NaN</td>\n",
       "      <td>16.0</td>\n",
       "      <td>NaN</td>\n",
       "      <td>Адам П. Калтраро</td>\n",
       "      <td>Адриан Холмс, Даррен Шалави, Джерри Вассерман,...</td>\n",
       "      <td>Профессиональный рестлер Стив Остин («Все или ...</td>\n",
       "      <td>Тактическая, сила, 2011, Канада, бандиты, ганг...</td>\n",
       "    </tr>\n",
       "    <tr>\n",
       "      <th>3</th>\n",
       "      <td>7868</td>\n",
       "      <td>film</td>\n",
       "      <td>45 лет</td>\n",
       "      <td>45 Years</td>\n",
       "      <td>2015.0</td>\n",
       "      <td>драмы, зарубежные, мелодрамы</td>\n",
       "      <td>Великобритания</td>\n",
       "      <td>NaN</td>\n",
       "      <td>16.0</td>\n",
       "      <td>NaN</td>\n",
       "      <td>Эндрю Хэй</td>\n",
       "      <td>Александра Риддлстон-Барретт, Джеральдин Джейм...</td>\n",
       "      <td>Шарлотта Рэмплинг, Том Кортни, Джеральдин Джей...</td>\n",
       "      <td>45, лет, 2015, Великобритания, брак, жизнь, лю...</td>\n",
       "    </tr>\n",
       "    <tr>\n",
       "      <th>4</th>\n",
       "      <td>16268</td>\n",
       "      <td>film</td>\n",
       "      <td>Все решает мгновение</td>\n",
       "      <td>NaN</td>\n",
       "      <td>1978.0</td>\n",
       "      <td>драмы, спорт, советские, мелодрамы</td>\n",
       "      <td>СССР</td>\n",
       "      <td>NaN</td>\n",
       "      <td>12.0</td>\n",
       "      <td>Ленфильм</td>\n",
       "      <td>Виктор Садовский</td>\n",
       "      <td>Александр Абдулов, Александр Демьяненко, Алекс...</td>\n",
       "      <td>Расчетливая чаровница из советского кинохита «...</td>\n",
       "      <td>Все, решает, мгновение, 1978, СССР, сильные, ж...</td>\n",
       "    </tr>\n",
       "  </tbody>\n",
       "</table>\n",
       "</div>"
      ],
      "text/plain": [
       "   item_id content_type                 title      title_orig  release_year  \\\n",
       "0    10711         film        Поговори с ней  Hable con ella        2002.0   \n",
       "1     2508         film           Голые перцы    Search Party        2014.0   \n",
       "2    10716         film      Тактическая сила  Tactical Force        2011.0   \n",
       "3     7868         film                45 лет        45 Years        2015.0   \n",
       "4    16268         film  Все решает мгновение             NaN        1978.0   \n",
       "\n",
       "                                             genres       countries  for_kids  \\\n",
       "0           драмы, зарубежные, детективы, мелодрамы         Испания       NaN   \n",
       "1                  зарубежные, приключения, комедии             США       NaN   \n",
       "2  криминал, зарубежные, триллеры, боевики, комедии          Канада       NaN   \n",
       "3                      драмы, зарубежные, мелодрамы  Великобритания       NaN   \n",
       "4                драмы, спорт, советские, мелодрамы            СССР       NaN   \n",
       "\n",
       "   age_rating   studios         directors  \\\n",
       "0        16.0       NaN  Педро Альмодовар   \n",
       "1        16.0       NaN    Скот Армстронг   \n",
       "2        16.0       NaN  Адам П. Калтраро   \n",
       "3        16.0       NaN         Эндрю Хэй   \n",
       "4        12.0  Ленфильм  Виктор Садовский   \n",
       "\n",
       "                                              actors  \\\n",
       "0  Адольфо Фернандес, Ана Фернандес, Дарио Гранди...   \n",
       "1  Адам Палли, Брайан Хаски, Дж.Б. Смув, Джейсон ...   \n",
       "2  Адриан Холмс, Даррен Шалави, Джерри Вассерман,...   \n",
       "3  Александра Риддлстон-Барретт, Джеральдин Джейм...   \n",
       "4  Александр Абдулов, Александр Демьяненко, Алекс...   \n",
       "\n",
       "                                         description  \\\n",
       "0  Мелодрама легендарного Педро Альмодовара «Пого...   \n",
       "1  Уморительная современная комедия на популярную...   \n",
       "2  Профессиональный рестлер Стив Остин («Все или ...   \n",
       "3  Шарлотта Рэмплинг, Том Кортни, Джеральдин Джей...   \n",
       "4  Расчетливая чаровница из советского кинохита «...   \n",
       "\n",
       "                                            keywords  \n",
       "0  Поговори, ней, 2002, Испания, друзья, любовь, ...  \n",
       "1  Голые, перцы, 2014, США, друзья, свадьбы, прео...  \n",
       "2  Тактическая, сила, 2011, Канада, бандиты, ганг...  \n",
       "3  45, лет, 2015, Великобритания, брак, жизнь, лю...  \n",
       "4  Все, решает, мгновение, 1978, СССР, сильные, ж...  "
      ]
     },
     "execution_count": 6,
     "metadata": {},
     "output_type": "execute_result"
    }
   ],
   "source": [
    "items_df = pd.read_csv(ITEMS_PATH)\n",
    "items_df.head(5)"
   ]
  },
  {
   "cell_type": "code",
   "execution_count": 7,
   "id": "1c8fae7b-b795-4e69-b280-5a14aab7a2e8",
   "metadata": {},
   "outputs": [
    {
     "data": {
      "text/html": [
       "<div>\n",
       "<style scoped>\n",
       "    .dataframe tbody tr th:only-of-type {\n",
       "        vertical-align: middle;\n",
       "    }\n",
       "\n",
       "    .dataframe tbody tr th {\n",
       "        vertical-align: top;\n",
       "    }\n",
       "\n",
       "    .dataframe thead th {\n",
       "        text-align: right;\n",
       "    }\n",
       "</style>\n",
       "<table border=\"1\" class=\"dataframe\">\n",
       "  <thead>\n",
       "    <tr style=\"text-align: right;\">\n",
       "      <th></th>\n",
       "      <th>user_id</th>\n",
       "      <th>age</th>\n",
       "      <th>income</th>\n",
       "      <th>sex</th>\n",
       "      <th>kids_flg</th>\n",
       "    </tr>\n",
       "  </thead>\n",
       "  <tbody>\n",
       "    <tr>\n",
       "      <th>0</th>\n",
       "      <td>973171</td>\n",
       "      <td>age_25_34</td>\n",
       "      <td>income_60_90</td>\n",
       "      <td>М</td>\n",
       "      <td>1</td>\n",
       "    </tr>\n",
       "    <tr>\n",
       "      <th>1</th>\n",
       "      <td>962099</td>\n",
       "      <td>age_18_24</td>\n",
       "      <td>income_20_40</td>\n",
       "      <td>М</td>\n",
       "      <td>0</td>\n",
       "    </tr>\n",
       "    <tr>\n",
       "      <th>2</th>\n",
       "      <td>1047345</td>\n",
       "      <td>age_45_54</td>\n",
       "      <td>income_40_60</td>\n",
       "      <td>Ж</td>\n",
       "      <td>0</td>\n",
       "    </tr>\n",
       "    <tr>\n",
       "      <th>3</th>\n",
       "      <td>721985</td>\n",
       "      <td>age_45_54</td>\n",
       "      <td>income_20_40</td>\n",
       "      <td>Ж</td>\n",
       "      <td>0</td>\n",
       "    </tr>\n",
       "    <tr>\n",
       "      <th>4</th>\n",
       "      <td>704055</td>\n",
       "      <td>age_35_44</td>\n",
       "      <td>income_60_90</td>\n",
       "      <td>Ж</td>\n",
       "      <td>0</td>\n",
       "    </tr>\n",
       "  </tbody>\n",
       "</table>\n",
       "</div>"
      ],
      "text/plain": [
       "   user_id        age        income sex  kids_flg\n",
       "0   973171  age_25_34  income_60_90   М         1\n",
       "1   962099  age_18_24  income_20_40   М         0\n",
       "2  1047345  age_45_54  income_40_60   Ж         0\n",
       "3   721985  age_45_54  income_20_40   Ж         0\n",
       "4   704055  age_35_44  income_60_90   Ж         0"
      ]
     },
     "execution_count": 7,
     "metadata": {},
     "output_type": "execute_result"
    }
   ],
   "source": [
    "users_df = pd.read_csv(USERS_PATH)\n",
    "users_df.head(5)"
   ]
  },
  {
   "cell_type": "markdown",
   "id": "68f795b8-e07f-43ed-bec8-6bde0cefe21b",
   "metadata": {},
   "source": [
    "## Эксперименты"
   ]
  },
  {
   "cell_type": "markdown",
   "id": "cb0ef07c-eab6-4196-ae3f-6e1a3f761725",
   "metadata": {},
   "source": [
    "#### Визуализация признаков юзеров"
   ]
  },
  {
   "cell_type": "code",
   "execution_count": 8,
   "id": "ab6d7219-a04d-43fa-a9bf-c62e0ae438f6",
   "metadata": {},
   "outputs": [
    {
     "data": {
      "image/png": "[encoded data removed]",
      "text/plain": [
       "<Figure size 640x480 with 1 Axes>"
      ]
     },
     "metadata": {},
     "output_type": "display_data"
    }
   ],
   "source": [
    "(users_df[\"age\"].value_counts(normalize=True, dropna=False) * 100).plot(kind=\"barh\")\n",
    "plt.title(\"Возраст юзеров в датасете\")\n",
    "plt.ylabel(\"Возрастная группа\")\n",
    "plt.xlabel(\"Процент присутствия в датасете\")\n",
    "plt.show()"
   ]
  },
  {
   "cell_type": "code",
   "execution_count": 9,
   "id": "5227681b-c60b-49b8-9a6d-ccbd2b7e64fc",
   "metadata": {},
   "outputs": [
    {
     "data": {
      "image/png": "[encoded data removed]",
      "text/plain": [
       "<Figure size 640x480 with 1 Axes>"
      ]
     },
     "metadata": {},
     "output_type": "display_data"
    }
   ],
   "source": [
    "(users_df[\"income\"].value_counts(normalize=True, dropna=False) * 100).plot(kind=\"barh\")\n",
    "plt.title(\"Доходы юзеров в датасете\")\n",
    "plt.ylabel(\"Доходная группа\")\n",
    "plt.xlabel(\"Процент присутствия в датасете\")\n",
    "plt.show()"
   ]
  },
  {
   "cell_type": "code",
   "execution_count": 10,
   "id": "e00768a4-1e16-40b1-9bc8-38e7aa176737",
   "metadata": {},
   "outputs": [
    {
     "data": {
      "image/png": "[encoded data removed]",
      "text/plain": [
       "<Figure size 640x480 with 1 Axes>"
      ]
     },
     "metadata": {},
     "output_type": "display_data"
    }
   ],
   "source": [
    "(users_df[\"sex\"].value_counts(normalize=True, dropna=False) * 100).plot(kind=\"barh\")\n",
    "plt.title(\"Половая принадлежность юзеров в датасете\")\n",
    "plt.ylabel(\"Пол\")\n",
    "plt.xlabel(\"Процент присутствия в датасете\")\n",
    "plt.show()"
   ]
  },
  {
   "cell_type": "code",
   "execution_count": 11,
   "id": "72336ebe-9cb2-42f3-a15e-bdb2f91ea8bf",
   "metadata": {},
   "outputs": [
    {
     "data": {
      "image/png": "[encoded data removed]",
      "text/plain": [
       "<Figure size 640x480 with 1 Axes>"
      ]
     },
     "metadata": {},
     "output_type": "display_data"
    }
   ],
   "source": [
    "(users_df[\"kids_flg\"].value_counts(normalize=True, dropna=False) * 100).plot(kind=\"barh\")\n",
    "plt.title(\"Наличие детей у юзеров в датасете\")\n",
    "plt.ylabel(\"Наличие детей\")\n",
    "plt.xlabel(\"Процент присутствия в датасете\")\n",
    "plt.show()"
   ]
  },
  {
   "cell_type": "markdown",
   "id": "63c64e88-abc0-4250-a1b2-9c4233483cde",
   "metadata": {},
   "source": [
    "Создадим датафрейм с фичами пользователей"
   ]
  },
  {
   "cell_type": "code",
   "execution_count": 12,
   "id": "010ad61f-e48c-4f60-8b22-e1c7442dd771",
   "metadata": {},
   "outputs": [],
   "source": [
    "user_features_frames = []\n",
    "for feature in [\"age\", \"income\", \"sex\", \"kids_flg\"]:\n",
    "    feature_frame = users_df.reindex(columns=[Columns.User, feature])\n",
    "    feature_frame.columns = [\"id\", \"value\"]\n",
    "    feature_frame[\"feature\"] = feature\n",
    "    user_features_frames.append(feature_frame)\n",
    "user_features_df = pd.concat(user_features_frames)"
   ]
  },
  {
   "cell_type": "code",
   "execution_count": 13,
   "id": "bc4d5296-1d5b-41bd-be86-11c339b9b866",
   "metadata": {},
   "outputs": [
    {
     "data": {
      "text/html": [
       "<div>\n",
       "<style scoped>\n",
       "    .dataframe tbody tr th:only-of-type {\n",
       "        vertical-align: middle;\n",
       "    }\n",
       "\n",
       "    .dataframe tbody tr th {\n",
       "        vertical-align: top;\n",
       "    }\n",
       "\n",
       "    .dataframe thead th {\n",
       "        text-align: right;\n",
       "    }\n",
       "</style>\n",
       "<table border=\"1\" class=\"dataframe\">\n",
       "  <thead>\n",
       "    <tr style=\"text-align: right;\">\n",
       "      <th></th>\n",
       "      <th>id</th>\n",
       "      <th>value</th>\n",
       "      <th>feature</th>\n",
       "    </tr>\n",
       "  </thead>\n",
       "  <tbody>\n",
       "    <tr>\n",
       "      <th>556756</th>\n",
       "      <td>401308</td>\n",
       "      <td>income_40_60</td>\n",
       "      <td>income</td>\n",
       "    </tr>\n",
       "    <tr>\n",
       "      <th>627895</th>\n",
       "      <td>456402</td>\n",
       "      <td>age_25_34</td>\n",
       "      <td>age</td>\n",
       "    </tr>\n",
       "    <tr>\n",
       "      <th>237270</th>\n",
       "      <td>901050</td>\n",
       "      <td>Ж</td>\n",
       "      <td>sex</td>\n",
       "    </tr>\n",
       "    <tr>\n",
       "      <th>72351</th>\n",
       "      <td>113444</td>\n",
       "      <td>Ж</td>\n",
       "      <td>sex</td>\n",
       "    </tr>\n",
       "    <tr>\n",
       "      <th>211162</th>\n",
       "      <td>1016317</td>\n",
       "      <td>income_20_40</td>\n",
       "      <td>income</td>\n",
       "    </tr>\n",
       "  </tbody>\n",
       "</table>\n",
       "</div>"
      ],
      "text/plain": [
       "             id         value feature\n",
       "556756   401308  income_40_60  income\n",
       "627895   456402     age_25_34     age\n",
       "237270   901050             Ж     sex\n",
       "72351    113444             Ж     sex\n",
       "211162  1016317  income_20_40  income"
      ]
     },
     "execution_count": 13,
     "metadata": {},
     "output_type": "execute_result"
    }
   ],
   "source": [
    "user_features_df.sample(5)"
   ]
  },
  {
   "cell_type": "markdown",
   "id": "9535dcf9-6370-4386-b6e2-abd70c15351b",
   "metadata": {},
   "source": [
    "#### Визуализация признаков айтемов"
   ]
  },
  {
   "cell_type": "code",
   "execution_count": 14,
   "id": "f5a8274b-8dae-41ff-a680-96d9884f3328",
   "metadata": {},
   "outputs": [
    {
     "data": {
      "image/png": "[encoded data removed]",
      "text/plain": [
       "<Figure size 640x480 with 1 Axes>"
      ]
     },
     "metadata": {},
     "output_type": "display_data"
    }
   ],
   "source": [
    "(items_df[\"content_type\"].value_counts(normalize=True, dropna=False) * 100).plot(kind=\"barh\")\n",
    "plt.title(\"Тип айтема в датасете\")\n",
    "plt.ylabel(\"Тип айтема\")\n",
    "plt.xlabel(\"Процент присутствия в датасете\")\n",
    "plt.show()"
   ]
  },
  {
   "cell_type": "code",
   "execution_count": 15,
   "id": "2dc43199-bba1-4072-9378-21dd39ce81fa",
   "metadata": {},
   "outputs": [
    {
     "data": {
      "image/png": "[encoded data removed]",
      "text/plain": [
       "<Figure size 600x800 with 1 Axes>"
      ]
     },
     "metadata": {},
     "output_type": "display_data"
    }
   ],
   "source": [
    "genres_df = items_df[\"genres\"].map(lambda x: x.split(\", \")).explode().value_counts()\n",
    "genres_df = genres_df[genres_df > 100]\n",
    "plt.figure(figsize=(6, 8))\n",
    "(genres_df / len(items_df) * 100).plot(kind=\"barh\")\n",
    "plt.title(\"Популярные жанры айтемов в датасете\")\n",
    "plt.ylabel(\"Жанр айтема\")\n",
    "plt.xlabel(\"Процент присутствия в датасете\")\n",
    "plt.show()"
   ]
  },
  {
   "cell_type": "code",
   "execution_count": 16,
   "id": "dc9553f0-73cd-4e16-ade6-e56bd88fdae6",
   "metadata": {},
   "outputs": [
    {
     "data": {
      "image/png": "[encoded data removed]",
      "text/plain": [
       "<Figure size 640x480 with 1 Axes>"
      ]
     },
     "metadata": {},
     "output_type": "display_data"
    }
   ],
   "source": [
    "(items_df[\"age_rating\"].value_counts(normalize=True, dropna=False) * 100).plot(kind=\"barh\")\n",
    "plt.title(\"Возрастной рейтинг айтема в датасете\")\n",
    "plt.ylabel(\"Возрастной рейтинг\")\n",
    "plt.xlabel(\"Процент присутствия в датасете\")\n",
    "plt.show()"
   ]
  },
  {
   "cell_type": "markdown",
   "id": "13b4976e-c7f9-414f-a9b4-d8bf1ab222f5",
   "metadata": {},
   "source": [
    "Создадим датафреймы с фичами айтемов"
   ]
  },
  {
   "cell_type": "code",
   "execution_count": 17,
   "id": "90629ad9-cb0b-4b1b-88f1-b8adb9f79cc6",
   "metadata": {},
   "outputs": [
    {
     "data": {
      "text/html": [
       "<div>\n",
       "<style scoped>\n",
       "    .dataframe tbody tr th:only-of-type {\n",
       "        vertical-align: middle;\n",
       "    }\n",
       "\n",
       "    .dataframe tbody tr th {\n",
       "        vertical-align: top;\n",
       "    }\n",
       "\n",
       "    .dataframe thead th {\n",
       "        text-align: right;\n",
       "    }\n",
       "</style>\n",
       "<table border=\"1\" class=\"dataframe\">\n",
       "  <thead>\n",
       "    <tr style=\"text-align: right;\">\n",
       "      <th></th>\n",
       "      <th>id</th>\n",
       "      <th>value</th>\n",
       "      <th>feature</th>\n",
       "    </tr>\n",
       "  </thead>\n",
       "  <tbody>\n",
       "    <tr>\n",
       "      <th>6800</th>\n",
       "      <td>6709</td>\n",
       "      <td>драмы</td>\n",
       "      <td>genre</td>\n",
       "    </tr>\n",
       "    <tr>\n",
       "      <th>990</th>\n",
       "      <td>8637</td>\n",
       "      <td>зарубежные</td>\n",
       "      <td>genre</td>\n",
       "    </tr>\n",
       "    <tr>\n",
       "      <th>1017</th>\n",
       "      <td>2755</td>\n",
       "      <td>комедии</td>\n",
       "      <td>genre</td>\n",
       "    </tr>\n",
       "    <tr>\n",
       "      <th>14376</th>\n",
       "      <td>3259</td>\n",
       "      <td>мелодрамы</td>\n",
       "      <td>genre</td>\n",
       "    </tr>\n",
       "    <tr>\n",
       "      <th>6682</th>\n",
       "      <td>14466</td>\n",
       "      <td>драмы</td>\n",
       "      <td>genre</td>\n",
       "    </tr>\n",
       "  </tbody>\n",
       "</table>\n",
       "</div>"
      ],
      "text/plain": [
       "          id       value feature\n",
       "6800    6709       драмы   genre\n",
       "990     8637  зарубежные   genre\n",
       "1017    2755     комедии   genre\n",
       "14376   3259   мелодрамы   genre\n",
       "6682   14466       драмы   genre"
      ]
     },
     "execution_count": 17,
     "metadata": {},
     "output_type": "execute_result"
    }
   ],
   "source": [
    "items_df[\"genre\"] = items_df[\"genres\"].str.lower().str.replace(\", \", \",\", regex=False).str.split(\",\")\n",
    "items_genres_df = items_df[[\"item_id\", \"genre\"]].explode(\"genre\")\n",
    "items_genres_df.columns = [\"id\", \"value\"]\n",
    "items_genres_df[\"feature\"] = \"genre\"\n",
    "items_genres_df.sample(5)"
   ]
  },
  {
   "cell_type": "code",
   "execution_count": 18,
   "id": "48221e61-32af-471f-a83d-108ad00a626a",
   "metadata": {},
   "outputs": [
    {
     "data": {
      "text/html": [
       "<div>\n",
       "<style scoped>\n",
       "    .dataframe tbody tr th:only-of-type {\n",
       "        vertical-align: middle;\n",
       "    }\n",
       "\n",
       "    .dataframe tbody tr th {\n",
       "        vertical-align: top;\n",
       "    }\n",
       "\n",
       "    .dataframe thead th {\n",
       "        text-align: right;\n",
       "    }\n",
       "</style>\n",
       "<table border=\"1\" class=\"dataframe\">\n",
       "  <thead>\n",
       "    <tr style=\"text-align: right;\">\n",
       "      <th></th>\n",
       "      <th>id</th>\n",
       "      <th>value</th>\n",
       "      <th>feature</th>\n",
       "    </tr>\n",
       "  </thead>\n",
       "  <tbody>\n",
       "    <tr>\n",
       "      <th>7580</th>\n",
       "      <td>8405</td>\n",
       "      <td>series</td>\n",
       "      <td>content_type</td>\n",
       "    </tr>\n",
       "    <tr>\n",
       "      <th>6588</th>\n",
       "      <td>11953</td>\n",
       "      <td>film</td>\n",
       "      <td>content_type</td>\n",
       "    </tr>\n",
       "    <tr>\n",
       "      <th>6147</th>\n",
       "      <td>11897</td>\n",
       "      <td>film</td>\n",
       "      <td>content_type</td>\n",
       "    </tr>\n",
       "    <tr>\n",
       "      <th>5059</th>\n",
       "      <td>6639</td>\n",
       "      <td>film</td>\n",
       "      <td>content_type</td>\n",
       "    </tr>\n",
       "    <tr>\n",
       "      <th>10057</th>\n",
       "      <td>6630</td>\n",
       "      <td>film</td>\n",
       "      <td>content_type</td>\n",
       "    </tr>\n",
       "  </tbody>\n",
       "</table>\n",
       "</div>"
      ],
      "text/plain": [
       "          id   value       feature\n",
       "7580    8405  series  content_type\n",
       "6588   11953    film  content_type\n",
       "6147   11897    film  content_type\n",
       "5059    6639    film  content_type\n",
       "10057   6630    film  content_type"
      ]
     },
     "execution_count": 18,
     "metadata": {},
     "output_type": "execute_result"
    }
   ],
   "source": [
    "items_content_type_df = items_df.reindex(columns=[Columns.Item, \"content_type\"])\n",
    "items_content_type_df.columns = [\"id\", \"value\"]\n",
    "items_content_type_df[\"feature\"] = \"content_type\"\n",
    "items_content_type_df.sample(5)"
   ]
  },
  {
   "cell_type": "code",
   "execution_count": 19,
   "id": "fc527c76-3c9b-4f1a-8604-70ed5fcac81c",
   "metadata": {},
   "outputs": [
    {
     "data": {
      "text/html": [
       "<div>\n",
       "<style scoped>\n",
       "    .dataframe tbody tr th:only-of-type {\n",
       "        vertical-align: middle;\n",
       "    }\n",
       "\n",
       "    .dataframe tbody tr th {\n",
       "        vertical-align: top;\n",
       "    }\n",
       "\n",
       "    .dataframe thead th {\n",
       "        text-align: right;\n",
       "    }\n",
       "</style>\n",
       "<table border=\"1\" class=\"dataframe\">\n",
       "  <thead>\n",
       "    <tr style=\"text-align: right;\">\n",
       "      <th></th>\n",
       "      <th>id</th>\n",
       "      <th>value</th>\n",
       "      <th>feature</th>\n",
       "    </tr>\n",
       "  </thead>\n",
       "  <tbody>\n",
       "    <tr>\n",
       "      <th>6937</th>\n",
       "      <td>6034</td>\n",
       "      <td>18.0</td>\n",
       "      <td>age_rating</td>\n",
       "    </tr>\n",
       "    <tr>\n",
       "      <th>15075</th>\n",
       "      <td>4775</td>\n",
       "      <td>6.0</td>\n",
       "      <td>age_rating</td>\n",
       "    </tr>\n",
       "    <tr>\n",
       "      <th>8709</th>\n",
       "      <td>8168</td>\n",
       "      <td>16.0</td>\n",
       "      <td>age_rating</td>\n",
       "    </tr>\n",
       "    <tr>\n",
       "      <th>8633</th>\n",
       "      <td>11476</td>\n",
       "      <td>18.0</td>\n",
       "      <td>age_rating</td>\n",
       "    </tr>\n",
       "    <tr>\n",
       "      <th>12630</th>\n",
       "      <td>7412</td>\n",
       "      <td>16.0</td>\n",
       "      <td>age_rating</td>\n",
       "    </tr>\n",
       "  </tbody>\n",
       "</table>\n",
       "</div>"
      ],
      "text/plain": [
       "          id  value     feature\n",
       "6937    6034   18.0  age_rating\n",
       "15075   4775    6.0  age_rating\n",
       "8709    8168   16.0  age_rating\n",
       "8633   11476   18.0  age_rating\n",
       "12630   7412   16.0  age_rating"
      ]
     },
     "execution_count": 19,
     "metadata": {},
     "output_type": "execute_result"
    }
   ],
   "source": [
    "items_age_rating_df = items_df.reindex(columns=[Columns.Item, \"age_rating\"])\n",
    "items_age_rating_df.columns = [\"id\", \"value\"]\n",
    "items_age_rating_df[\"feature\"] = \"age_rating\"\n",
    "items_age_rating_df.sample(5)"
   ]
  },
  {
   "cell_type": "code",
   "execution_count": 20,
   "id": "14dd1c5c-ca6d-4658-a288-b37b022362d5",
   "metadata": {},
   "outputs": [],
   "source": [
    "item_features_df = pd.concat((items_genres_df, items_content_type_df, items_age_rating_df))"
   ]
  },
  {
   "cell_type": "code",
   "execution_count": 21,
   "id": "5bfb3cf4-c864-4ced-873e-45086faf21f0",
   "metadata": {},
   "outputs": [
    {
     "data": {
      "text/html": [
       "<div>\n",
       "<style scoped>\n",
       "    .dataframe tbody tr th:only-of-type {\n",
       "        vertical-align: middle;\n",
       "    }\n",
       "\n",
       "    .dataframe tbody tr th {\n",
       "        vertical-align: top;\n",
       "    }\n",
       "\n",
       "    .dataframe thead th {\n",
       "        text-align: right;\n",
       "    }\n",
       "</style>\n",
       "<table border=\"1\" class=\"dataframe\">\n",
       "  <thead>\n",
       "    <tr style=\"text-align: right;\">\n",
       "      <th></th>\n",
       "      <th>id</th>\n",
       "      <th>value</th>\n",
       "      <th>feature</th>\n",
       "    </tr>\n",
       "  </thead>\n",
       "  <tbody>\n",
       "    <tr>\n",
       "      <th>10729</th>\n",
       "      <td>1053</td>\n",
       "      <td>драмы</td>\n",
       "      <td>genre</td>\n",
       "    </tr>\n",
       "    <tr>\n",
       "      <th>7141</th>\n",
       "      <td>12120</td>\n",
       "      <td>зарубежные</td>\n",
       "      <td>genre</td>\n",
       "    </tr>\n",
       "    <tr>\n",
       "      <th>10744</th>\n",
       "      <td>4445</td>\n",
       "      <td>series</td>\n",
       "      <td>content_type</td>\n",
       "    </tr>\n",
       "    <tr>\n",
       "      <th>2271</th>\n",
       "      <td>13674</td>\n",
       "      <td>0.0</td>\n",
       "      <td>age_rating</td>\n",
       "    </tr>\n",
       "    <tr>\n",
       "      <th>6081</th>\n",
       "      <td>1962</td>\n",
       "      <td>film</td>\n",
       "      <td>content_type</td>\n",
       "    </tr>\n",
       "  </tbody>\n",
       "</table>\n",
       "</div>"
      ],
      "text/plain": [
       "          id       value       feature\n",
       "10729   1053       драмы         genre\n",
       "7141   12120  зарубежные         genre\n",
       "10744   4445      series  content_type\n",
       "2271   13674         0.0    age_rating\n",
       "6081    1962        film  content_type"
      ]
     },
     "execution_count": 21,
     "metadata": {},
     "output_type": "execute_result"
    }
   ],
   "source": [
    "item_features_df.sample(5)"
   ]
  },
  {
   "cell_type": "markdown",
   "id": "8462ae26-220b-43ad-97d7-2c9489eac616",
   "metadata": {},
   "source": [
    "### Тюнинг гиперпараметров для моделей (3 балла)"
   ]
  },
  {
   "cell_type": "markdown",
   "id": "3d43de71-0635-4207-9095-fb17664ce71e",
   "metadata": {},
   "source": [
    "#### Подготовка"
   ]
  },
  {
   "cell_type": "code",
   "execution_count": 22,
   "id": "329bf1a9-83dc-4c41-af69-4814fe38a04c",
   "metadata": {},
   "outputs": [],
   "source": [
    "tuning_interactions = Interactions(interactions_df)"
   ]
  },
  {
   "cell_type": "code",
   "execution_count": 23,
   "id": "be5dc334-0929-4839-b191-2c9bd50ff901",
   "metadata": {},
   "outputs": [],
   "source": [
    "tuning_metrics = {\n",
    "    'map@10': MAP(k=K_RECOMMENDATIONS)\n",
    "}"
   ]
  },
  {
   "cell_type": "code",
   "execution_count": 24,
   "id": "a55ae0b2-c077-43ef-b729-0dd008206354",
   "metadata": {},
   "outputs": [],
   "source": [
    "tuning_splitter = TimeRangeSplitter(\n",
    "    test_size=\"7D\",\n",
    "    n_splits=1,\n",
    "    filter_already_seen=True,\n",
    "    filter_cold_items=True,\n",
    "    filter_cold_users=True\n",
    ")"
   ]
  },
  {
   "cell_type": "code",
   "execution_count": 25,
   "id": "61c9e2ba-ae0d-4c2f-a6e5-74173d593951",
   "metadata": {},
   "outputs": [],
   "source": [
    "def train_and_calculate_score(model, interactions, splitter, metrics, head_metric=\"map@10\", use_features=False):\n",
    "    fold_iterator = splitter.split(interactions, collect_fold_stats=True)\n",
    "    results = []\n",
    "\n",
    "    for i_fold, (train_ids, test_ids, fold_info) in enumerate(fold_iterator):\n",
    "        df_train = interactions.df.iloc[train_ids].copy()\n",
    "        df_test = interactions.df.iloc[test_ids].copy()\n",
    "        test_users = df_test[Columns.User].unique()\n",
    "        catalog = df_train[Columns.Item].unique()\n",
    "        \n",
    "        current_user_features_df = user_features_df[user_features_df[\"id\"].isin(df_train[Columns.User].unique())]\n",
    "        current_item_features_df = item_features_df[item_features_df[\"id\"].isin(df_train[Columns.Item].unique())]\n",
    "\n",
    "        if use_features:\n",
    "            dataset = Dataset.construct(\n",
    "                df_train,\n",
    "                user_features_df=current_user_features_df,\n",
    "                cat_user_features=[\"age\", \"income\", \"sex\", \"kids_flg\"],\n",
    "                item_features_df=current_item_features_df,\n",
    "                cat_item_features=[\"genre\", \"content_type\", \"age_rating\"],\n",
    "            )\n",
    "        else:\n",
    "            dataset = Dataset.construct(df_train)\n",
    "        \n",
    "        model.fit(dataset)\n",
    "        recos = model.recommend(test_users, dataset, k=K_RECOMMENDATIONS, filter_viewed=True)\n",
    "        metric_values = calc_metrics(\n",
    "            metrics,\n",
    "            reco=recos,\n",
    "            interactions=df_test,\n",
    "            prev_interactions=df_train,\n",
    "            catalog=catalog,\n",
    "        )\n",
    "        results.append(metric_values)\n",
    "\n",
    "    return np.mean(np.array([item[head_metric] for item in results]))"
   ]
  },
  {
   "cell_type": "code",
   "execution_count": 26,
   "id": "15edf57c-1a38-40f3-829f-923ca4631c08",
   "metadata": {},
   "outputs": [],
   "source": [
    "# from optuna.study to format \"model-value\"\n",
    "def preapare_dataframe(dataframe, model_name, params, threshold=0.06):\n",
    "    df = dataframe.copy()\n",
    "    df[\"model\"] =  model_name\n",
    "    for param in params:\n",
    "        df[\"model\"] = df[\"model\"] + \"_\" + dataframe[f\"params_{param}\"].apply(str)\n",
    "    df = df[[\"model\", \"value\"]]\n",
    "    df = df[df[\"value\"] >= threshold]\n",
    "    df = df.sort_values(\"value\", ascending=False)\n",
    "    return df"
   ]
  },
  {
   "cell_type": "markdown",
   "id": "ff060983-8ae7-466c-bc2c-02a251f73f24",
   "metadata": {},
   "source": [
    "#### Тюнинг ALS"
   ]
  },
  {
   "cell_type": "code",
   "execution_count": 27,
   "id": "850efbab-6f00-4a72-85da-ecef11487c6b",
   "metadata": {},
   "outputs": [],
   "source": [
    "ALS_N_TRIALS = 20"
   ]
  },
  {
   "cell_type": "code",
   "execution_count": 31,
   "id": "e564d06f-2047-4c37-907c-979a463388f5",
   "metadata": {},
   "outputs": [],
   "source": [
    "def als_objective(trial: optuna.Trial):\n",
    "    global tuning_interactions, tuning_splitter, tuning_metrics\n",
    "    \n",
    "    factors = trial.suggest_categorical(\"factors\", [32, 64, 100, 128, 256])\n",
    "    regularization = trial.suggest_categorical(\"regularization\", [1e-2, 5e-2, 1e-1])\n",
    "    alpha = trial.suggest_categorical(\"alpha\", [0.1, 1, 5, 10])\n",
    "    use_features = trial.suggest_categorical(\"use_features\", [True, False])\n",
    "    iterations = trial.suggest_categorical(\"iterations\", [5, 10, 15])\n",
    "    \n",
    "    als_model = ImplicitALSWrapperModel(\n",
    "        model=AlternatingLeastSquares(\n",
    "            factors=factors,\n",
    "            regularization=regularization,\n",
    "            alpha=alpha,\n",
    "            iterations=iterations,\n",
    "            random_state=RANDOM_STATE,\n",
    "        ),\n",
    "        fit_features_together=use_features,\n",
    "        verbose=True\n",
    "    )\n",
    "    \n",
    "    score = train_and_calculate_score(als_model, tuning_interactions, tuning_splitter, tuning_metrics, use_features=use_features)\n",
    "    return score"
   ]
  },
  {
   "cell_type": "code",
   "execution_count": 32,
   "id": "2c31c5b5-76bb-4c8a-a21a-da6230d7d203",
   "metadata": {},
   "outputs": [
    {
     "name": "stderr",
     "output_type": "stream",
     "text": [
      "[I 2023-12-12 09:20:48,716] A new study created in memory with name: ALS\n"
     ]
    },
    {
     "data": {
      "application/vnd.jupyter.widget-view+json": {
       "model_id": "ae02a1075ee9457fa2642c4e5d73794a",
       "version_major": 2,
       "version_minor": 0
      },
      "text/plain": [
       "  0%|          | 0/5 [00:00<?, ?it/s]"
      ]
     },
     "metadata": {},
     "output_type": "display_data"
    },
    {
     "name": "stderr",
     "output_type": "stream",
     "text": [
      "[I 2023-12-12 09:22:12,214] Trial 0 finished with value: 0.07615304538382477 and parameters: {'factors': 64, 'regularization': 0.01, 'alpha': 1, 'use_features': True, 'iterations': 5}. Best is trial 0 with value: 0.07615304538382477.\n"
     ]
    },
    {
     "data": {
      "application/vnd.jupyter.widget-view+json": {
       "model_id": "bb2f7ee7612d447e98a399561aa9bf5d",
       "version_major": 2,
       "version_minor": 0
      },
      "text/plain": [
       "  0%|          | 0/5 [00:00<?, ?it/s]"
      ]
     },
     "metadata": {},
     "output_type": "display_data"
    },
    {
     "name": "stderr",
     "output_type": "stream",
     "text": [
      "[I 2023-12-12 09:23:52,898] Trial 1 finished with value: 0.029635314246008924 and parameters: {'factors': 256, 'regularization': 0.1, 'alpha': 1, 'use_features': False, 'iterations': 5}. Best is trial 0 with value: 0.07615304538382477.\n"
     ]
    },
    {
     "data": {
      "application/vnd.jupyter.widget-view+json": {
       "model_id": "755789f355a64d93a06b8f5db32e7ade",
       "version_major": 2,
       "version_minor": 0
      },
      "text/plain": [
       "  0%|          | 0/5 [00:00<?, ?it/s]"
      ]
     },
     "metadata": {},
     "output_type": "display_data"
    },
    {
     "name": "stderr",
     "output_type": "stream",
     "text": [
      "[I 2023-12-12 09:24:39,479] Trial 2 finished with value: 0.022164558724569444 and parameters: {'factors': 64, 'regularization': 0.1, 'alpha': 10, 'use_features': False, 'iterations': 5}. Best is trial 0 with value: 0.07615304538382477.\n"
     ]
    },
    {
     "data": {
      "application/vnd.jupyter.widget-view+json": {
       "model_id": "b2d2343a5cd249f8831cf82c4425d271",
       "version_major": 2,
       "version_minor": 0
      },
      "text/plain": [
       "  0%|          | 0/15 [00:00<?, ?it/s]"
      ]
     },
     "metadata": {},
     "output_type": "display_data"
    },
    {
     "name": "stderr",
     "output_type": "stream",
     "text": [
      "[I 2023-12-12 09:29:38,485] Trial 3 finished with value: 0.07205369487399552 and parameters: {'factors': 128, 'regularization': 0.1, 'alpha': 10, 'use_features': True, 'iterations': 15}. Best is trial 0 with value: 0.07615304538382477.\n"
     ]
    },
    {
     "data": {
      "application/vnd.jupyter.widget-view+json": {
       "model_id": "a395aeb8f1304210abc5938dd77baf9a",
       "version_major": 2,
       "version_minor": 0
      },
      "text/plain": [
       "  0%|          | 0/15 [00:00<?, ?it/s]"
      ]
     },
     "metadata": {},
     "output_type": "display_data"
    },
    {
     "name": "stderr",
     "output_type": "stream",
     "text": [
      "[I 2023-12-12 09:31:21,503] Trial 4 finished with value: 0.03090660159183525 and parameters: {'factors': 64, 'regularization': 0.1, 'alpha': 10, 'use_features': False, 'iterations': 15}. Best is trial 0 with value: 0.07615304538382477.\n"
     ]
    },
    {
     "data": {
      "application/vnd.jupyter.widget-view+json": {
       "model_id": "ce5359e7330d4c98af892b9c80863cd4",
       "version_major": 2,
       "version_minor": 0
      },
      "text/plain": [
       "  0%|          | 0/5 [00:00<?, ?it/s]"
      ]
     },
     "metadata": {},
     "output_type": "display_data"
    },
    {
     "name": "stderr",
     "output_type": "stream",
     "text": [
      "[I 2023-12-12 09:32:05,699] Trial 5 finished with value: 0.03284613135212142 and parameters: {'factors': 64, 'regularization': 0.05, 'alpha': 0.1, 'use_features': False, 'iterations': 5}. Best is trial 0 with value: 0.07615304538382477.\n"
     ]
    },
    {
     "data": {
      "application/vnd.jupyter.widget-view+json": {
       "model_id": "516af8f4058c415f9f2690ef3ffa1f68",
       "version_major": 2,
       "version_minor": 0
      },
      "text/plain": [
       "  0%|          | 0/5 [00:00<?, ?it/s]"
      ]
     },
     "metadata": {},
     "output_type": "display_data"
    },
    {
     "name": "stderr",
     "output_type": "stream",
     "text": [
      "[I 2023-12-12 09:33:29,866] Trial 6 finished with value: 0.05072246936434083 and parameters: {'factors': 64, 'regularization': 0.05, 'alpha': 10, 'use_features': True, 'iterations': 5}. Best is trial 0 with value: 0.07615304538382477.\n"
     ]
    },
    {
     "data": {
      "application/vnd.jupyter.widget-view+json": {
       "model_id": "41f53607e32e4ea0811e87c610401574",
       "version_major": 2,
       "version_minor": 0
      },
      "text/plain": [
       "  0%|          | 0/5 [00:00<?, ?it/s]"
      ]
     },
     "metadata": {},
     "output_type": "display_data"
    },
    {
     "name": "stderr",
     "output_type": "stream",
     "text": [
      "[I 2023-12-12 09:35:06,306] Trial 7 finished with value: 0.07621772207533736 and parameters: {'factors': 100, 'regularization': 0.01, 'alpha': 1, 'use_features': True, 'iterations': 5}. Best is trial 7 with value: 0.07621772207533736.\n"
     ]
    },
    {
     "data": {
      "application/vnd.jupyter.widget-view+json": {
       "model_id": "7cc0c0136f3443f6956aa6e99807d2f2",
       "version_major": 2,
       "version_minor": 0
      },
      "text/plain": [
       "  0%|          | 0/15 [00:00<?, ?it/s]"
      ]
     },
     "metadata": {},
     "output_type": "display_data"
    },
    {
     "name": "stderr",
     "output_type": "stream",
     "text": [
      "[I 2023-12-12 09:36:51,964] Trial 8 finished with value: 0.03460729853172093 and parameters: {'factors': 64, 'regularization': 0.01, 'alpha': 10, 'use_features': False, 'iterations': 15}. Best is trial 7 with value: 0.07621772207533736.\n"
     ]
    },
    {
     "data": {
      "application/vnd.jupyter.widget-view+json": {
       "model_id": "9197e8596f6e4e499d24c96f6ff51684",
       "version_major": 2,
       "version_minor": 0
      },
      "text/plain": [
       "  0%|          | 0/5 [00:00<?, ?it/s]"
      ]
     },
     "metadata": {},
     "output_type": "display_data"
    },
    {
     "name": "stderr",
     "output_type": "stream",
     "text": [
      "[I 2023-12-12 09:37:33,795] Trial 9 finished with value: 0.02655071376166341 and parameters: {'factors': 64, 'regularization': 0.1, 'alpha': 5, 'use_features': False, 'iterations': 5}. Best is trial 7 with value: 0.07621772207533736.\n"
     ]
    },
    {
     "data": {
      "application/vnd.jupyter.widget-view+json": {
       "model_id": "d5bfb4a5eb49485791ef0537b45f26f6",
       "version_major": 2,
       "version_minor": 0
      },
      "text/plain": [
       "  0%|          | 0/10 [00:00<?, ?it/s]"
      ]
     },
     "metadata": {},
     "output_type": "display_data"
    },
    {
     "name": "stderr",
     "output_type": "stream",
     "text": [
      "[I 2023-12-12 09:40:27,263] Trial 10 finished with value: 0.08396154411101982 and parameters: {'factors': 100, 'regularization': 0.01, 'alpha': 1, 'use_features': True, 'iterations': 10}. Best is trial 10 with value: 0.08396154411101982.\n"
     ]
    },
    {
     "data": {
      "application/vnd.jupyter.widget-view+json": {
       "model_id": "07a8bce4405a45b6b3a0690d495640a8",
       "version_major": 2,
       "version_minor": 0
      },
      "text/plain": [
       "  0%|          | 0/10 [00:00<?, ?it/s]"
      ]
     },
     "metadata": {},
     "output_type": "display_data"
    },
    {
     "name": "stderr",
     "output_type": "stream",
     "text": [
      "[I 2023-12-12 09:43:19,852] Trial 11 finished with value: 0.08396154411101982 and parameters: {'factors': 100, 'regularization': 0.01, 'alpha': 1, 'use_features': True, 'iterations': 10}. Best is trial 10 with value: 0.08396154411101982.\n"
     ]
    },
    {
     "data": {
      "application/vnd.jupyter.widget-view+json": {
       "model_id": "5794776ac0b8402f908b20e58f28fc68",
       "version_major": 2,
       "version_minor": 0
      },
      "text/plain": [
       "  0%|          | 0/10 [00:00<?, ?it/s]"
      ]
     },
     "metadata": {},
     "output_type": "display_data"
    },
    {
     "name": "stderr",
     "output_type": "stream",
     "text": [
      "[I 2023-12-12 09:46:11,266] Trial 12 finished with value: 0.08396154411101982 and parameters: {'factors': 100, 'regularization': 0.01, 'alpha': 1, 'use_features': True, 'iterations': 10}. Best is trial 10 with value: 0.08396154411101982.\n"
     ]
    },
    {
     "data": {
      "application/vnd.jupyter.widget-view+json": {
       "model_id": "26bce604eb67464daf9e8073ba12f0ac",
       "version_major": 2,
       "version_minor": 0
      },
      "text/plain": [
       "  0%|          | 0/10 [00:00<?, ?it/s]"
      ]
     },
     "metadata": {},
     "output_type": "display_data"
    },
    {
     "name": "stderr",
     "output_type": "stream",
     "text": [
      "[I 2023-12-12 09:49:05,258] Trial 13 finished with value: 0.08396154411101982 and parameters: {'factors': 100, 'regularization': 0.01, 'alpha': 1, 'use_features': True, 'iterations': 10}. Best is trial 10 with value: 0.08396154411101982.\n"
     ]
    },
    {
     "data": {
      "application/vnd.jupyter.widget-view+json": {
       "model_id": "06c6fb51f58a480b956a4040da3684b9",
       "version_major": 2,
       "version_minor": 0
      },
      "text/plain": [
       "  0%|          | 0/10 [00:00<?, ?it/s]"
      ]
     },
     "metadata": {},
     "output_type": "display_data"
    },
    {
     "name": "stderr",
     "output_type": "stream",
     "text": [
      "[I 2023-12-12 09:51:14,356] Trial 14 finished with value: 0.07819120186903519 and parameters: {'factors': 32, 'regularization': 0.01, 'alpha': 0.1, 'use_features': True, 'iterations': 10}. Best is trial 10 with value: 0.08396154411101982.\n"
     ]
    },
    {
     "data": {
      "application/vnd.jupyter.widget-view+json": {
       "model_id": "b4db52e9003e40aaa6fd2ab5258d3704",
       "version_major": 2,
       "version_minor": 0
      },
      "text/plain": [
       "  0%|          | 0/10 [00:00<?, ?it/s]"
      ]
     },
     "metadata": {},
     "output_type": "display_data"
    },
    {
     "name": "stderr",
     "output_type": "stream",
     "text": [
      "[I 2023-12-12 09:54:06,537] Trial 15 finished with value: 0.07768072002951644 and parameters: {'factors': 100, 'regularization': 0.01, 'alpha': 5, 'use_features': True, 'iterations': 10}. Best is trial 10 with value: 0.08396154411101982.\n"
     ]
    },
    {
     "data": {
      "application/vnd.jupyter.widget-view+json": {
       "model_id": "5b86fcee422d458ba5d65b575d63b623",
       "version_major": 2,
       "version_minor": 0
      },
      "text/plain": [
       "  0%|          | 0/10 [00:00<?, ?it/s]"
      ]
     },
     "metadata": {},
     "output_type": "display_data"
    },
    {
     "name": "stderr",
     "output_type": "stream",
     "text": [
      "[I 2023-12-12 09:56:57,773] Trial 16 finished with value: 0.08396154411101982 and parameters: {'factors': 100, 'regularization': 0.01, 'alpha': 1, 'use_features': True, 'iterations': 10}. Best is trial 10 with value: 0.08396154411101982.\n"
     ]
    },
    {
     "data": {
      "application/vnd.jupyter.widget-view+json": {
       "model_id": "c9e29c641a914263b73bc41e64c4a091",
       "version_major": 2,
       "version_minor": 0
      },
      "text/plain": [
       "  0%|          | 0/10 [00:00<?, ?it/s]"
      ]
     },
     "metadata": {},
     "output_type": "display_data"
    },
    {
     "name": "stderr",
     "output_type": "stream",
     "text": [
      "[I 2023-12-12 10:00:10,137] Trial 17 finished with value: 0.08855959672468518 and parameters: {'factors': 256, 'regularization': 0.05, 'alpha': 1, 'use_features': True, 'iterations': 10}. Best is trial 17 with value: 0.08855959672468518.\n"
     ]
    },
    {
     "data": {
      "application/vnd.jupyter.widget-view+json": {
       "model_id": "1d08023fa50c4171bb978ed39f9b1331",
       "version_major": 2,
       "version_minor": 0
      },
      "text/plain": [
       "  0%|          | 0/10 [00:00<?, ?it/s]"
      ]
     },
     "metadata": {},
     "output_type": "display_data"
    },
    {
     "name": "stderr",
     "output_type": "stream",
     "text": [
      "[I 2023-12-12 10:03:25,069] Trial 18 finished with value: 0.08855959672468518 and parameters: {'factors': 256, 'regularization': 0.05, 'alpha': 1, 'use_features': True, 'iterations': 10}. Best is trial 17 with value: 0.08855959672468518.\n"
     ]
    },
    {
     "data": {
      "application/vnd.jupyter.widget-view+json": {
       "model_id": "c1c647f0c1104e90acb1c737cf3fbcbd",
       "version_major": 2,
       "version_minor": 0
      },
      "text/plain": [
       "  0%|          | 0/10 [00:00<?, ?it/s]"
      ]
     },
     "metadata": {},
     "output_type": "display_data"
    },
    {
     "name": "stderr",
     "output_type": "stream",
     "text": [
      "[I 2023-12-12 10:06:36,681] Trial 19 finished with value: 0.07890629269397766 and parameters: {'factors': 256, 'regularization': 0.05, 'alpha': 0.1, 'use_features': True, 'iterations': 10}. Best is trial 17 with value: 0.08855959672468518.\n"
     ]
    }
   ],
   "source": [
    "als_study = optuna.create_study(direction=\"maximize\", study_name=\"ALS\", sampler=optuna.samplers.TPESampler(), pruner=optuna.pruners.NopPruner())\n",
    "als_study.optimize(als_objective, n_trials=ALS_N_TRIALS) "
   ]
  },
  {
   "cell_type": "code",
   "execution_count": 33,
   "id": "994e96bb-5251-4aec-88ac-b2cda99c3ec2",
   "metadata": {},
   "outputs": [
    {
     "name": "stdout",
     "output_type": "stream",
     "text": [
      "Параметры лучшей модели:  {'factors': 256, 'regularization': 0.05, 'alpha': 1, 'use_features': True, 'iterations': 10}\n",
      "MAP@10 лучшей модели:  0.08855959672468518\n"
     ]
    }
   ],
   "source": [
    "print(\"Параметры лучшей модели: \", als_study.best_params)\n",
    "print(\"MAP@10 лучшей модели: \", als_study.best_value)"
   ]
  },
  {
   "cell_type": "code",
   "execution_count": 34,
   "id": "a577cb32-daee-4f16-893f-1afaf720c45b",
   "metadata": {},
   "outputs": [
    {
     "data": {
      "text/html": [
       "<div>\n",
       "<style scoped>\n",
       "    .dataframe tbody tr th:only-of-type {\n",
       "        vertical-align: middle;\n",
       "    }\n",
       "\n",
       "    .dataframe tbody tr th {\n",
       "        vertical-align: top;\n",
       "    }\n",
       "\n",
       "    .dataframe thead th {\n",
       "        text-align: right;\n",
       "    }\n",
       "</style>\n",
       "<table border=\"1\" class=\"dataframe\">\n",
       "  <thead>\n",
       "    <tr style=\"text-align: right;\">\n",
       "      <th></th>\n",
       "      <th>model</th>\n",
       "      <th>value</th>\n",
       "    </tr>\n",
       "  </thead>\n",
       "  <tbody>\n",
       "    <tr>\n",
       "      <th>17</th>\n",
       "      <td>ALS_256_0.05_1.0_True_10</td>\n",
       "      <td>0.088560</td>\n",
       "    </tr>\n",
       "    <tr>\n",
       "      <th>18</th>\n",
       "      <td>ALS_256_0.05_1.0_True_10</td>\n",
       "      <td>0.088560</td>\n",
       "    </tr>\n",
       "    <tr>\n",
       "      <th>10</th>\n",
       "      <td>ALS_100_0.01_1.0_True_10</td>\n",
       "      <td>0.083962</td>\n",
       "    </tr>\n",
       "    <tr>\n",
       "      <th>11</th>\n",
       "      <td>ALS_100_0.01_1.0_True_10</td>\n",
       "      <td>0.083962</td>\n",
       "    </tr>\n",
       "    <tr>\n",
       "      <th>12</th>\n",
       "      <td>ALS_100_0.01_1.0_True_10</td>\n",
       "      <td>0.083962</td>\n",
       "    </tr>\n",
       "    <tr>\n",
       "      <th>13</th>\n",
       "      <td>ALS_100_0.01_1.0_True_10</td>\n",
       "      <td>0.083962</td>\n",
       "    </tr>\n",
       "    <tr>\n",
       "      <th>16</th>\n",
       "      <td>ALS_100_0.01_1.0_True_10</td>\n",
       "      <td>0.083962</td>\n",
       "    </tr>\n",
       "    <tr>\n",
       "      <th>19</th>\n",
       "      <td>ALS_256_0.05_0.1_True_10</td>\n",
       "      <td>0.078906</td>\n",
       "    </tr>\n",
       "    <tr>\n",
       "      <th>14</th>\n",
       "      <td>ALS_32_0.01_0.1_True_10</td>\n",
       "      <td>0.078191</td>\n",
       "    </tr>\n",
       "    <tr>\n",
       "      <th>15</th>\n",
       "      <td>ALS_100_0.01_5.0_True_10</td>\n",
       "      <td>0.077681</td>\n",
       "    </tr>\n",
       "    <tr>\n",
       "      <th>7</th>\n",
       "      <td>ALS_100_0.01_1.0_True_5</td>\n",
       "      <td>0.076218</td>\n",
       "    </tr>\n",
       "    <tr>\n",
       "      <th>0</th>\n",
       "      <td>ALS_64_0.01_1.0_True_5</td>\n",
       "      <td>0.076153</td>\n",
       "    </tr>\n",
       "    <tr>\n",
       "      <th>3</th>\n",
       "      <td>ALS_128_0.1_10.0_True_15</td>\n",
       "      <td>0.072054</td>\n",
       "    </tr>\n",
       "  </tbody>\n",
       "</table>\n",
       "</div>"
      ],
      "text/plain": [
       "                       model     value\n",
       "17  ALS_256_0.05_1.0_True_10  0.088560\n",
       "18  ALS_256_0.05_1.0_True_10  0.088560\n",
       "10  ALS_100_0.01_1.0_True_10  0.083962\n",
       "11  ALS_100_0.01_1.0_True_10  0.083962\n",
       "12  ALS_100_0.01_1.0_True_10  0.083962\n",
       "13  ALS_100_0.01_1.0_True_10  0.083962\n",
       "16  ALS_100_0.01_1.0_True_10  0.083962\n",
       "19  ALS_256_0.05_0.1_True_10  0.078906\n",
       "14   ALS_32_0.01_0.1_True_10  0.078191\n",
       "15  ALS_100_0.01_5.0_True_10  0.077681\n",
       "7    ALS_100_0.01_1.0_True_5  0.076218\n",
       "0     ALS_64_0.01_1.0_True_5  0.076153\n",
       "3   ALS_128_0.1_10.0_True_15  0.072054"
      ]
     },
     "execution_count": 34,
     "metadata": {},
     "output_type": "execute_result"
    }
   ],
   "source": [
    "preapare_dataframe(als_study.trials_dataframe(), \"ALS\", [\"factors\", \"regularization\", \"alpha\", \"use_features\", \"iterations\"])"
   ]
  },
  {
   "cell_type": "markdown",
   "id": "9de9bf46-32b9-472d-bf58-c1d9c76ea86e",
   "metadata": {},
   "source": [
    "#### Тюнинг LightFM"
   ]
  },
  {
   "cell_type": "code",
   "execution_count": 35,
   "id": "f226684c-7845-4da2-b165-1447c320cb3a",
   "metadata": {},
   "outputs": [],
   "source": [
    "LIGHTFM_N_TRIALS = 20"
   ]
  },
  {
   "cell_type": "code",
   "execution_count": 37,
   "id": "2b0a4c1d-dadc-42b9-8b95-4ae4ac0f37b8",
   "metadata": {},
   "outputs": [],
   "source": [
    "def lightfm_objective(trial: optuna.Trial):\n",
    "    global tuning_interactions, tuning_splitter, tuning_metrics\n",
    "\n",
    "    loss = trial.suggest_categorical(\"loss\", ['bpr', 'warp'])\n",
    "    no_components = trial.suggest_categorical(\"no_components\", [32, 64, 100, 128, 256])\n",
    "    learning_rate = trial.suggest_categorical(\"learning_rate\", [1e-2, 5e-2, 1e-1])\n",
    "    use_features = trial.suggest_categorical(\"use_features\", [True, False])\n",
    "    epochs = trial.suggest_categorical(\"epochs\", [5, 10, 15])\n",
    "    \n",
    "    lightfm_model = LightFMWrapperModel(\n",
    "        model=LightFM(\n",
    "            no_components=no_components,\n",
    "            loss=loss,\n",
    "            learning_rate=learning_rate,\n",
    "            random_state=RANDOM_STATE,\n",
    "        ),\n",
    "        epochs=epochs,\n",
    "        verbose=True\n",
    "    )\n",
    "    \n",
    "    score = train_and_calculate_score(lightfm_model, tuning_interactions, tuning_splitter, tuning_metrics, use_features=use_features)\n",
    "    return score"
   ]
  },
  {
   "cell_type": "code",
   "execution_count": 38,
   "id": "bca0d6b5-e488-4b8c-a0f1-c9c86db91301",
   "metadata": {},
   "outputs": [
    {
     "name": "stderr",
     "output_type": "stream",
     "text": [
      "[I 2023-12-12 10:12:10,838] A new study created in memory with name: LightFM\n",
      "Epoch: 100%|██████████| 5/5 [00:42<00:00,  8.49s/it]\n",
      "[I 2023-12-12 10:13:05,508] Trial 0 finished with value: 0.03569765821025379 and parameters: {'loss': 'bpr', 'no_components': 64, 'learning_rate': 0.01, 'use_features': False, 'epochs': 5}. Best is trial 0 with value: 0.03569765821025379.\n",
      "Epoch: 100%|██████████| 5/5 [02:50<00:00, 34.06s/it]\n",
      "[I 2023-12-12 10:16:10,807] Trial 1 finished with value: 9.524986623474032e-06 and parameters: {'loss': 'bpr', 'no_components': 128, 'learning_rate': 0.1, 'use_features': True, 'epochs': 5}. Best is trial 0 with value: 0.03569765821025379.\n",
      "Epoch: 100%|██████████| 10/10 [03:11<00:00, 19.18s/it]\n",
      "[I 2023-12-12 10:19:36,351] Trial 2 finished with value: 0.0603343920167774 and parameters: {'loss': 'warp', 'no_components': 100, 'learning_rate': 0.1, 'use_features': True, 'epochs': 10}. Best is trial 2 with value: 0.0603343920167774.\n",
      "Epoch: 100%|██████████| 5/5 [00:26<00:00,  5.33s/it]\n",
      "[I 2023-12-12 10:20:14,515] Trial 3 finished with value: 0.040209300771404576 and parameters: {'loss': 'bpr', 'no_components': 32, 'learning_rate': 0.01, 'use_features': False, 'epochs': 5}. Best is trial 2 with value: 0.0603343920167774.\n",
      "Epoch: 100%|██████████| 5/5 [01:05<00:00, 13.14s/it]\n",
      "[I 2023-12-12 10:21:34,037] Trial 4 finished with value: 5.387106246458243e-06 and parameters: {'loss': 'bpr', 'no_components': 128, 'learning_rate': 0.1, 'use_features': False, 'epochs': 5}. Best is trial 2 with value: 0.0603343920167774.\n",
      "Epoch: 100%|██████████| 5/5 [01:05<00:00, 13.13s/it]\n",
      "[I 2023-12-12 10:22:53,156] Trial 5 finished with value: 5.387106246458243e-06 and parameters: {'loss': 'bpr', 'no_components': 128, 'learning_rate': 0.1, 'use_features': False, 'epochs': 5}. Best is trial 2 with value: 0.0603343920167774.\n",
      "Epoch: 100%|██████████| 15/15 [01:47<00:00,  7.15s/it]\n",
      "[I 2023-12-12 10:24:52,753] Trial 6 finished with value: 0.08412266364266119 and parameters: {'loss': 'warp', 'no_components': 64, 'learning_rate': 0.05, 'use_features': False, 'epochs': 15}. Best is trial 6 with value: 0.08412266364266119.\n",
      "Epoch: 100%|██████████| 15/15 [05:24<00:00, 21.64s/it]\n",
      "[I 2023-12-12 10:30:34,609] Trial 7 finished with value: 0.08912688426521914 and parameters: {'loss': 'warp', 'no_components': 256, 'learning_rate': 0.01, 'use_features': False, 'epochs': 15}. Best is trial 7 with value: 0.08912688426521914.\n",
      "Epoch: 100%|██████████| 5/5 [00:40<00:00,  8.02s/it]\n",
      "[I 2023-12-12 10:31:27,201] Trial 8 finished with value: 0.03569765821025379 and parameters: {'loss': 'bpr', 'no_components': 64, 'learning_rate': 0.01, 'use_features': False, 'epochs': 5}. Best is trial 7 with value: 0.08912688426521914.\n",
      "Epoch: 100%|██████████| 10/10 [01:21<00:00,  8.19s/it]\n",
      "[I 2023-12-12 10:33:01,618] Trial 9 finished with value: 3.149672030605976e-05 and parameters: {'loss': 'bpr', 'no_components': 64, 'learning_rate': 0.05, 'use_features': False, 'epochs': 10}. Best is trial 7 with value: 0.08912688426521914.\n",
      "Epoch: 100%|██████████| 15/15 [12:40<00:00, 50.71s/it]\n",
      "[I 2023-12-12 10:46:00,377] Trial 10 finished with value: 0.0755087613113656 and parameters: {'loss': 'warp', 'no_components': 256, 'learning_rate': 0.01, 'use_features': True, 'epochs': 15}. Best is trial 7 with value: 0.08912688426521914.\n",
      "Epoch: 100%|██████████| 15/15 [04:31<00:00, 18.08s/it]\n",
      "[I 2023-12-12 10:50:47,567] Trial 11 finished with value: 0.08485863454229643 and parameters: {'loss': 'warp', 'no_components': 256, 'learning_rate': 0.05, 'use_features': False, 'epochs': 15}. Best is trial 7 with value: 0.08912688426521914.\n",
      "Epoch: 100%|██████████| 15/15 [04:19<00:00, 17.31s/it]\n",
      "[I 2023-12-12 10:55:23,210] Trial 12 finished with value: 0.08485863454229643 and parameters: {'loss': 'warp', 'no_components': 256, 'learning_rate': 0.05, 'use_features': False, 'epochs': 15}. Best is trial 7 with value: 0.08912688426521914.\n",
      "Epoch: 100%|██████████| 15/15 [04:18<00:00, 17.25s/it]\n",
      "[I 2023-12-12 10:59:57,722] Trial 13 finished with value: 0.08485863454229643 and parameters: {'loss': 'warp', 'no_components': 256, 'learning_rate': 0.05, 'use_features': False, 'epochs': 15}. Best is trial 7 with value: 0.08912688426521914.\n",
      "Epoch: 100%|██████████| 15/15 [11:51<00:00, 47.43s/it]\n",
      "[I 2023-12-12 11:12:05,936] Trial 14 finished with value: 0.0755087613113656 and parameters: {'loss': 'warp', 'no_components': 256, 'learning_rate': 0.01, 'use_features': True, 'epochs': 15}. Best is trial 7 with value: 0.08912688426521914.\n",
      "Epoch: 100%|██████████| 15/15 [04:18<00:00, 17.21s/it]\n",
      "[I 2023-12-12 11:16:39,650] Trial 15 finished with value: 0.08485863454229643 and parameters: {'loss': 'warp', 'no_components': 256, 'learning_rate': 0.05, 'use_features': False, 'epochs': 15}. Best is trial 7 with value: 0.08912688426521914.\n",
      "Epoch: 100%|██████████| 15/15 [02:09<00:00,  8.64s/it]\n",
      "[I 2023-12-12 11:19:01,462] Trial 16 finished with value: 0.0832340875335088 and parameters: {'loss': 'warp', 'no_components': 100, 'learning_rate': 0.05, 'use_features': False, 'epochs': 15}. Best is trial 7 with value: 0.08912688426521914.\n",
      "Epoch: 100%|██████████| 15/15 [01:11<00:00,  4.78s/it]\n",
      "[I 2023-12-12 11:20:23,887] Trial 17 finished with value: 0.08759981631531273 and parameters: {'loss': 'warp', 'no_components': 32, 'learning_rate': 0.01, 'use_features': False, 'epochs': 15}. Best is trial 7 with value: 0.08912688426521914.\n",
      "Epoch: 100%|██████████| 10/10 [01:30<00:00,  9.04s/it]\n",
      "[I 2023-12-12 11:22:05,847] Trial 18 finished with value: 0.08295814792491124 and parameters: {'loss': 'warp', 'no_components': 32, 'learning_rate': 0.01, 'use_features': True, 'epochs': 10}. Best is trial 7 with value: 0.08912688426521914.\n",
      "Epoch: 100%|██████████| 15/15 [01:09<00:00,  4.65s/it]\n",
      "[I 2023-12-12 11:23:26,724] Trial 19 finished with value: 0.08759981631531273 and parameters: {'loss': 'warp', 'no_components': 32, 'learning_rate': 0.01, 'use_features': False, 'epochs': 15}. Best is trial 7 with value: 0.08912688426521914.\n"
     ]
    }
   ],
   "source": [
    "lightfm_study = optuna.create_study(direction=\"maximize\", study_name=\"LightFM\", sampler=optuna.samplers.TPESampler(), pruner=optuna.pruners.NopPruner())\n",
    "lightfm_study.optimize(lightfm_objective, n_trials=LIGHTFM_N_TRIALS) "
   ]
  },
  {
   "cell_type": "code",
   "execution_count": 39,
   "id": "69e51f79-6709-4c07-95ed-ae88bc28651a",
   "metadata": {},
   "outputs": [
    {
     "name": "stdout",
     "output_type": "stream",
     "text": [
      "Параметры лучшей модели:  {'loss': 'warp', 'no_components': 256, 'learning_rate': 0.01, 'use_features': False, 'epochs': 15}\n",
      "MAP@10 лучшей модели:  0.08912688426521914\n"
     ]
    }
   ],
   "source": [
    "print(\"Параметры лучшей модели: \", lightfm_study.best_params)\n",
    "print(\"MAP@10 лучшей модели: \", lightfm_study.best_value)"
   ]
  },
  {
   "cell_type": "code",
   "execution_count": 40,
   "id": "2a9f85ba-225c-4187-909f-8c31b3f168a4",
   "metadata": {},
   "outputs": [
    {
     "data": {
      "text/html": [
       "<div>\n",
       "<style scoped>\n",
       "    .dataframe tbody tr th:only-of-type {\n",
       "        vertical-align: middle;\n",
       "    }\n",
       "\n",
       "    .dataframe tbody tr th {\n",
       "        vertical-align: top;\n",
       "    }\n",
       "\n",
       "    .dataframe thead th {\n",
       "        text-align: right;\n",
       "    }\n",
       "</style>\n",
       "<table border=\"1\" class=\"dataframe\">\n",
       "  <thead>\n",
       "    <tr style=\"text-align: right;\">\n",
       "      <th></th>\n",
       "      <th>model</th>\n",
       "      <th>value</th>\n",
       "    </tr>\n",
       "  </thead>\n",
       "  <tbody>\n",
       "    <tr>\n",
       "      <th>7</th>\n",
       "      <td>LightFM_0.01_warp_256_False_15</td>\n",
       "      <td>0.089127</td>\n",
       "    </tr>\n",
       "    <tr>\n",
       "      <th>17</th>\n",
       "      <td>LightFM_0.01_warp_32_False_15</td>\n",
       "      <td>0.087600</td>\n",
       "    </tr>\n",
       "    <tr>\n",
       "      <th>19</th>\n",
       "      <td>LightFM_0.01_warp_32_False_15</td>\n",
       "      <td>0.087600</td>\n",
       "    </tr>\n",
       "    <tr>\n",
       "      <th>11</th>\n",
       "      <td>LightFM_0.05_warp_256_False_15</td>\n",
       "      <td>0.084859</td>\n",
       "    </tr>\n",
       "    <tr>\n",
       "      <th>12</th>\n",
       "      <td>LightFM_0.05_warp_256_False_15</td>\n",
       "      <td>0.084859</td>\n",
       "    </tr>\n",
       "    <tr>\n",
       "      <th>13</th>\n",
       "      <td>LightFM_0.05_warp_256_False_15</td>\n",
       "      <td>0.084859</td>\n",
       "    </tr>\n",
       "    <tr>\n",
       "      <th>15</th>\n",
       "      <td>LightFM_0.05_warp_256_False_15</td>\n",
       "      <td>0.084859</td>\n",
       "    </tr>\n",
       "    <tr>\n",
       "      <th>6</th>\n",
       "      <td>LightFM_0.05_warp_64_False_15</td>\n",
       "      <td>0.084123</td>\n",
       "    </tr>\n",
       "    <tr>\n",
       "      <th>16</th>\n",
       "      <td>LightFM_0.05_warp_100_False_15</td>\n",
       "      <td>0.083234</td>\n",
       "    </tr>\n",
       "    <tr>\n",
       "      <th>18</th>\n",
       "      <td>LightFM_0.01_warp_32_True_10</td>\n",
       "      <td>0.082958</td>\n",
       "    </tr>\n",
       "    <tr>\n",
       "      <th>10</th>\n",
       "      <td>LightFM_0.01_warp_256_True_15</td>\n",
       "      <td>0.075509</td>\n",
       "    </tr>\n",
       "    <tr>\n",
       "      <th>14</th>\n",
       "      <td>LightFM_0.01_warp_256_True_15</td>\n",
       "      <td>0.075509</td>\n",
       "    </tr>\n",
       "    <tr>\n",
       "      <th>2</th>\n",
       "      <td>LightFM_0.1_warp_100_True_10</td>\n",
       "      <td>0.060334</td>\n",
       "    </tr>\n",
       "  </tbody>\n",
       "</table>\n",
       "</div>"
      ],
      "text/plain": [
       "                             model     value\n",
       "7   LightFM_0.01_warp_256_False_15  0.089127\n",
       "17   LightFM_0.01_warp_32_False_15  0.087600\n",
       "19   LightFM_0.01_warp_32_False_15  0.087600\n",
       "11  LightFM_0.05_warp_256_False_15  0.084859\n",
       "12  LightFM_0.05_warp_256_False_15  0.084859\n",
       "13  LightFM_0.05_warp_256_False_15  0.084859\n",
       "15  LightFM_0.05_warp_256_False_15  0.084859\n",
       "6    LightFM_0.05_warp_64_False_15  0.084123\n",
       "16  LightFM_0.05_warp_100_False_15  0.083234\n",
       "18    LightFM_0.01_warp_32_True_10  0.082958\n",
       "10   LightFM_0.01_warp_256_True_15  0.075509\n",
       "14   LightFM_0.01_warp_256_True_15  0.075509\n",
       "2     LightFM_0.1_warp_100_True_10  0.060334"
      ]
     },
     "execution_count": 40,
     "metadata": {},
     "output_type": "execute_result"
    }
   ],
   "source": [
    "preapare_dataframe(lightfm_study.trials_dataframe(), \"LightFM\", [\"learning_rate\", \"loss\", \"no_components\", \"use_features\", \"epochs\"])"
   ]
  },
  {
   "cell_type": "markdown",
   "id": "8d7fd07c-e23a-4be4-a349-209021dba65c",
   "metadata": {},
   "source": [
    "В дальнейшем будем использовать LightFM-модель, так как она без фичей смогла достигнуть большего качества"
   ]
  },
  {
   "cell_type": "markdown",
   "id": "bdbea760-17ae-4c9f-b20e-1d57fa85467a",
   "metadata": {},
   "source": [
    "#### Подготовка лучшей модели для сервиса"
   ]
  },
  {
   "cell_type": "markdown",
   "id": "6a497de8-7be3-4092-8f29-20951a80a36f",
   "metadata": {},
   "source": [
    "1. Сформируем датасет\n",
    "2. Обучим модель с наилучшими параметрами\n",
    "3. Сохраним и загрузим модель и маппинг айтемов и юзеров\n",
    "4. Создадим функцию для получения рекомендаций\n",
    "5. Сравним созданную функцию с функцией из rectools по времени"
   ]
  },
  {
   "cell_type": "code",
   "execution_count": 41,
   "id": "846ebc1c-e3c3-47e9-a622-6219ca6d4633",
   "metadata": {},
   "outputs": [],
   "source": [
    "final_dataset = Dataset.construct(interactions_df)"
   ]
  },
  {
   "cell_type": "code",
   "execution_count": 42,
   "id": "b2e01433-ef7b-4bff-bdbc-49a473324424",
   "metadata": {},
   "outputs": [],
   "source": [
    "best_model = LightFMWrapperModel(\n",
    "    model=LightFM(\n",
    "        no_components=256,\n",
    "        loss=\"warp\",\n",
    "        learning_rate=0.01,\n",
    "        random_state=RANDOM_STATE,\n",
    "    ),\n",
    "    epochs=15,\n",
    "    verbose=True\n",
    ")"
   ]
  },
  {
   "cell_type": "code",
   "execution_count": 43,
   "id": "f5719daa-0422-45d4-9b2c-0473b233f087",
   "metadata": {},
   "outputs": [
    {
     "name": "stderr",
     "output_type": "stream",
     "text": [
      "Epoch: 100%|██████████| 15/15 [05:30<00:00, 22.02s/it]\n"
     ]
    },
    {
     "data": {
      "text/plain": [
       "<rectools.models.lightfm.LightFMWrapperModel at 0x7f7fc160f310>"
      ]
     },
     "execution_count": 43,
     "metadata": {},
     "output_type": "execute_result"
    }
   ],
   "source": [
    "best_model.fit(final_dataset)"
   ]
  },
  {
   "cell_type": "code",
   "execution_count": 44,
   "id": "83752a44-f1ab-424d-95c1-22024abb3657",
   "metadata": {},
   "outputs": [],
   "source": [
    "with open('lightfm.pickle', 'wb') as f:\n",
    "    pickle.dump(best_model.model, f, protocol=pickle.HIGHEST_PROTOCOL)"
   ]
  },
  {
   "cell_type": "code",
   "execution_count": 45,
   "id": "675bfc18-e1c9-4364-bb40-e84ce7b0c3f3",
   "metadata": {},
   "outputs": [],
   "source": [
    "with open('lightfm.pickle', 'rb') as fle:\n",
    "    loaded_model = pickle.load(fle)"
   ]
  },
  {
   "cell_type": "code",
   "execution_count": 47,
   "id": "ddd2db7c-328f-4bd2-a86c-ac758d961169",
   "metadata": {},
   "outputs": [],
   "source": [
    "item_inv_mappings = final_dataset.item_id_map.to_external.to_dict()\n",
    "with open('lightfm_item_inv_mappings.json', 'w', encoding=\"utf-8\") as f:\n",
    "    json.dump(item_inv_mappings, f)\n",
    "with open('lightfm_item_inv_mappings.json', 'r', encoding=\"utf-8\") as f:\n",
    "    loaded_item_inv_mappings = json.load(f)"
   ]
  },
  {
   "cell_type": "code",
   "execution_count": 48,
   "id": "dba13f95-e7d3-475a-98ea-64ab4ee8cf12",
   "metadata": {},
   "outputs": [],
   "source": [
    "user_mappings = final_dataset.user_id_map.to_internal.to_dict()\n",
    "with open('lightfm_user_mappings.json', 'w', encoding=\"utf-8\") as f:\n",
    "    json.dump(user_mappings, f)\n",
    "with open('lightfm_user_mappings.json', 'r', encoding=\"utf-8\") as f:\n",
    "    loaded_user_mappings = json.load(f)"
   ]
  },
  {
   "cell_type": "code",
   "execution_count": 49,
   "id": "c92e0e5f-c201-4ab8-8861-dba0185acfeb",
   "metadata": {},
   "outputs": [],
   "source": [
    "def get_recommendations(model, user_id, item_inv_mappings, k):\n",
    "    all_items = np.arange(len(item_inv_mappings))\n",
    "    scores = model.predict(user_id, all_items)\n",
    "    indicies = np.argpartition(scores, -k)[-k:][::-1]\n",
    "    item_id_list = [item_inv_mappings[str(ind)] for ind in indicies]\n",
    "    return item_id_list"
   ]
  },
  {
   "cell_type": "code",
   "execution_count": 50,
   "id": "3e7a173b-30a5-4d13-94ef-07d1de6832c0",
   "metadata": {},
   "outputs": [
    {
     "name": "stdout",
     "output_type": "stream",
     "text": [
      "Рекомендации: [9728, 3734, 12173, 14317, 7626, 12841, 13865, 10942, 11310, 15297]\n",
      "True\n"
     ]
    }
   ],
   "source": [
    "external_user_id = 307436\n",
    "internal_user_id = loaded_user_mappings[str(external_user_id)]\n",
    "result_1 = get_recommendations(loaded_model, internal_user_id, loaded_item_inv_mappings, K_RECOMMENDATIONS)\n",
    "\n",
    "reco_df = best_model.recommend([external_user_id], final_dataset, k=K_RECOMMENDATIONS, filter_viewed=False)\n",
    "result_2 = list(reco_df[Columns.Item].values)\n",
    "\n",
    "print(\"Рекомендации:\", result_1)\n",
    "print(set(result_1) == set(result_2))"
   ]
  },
  {
   "cell_type": "code",
   "execution_count": 51,
   "id": "61431bc4-b801-4274-85a8-352c8254cb87",
   "metadata": {},
   "outputs": [
    {
     "name": "stdout",
     "output_type": "stream",
     "text": [
      "5.77 ms ± 81.1 µs per loop (mean ± std. dev. of 7 runs, 100 loops each)\n"
     ]
    }
   ],
   "source": [
    "%%timeit\n",
    "get_recommendations(loaded_model, internal_user_id, loaded_item_inv_mappings, K_RECOMMENDATIONS)"
   ]
  },
  {
   "cell_type": "code",
   "execution_count": 52,
   "id": "39aa7426-5f67-4450-a6ec-b3a7cab8c026",
   "metadata": {},
   "outputs": [
    {
     "name": "stdout",
     "output_type": "stream",
     "text": [
      "585 ms ± 26 ms per loop (mean ± std. dev. of 7 runs, 1 loop each)\n"
     ]
    }
   ],
   "source": [
    "%%timeit\n",
    "best_model.recommend([external_user_id], final_dataset, k=K_RECOMMENDATIONS, filter_viewed=False)"
   ]
  },
  {
   "cell_type": "code",
   "execution_count": 53,
   "id": "7012e159-808f-45a8-9f43-b1bcf2b590af",
   "metadata": {},
   "outputs": [
    {
     "data": {
      "text/html": [
       "<div>\n",
       "<style scoped>\n",
       "    .dataframe tbody tr th:only-of-type {\n",
       "        vertical-align: middle;\n",
       "    }\n",
       "\n",
       "    .dataframe tbody tr th {\n",
       "        vertical-align: top;\n",
       "    }\n",
       "\n",
       "    .dataframe thead th {\n",
       "        text-align: right;\n",
       "    }\n",
       "</style>\n",
       "<table border=\"1\" class=\"dataframe\">\n",
       "  <thead>\n",
       "    <tr style=\"text-align: right;\">\n",
       "      <th></th>\n",
       "      <th>user_id</th>\n",
       "      <th>item_id</th>\n",
       "      <th>score</th>\n",
       "      <th>rank</th>\n",
       "    </tr>\n",
       "  </thead>\n",
       "  <tbody>\n",
       "    <tr>\n",
       "      <th>0</th>\n",
       "      <td>307436</td>\n",
       "      <td>9728</td>\n",
       "      <td>4.615136</td>\n",
       "      <td>1</td>\n",
       "    </tr>\n",
       "    <tr>\n",
       "      <th>1</th>\n",
       "      <td>307436</td>\n",
       "      <td>3734</td>\n",
       "      <td>4.566100</td>\n",
       "      <td>2</td>\n",
       "    </tr>\n",
       "    <tr>\n",
       "      <th>2</th>\n",
       "      <td>307436</td>\n",
       "      <td>7626</td>\n",
       "      <td>4.498588</td>\n",
       "      <td>3</td>\n",
       "    </tr>\n",
       "    <tr>\n",
       "      <th>3</th>\n",
       "      <td>307436</td>\n",
       "      <td>12173</td>\n",
       "      <td>4.466572</td>\n",
       "      <td>4</td>\n",
       "    </tr>\n",
       "    <tr>\n",
       "      <th>4</th>\n",
       "      <td>307436</td>\n",
       "      <td>12841</td>\n",
       "      <td>4.245051</td>\n",
       "      <td>5</td>\n",
       "    </tr>\n",
       "    <tr>\n",
       "      <th>5</th>\n",
       "      <td>307436</td>\n",
       "      <td>13865</td>\n",
       "      <td>4.158761</td>\n",
       "      <td>6</td>\n",
       "    </tr>\n",
       "    <tr>\n",
       "      <th>6</th>\n",
       "      <td>307436</td>\n",
       "      <td>10942</td>\n",
       "      <td>4.054182</td>\n",
       "      <td>7</td>\n",
       "    </tr>\n",
       "    <tr>\n",
       "      <th>7</th>\n",
       "      <td>307436</td>\n",
       "      <td>5693</td>\n",
       "      <td>4.006406</td>\n",
       "      <td>8</td>\n",
       "    </tr>\n",
       "    <tr>\n",
       "      <th>8</th>\n",
       "      <td>307436</td>\n",
       "      <td>1785</td>\n",
       "      <td>4.005476</td>\n",
       "      <td>9</td>\n",
       "    </tr>\n",
       "    <tr>\n",
       "      <th>9</th>\n",
       "      <td>307436</td>\n",
       "      <td>4436</td>\n",
       "      <td>3.992713</td>\n",
       "      <td>10</td>\n",
       "    </tr>\n",
       "  </tbody>\n",
       "</table>\n",
       "</div>"
      ],
      "text/plain": [
       "   user_id  item_id     score  rank\n",
       "0   307436     9728  4.615136     1\n",
       "1   307436     3734  4.566100     2\n",
       "2   307436     7626  4.498588     3\n",
       "3   307436    12173  4.466572     4\n",
       "4   307436    12841  4.245051     5\n",
       "5   307436    13865  4.158761     6\n",
       "6   307436    10942  4.054182     7\n",
       "7   307436     5693  4.006406     8\n",
       "8   307436     1785  4.005476     9\n",
       "9   307436     4436  3.992713    10"
      ]
     },
     "execution_count": 53,
     "metadata": {},
     "output_type": "execute_result"
    }
   ],
   "source": [
    "best_model.recommend([307436], final_dataset, k=K_RECOMMENDATIONS, filter_viewed=True)"
   ]
  },
  {
   "cell_type": "markdown",
   "id": "5a219f63-7285-4aa8-b5d8-4832c7f225e0",
   "metadata": {},
   "source": [
    "Использование нативной модели из implicit позволяет добиться 100 кратного увеличения скорости. Эта же модель будет использоваться в сервисе, но для неё еще будет добавлена фильтрация для просмотренных фильмов и добавление популярных айтемов для холодных пользователей"
   ]
  },
  {
   "cell_type": "markdown",
   "id": "d90fda38-dec3-46b5-acd3-eae9511e5a01",
   "metadata": {},
   "source": [
    "### Использование метода приближенного поиска соседей для выдачи рекомендаций (3 балла)"
   ]
  },
  {
   "cell_type": "markdown",
   "id": "eeb57b44-86de-4463-a8b5-e097aa432a10",
   "metadata": {},
   "source": [
    "#### Подготовка"
   ]
  },
  {
   "cell_type": "code",
   "execution_count": 54,
   "id": "5ac4d85e-d06b-44a4-81a6-55ea095b726f",
   "metadata": {},
   "outputs": [],
   "source": [
    "user_embeddings, item_embeddings = best_model.get_vectors(final_dataset)"
   ]
  },
  {
   "cell_type": "code",
   "execution_count": 70,
   "id": "363520d5-dd83-493c-87ba-635dd2412475",
   "metadata": {},
   "outputs": [],
   "source": [
    "user_embeddings = user_embeddings.astype(np.float32)\n",
    "item_embeddings = item_embeddings.astype(np.float32)"
   ]
  },
  {
   "cell_type": "code",
   "execution_count": 71,
   "id": "2c38a67a-ba50-4ae3-a9d4-8f5b74bad257",
   "metadata": {},
   "outputs": [],
   "source": [
    "user_vector = user_embeddings[internal_user_id].reshape(1, -1)"
   ]
  },
  {
   "cell_type": "code",
   "execution_count": 72,
   "id": "3b550934-d1b9-4a70-a60a-311e95e13e89",
   "metadata": {},
   "outputs": [
    {
     "data": {
      "text/plain": [
       "(14106, 258)"
      ]
     },
     "execution_count": 72,
     "metadata": {},
     "output_type": "execute_result"
    }
   ],
   "source": [
    "item_embeddings.shape"
   ]
  },
  {
   "cell_type": "code",
   "execution_count": 73,
   "id": "480951e8-4b2d-4292-b1f9-1d6510cf54dd",
   "metadata": {},
   "outputs": [
    {
     "data": {
      "text/plain": [
       "(809465, 258)"
      ]
     },
     "execution_count": 73,
     "metadata": {},
     "output_type": "execute_result"
    }
   ],
   "source": [
    "user_embeddings.shape"
   ]
  },
  {
   "cell_type": "markdown",
   "id": "583ca186-e27d-47b8-b7ce-45a31c279c68",
   "metadata": {},
   "source": [
    "#### Линейный поиск (Flat index)"
   ]
  },
  {
   "cell_type": "markdown",
   "id": "feacb56d-3ffe-42ba-9416-da7eaaf5ffd7",
   "metadata": {},
   "source": [
    "Для данного датасета с числом айтемов чуть больше 14 тыс. достаточно будет простого поиска ближайших соседей, реализованного в faiss.IndexFlatIP. Данный класс работает с MaxInnerProduct и не требуется дополнительная предобработка векторов"
   ]
  },
  {
   "cell_type": "code",
   "execution_count": 74,
   "id": "7a0f1be0-60f5-4641-8ff6-6f03ce6e3bee",
   "metadata": {},
   "outputs": [],
   "source": [
    "d = item_embeddings.shape[1]\n",
    "k = K_RECOMMENDATIONS\n",
    "\n",
    "index = faiss.IndexFlatIP(d)\n",
    "index.add(item_embeddings.astype(np.float32))\n",
    "D, I = index.search(user_vector, k)"
   ]
  },
  {
   "cell_type": "code",
   "execution_count": 75,
   "id": "f18ffab1-ffb4-47dd-b83e-9b1108e2851c",
   "metadata": {},
   "outputs": [
    {
     "name": "stdout",
     "output_type": "stream",
     "text": [
      "Рекомендации: [9728, 3734, 7626, 12173, 14317, 12841, 13865, 10942, 11310, 15297]\n",
      "True\n"
     ]
    }
   ],
   "source": [
    "result_3 = [loaded_item_inv_mappings[str(ind)] for ind in list(I.reshape(-1))]\n",
    "print(\"Рекомендации:\", result_3)\n",
    "print(set(result_1) == set(result_3))"
   ]
  },
  {
   "cell_type": "code",
   "execution_count": 76,
   "id": "4fe28fbd-834a-4f85-adc9-4130d4db7aea",
   "metadata": {},
   "outputs": [
    {
     "name": "stdout",
     "output_type": "stream",
     "text": [
      "358 µs ± 6.24 µs per loop (mean ± std. dev. of 7 runs, 1,000 loops each)\n"
     ]
    }
   ],
   "source": [
    "%%timeit\n",
    "D, I = index.search(user_vector, k)\n",
    "[loaded_item_inv_mappings[str(ind)] for ind in list(I.reshape(-1))]"
   ]
  },
  {
   "cell_type": "markdown",
   "id": "4869c49c-87bb-4ef2-be07-cf4126cfca02",
   "metadata": {},
   "source": [
    "Заметен прирост скорости почти в 1000 раз по сравнению с implicit.LightFM, но это и не удивительно так как мы используем уже готовые вектора и просто ищем ближайшие по MaxInnerProduct к вектору пользователя"
   ]
  },
  {
   "cell_type": "markdown",
   "id": "8f453328-652a-4bc6-90a6-9781bc58f328",
   "metadata": {},
   "source": [
    "#### Графовый поиск (Hierarchical Navigable Small World Graphs)"
   ]
  },
  {
   "cell_type": "markdown",
   "id": "78609cf6-cad3-42f5-b52e-ddb53cd8e7b9",
   "metadata": {},
   "source": [
    "faiss.IndexHNSWFlat не адаптирована для максимизации InnerProduct, однако можно трансформировать имеющиеся вектора айтемов и юзера, чтобы минимизация евклидовой метрики решало задачу MaxInnerProduct"
   ]
  },
  {
   "cell_type": "code",
   "execution_count": 77,
   "id": "22fd5c16-f910-4686-be49-4c11b96a6431",
   "metadata": {},
   "outputs": [],
   "source": [
    "def get_phi(xb): \n",
    "    return (xb ** 2).sum(1).max()\n",
    "\n",
    "def augment_xb(xb, phi=None): \n",
    "    norms = (xb ** 2).sum(1)\n",
    "    if phi is None: \n",
    "        phi = norms.max()\n",
    "    extracol = np.sqrt(phi - norms)\n",
    "    return np.hstack((xb, extracol.reshape(-1, 1)))\n",
    "\n",
    "def augment_xq(xq): \n",
    "    extracol = np.zeros(len(xq), dtype='float32')\n",
    "    return np.hstack((xq, extracol.reshape(-1, 1)))"
   ]
  },
  {
   "cell_type": "code",
   "execution_count": 78,
   "id": "4d7b36a3-4bbd-4a70-83d0-93f3273d69ee",
   "metadata": {},
   "outputs": [],
   "source": [
    "M = 48\n",
    "ef_search = 16\n",
    "ef_construction = 64\n",
    "\n",
    "k = K_RECOMMENDATIONS\n",
    "\n",
    "d = item_embeddings.shape[1]\n",
    "index = faiss.IndexHNSWFlat(d + 1, M) # extra dim\n",
    "index.hnsw.efConstruction = ef_construction\n",
    "index.hnsw.efSearch = ef_search\n",
    "index.add(augment_xb(item_embeddings))\n",
    "augmented_user_vector = augment_xq(user_vector)\n",
    "\n",
    "D, I = index.search(augmented_user_vector, k)"
   ]
  },
  {
   "cell_type": "code",
   "execution_count": 79,
   "id": "41d82e8f-5694-4f9c-b166-14879682a691",
   "metadata": {},
   "outputs": [
    {
     "name": "stdout",
     "output_type": "stream",
     "text": [
      "Рекомендации: [9728, 3734, 7626, 12173, 14317, 12841, 13865, 10942, 11310, 15297]\n",
      "True\n"
     ]
    }
   ],
   "source": [
    "result_4 = [loaded_item_inv_mappings[str(ind)] for ind in list(I.reshape(-1))]\n",
    "print(\"Рекомендации:\", result_4)\n",
    "print(set(result_1) == set(result_4))"
   ]
  },
  {
   "cell_type": "code",
   "execution_count": 80,
   "id": "51a2723e-e699-4706-82db-8495221ec28f",
   "metadata": {},
   "outputs": [
    {
     "name": "stdout",
     "output_type": "stream",
     "text": [
      "58.6 µs ± 11.8 µs per loop (mean ± std. dev. of 7 runs, 10,000 loops each)\n"
     ]
    }
   ],
   "source": [
    "%%timeit\n",
    "D, I = index.search(augmented_user_vector, k)\n",
    "[loaded_item_inv_mappings[str(ind)] for ind in list(I.reshape(-1))]"
   ]
  },
  {
   "cell_type": "markdown",
   "id": "0a9d1adf-3859-47fc-9d28-0ee104448106",
   "metadata": {},
   "source": [
    "Выигрыш в скорости почти в 7 раз. И его можно еще повысить, засчет уменьшения M и ef_search, однако это повлияет на качество поиска"
   ]
  },
  {
   "cell_type": "markdown",
   "id": "e21f2c2a-4bee-4385-a528-d71de04cc023",
   "metadata": {},
   "source": [
    "#### Сохранение преобразованных векторов для сервиса"
   ]
  },
  {
   "cell_type": "markdown",
   "id": "58fe8ace-e471-4cb4-8355-18c8c12ac9ea",
   "metadata": {},
   "source": [
    "В сервисе будем использовать уже предобработанные вектора, чтобы не тратить время на преобразования в рантайме"
   ]
  },
  {
   "cell_type": "code",
   "execution_count": 81,
   "id": "e43ab48a-6502-48cb-bf0c-7d651efcf15e",
   "metadata": {},
   "outputs": [],
   "source": [
    "augmented_user_embeddings = augment_xq(user_embeddings)\n",
    "augmented_item_embeddings = augment_xb(item_embeddings)"
   ]
  },
  {
   "cell_type": "code",
   "execution_count": 82,
   "id": "c5319413-b419-4a5e-bcea-b56fea8701f3",
   "metadata": {},
   "outputs": [],
   "source": [
    "with open(\"hnsw_user_embeddings.npy\", \"wb\") as f:\n",
    "    np.save(f, augmented_user_embeddings)\n",
    "with open(\"hnsw_user_embeddings.npy\", \"rb\") as f:\n",
    "    loaded_user_embeddings = np.load(f)"
   ]
  },
  {
   "cell_type": "code",
   "execution_count": 83,
   "id": "3fb0bc4f-f609-4069-8046-9c478a32684b",
   "metadata": {},
   "outputs": [],
   "source": [
    "with open(\"hnsw_item_embeddings.npy\", \"wb\") as f:\n",
    "    np.save(f, augmented_item_embeddings)\n",
    "with open(\"hnsw_item_embeddings.npy\", \"rb\") as f:\n",
    "    loaded_item_embeddings = np.load(f)"
   ]
  },
  {
   "cell_type": "code",
   "execution_count": 88,
   "id": "dcd45c11-e35f-45c9-bfab-048363e952ad",
   "metadata": {},
   "outputs": [],
   "source": [
    "M = 48\n",
    "ef_search = 16\n",
    "ef_construction = 64\n",
    "\n",
    "d = 258\n",
    "index = faiss.IndexHNSWFlat(d + 1, M)\n",
    "index.hnsw.efConstruction = ef_construction\n",
    "index.hnsw.efSearch = ef_search\n",
    "index.add(loaded_item_embeddings)"
   ]
  },
  {
   "cell_type": "code",
   "execution_count": 89,
   "id": "17ff2261-4246-4f64-90c5-18569b132c16",
   "metadata": {},
   "outputs": [],
   "source": [
    "def get_recommendations(index, user_id, user_embeddings, user_mappings, item_inv_mappings, k):\n",
    "    user_vector = user_embeddings[user_mappings[str(user_id)]].reshape(1, -1)\n",
    "    _, indicies = index.search(user_vector, k)\n",
    "    item_id_list = [item_inv_mappings[str(ind)] for ind in indicies.reshape(-1)]\n",
    "    return item_id_list"
   ]
  },
  {
   "cell_type": "code",
   "execution_count": 90,
   "id": "9ff3d0c7-a389-4339-8805-cb7b45634ea7",
   "metadata": {},
   "outputs": [
    {
     "name": "stdout",
     "output_type": "stream",
     "text": [
      "Рекомендации: [9728, 3734, 7626, 12173, 14317, 12841, 13865, 10942, 11310, 15297]\n",
      "True\n"
     ]
    }
   ],
   "source": [
    "result_5 = get_recommendations(index, external_user_id, loaded_user_embeddings, loaded_user_mappings, loaded_item_inv_mappings, K_RECOMMENDATIONS)\n",
    "print(\"Рекомендации:\", result_5)\n",
    "print(set(result_5) == set(result_1))"
   ]
  },
  {
   "cell_type": "code",
   "execution_count": 91,
   "id": "32ecf5d5-9128-411f-a775-4c7b36923ba8",
   "metadata": {},
   "outputs": [
    {
     "name": "stdout",
     "output_type": "stream",
     "text": [
      "52.5 µs ± 3.91 µs per loop (mean ± std. dev. of 7 runs, 10,000 loops each)\n"
     ]
    }
   ],
   "source": [
    "%%timeit\n",
    "get_recommendations(index, external_user_id, loaded_user_embeddings, loaded_user_mappings, loaded_item_inv_mappings, K_RECOMMENDATIONS)"
   ]
  },
  {
   "cell_type": "markdown",
   "id": "82058cc5-5060-4a62-b444-656686a37238",
   "metadata": {},
   "source": [
    "#### Сохранение матрицы взаимодействий, чтобы фильтровать просмотренные фильмы"
   ]
  },
  {
   "cell_type": "markdown",
   "id": "39d12fc5-b3f0-4231-8fc7-b4c9c3e3955b",
   "metadata": {},
   "source": [
    "Чтобы отфильтровать в сервисе айтемы, которые пользователь уже просматривал, необходимо сохранить матрицу взаимодействий и обращаться к ней в рантайме"
   ]
  },
  {
   "cell_type": "code",
   "execution_count": 92,
   "id": "4356810e-8b18-46b3-913c-c38b9edeea00",
   "metadata": {},
   "outputs": [],
   "source": [
    "user_item_matrix = final_dataset.get_user_item_matrix()"
   ]
  },
  {
   "cell_type": "code",
   "execution_count": 93,
   "id": "30beba4f-3e20-498e-90cd-794154f95531",
   "metadata": {},
   "outputs": [],
   "source": [
    "sparse.save_npz(\"user_item_matrix.npz\", user_item_matrix)"
   ]
  },
  {
   "cell_type": "code",
   "execution_count": 94,
   "id": "40190acb-b2e0-4ef8-abda-63661fd1313c",
   "metadata": {},
   "outputs": [],
   "source": [
    "loaded_user_item_matrix = sparse.load_npz(\"user_item_matrix.npz\")"
   ]
  },
  {
   "cell_type": "code",
   "execution_count": 95,
   "id": "3cdbf19d-04d6-48ff-bb7d-38d3ccacf801",
   "metadata": {},
   "outputs": [
    {
     "data": {
      "text/plain": [
       "array([  18,   21,   28,   46,   80,  129,  159,  162,  164,  184,  217,\n",
       "        218,  233,  251,  253,  263,  282,  390,  542,  600,  635,  686,\n",
       "        764,  774,  846, 1179, 1200, 1230, 1382, 1435, 1496, 1510, 1524,\n",
       "       1659, 1834, 2526, 2586, 2649, 3643])"
      ]
     },
     "execution_count": 95,
     "metadata": {},
     "output_type": "execute_result"
    }
   ],
   "source": [
    "np.arange(len(loaded_item_inv_mappings))[loaded_user_item_matrix[internal_user_id, :].toarray().reshape(-1) > 0]"
   ]
  },
  {
   "cell_type": "markdown",
   "id": "26e08018-82b3-42f2-9a7e-ac37894af38c",
   "metadata": {},
   "source": [
    "### Рекомендации для холодных пользователей на основе их признаков (3 балла)"
   ]
  },
  {
   "cell_type": "markdown",
   "id": "78b5700c-c0f6-4107-b3cd-17aead910398",
   "metadata": {},
   "source": [
    "Идея такова: разным группам пользователей (например, разным возрастным группам) нравятся разные фильмы, поэтому для юзеров, о которых известны какие-то фичи, стоит выдавать соответствующие топы айтемов в качестве рекомендаций. Далее для каждой группы по каждому признаку создадим топы рекомендованных айтемов. А для рекомендации конкретному юзеру определим, к каким группам он относится и топы айтемов соответственно. В качестве рекомендации будут такие айтемы, которые есть во всех топах, отранжированные по среднему рангу айтема в других топах"
   ]
  },
  {
   "cell_type": "code",
   "execution_count": 183,
   "id": "7d887fde-ca87-4ef8-924a-872019f15d0c",
   "metadata": {},
   "outputs": [],
   "source": [
    "MAX_N_ITEMS_IN_GROUP = 500"
   ]
  },
  {
   "cell_type": "code",
   "execution_count": 184,
   "id": "c6a78744-4430-4920-92c0-855b9338e13e",
   "metadata": {},
   "outputs": [],
   "source": [
    "interactions_df_without_nan = interactions_df.dropna(axis=0, subset=[Columns.Datetime])"
   ]
  },
  {
   "cell_type": "code",
   "execution_count": 199,
   "id": "6037dc7a-20fe-4eef-8b15-c58cd7fb7a25",
   "metadata": {},
   "outputs": [],
   "source": [
    "max_date = interactions_df_without_nan[Columns.Datetime].max()\n",
    "df_train = interactions_df_without_nan[interactions_df_without_nan[Columns.Datetime] < max_date - pd.Timedelta(days=7)]\n",
    "df_test = interactions_df_without_nan[interactions_df_without_nan[Columns.Datetime] >= max_date - pd.Timedelta(days=7)]\n",
    "df_test = df_test[df_test[Columns.User].isin(users_df[Columns.User].values)]"
   ]
  },
  {
   "cell_type": "code",
   "execution_count": 200,
   "id": "50a1effb-417c-438e-832e-b7b6ecf26ee7",
   "metadata": {},
   "outputs": [],
   "source": [
    "def get_groups_dict(users_df, interactions_df, column):\n",
    "    groups = users_df[column].unique()\n",
    "    groups_dict = dict()\n",
    "    for group in groups:\n",
    "        users = users_df[users_df[column] == group][\"user_id\"].values\n",
    "        users_interactions = interactions_df[interactions_df[\"user_id\"].isin(users)]\n",
    "        users_top_items = users_interactions[\"item_id\"].value_counts().index\n",
    "        groups_dict[group] = {value: rank for (value, rank) in zip(users_top_items[:MAX_N_ITEMS_IN_GROUP], range(1, len(users_top_items[:MAX_N_ITEMS_IN_GROUP])+1))}\n",
    "    return groups_dict"
   ]
  },
  {
   "cell_type": "code",
   "execution_count": 201,
   "id": "fc4b527e-62c2-486f-b6f7-acab26e00c54",
   "metadata": {},
   "outputs": [],
   "source": [
    "age_groups_dict = get_groups_dict(users_df, df_train, \"age\")\n",
    "income_groups_dict = get_groups_dict(users_df, df_train, \"income\")\n",
    "sex_groups_dict = get_groups_dict(users_df, df_train, \"sex\")"
   ]
  },
  {
   "cell_type": "code",
   "execution_count": 202,
   "id": "03e77464-04b3-4ebe-975e-637fad13de06",
   "metadata": {},
   "outputs": [],
   "source": [
    "def get_reco(users, users_df, interactions_df, feature_gropus_dicts, feature_names):\n",
    "    data = []\n",
    "    for user_id in tqdm(users):\n",
    "        user_data = users_df[users_df[\"user_id\"] == user_id].iloc[0]\n",
    "        item_groups = []\n",
    "        all_items = set()\n",
    "        for (feature_dict, feature_name) in zip(feature_gropus_dicts, feature_names):\n",
    "            items_by_feature = feature_dict[user_data[feature_name]]\n",
    "            all_items.update(list(items_by_feature.keys()))\n",
    "            item_groups.append(items_by_feature)\n",
    "\n",
    "        interacted_items = set(interactions_df[interactions_df[\"user_id\"] == user_id][\"item_id\"].unique())\n",
    "        \n",
    "        item_ranks = []\n",
    "        for item_id in all_items:\n",
    "            item_is_passed = all([(item_id in item_group) for item_group in item_groups])\n",
    "            if item_is_passed and item_id not in interacted_items:\n",
    "                avg_rank = sum([item_group[item_id] for item_group in item_groups]) / len(item_groups)\n",
    "                item_ranks.append((item_id, avg_rank))\n",
    "\n",
    "        recommended_items = [v[0] for v in sorted(item_ranks, key=lambda x: x[1])[:K_RECOMMENDATIONS]]\n",
    "        for (ind, item_id) in enumerate(recommended_items):\n",
    "            data.append({Columns.User: user_id, Columns.Item: item_id, Columns.Rank: ind + 1})\n",
    "    return pd.DataFrame(data)"
   ]
  },
  {
   "cell_type": "code",
   "execution_count": 203,
   "id": "e8d94e7a-f40d-4d4c-90db-8e3255f6a204",
   "metadata": {},
   "outputs": [
    {
     "name": "stderr",
     "output_type": "stream",
     "text": [
      "100%|██████████| 121269/121269 [10:24<00:00, 194.23it/s]\n",
      "100%|██████████| 121269/121269 [10:43<00:00, 188.46it/s]\n",
      "100%|██████████| 121269/121269 [10:58<00:00, 184.02it/s]\n",
      "100%|██████████| 121269/121269 [09:17<00:00, 217.64it/s]\n"
     ]
    }
   ],
   "source": [
    "metrics = {\n",
    "    'map@10': MAP(k=10),\n",
    "    'serendipity@10': Serendipity(k=10)\n",
    "}\n",
    "results = []\n",
    "\n",
    "for item in [\n",
    "        ([age_groups_dict, income_groups_dict], [\"age\", \"income\"]),\n",
    "        ([age_groups_dict, sex_groups_dict], [\"age\", \"sex\"]),\n",
    "        ([sex_groups_dict, income_groups_dict], [\"sex\", \"income\"]),\n",
    "        ([age_groups_dict, income_groups_dict, sex_groups_dict], [\"age\", \"income\", \"sex\"]),\n",
    "]:\n",
    "    feature_dicts, features = item\n",
    "    reco_df = get_reco(df_test[Columns.User].unique(), users_df, df_train, feature_dicts, features)\n",
    "    result = calc_metrics(\n",
    "        metrics,\n",
    "        reco=reco_df,\n",
    "        interactions=df_test,\n",
    "        prev_interactions=df_train,\n",
    "        catalog=df_train[Columns.Item].unique()\n",
    "    )\n",
    "    results.append({**result, \"features\": '_'.join(features)})"
   ]
  },
  {
   "cell_type": "code",
   "execution_count": 204,
   "id": "1954e5c1-feb5-48f1-97bb-e0bfd38dc352",
   "metadata": {},
   "outputs": [
    {
     "data": {
      "text/html": [
       "<div>\n",
       "<style scoped>\n",
       "    .dataframe tbody tr th:only-of-type {\n",
       "        vertical-align: middle;\n",
       "    }\n",
       "\n",
       "    .dataframe tbody tr th {\n",
       "        vertical-align: top;\n",
       "    }\n",
       "\n",
       "    .dataframe thead th {\n",
       "        text-align: right;\n",
       "    }\n",
       "</style>\n",
       "<table border=\"1\" class=\"dataframe\">\n",
       "  <thead>\n",
       "    <tr style=\"text-align: right;\">\n",
       "      <th></th>\n",
       "      <th>map@10</th>\n",
       "      <th>serendipity@10</th>\n",
       "      <th>features</th>\n",
       "    </tr>\n",
       "  </thead>\n",
       "  <tbody>\n",
       "    <tr>\n",
       "      <th>0</th>\n",
       "      <td>0.099650</td>\n",
       "      <td>0.000002</td>\n",
       "      <td>age_income</td>\n",
       "    </tr>\n",
       "    <tr>\n",
       "      <th>1</th>\n",
       "      <td>0.100465</td>\n",
       "      <td>0.000002</td>\n",
       "      <td>age_sex</td>\n",
       "    </tr>\n",
       "    <tr>\n",
       "      <th>2</th>\n",
       "      <td>0.099049</td>\n",
       "      <td>0.000002</td>\n",
       "      <td>sex_income</td>\n",
       "    </tr>\n",
       "    <tr>\n",
       "      <th>3</th>\n",
       "      <td>0.100347</td>\n",
       "      <td>0.000002</td>\n",
       "      <td>age_income_sex</td>\n",
       "    </tr>\n",
       "  </tbody>\n",
       "</table>\n",
       "</div>"
      ],
      "text/plain": [
       "     map@10  serendipity@10        features\n",
       "0  0.099650        0.000002      age_income\n",
       "1  0.100465        0.000002         age_sex\n",
       "2  0.099049        0.000002      sex_income\n",
       "3  0.100347        0.000002  age_income_sex"
      ]
     },
     "execution_count": 204,
     "metadata": {},
     "output_type": "execute_result"
    }
   ],
   "source": [
    "pd.DataFrame(results)"
   ]
  },
  {
   "cell_type": "markdown",
   "id": "7135a153-c3b2-49dc-8db6-39564a7e7717",
   "metadata": {},
   "source": [
    "Качество выше, чем то, что выдается популярной моделью (у неё было 0.84). В качестве оптимизации можно заранее расчитать топы по всем возможным группам, чтобы быстрее их отдавать"
   ]
  },
  {
   "cell_type": "code",
   "execution_count": null,
   "id": "2320b9a7-10b0-4148-9a50-cbb49aa9d8c4",
   "metadata": {},
   "outputs": [],
   "source": []
  }
 ],
 "metadata": {
  "kernelspec": {
   "display_name": "Python 3 (ipykernel)",
   "language": "python",
   "name": "python3"
  },
  "language_info": {
   "codemirror_mode": {
    "name": "ipython",
    "version": 3
   },
   "file_extension": ".py",
   "mimetype": "text/x-python",
   "name": "python",
   "nbconvert_exporter": "python",
   "pygments_lexer": "ipython3",
   "version": "3.10.11"
  }
 },
 "nbformat": 4,
 "nbformat_minor": 5
}
