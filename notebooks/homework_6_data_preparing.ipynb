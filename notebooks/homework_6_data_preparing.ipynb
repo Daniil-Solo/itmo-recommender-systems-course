{
 "cells": [
  {
   "cell_type": "markdown",
   "id": "f33dae3b-c4d9-48a9-9329-41012ffd9875",
   "metadata": {},
   "source": [
    "# Подготовка данных"
   ]
  },
  {
   "cell_type": "markdown",
   "id": "6e16bbd5-7101-4911-ae9e-3debe6b6c9ca",
   "metadata": {},
   "source": [
    "## Импорт библиотек и константы"
   ]
  },
  {
   "cell_type": "code",
   "execution_count": 1,
   "id": "13afc0a8-771e-4305-bf34-f7cf710e2ea7",
   "metadata": {},
   "outputs": [],
   "source": [
    "import warnings\n",
    "warnings.filterwarnings('ignore')"
   ]
  },
  {
   "cell_type": "code",
   "execution_count": 2,
   "id": "75b7ad4c-8729-440b-8906-eb4ce5793497",
   "metadata": {},
   "outputs": [],
   "source": [
    "import json\n",
    "import pandas as pd\n",
    "import numpy as np\n",
    "from tqdm.auto import tqdm\n",
    "from scipy import sparse\n",
    "from collections import Counter\n",
    "from random import randint, random\n",
    "from rectools.columns import Columns\n",
    "from rectools.dataset import Dataset\n",
    "from sklearn.model_selection import train_test_split"
   ]
  },
  {
   "cell_type": "code",
   "execution_count": 3,
   "id": "726f4335-aedd-4888-8c07-26b848736dcc",
   "metadata": {},
   "outputs": [],
   "source": [
    "INTERACTIONS_PATH = \"./data/interactions.csv\"\n",
    "ITEMS_PATH = \"./data/items.csv\"\n",
    "USERS_PATH = \"./data/users.csv\"\n",
    "K_RECOMMENDATIONS = 10\n",
    "RANDOM_STATE = 0"
   ]
  },
  {
   "cell_type": "markdown",
   "id": "d6001a23-fba4-488b-88f1-3cf768a73117",
   "metadata": {},
   "source": [
    "## Загрузка данных"
   ]
  },
  {
   "cell_type": "code",
   "execution_count": 4,
   "id": "628cb108-b6d7-45b2-92cf-14ed56c485c8",
   "metadata": {},
   "outputs": [
    {
     "data": {
      "text/html": [
       "<div>\n",
       "<style scoped>\n",
       "    .dataframe tbody tr th:only-of-type {\n",
       "        vertical-align: middle;\n",
       "    }\n",
       "\n",
       "    .dataframe tbody tr th {\n",
       "        vertical-align: top;\n",
       "    }\n",
       "\n",
       "    .dataframe thead th {\n",
       "        text-align: right;\n",
       "    }\n",
       "</style>\n",
       "<table border=\"1\" class=\"dataframe\">\n",
       "  <thead>\n",
       "    <tr style=\"text-align: right;\">\n",
       "      <th></th>\n",
       "      <th>user_id</th>\n",
       "      <th>item_id</th>\n",
       "      <th>datetime</th>\n",
       "      <th>total_dur</th>\n",
       "      <th>weight</th>\n",
       "    </tr>\n",
       "  </thead>\n",
       "  <tbody>\n",
       "    <tr>\n",
       "      <th>0</th>\n",
       "      <td>176549</td>\n",
       "      <td>9506</td>\n",
       "      <td>2021-05-11</td>\n",
       "      <td>4250</td>\n",
       "      <td>72.0</td>\n",
       "    </tr>\n",
       "    <tr>\n",
       "      <th>1</th>\n",
       "      <td>699317</td>\n",
       "      <td>1659</td>\n",
       "      <td>2021-05-29</td>\n",
       "      <td>8317</td>\n",
       "      <td>100.0</td>\n",
       "    </tr>\n",
       "    <tr>\n",
       "      <th>2</th>\n",
       "      <td>656683</td>\n",
       "      <td>7107</td>\n",
       "      <td>2021-05-09</td>\n",
       "      <td>10</td>\n",
       "      <td>0.0</td>\n",
       "    </tr>\n",
       "    <tr>\n",
       "      <th>3</th>\n",
       "      <td>864613</td>\n",
       "      <td>7638</td>\n",
       "      <td>2021-07-05</td>\n",
       "      <td>14483</td>\n",
       "      <td>100.0</td>\n",
       "    </tr>\n",
       "    <tr>\n",
       "      <th>4</th>\n",
       "      <td>964868</td>\n",
       "      <td>9506</td>\n",
       "      <td>2021-04-30</td>\n",
       "      <td>6725</td>\n",
       "      <td>100.0</td>\n",
       "    </tr>\n",
       "  </tbody>\n",
       "</table>\n",
       "</div>"
      ],
      "text/plain": [
       "   user_id  item_id   datetime  total_dur  weight\n",
       "0   176549     9506 2021-05-11       4250    72.0\n",
       "1   699317     1659 2021-05-29       8317   100.0\n",
       "2   656683     7107 2021-05-09         10     0.0\n",
       "3   864613     7638 2021-07-05      14483   100.0\n",
       "4   964868     9506 2021-04-30       6725   100.0"
      ]
     },
     "execution_count": 4,
     "metadata": {},
     "output_type": "execute_result"
    }
   ],
   "source": [
    "interactions_df = pd.read_csv(INTERACTIONS_PATH)\n",
    "interactions_df = interactions_df.rename(columns={\"watched_pct\": Columns.Weight, \"last_watch_dt\": Columns.Datetime})\n",
    "interactions_df['datetime'] = pd.to_datetime(interactions_df['datetime'])\n",
    "interactions_df.head(5)"
   ]
  },
  {
   "cell_type": "code",
   "execution_count": 5,
   "id": "c1ff1fb6-e20f-48e1-be06-dad496cbd5a4",
   "metadata": {},
   "outputs": [
    {
     "data": {
      "text/html": [
       "<div>\n",
       "<style scoped>\n",
       "    .dataframe tbody tr th:only-of-type {\n",
       "        vertical-align: middle;\n",
       "    }\n",
       "\n",
       "    .dataframe tbody tr th {\n",
       "        vertical-align: top;\n",
       "    }\n",
       "\n",
       "    .dataframe thead th {\n",
       "        text-align: right;\n",
       "    }\n",
       "</style>\n",
       "<table border=\"1\" class=\"dataframe\">\n",
       "  <thead>\n",
       "    <tr style=\"text-align: right;\">\n",
       "      <th></th>\n",
       "      <th>item_id</th>\n",
       "      <th>content_type</th>\n",
       "      <th>title</th>\n",
       "      <th>title_orig</th>\n",
       "      <th>release_year</th>\n",
       "      <th>genres</th>\n",
       "      <th>countries</th>\n",
       "      <th>for_kids</th>\n",
       "      <th>age_rating</th>\n",
       "      <th>studios</th>\n",
       "      <th>directors</th>\n",
       "      <th>actors</th>\n",
       "      <th>description</th>\n",
       "      <th>keywords</th>\n",
       "    </tr>\n",
       "  </thead>\n",
       "  <tbody>\n",
       "    <tr>\n",
       "      <th>0</th>\n",
       "      <td>10711</td>\n",
       "      <td>film</td>\n",
       "      <td>Поговори с ней</td>\n",
       "      <td>Hable con ella</td>\n",
       "      <td>2002.0</td>\n",
       "      <td>драмы, зарубежные, детективы, мелодрамы</td>\n",
       "      <td>Испания</td>\n",
       "      <td>NaN</td>\n",
       "      <td>16.0</td>\n",
       "      <td>NaN</td>\n",
       "      <td>Педро Альмодовар</td>\n",
       "      <td>Адольфо Фернандес, Ана Фернандес, Дарио Гранди...</td>\n",
       "      <td>Мелодрама легендарного Педро Альмодовара «Пого...</td>\n",
       "      <td>Поговори, ней, 2002, Испания, друзья, любовь, ...</td>\n",
       "    </tr>\n",
       "    <tr>\n",
       "      <th>1</th>\n",
       "      <td>2508</td>\n",
       "      <td>film</td>\n",
       "      <td>Голые перцы</td>\n",
       "      <td>Search Party</td>\n",
       "      <td>2014.0</td>\n",
       "      <td>зарубежные, приключения, комедии</td>\n",
       "      <td>США</td>\n",
       "      <td>NaN</td>\n",
       "      <td>16.0</td>\n",
       "      <td>NaN</td>\n",
       "      <td>Скот Армстронг</td>\n",
       "      <td>Адам Палли, Брайан Хаски, Дж.Б. Смув, Джейсон ...</td>\n",
       "      <td>Уморительная современная комедия на популярную...</td>\n",
       "      <td>Голые, перцы, 2014, США, друзья, свадьбы, прео...</td>\n",
       "    </tr>\n",
       "    <tr>\n",
       "      <th>2</th>\n",
       "      <td>10716</td>\n",
       "      <td>film</td>\n",
       "      <td>Тактическая сила</td>\n",
       "      <td>Tactical Force</td>\n",
       "      <td>2011.0</td>\n",
       "      <td>криминал, зарубежные, триллеры, боевики, комедии</td>\n",
       "      <td>Канада</td>\n",
       "      <td>NaN</td>\n",
       "      <td>16.0</td>\n",
       "      <td>NaN</td>\n",
       "      <td>Адам П. Калтраро</td>\n",
       "      <td>Адриан Холмс, Даррен Шалави, Джерри Вассерман,...</td>\n",
       "      <td>Профессиональный рестлер Стив Остин («Все или ...</td>\n",
       "      <td>Тактическая, сила, 2011, Канада, бандиты, ганг...</td>\n",
       "    </tr>\n",
       "    <tr>\n",
       "      <th>3</th>\n",
       "      <td>7868</td>\n",
       "      <td>film</td>\n",
       "      <td>45 лет</td>\n",
       "      <td>45 Years</td>\n",
       "      <td>2015.0</td>\n",
       "      <td>драмы, зарубежные, мелодрамы</td>\n",
       "      <td>Великобритания</td>\n",
       "      <td>NaN</td>\n",
       "      <td>16.0</td>\n",
       "      <td>NaN</td>\n",
       "      <td>Эндрю Хэй</td>\n",
       "      <td>Александра Риддлстон-Барретт, Джеральдин Джейм...</td>\n",
       "      <td>Шарлотта Рэмплинг, Том Кортни, Джеральдин Джей...</td>\n",
       "      <td>45, лет, 2015, Великобритания, брак, жизнь, лю...</td>\n",
       "    </tr>\n",
       "    <tr>\n",
       "      <th>4</th>\n",
       "      <td>16268</td>\n",
       "      <td>film</td>\n",
       "      <td>Все решает мгновение</td>\n",
       "      <td>NaN</td>\n",
       "      <td>1978.0</td>\n",
       "      <td>драмы, спорт, советские, мелодрамы</td>\n",
       "      <td>СССР</td>\n",
       "      <td>NaN</td>\n",
       "      <td>12.0</td>\n",
       "      <td>Ленфильм</td>\n",
       "      <td>Виктор Садовский</td>\n",
       "      <td>Александр Абдулов, Александр Демьяненко, Алекс...</td>\n",
       "      <td>Расчетливая чаровница из советского кинохита «...</td>\n",
       "      <td>Все, решает, мгновение, 1978, СССР, сильные, ж...</td>\n",
       "    </tr>\n",
       "  </tbody>\n",
       "</table>\n",
       "</div>"
      ],
      "text/plain": [
       "   item_id content_type                 title      title_orig  release_year  \\\n",
       "0    10711         film        Поговори с ней  Hable con ella        2002.0   \n",
       "1     2508         film           Голые перцы    Search Party        2014.0   \n",
       "2    10716         film      Тактическая сила  Tactical Force        2011.0   \n",
       "3     7868         film                45 лет        45 Years        2015.0   \n",
       "4    16268         film  Все решает мгновение             NaN        1978.0   \n",
       "\n",
       "                                             genres       countries  for_kids  \\\n",
       "0           драмы, зарубежные, детективы, мелодрамы         Испания       NaN   \n",
       "1                  зарубежные, приключения, комедии             США       NaN   \n",
       "2  криминал, зарубежные, триллеры, боевики, комедии          Канада       NaN   \n",
       "3                      драмы, зарубежные, мелодрамы  Великобритания       NaN   \n",
       "4                драмы, спорт, советские, мелодрамы            СССР       NaN   \n",
       "\n",
       "   age_rating   studios         directors  \\\n",
       "0        16.0       NaN  Педро Альмодовар   \n",
       "1        16.0       NaN    Скот Армстронг   \n",
       "2        16.0       NaN  Адам П. Калтраро   \n",
       "3        16.0       NaN         Эндрю Хэй   \n",
       "4        12.0  Ленфильм  Виктор Садовский   \n",
       "\n",
       "                                              actors  \\\n",
       "0  Адольфо Фернандес, Ана Фернандес, Дарио Гранди...   \n",
       "1  Адам Палли, Брайан Хаски, Дж.Б. Смув, Джейсон ...   \n",
       "2  Адриан Холмс, Даррен Шалави, Джерри Вассерман,...   \n",
       "3  Александра Риддлстон-Барретт, Джеральдин Джейм...   \n",
       "4  Александр Абдулов, Александр Демьяненко, Алекс...   \n",
       "\n",
       "                                         description  \\\n",
       "0  Мелодрама легендарного Педро Альмодовара «Пого...   \n",
       "1  Уморительная современная комедия на популярную...   \n",
       "2  Профессиональный рестлер Стив Остин («Все или ...   \n",
       "3  Шарлотта Рэмплинг, Том Кортни, Джеральдин Джей...   \n",
       "4  Расчетливая чаровница из советского кинохита «...   \n",
       "\n",
       "                                            keywords  \n",
       "0  Поговори, ней, 2002, Испания, друзья, любовь, ...  \n",
       "1  Голые, перцы, 2014, США, друзья, свадьбы, прео...  \n",
       "2  Тактическая, сила, 2011, Канада, бандиты, ганг...  \n",
       "3  45, лет, 2015, Великобритания, брак, жизнь, лю...  \n",
       "4  Все, решает, мгновение, 1978, СССР, сильные, ж...  "
      ]
     },
     "execution_count": 5,
     "metadata": {},
     "output_type": "execute_result"
    }
   ],
   "source": [
    "items_df = pd.read_csv(ITEMS_PATH)\n",
    "items_df.head(5)"
   ]
  },
  {
   "cell_type": "code",
   "execution_count": 6,
   "id": "42e98bd2-2c3e-4ae1-8fcb-6d053f6d56e5",
   "metadata": {},
   "outputs": [
    {
     "data": {
      "text/html": [
       "<div>\n",
       "<style scoped>\n",
       "    .dataframe tbody tr th:only-of-type {\n",
       "        vertical-align: middle;\n",
       "    }\n",
       "\n",
       "    .dataframe tbody tr th {\n",
       "        vertical-align: top;\n",
       "    }\n",
       "\n",
       "    .dataframe thead th {\n",
       "        text-align: right;\n",
       "    }\n",
       "</style>\n",
       "<table border=\"1\" class=\"dataframe\">\n",
       "  <thead>\n",
       "    <tr style=\"text-align: right;\">\n",
       "      <th></th>\n",
       "      <th>user_id</th>\n",
       "      <th>age</th>\n",
       "      <th>income</th>\n",
       "      <th>sex</th>\n",
       "      <th>kids_flg</th>\n",
       "    </tr>\n",
       "  </thead>\n",
       "  <tbody>\n",
       "    <tr>\n",
       "      <th>0</th>\n",
       "      <td>973171</td>\n",
       "      <td>age_25_34</td>\n",
       "      <td>income_60_90</td>\n",
       "      <td>М</td>\n",
       "      <td>1</td>\n",
       "    </tr>\n",
       "    <tr>\n",
       "      <th>1</th>\n",
       "      <td>962099</td>\n",
       "      <td>age_18_24</td>\n",
       "      <td>income_20_40</td>\n",
       "      <td>М</td>\n",
       "      <td>0</td>\n",
       "    </tr>\n",
       "    <tr>\n",
       "      <th>2</th>\n",
       "      <td>1047345</td>\n",
       "      <td>age_45_54</td>\n",
       "      <td>income_40_60</td>\n",
       "      <td>Ж</td>\n",
       "      <td>0</td>\n",
       "    </tr>\n",
       "    <tr>\n",
       "      <th>3</th>\n",
       "      <td>721985</td>\n",
       "      <td>age_45_54</td>\n",
       "      <td>income_20_40</td>\n",
       "      <td>Ж</td>\n",
       "      <td>0</td>\n",
       "    </tr>\n",
       "    <tr>\n",
       "      <th>4</th>\n",
       "      <td>704055</td>\n",
       "      <td>age_35_44</td>\n",
       "      <td>income_60_90</td>\n",
       "      <td>Ж</td>\n",
       "      <td>0</td>\n",
       "    </tr>\n",
       "  </tbody>\n",
       "</table>\n",
       "</div>"
      ],
      "text/plain": [
       "   user_id        age        income sex  kids_flg\n",
       "0   973171  age_25_34  income_60_90   М         1\n",
       "1   962099  age_18_24  income_20_40   М         0\n",
       "2  1047345  age_45_54  income_40_60   Ж         0\n",
       "3   721985  age_45_54  income_20_40   Ж         0\n",
       "4   704055  age_35_44  income_60_90   Ж         0"
      ]
     },
     "execution_count": 6,
     "metadata": {},
     "output_type": "execute_result"
    }
   ],
   "source": [
    "users_df = pd.read_csv(USERS_PATH)\n",
    "users_df.head(5)"
   ]
  },
  {
   "cell_type": "markdown",
   "id": "b46633e3-1b4a-43c8-8a2a-3bab20129a8b",
   "metadata": {},
   "source": [
    "## Заполнение пропусков в данных и приведение типов"
   ]
  },
  {
   "cell_type": "markdown",
   "id": "48fcbf2b-8e5b-49d8-bf97-2a65cac08115",
   "metadata": {},
   "source": [
    "### Юзеры"
   ]
  },
  {
   "cell_type": "code",
   "execution_count": 7,
   "id": "de7eb77e-3a79-4986-a40f-1bd1ac4938eb",
   "metadata": {},
   "outputs": [
    {
     "data": {
      "text/plain": [
       "age_25_34      233926\n",
       "age_35_44      207043\n",
       "age_45_54      135925\n",
       "age_18_24      127672\n",
       "age_55_64       75265\n",
       "age_65_inf      46271\n",
       "age_unknown     14095\n",
       "Name: age, dtype: int64"
      ]
     },
     "execution_count": 7,
     "metadata": {},
     "output_type": "execute_result"
    }
   ],
   "source": [
    "users_df['age'] = users_df['age'].fillna('age_unknown')\n",
    "users_df['age'] = users_df['age'].astype('category')\n",
    "users_df['age'].value_counts()"
   ]
  },
  {
   "cell_type": "code",
   "execution_count": 8,
   "id": "a35822f8-5ced-48b5-b4b4-30605e02c553",
   "metadata": {},
   "outputs": [
    {
     "data": {
      "text/plain": [
       "income_20_40      471519\n",
       "income_40_60      248330\n",
       "income_60_90       68674\n",
       "income_0_20        21836\n",
       "income_unknown     14776\n",
       "income_90_150      13985\n",
       "income_150_inf      1077\n",
       "Name: income, dtype: int64"
      ]
     },
     "execution_count": 8,
     "metadata": {},
     "output_type": "execute_result"
    }
   ],
   "source": [
    "users_df['income'] = users_df['income'].fillna('income_unknown')\n",
    "users_df['income'] = users_df['income'].astype('category')\n",
    "users_df['income'].value_counts()"
   ]
  },
  {
   "cell_type": "code",
   "execution_count": 9,
   "id": "93195327-7686-4029-b8eb-b00dc24afbc3",
   "metadata": {},
   "outputs": [
    {
     "data": {
      "text/plain": [
       "sex_F          425270\n",
       "sex_M          401096\n",
       "sex_unknown     13831\n",
       "Name: sex, dtype: int64"
      ]
     },
     "execution_count": 9,
     "metadata": {},
     "output_type": "execute_result"
    }
   ],
   "source": [
    "users_df['sex'] = users_df['sex'].fillna('sex_unknown')\n",
    "users_df.loc[users_df.sex == 'М', 'sex'] = 'sex_M'\n",
    "users_df.loc[users_df.sex == 'Ж', 'sex'] = 'sex_F'\n",
    "users_df['sex'] = users_df['sex'].astype('category')\n",
    "users_df['sex'].value_counts()"
   ]
  },
  {
   "cell_type": "code",
   "execution_count": 10,
   "id": "cf582300-f4ee-407e-aae9-49c834789ab9",
   "metadata": {},
   "outputs": [
    {
     "data": {
      "text/plain": [
       "kids_flg_0    587209\n",
       "kids_flg_1    252988\n",
       "Name: kids_flg, dtype: int64"
      ]
     },
     "execution_count": 10,
     "metadata": {},
     "output_type": "execute_result"
    }
   ],
   "source": [
    "users_df['kids_flg'] = users_df['kids_flg'].astype('category')\n",
    "users_df['kids_flg'] = users_df['kids_flg'].apply(lambda x: f\"kids_flg_{x}\")\n",
    "users_df['kids_flg'].value_counts(dropna=False)"
   ]
  },
  {
   "cell_type": "code",
   "execution_count": 11,
   "id": "58a13758-1fcc-494c-936b-570de01edcd8",
   "metadata": {},
   "outputs": [
    {
     "name": "stdout",
     "output_type": "stream",
     "text": [
      "<class 'pandas.core.frame.DataFrame'>\n",
      "RangeIndex: 840197 entries, 0 to 840196\n",
      "Data columns (total 5 columns):\n",
      " #   Column    Non-Null Count   Dtype   \n",
      "---  ------    --------------   -----   \n",
      " 0   user_id   840197 non-null  int64   \n",
      " 1   age       840197 non-null  category\n",
      " 2   income    840197 non-null  category\n",
      " 3   sex       840197 non-null  category\n",
      " 4   kids_flg  840197 non-null  category\n",
      "dtypes: category(4), int64(1)\n",
      "memory usage: 9.6 MB\n"
     ]
    }
   ],
   "source": [
    "users_df.info(verbose=True, null_counts=True)"
   ]
  },
  {
   "cell_type": "markdown",
   "id": "194f5f73-a57b-476d-ac88-f605f7ccf06d",
   "metadata": {},
   "source": [
    "### Айтемы"
   ]
  },
  {
   "cell_type": "code",
   "execution_count": 12,
   "id": "9ffde1c6-811a-4787-b793-0468cc15c9c3",
   "metadata": {},
   "outputs": [],
   "source": [
    "# В основном Тренировки от Motify и Лига чемпионов AFC, относящиеся к 2020 году\n",
    "# Остальная часть относится к 2021 году, но мы потом переведем к категории \"2020_inf\", поэтому можно и просто 2020 год указать\n",
    "items_df.loc[items_df['release_year'].isna(), 'release_year'] = 2020."
   ]
  },
  {
   "cell_type": "code",
   "execution_count": 13,
   "id": "1314c0f1-592b-42f6-8666-f7762ec89cf7",
   "metadata": {},
   "outputs": [
    {
     "data": {
      "text/plain": [
       "2010-2020    8788\n",
       "2020_inf     2276\n",
       "2000-2010    2168\n",
       "1980-1990     745\n",
       "1990-2000     636\n",
       "1970-1980     553\n",
       "1960-1970     342\n",
       "1950-1960     199\n",
       "1940-1950     117\n",
       "1930-1940     104\n",
       "1920-1930      24\n",
       "inf_1920       11\n",
       "Name: release_year_cat, dtype: int64"
      ]
     },
     "execution_count": 13,
     "metadata": {},
     "output_type": "execute_result"
    }
   ],
   "source": [
    "items_df.loc[items_df['release_year'] < 1920, 'release_year_cat'] = 'inf_1920'\n",
    "items_df.loc[items_df['release_year'] >= 2020, 'release_year_cat'] = '2020_inf'\n",
    "\n",
    "for i in range (1920, 2020, 10):\n",
    "    items_df.loc[(items_df['release_year'] >= i) & (items_df['release_year'] < i+10), 'release_year_cat'] = f'{i}-{i+10}'\n",
    "\n",
    "items_df = items_df.drop(columns=['release_year'])\n",
    "items_df['release_year_cat'] = items_df['release_year_cat'].astype('category')\n",
    "\n",
    "items_df.release_year_cat.value_counts()"
   ]
  },
  {
   "cell_type": "code",
   "execution_count": 14,
   "id": "869f7d3e-3c66-49b9-bcb7-4027b82381f4",
   "metadata": {},
   "outputs": [
    {
     "data": {
      "text/plain": [
       "россия                 4274\n",
       "сша                    4090\n",
       "ссср                   1401\n",
       "франция                1158\n",
       "великобритания          718\n",
       "украина                 340\n",
       "италия                  256\n",
       "канада                  233\n",
       "республика корея        230\n",
       "великобритания, сша     193\n",
       "Name: countries, dtype: int64"
      ]
     },
     "execution_count": 14,
     "metadata": {},
     "output_type": "execute_result"
    }
   ],
   "source": [
    "# Тренировки от Motify \n",
    "items_df.loc[items_df.countries.isna(), 'countries'] = 'Россия'\n",
    "items_df['countries'] = items_df['countries'].str.lower()\n",
    "items_df['countries'] = items_df['countries'].apply(lambda x: ', '.join(sorted(list(set(x.split(', '))))))\n",
    "items_df['countries'] = items_df['countries'].astype('category')\n",
    "items_df['countries'].value_counts().head(10)"
   ]
  },
  {
   "cell_type": "code",
   "execution_count": 15,
   "id": "02ee29ad-04f3-4007-b1a4-3eb62edd0b2b",
   "metadata": {},
   "outputs": [
    {
     "data": {
      "text/plain": [
       "16.0    5729\n",
       "12.0    4147\n",
       "18.0    2547\n",
       "6.0     1538\n",
       "0.0     1520\n",
       "21.0     482\n",
       "Name: age_rating, dtype: int64"
      ]
     },
     "execution_count": 15,
     "metadata": {},
     "output_type": "execute_result"
    }
   ],
   "source": [
    "# Машины-помощники и БиБаБу, которые являются детскими\n",
    "items_df.loc[items_df.age_rating.isna(), 'age_rating'] = 0\n",
    "items_df['age_rating'] = items_df['age_rating'].astype('category')\n",
    "items_df['age_rating'].value_counts()"
   ]
  },
  {
   "cell_type": "code",
   "execution_count": 16,
   "id": "fadc88ec-2216-457a-9f01-2904e443bc5e",
   "metadata": {},
   "outputs": [
    {
     "data": {
      "text/plain": [
       "False    8861\n",
       "True     7102\n",
       "Name: for_kids, dtype: int64"
      ]
     },
     "execution_count": 16,
     "metadata": {},
     "output_type": "execute_result"
    }
   ],
   "source": [
    "# считаем, что айтемы для детей это айтемы с возрастным ограниченим до 12+ лет\n",
    "items_df.loc[items_df['for_kids'].isna(), \"for_kids\"] = items_df[items_df['for_kids'].isna()]['age_rating'].isin([0, 6, 12])\n",
    "items_df['for_kids'] = items_df['for_kids'].astype('bool')\n",
    "items_df['for_kids'].value_counts()"
   ]
  },
  {
   "cell_type": "code",
   "execution_count": 17,
   "id": "1359f4db-1004-4aba-a5c8-ea173e181977",
   "metadata": {},
   "outputs": [
    {
     "data": {
      "text/plain": [
       "документальное        816\n",
       "драмы                 719\n",
       "комедии               564\n",
       "для взрослых          482\n",
       "мелодрамы, русские    416\n",
       "Name: genres, dtype: int64"
      ]
     },
     "execution_count": 17,
     "metadata": {},
     "output_type": "execute_result"
    }
   ],
   "source": [
    "items_df['genres'] = items_df['genres'].fillna('unknown')\n",
    "items_df['genres'] = items_df['genres'].str.lower()\n",
    "items_df['genres'] = items_df['genres'].apply(lambda x: ', '.join(sorted(list(set(x.split(', '))))))\n",
    "items_df['genres'] = items_df['genres'].astype('category')\n",
    "items_df['genres'].value_counts().head()"
   ]
  },
  {
   "cell_type": "code",
   "execution_count": 18,
   "id": "c226c203-129a-4b16-8b3d-d600bfd87359",
   "metadata": {},
   "outputs": [
    {
     "data": {
      "text/plain": [
       "unknown          14898\n",
       "hbo                353\n",
       "ленфильм           212\n",
       "sony pictures      162\n",
       "paramount           46\n",
       "Name: studios, dtype: int64"
      ]
     },
     "execution_count": 18,
     "metadata": {},
     "output_type": "execute_result"
    }
   ],
   "source": [
    "items_df['studios'] = items_df['studios'].fillna('unknown')\n",
    "items_df['studios'] = items_df['studios'].str.lower()\n",
    "items_df['studios'] = items_df['studios'].apply(lambda x: ', '.join(sorted(list(set(x.split(', '))))))\n",
    "items_df['studios'] = items_df['studios'].astype('category')\n",
    "items_df['studios'].value_counts().head()"
   ]
  },
  {
   "cell_type": "code",
   "execution_count": 19,
   "id": "990a8bc1-c191-4d3f-a67f-2f51267ebad6",
   "metadata": {},
   "outputs": [
    {
     "data": {
      "text/plain": [
       "unknown                1509\n",
       "оливье шиабоду          511\n",
       "денис франческо          49\n",
       "глова роман юрьевич      36\n",
       "сергей зарев             29\n",
       "Name: directors, dtype: int64"
      ]
     },
     "execution_count": 19,
     "metadata": {},
     "output_type": "execute_result"
    }
   ],
   "source": [
    "items_df['directors'] = items_df['directors'].fillna('unknown')\n",
    "items_df['directors'] = items_df['directors'].str.lower()\n",
    "items_df['directors'] = items_df['directors'].astype('category')\n",
    "items_df['directors'].value_counts().head()"
   ]
  },
  {
   "cell_type": "code",
   "execution_count": 20,
   "id": "9ff3f463-7132-41e7-a7d6-9960f108b09b",
   "metadata": {},
   "outputs": [
    {
     "data": {
      "text/plain": [
       "unknown                                     2619\n",
       "александр клюквин                             25\n",
       "тайлер никсон, маркус лондон, томми ганн      16\n",
       "жан-пьер морель, оливье шиабоду                8\n",
       "кэти морган                                    6\n",
       "Name: actors, dtype: int64"
      ]
     },
     "execution_count": 20,
     "metadata": {},
     "output_type": "execute_result"
    }
   ],
   "source": [
    "items_df['actors'] = items_df['actors'].fillna('unknown')\n",
    "items_df['actors'] = items_df['actors'].str.lower()\n",
    "items_df['actors'] = items_df['actors'].astype('category')\n",
    "items_df['actors'].value_counts().head()"
   ]
  },
  {
   "cell_type": "code",
   "execution_count": 21,
   "id": "7bbe1e5e-530d-4ab5-9aed-6b24d420029b",
   "metadata": {},
   "outputs": [
    {
     "data": {
      "text/plain": [
       "unknown                        423\n",
       "2015, чехия, компания, трех      6\n",
       "2015, чехия, секс, страсть       6\n",
       "2011, италия, дом, желаний       5\n",
       "2006, италия, эвротико           5\n",
       "Name: keywords, dtype: int64"
      ]
     },
     "execution_count": 21,
     "metadata": {},
     "output_type": "execute_result"
    }
   ],
   "source": [
    "items_df['keywords'] = items_df['keywords'].fillna('unknown')\n",
    "items_df['keywords'] = items_df['keywords'].str.lower()\n",
    "items_df['keywords'] = items_df['keywords'].astype('category')\n",
    "items_df['keywords'].value_counts().head()"
   ]
  },
  {
   "cell_type": "code",
   "execution_count": 22,
   "id": "7ab741d3-aa52-48a0-b1c2-b7636f6aa49b",
   "metadata": {},
   "outputs": [
    {
     "data": {
      "text/plain": [
       "0    мелодрама легендарного педро альмодовара «пого...\n",
       "1    уморительная современная комедия на популярную...\n",
       "2    профессиональный рестлер стив остин («все или ...\n",
       "3    шарлотта рэмплинг, том кортни, джеральдин джей...\n",
       "4    расчетливая чаровница из советского кинохита «...\n",
       "Name: description, dtype: object"
      ]
     },
     "execution_count": 22,
     "metadata": {},
     "output_type": "execute_result"
    }
   ],
   "source": [
    "items_df['description'] = items_df['description'].fillna('-')\n",
    "items_df['description'] = items_df['description'].str.lower()\n",
    "items_df['description'].head()"
   ]
  },
  {
   "cell_type": "code",
   "execution_count": 23,
   "id": "2fd74616-d950-4deb-afa5-acd8f7d52716",
   "metadata": {},
   "outputs": [],
   "source": [
    "items_df = items_df.drop(columns=[\"title_orig\"])"
   ]
  },
  {
   "cell_type": "code",
   "execution_count": 24,
   "id": "542b9102-24e7-4222-86fb-b7132bb931b4",
   "metadata": {},
   "outputs": [
    {
     "name": "stdout",
     "output_type": "stream",
     "text": [
      "<class 'pandas.core.frame.DataFrame'>\n",
      "RangeIndex: 15963 entries, 0 to 15962\n",
      "Data columns (total 13 columns):\n",
      " #   Column            Non-Null Count  Dtype   \n",
      "---  ------            --------------  -----   \n",
      " 0   item_id           15963 non-null  int64   \n",
      " 1   content_type      15963 non-null  object  \n",
      " 2   title             15963 non-null  object  \n",
      " 3   genres            15963 non-null  category\n",
      " 4   countries         15963 non-null  category\n",
      " 5   for_kids          15963 non-null  bool    \n",
      " 6   age_rating        15963 non-null  category\n",
      " 7   studios           15963 non-null  category\n",
      " 8   directors         15963 non-null  category\n",
      " 9   actors            15963 non-null  category\n",
      " 10  description       15963 non-null  object  \n",
      " 11  keywords          15963 non-null  category\n",
      " 12  release_year_cat  15963 non-null  category\n",
      "dtypes: bool(1), category(8), int64(1), object(3)\n",
      "memory usage: 2.3+ MB\n"
     ]
    }
   ],
   "source": [
    "items_df.info(verbose=True, null_counts=True)"
   ]
  },
  {
   "cell_type": "markdown",
   "id": "45a4fa5d-2332-45ce-a42d-e22a931ae72a",
   "metadata": {},
   "source": [
    "### Интеракции"
   ]
  },
  {
   "cell_type": "code",
   "execution_count": 25,
   "id": "a8eed4fb-bff5-45e5-b215-252882e3b009",
   "metadata": {},
   "outputs": [],
   "source": [
    "interactions_df['weight'] = interactions_df['weight'].fillna(0)"
   ]
  },
  {
   "cell_type": "code",
   "execution_count": 26,
   "id": "a9501bc4-2d37-4f9b-b1b4-00361b49a692",
   "metadata": {},
   "outputs": [
    {
     "name": "stdout",
     "output_type": "stream",
     "text": [
      "<class 'pandas.core.frame.DataFrame'>\n",
      "RangeIndex: 5476251 entries, 0 to 5476250\n",
      "Data columns (total 5 columns):\n",
      " #   Column     Non-Null Count    Dtype         \n",
      "---  ------     --------------    -----         \n",
      " 0   user_id    5476251 non-null  int64         \n",
      " 1   item_id    5476251 non-null  int64         \n",
      " 2   datetime   5476251 non-null  datetime64[ns]\n",
      " 3   total_dur  5476251 non-null  int64         \n",
      " 4   weight     5476251 non-null  float64       \n",
      "dtypes: datetime64[ns](1), float64(1), int64(3)\n",
      "memory usage: 208.9 MB\n"
     ]
    }
   ],
   "source": [
    "interactions_df.info(verbose=True, null_counts=True)"
   ]
  },
  {
   "cell_type": "markdown",
   "id": "472986f5-d4fe-42b1-a56e-a35dfce64447",
   "metadata": {},
   "source": [
    "## Подготовка категориальных фичей"
   ]
  },
  {
   "cell_type": "markdown",
   "id": "bd7a6151-da0e-4e98-9be7-379a8bfda080",
   "metadata": {},
   "source": [
    "### Юзеры"
   ]
  },
  {
   "cell_type": "code",
   "execution_count": 27,
   "id": "74f5c1bd-149a-4446-92d7-5023d2540e45",
   "metadata": {},
   "outputs": [],
   "source": [
    "user_cat_features = [\"age\", \"income\", \"sex\", \"kids_flg\"]\n",
    "user_cat_encoding = dict()\n",
    "for col in user_cat_features:\n",
    "    cat_col = users_df[col].astype('category').cat\n",
    "    user_cat_encoding[col] = cat_col.categories\n",
    "    users_df[col] = cat_col.codes.astype('category')"
   ]
  },
  {
   "cell_type": "code",
   "execution_count": 28,
   "id": "4eb072c3-f043-46e1-ab91-8e0b609ae233",
   "metadata": {},
   "outputs": [
    {
     "data": {
      "text/html": [
       "<div>\n",
       "<style scoped>\n",
       "    .dataframe tbody tr th:only-of-type {\n",
       "        vertical-align: middle;\n",
       "    }\n",
       "\n",
       "    .dataframe tbody tr th {\n",
       "        vertical-align: top;\n",
       "    }\n",
       "\n",
       "    .dataframe thead th {\n",
       "        text-align: right;\n",
       "    }\n",
       "</style>\n",
       "<table border=\"1\" class=\"dataframe\">\n",
       "  <thead>\n",
       "    <tr style=\"text-align: right;\">\n",
       "      <th></th>\n",
       "      <th>user_id</th>\n",
       "      <th>age</th>\n",
       "      <th>income</th>\n",
       "      <th>sex</th>\n",
       "      <th>kids_flg</th>\n",
       "    </tr>\n",
       "  </thead>\n",
       "  <tbody>\n",
       "    <tr>\n",
       "      <th>0</th>\n",
       "      <td>973171</td>\n",
       "      <td>1</td>\n",
       "      <td>4</td>\n",
       "      <td>1</td>\n",
       "      <td>1</td>\n",
       "    </tr>\n",
       "    <tr>\n",
       "      <th>1</th>\n",
       "      <td>962099</td>\n",
       "      <td>0</td>\n",
       "      <td>2</td>\n",
       "      <td>1</td>\n",
       "      <td>0</td>\n",
       "    </tr>\n",
       "    <tr>\n",
       "      <th>2</th>\n",
       "      <td>1047345</td>\n",
       "      <td>3</td>\n",
       "      <td>3</td>\n",
       "      <td>0</td>\n",
       "      <td>0</td>\n",
       "    </tr>\n",
       "    <tr>\n",
       "      <th>3</th>\n",
       "      <td>721985</td>\n",
       "      <td>3</td>\n",
       "      <td>2</td>\n",
       "      <td>0</td>\n",
       "      <td>0</td>\n",
       "    </tr>\n",
       "    <tr>\n",
       "      <th>4</th>\n",
       "      <td>704055</td>\n",
       "      <td>2</td>\n",
       "      <td>4</td>\n",
       "      <td>0</td>\n",
       "      <td>0</td>\n",
       "    </tr>\n",
       "  </tbody>\n",
       "</table>\n",
       "</div>"
      ],
      "text/plain": [
       "   user_id age income sex kids_flg\n",
       "0   973171   1      4   1        1\n",
       "1   962099   0      2   1        0\n",
       "2  1047345   3      3   0        0\n",
       "3   721985   3      2   0        0\n",
       "4   704055   2      4   0        0"
      ]
     },
     "execution_count": 28,
     "metadata": {},
     "output_type": "execute_result"
    }
   ],
   "source": [
    "users_df.head()"
   ]
  },
  {
   "cell_type": "code",
   "execution_count": 29,
   "id": "09cb2593-6ae5-4973-bcad-5736e4e901f3",
   "metadata": {},
   "outputs": [],
   "source": [
    "user_cat_dict = dict()\n",
    "for key in user_cat_encoding:\n",
    "    user_cat_dict[key] = dict()\n",
    "    labels = user_cat_encoding[key]\n",
    "    for (ind, label) in enumerate(labels):\n",
    "        user_cat_dict[key][ind] = label"
   ]
  },
  {
   "cell_type": "code",
   "execution_count": 30,
   "id": "c16a335a-7791-4d0a-881a-69400ada9c5a",
   "metadata": {},
   "outputs": [
    {
     "data": {
      "text/plain": [
       "{'age': {0: 'age_18_24',\n",
       "  1: 'age_25_34',\n",
       "  2: 'age_35_44',\n",
       "  3: 'age_45_54',\n",
       "  4: 'age_55_64',\n",
       "  5: 'age_65_inf',\n",
       "  6: 'age_unknown'},\n",
       " 'income': {0: 'income_0_20',\n",
       "  1: 'income_150_inf',\n",
       "  2: 'income_20_40',\n",
       "  3: 'income_40_60',\n",
       "  4: 'income_60_90',\n",
       "  5: 'income_90_150',\n",
       "  6: 'income_unknown'},\n",
       " 'sex': {0: 'sex_F', 1: 'sex_M', 2: 'sex_unknown'},\n",
       " 'kids_flg': {0: 'kids_flg_0', 1: 'kids_flg_1'}}"
      ]
     },
     "execution_count": 30,
     "metadata": {},
     "output_type": "execute_result"
    }
   ],
   "source": [
    "user_cat_dict"
   ]
  },
  {
   "cell_type": "markdown",
   "id": "e744823a-ce16-4deb-88c1-15f4a6ad0129",
   "metadata": {},
   "source": [
    "### Айтемы"
   ]
  },
  {
   "cell_type": "code",
   "execution_count": 31,
   "id": "16bfed93-097d-4681-899b-d33c50fd6428",
   "metadata": {},
   "outputs": [],
   "source": [
    "item_cat_features = ['content_type', 'release_year_cat', 'for_kids', 'age_rating']\n",
    "item_other_features = ['genres', 'countries', 'studios', 'actors', 'description']"
   ]
  },
  {
   "cell_type": "code",
   "execution_count": 32,
   "id": "7182264e-012f-4eb2-892b-33b6ea546781",
   "metadata": {},
   "outputs": [],
   "source": [
    "item_cat_encoding = dict()\n",
    "for col in item_cat_features:\n",
    "    cat_col = items_df[col].astype('category').cat\n",
    "    item_cat_encoding[col] = cat_col.categories\n",
    "    items_df[col] = cat_col.codes.astype('category')\n",
    "\n",
    "items_df = items_df[[\"item_id\"] + item_cat_features + item_other_features]"
   ]
  },
  {
   "cell_type": "code",
   "execution_count": 33,
   "id": "46457f37-ef0b-4365-aaaa-e938c9251b77",
   "metadata": {},
   "outputs": [
    {
     "data": {
      "text/html": [
       "<div>\n",
       "<style scoped>\n",
       "    .dataframe tbody tr th:only-of-type {\n",
       "        vertical-align: middle;\n",
       "    }\n",
       "\n",
       "    .dataframe tbody tr th {\n",
       "        vertical-align: top;\n",
       "    }\n",
       "\n",
       "    .dataframe thead th {\n",
       "        text-align: right;\n",
       "    }\n",
       "</style>\n",
       "<table border=\"1\" class=\"dataframe\">\n",
       "  <thead>\n",
       "    <tr style=\"text-align: right;\">\n",
       "      <th></th>\n",
       "      <th>item_id</th>\n",
       "      <th>content_type</th>\n",
       "      <th>release_year_cat</th>\n",
       "      <th>for_kids</th>\n",
       "      <th>age_rating</th>\n",
       "      <th>genres</th>\n",
       "      <th>countries</th>\n",
       "      <th>studios</th>\n",
       "      <th>actors</th>\n",
       "      <th>description</th>\n",
       "    </tr>\n",
       "  </thead>\n",
       "  <tbody>\n",
       "    <tr>\n",
       "      <th>0</th>\n",
       "      <td>10711</td>\n",
       "      <td>0</td>\n",
       "      <td>8</td>\n",
       "      <td>0</td>\n",
       "      <td>3</td>\n",
       "      <td>детективы, драмы, зарубежные, мелодрамы</td>\n",
       "      <td>испания</td>\n",
       "      <td>unknown</td>\n",
       "      <td>адольфо фернандес, ана фернандес, дарио гранди...</td>\n",
       "      <td>мелодрама легендарного педро альмодовара «пого...</td>\n",
       "    </tr>\n",
       "    <tr>\n",
       "      <th>1</th>\n",
       "      <td>2508</td>\n",
       "      <td>0</td>\n",
       "      <td>9</td>\n",
       "      <td>0</td>\n",
       "      <td>3</td>\n",
       "      <td>зарубежные, комедии, приключения</td>\n",
       "      <td>сша</td>\n",
       "      <td>unknown</td>\n",
       "      <td>адам палли, брайан хаски, дж.б. смув, джейсон ...</td>\n",
       "      <td>уморительная современная комедия на популярную...</td>\n",
       "    </tr>\n",
       "    <tr>\n",
       "      <th>2</th>\n",
       "      <td>10716</td>\n",
       "      <td>0</td>\n",
       "      <td>9</td>\n",
       "      <td>0</td>\n",
       "      <td>3</td>\n",
       "      <td>боевики, зарубежные, комедии, криминал, триллеры</td>\n",
       "      <td>канада</td>\n",
       "      <td>unknown</td>\n",
       "      <td>адриан холмс, даррен шалави, джерри вассерман,...</td>\n",
       "      <td>профессиональный рестлер стив остин («все или ...</td>\n",
       "    </tr>\n",
       "    <tr>\n",
       "      <th>3</th>\n",
       "      <td>7868</td>\n",
       "      <td>0</td>\n",
       "      <td>9</td>\n",
       "      <td>0</td>\n",
       "      <td>3</td>\n",
       "      <td>драмы, зарубежные, мелодрамы</td>\n",
       "      <td>великобритания</td>\n",
       "      <td>unknown</td>\n",
       "      <td>александра риддлстон-барретт, джеральдин джейм...</td>\n",
       "      <td>шарлотта рэмплинг, том кортни, джеральдин джей...</td>\n",
       "    </tr>\n",
       "    <tr>\n",
       "      <th>4</th>\n",
       "      <td>16268</td>\n",
       "      <td>0</td>\n",
       "      <td>5</td>\n",
       "      <td>1</td>\n",
       "      <td>2</td>\n",
       "      <td>драмы, мелодрамы, советские, спорт</td>\n",
       "      <td>ссср</td>\n",
       "      <td>ленфильм</td>\n",
       "      <td>александр абдулов, александр демьяненко, алекс...</td>\n",
       "      <td>расчетливая чаровница из советского кинохита «...</td>\n",
       "    </tr>\n",
       "  </tbody>\n",
       "</table>\n",
       "</div>"
      ],
      "text/plain": [
       "   item_id content_type release_year_cat for_kids age_rating  \\\n",
       "0    10711            0                8        0          3   \n",
       "1     2508            0                9        0          3   \n",
       "2    10716            0                9        0          3   \n",
       "3     7868            0                9        0          3   \n",
       "4    16268            0                5        1          2   \n",
       "\n",
       "                                             genres       countries   studios  \\\n",
       "0           детективы, драмы, зарубежные, мелодрамы         испания   unknown   \n",
       "1                  зарубежные, комедии, приключения             сша   unknown   \n",
       "2  боевики, зарубежные, комедии, криминал, триллеры          канада   unknown   \n",
       "3                      драмы, зарубежные, мелодрамы  великобритания   unknown   \n",
       "4                драмы, мелодрамы, советские, спорт            ссср  ленфильм   \n",
       "\n",
       "                                              actors  \\\n",
       "0  адольфо фернандес, ана фернандес, дарио гранди...   \n",
       "1  адам палли, брайан хаски, дж.б. смув, джейсон ...   \n",
       "2  адриан холмс, даррен шалави, джерри вассерман,...   \n",
       "3  александра риддлстон-барретт, джеральдин джейм...   \n",
       "4  александр абдулов, александр демьяненко, алекс...   \n",
       "\n",
       "                                         description  \n",
       "0  мелодрама легендарного педро альмодовара «пого...  \n",
       "1  уморительная современная комедия на популярную...  \n",
       "2  профессиональный рестлер стив остин («все или ...  \n",
       "3  шарлотта рэмплинг, том кортни, джеральдин джей...  \n",
       "4  расчетливая чаровница из советского кинохита «...  "
      ]
     },
     "execution_count": 33,
     "metadata": {},
     "output_type": "execute_result"
    }
   ],
   "source": [
    "items_df.head()"
   ]
  },
  {
   "cell_type": "code",
   "execution_count": 34,
   "id": "11dea14e-2279-4672-b4a9-47cc39cbdd95",
   "metadata": {},
   "outputs": [],
   "source": [
    "item_cat_dict = dict()\n",
    "for key in item_cat_encoding:\n",
    "    item_cat_dict[key] = dict()\n",
    "    labels = item_cat_encoding[key]\n",
    "    for (ind, label) in enumerate(labels):\n",
    "        item_cat_dict[key][ind] = label"
   ]
  },
  {
   "cell_type": "code",
   "execution_count": 35,
   "id": "7012e134-2e00-4599-869d-2a7613934287",
   "metadata": {},
   "outputs": [
    {
     "data": {
      "text/plain": [
       "{'content_type': {0: 'film', 1: 'series'},\n",
       " 'release_year_cat': {0: '1920-1930',\n",
       "  1: '1930-1940',\n",
       "  2: '1940-1950',\n",
       "  3: '1950-1960',\n",
       "  4: '1960-1970',\n",
       "  5: '1970-1980',\n",
       "  6: '1980-1990',\n",
       "  7: '1990-2000',\n",
       "  8: '2000-2010',\n",
       "  9: '2010-2020',\n",
       "  10: '2020_inf',\n",
       "  11: 'inf_1920'},\n",
       " 'for_kids': {0: False, 1: True},\n",
       " 'age_rating': {0: 0.0, 1: 6.0, 2: 12.0, 3: 16.0, 4: 18.0, 5: 21.0}}"
      ]
     },
     "execution_count": 35,
     "metadata": {},
     "output_type": "execute_result"
    }
   ],
   "source": [
    "item_cat_dict"
   ]
  },
  {
   "cell_type": "markdown",
   "id": "c305db84-29ad-46ee-97b8-66cd0e0713f6",
   "metadata": {},
   "source": [
    "## Разбиение датасета"
   ]
  },
  {
   "cell_type": "code",
   "execution_count": 36,
   "id": "1788a842-b1b4-46a4-b305-ef72b1b977f2",
   "metadata": {},
   "outputs": [
    {
     "name": "stdout",
     "output_type": "stream",
     "text": [
      "Продолжительность: 162 days 00:00:00\n"
     ]
    }
   ],
   "source": [
    "max_date = interactions_df[Columns.Datetime].max()\n",
    "min_date = interactions_df[Columns.Datetime].min()\n",
    "print(f'Продолжительность: {max_date - min_date}')"
   ]
  },
  {
   "cell_type": "code",
   "execution_count": 37,
   "id": "cf3189b9-7e20-44a5-9a9b-291c30b1d41a",
   "metadata": {},
   "outputs": [],
   "source": [
    "RANKER_DAYS_COUNT = 31\n",
    "RANKER_TRAIN_SIZE = 0.7\n",
    "RANKER_VALID_SIZE = 0.15\n",
    "RANKER_TEST_SIZE = 0.15"
   ]
  },
  {
   "cell_type": "markdown",
   "id": "b2082127-378b-4cf2-9fee-71b4397ba765",
   "metadata": {},
   "source": [
    "Разделим датасет на две части по времени: для обучения моделей первого уровня и для обучения и тестирования ранкера"
   ]
  },
  {
   "cell_type": "code",
   "execution_count": 38,
   "id": "c70f3b46-08d7-4288-a41a-f33feef899b5",
   "metadata": {},
   "outputs": [],
   "source": [
    "ranker_interactions_df = interactions_df[\n",
    "    (interactions_df[Columns.Datetime] >= max_date - pd.Timedelta(days=RANKER_DAYS_COUNT))\n",
    "]\n",
    "\n",
    "base_models_interactions_df = interactions_df[\n",
    "    (interactions_df[Columns.Datetime] < max_date - pd.Timedelta(days=RANKER_DAYS_COUNT))\n",
    "]"
   ]
  },
  {
   "cell_type": "markdown",
   "id": "d485ada8-caec-45df-82f6-f1a0ce68007f",
   "metadata": {},
   "source": [
    "Разделим пользователей из выборки для ранкера на три части: тренировочных, валидационных, тестовых"
   ]
  },
  {
   "cell_type": "code",
   "execution_count": 39,
   "id": "a9b2a774-c915-4e41-9be7-5b365eb24b6a",
   "metadata": {},
   "outputs": [],
   "source": [
    "train_users, test_and_valid_users = train_test_split(\n",
    "    ranker_interactions_df[Columns.User].unique(), random_state=RANDOM_STATE, test_size=(RANKER_VALID_SIZE + RANKER_TEST_SIZE)\n",
    ")\n",
    "valid_users, test_users = train_test_split(\n",
    "    test_and_valid_users, random_state=RANDOM_STATE, test_size=RANKER_VALID_SIZE / (RANKER_VALID_SIZE + RANKER_TEST_SIZE)\n",
    ")"
   ]
  },
  {
   "cell_type": "code",
   "execution_count": 40,
   "id": "d2441fab-be5c-4ef2-b259-919a8a7bc6e9",
   "metadata": {},
   "outputs": [
    {
     "data": {
      "text/plain": [
       "(309324, 66284, 66284)"
      ]
     },
     "execution_count": 40,
     "metadata": {},
     "output_type": "execute_result"
    }
   ],
   "source": [
    "len(train_users), len(valid_users), len(test_users)"
   ]
  },
  {
   "cell_type": "markdown",
   "id": "b4d67775-2327-4da0-92de-d9c02d9263fd",
   "metadata": {},
   "source": [
    "## Фильтрация"
   ]
  },
  {
   "cell_type": "markdown",
   "id": "9c0d58b4-cf2f-4cab-8c30-d204b98b8b00",
   "metadata": {},
   "source": [
    "### Фильтрация айтемов с редкими интеракциями"
   ]
  },
  {
   "cell_type": "code",
   "execution_count": 41,
   "id": "93ecd4bd-92f0-43fc-bef2-59c49665789a",
   "metadata": {},
   "outputs": [
    {
     "name": "stdout",
     "output_type": "stream",
     "text": [
      "Количество айтемов в интеракциях 15706\n",
      "Количество айтемов в интеракциях, которые посмотрели больше 1 пользователя 13449\n",
      "Количество айтемов в интеракциях, которые посмотрели больше 5 пользователей 9829\n",
      "Количество айтемов в интеракциях, которые посмотрели больше 10 пользователей 8175\n",
      "Количество айтемов в интеракциях, которые посмотрели больше 25 пользователей 6217\n",
      "Количество айтемов в интеракциях, которые посмотрели больше 50 пользователей 4962\n",
      "Количество айтемов в интеракциях, которые посмотрели больше 100 пользователей 3894\n"
     ]
    }
   ],
   "source": [
    "item_popularities = interactions_df.groupby(\"item_id\")[\"user_id\"].count()\n",
    "n_items = len(item_popularities)\n",
    "more_1_n_items = len(item_popularities[item_popularities > 1])\n",
    "more_5_n_items = len(item_popularities[item_popularities > 5])\n",
    "more_10_n_items = len(item_popularities[item_popularities > 10])\n",
    "more_25_n_items = len(item_popularities[item_popularities > 25])\n",
    "more_50_n_items = len(item_popularities[item_popularities > 50])\n",
    "more_100_n_items = len(item_popularities[item_popularities > 100])\n",
    "\n",
    "print(\"Количество айтемов в интеракциях\", n_items)\n",
    "print(\"Количество айтемов в интеракциях, которые посмотрели больше 1 пользователя\", more_1_n_items)\n",
    "print(\"Количество айтемов в интеракциях, которые посмотрели больше 5 пользователей\", more_5_n_items)\n",
    "print(\"Количество айтемов в интеракциях, которые посмотрели больше 10 пользователей\", more_10_n_items)\n",
    "print(\"Количество айтемов в интеракциях, которые посмотрели больше 25 пользователей\", more_25_n_items)\n",
    "print(\"Количество айтемов в интеракциях, которые посмотрели больше 50 пользователей\", more_50_n_items)\n",
    "print(\"Количество айтемов в интеракциях, которые посмотрели больше 100 пользователей\", more_100_n_items)"
   ]
  },
  {
   "cell_type": "code",
   "execution_count": 42,
   "id": "7eaa92ea-4853-41c8-a1ba-6fb662764944",
   "metadata": {},
   "outputs": [
    {
     "name": "stdout",
     "output_type": "stream",
     "text": [
      "Доля интеракций после удаления айтемов, с которым взаимедействовали меньше 25 пользователей: 0.99\n"
     ]
    }
   ],
   "source": [
    "k = 25\n",
    "items_more_k_interactions = item_popularities[item_popularities > k].index\n",
    "print(f\"Доля интеракций после удаления айтемов, с которым взаимедействовали меньше {k} пользователей:\", (\n",
    "    round(len(base_models_interactions_df[base_models_interactions_df[Columns.Item].isin(items_more_k_interactions)]) \n",
    "    / len(base_models_interactions_df), 2)\n",
    "))"
   ]
  },
  {
   "cell_type": "markdown",
   "id": "d6b51b64-64c4-4300-b905-e09fcf47bf08",
   "metadata": {},
   "source": [
    "Оставим только те интеракции в обучающей выборке с айтемами, с которыми взаимодействовали больше 25 пользователей"
   ]
  },
  {
   "cell_type": "code",
   "execution_count": 43,
   "id": "a51f2059-1d2c-4529-a3db-2db587ea3250",
   "metadata": {},
   "outputs": [],
   "source": [
    "base_models_interactions_df = base_models_interactions_df[base_models_interactions_df[Columns.Item].isin(items_more_k_interactions)]"
   ]
  },
  {
   "cell_type": "markdown",
   "id": "498c79cb-0cf9-40a6-bc8d-ae56bc03352a",
   "metadata": {},
   "source": [
    "## Сохранение данных"
   ]
  },
  {
   "cell_type": "code",
   "execution_count": 44,
   "id": "fe1aa9af-90d0-46b4-a0d0-ab2755be769a",
   "metadata": {},
   "outputs": [
    {
     "name": "stdout",
     "output_type": "stream",
     "text": [
      "mkdir: cannot create directory ‘new_data’: File exists\n"
     ]
    }
   ],
   "source": [
    "mkdir new_data"
   ]
  },
  {
   "cell_type": "code",
   "execution_count": 45,
   "id": "00101c0c-b218-4fb8-97af-afc1aa45bf55",
   "metadata": {},
   "outputs": [],
   "source": [
    "base_models_interactions_df.to_csv(\"new_data/base_models_data.csv\", index=False)"
   ]
  },
  {
   "cell_type": "code",
   "execution_count": 46,
   "id": "4b1fe3d8-c0a5-4f87-a528-72e0fbd24703",
   "metadata": {},
   "outputs": [],
   "source": [
    "users_df.to_csv(\"new_data/user_features_data.csv\", index=False)"
   ]
  },
  {
   "cell_type": "code",
   "execution_count": 47,
   "id": "272df027-c190-4913-8017-ca3fb53de131",
   "metadata": {},
   "outputs": [],
   "source": [
    "items_df.to_csv(\"new_data/item_features_data.csv\", index=False)"
   ]
  },
  {
   "cell_type": "code",
   "execution_count": 48,
   "id": "fda26bb0-4bae-401c-a873-0919d2dca51d",
   "metadata": {},
   "outputs": [],
   "source": [
    "ranker_interactions_df[ranker_interactions_df[Columns.User].isin(train_users)].to_csv(\"new_data/ranker_train_data.csv\", index=False)"
   ]
  },
  {
   "cell_type": "code",
   "execution_count": 49,
   "id": "9d071943-3c22-4cb4-ae64-32441f884bf0",
   "metadata": {},
   "outputs": [],
   "source": [
    "ranker_interactions_df[ranker_interactions_df[Columns.User].isin(valid_users)].to_csv(\"new_data/ranker_valid_data.csv\", index=False)"
   ]
  },
  {
   "cell_type": "code",
   "execution_count": 50,
   "id": "edd17042-32a4-493b-a0d6-dc362f2a425c",
   "metadata": {},
   "outputs": [],
   "source": [
    "ranker_interactions_df[ranker_interactions_df[Columns.User].isin(test_users)].to_csv(\"new_data/ranker_test_data.csv\", index=False)"
   ]
  },
  {
   "cell_type": "code",
   "execution_count": 51,
   "id": "60af9eeb-6440-4574-b9aa-5556e0095355",
   "metadata": {},
   "outputs": [],
   "source": [
    "with open(\"new_data/item_features_mapping.json\", \"w\", encoding=\"utf-8\") as f:\n",
    "    json.dump(item_cat_dict, f)"
   ]
  },
  {
   "cell_type": "code",
   "execution_count": 52,
   "id": "b4b00a63-e24e-46a5-91b3-d271b34318f1",
   "metadata": {},
   "outputs": [],
   "source": [
    "with open(\"new_data/user_features_mapping.json\", \"w\", encoding=\"utf-8\") as f:\n",
    "    json.dump(user_cat_dict, f)"
   ]
  },
  {
   "cell_type": "code",
   "execution_count": null,
   "id": "5bf0febb-7acd-45b2-9c74-c68923d7170f",
   "metadata": {},
   "outputs": [],
   "source": []
  }
 ],
 "metadata": {
  "kernelspec": {
   "display_name": "Python 3 (ipykernel)",
   "language": "python",
   "name": "python3"
  },
  "language_info": {
   "codemirror_mode": {
    "name": "ipython",
    "version": 3
   },
   "file_extension": ".py",
   "mimetype": "text/x-python",
   "name": "python",
   "nbconvert_exporter": "python",
   "pygments_lexer": "ipython3",
   "version": "3.10.11"
  }
 },
 "nbformat": 4,
 "nbformat_minor": 5
}
