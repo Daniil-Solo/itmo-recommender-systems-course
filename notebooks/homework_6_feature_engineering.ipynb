{
 "cells": [
  {
   "cell_type": "markdown",
   "id": "92cf080b-171b-4f84-bad4-eabff31f8b01",
   "metadata": {
    "collapsed": true,
    "jupyter": {
     "outputs_hidden": true
    }
   },
   "source": [
    "## Импорт библиотек и константы"
   ]
  },
  {
   "cell_type": "code",
   "execution_count": 1,
   "id": "f690830f-ee14-4188-a2d4-7e9f87089dcf",
   "metadata": {},
   "outputs": [],
   "source": [
    "import warnings\n",
    "warnings.filterwarnings('ignore')"
   ]
  },
  {
   "cell_type": "code",
   "execution_count": 2,
   "id": "5a19a42e-fcf9-4125-9b7f-164bd1cb2297",
   "metadata": {},
   "outputs": [],
   "source": [
    "import json\n",
    "import pandas as pd\n",
    "import numpy as np\n",
    "from tqdm.auto import tqdm\n",
    "from rectools import Columns"
   ]
  },
  {
   "cell_type": "markdown",
   "id": "47d2686a-60f6-425e-841a-c839ae66789f",
   "metadata": {},
   "source": [
    "## Загрузка данных"
   ]
  },
  {
   "cell_type": "code",
   "execution_count": 4,
   "id": "26066c95-886a-475f-80e8-b09a377d8713",
   "metadata": {},
   "outputs": [],
   "source": [
    "interactions_df = pd.read_csv(\"new_data/base_models_data.csv\")"
   ]
  },
  {
   "cell_type": "code",
   "execution_count": 5,
   "id": "00e5db09-fe0d-4456-b582-2bbd50d9759e",
   "metadata": {},
   "outputs": [],
   "source": [
    "items_df = pd.read_csv(\"new_data/item_features_data.csv\")"
   ]
  },
  {
   "cell_type": "code",
   "execution_count": 6,
   "id": "a139db78-72dc-4db8-8eec-e41a2e065390",
   "metadata": {},
   "outputs": [],
   "source": [
    "users_df = pd.read_csv(\"new_data/user_features_data.csv\")"
   ]
  },
  {
   "cell_type": "code",
   "execution_count": 7,
   "id": "7408f734-22c0-4d14-a20e-2c6a2ec3fa1b",
   "metadata": {},
   "outputs": [],
   "source": [
    "with open(\"new_data/item_features_mapping.json\", \"r\", encoding=\"utf-8\") as f:\n",
    "    item_features_mapping = json.load(f)"
   ]
  },
  {
   "cell_type": "code",
   "execution_count": 36,
   "id": "6749ba82-45d3-4768-a1c4-16d7b2f2ed9d",
   "metadata": {},
   "outputs": [],
   "source": [
    "item_features_inv_mapping = dict()\n",
    "for key in item_features_mapping:\n",
    "    item_features_inv_mapping[key] = dict()\n",
    "    for (value, label) in item_features_mapping[key].items():\n",
    "        item_features_inv_mapping[key][label] = value"
   ]
  },
  {
   "cell_type": "markdown",
   "id": "287e0c9a-b084-4de5-b5ca-4473250ad905",
   "metadata": {},
   "source": [
    "## Генерация новых фичей"
   ]
  },
  {
   "cell_type": "markdown",
   "id": "e1557b20-f3ad-4caa-bff4-34f5899f70c3",
   "metadata": {},
   "source": [
    "### Фичи с семинара"
   ]
  },
  {
   "cell_type": "code",
   "execution_count": 8,
   "id": "2c9cf4fd-07e3-448f-95b7-8df548e85cc0",
   "metadata": {},
   "outputs": [],
   "source": [
    "# Длина истории юзера\n",
    "interactions_df[\"user_history\"] = (\n",
    "    interactions_df.groupby(Columns.User)\n",
    "    [Columns.Item].transform(\"count\")\n",
    ")\n",
    "\n",
    "# Популярность айтем\n",
    "interactions_df[\"item_popularity\"] = (\n",
    "    interactions_df.groupby(Columns.Item)\n",
    "    [Columns.User].transform(\"count\")\n",
    ")\n",
    "\n",
    "# Средняя популярность айтемов юзера\n",
    "interactions_df['user_avg_popularity'] = (\n",
    "    interactions_df.groupby(Columns.User)\n",
    "    ['item_popularity'].transform('mean')\n",
    ")\n",
    "\n",
    "# Средняя длина истории пользователей, смотревших айтем\n",
    "interactions_df['item_avg_history'] = (\n",
    "    interactions_df.groupby('item_id')\n",
    "    ['user_history'].transform('mean')\n",
    ")\n",
    "\n",
    "# Популярность последнего просмотренного контента\n",
    "interactions_df.sort_values(\n",
    "    by=[Columns.User, Columns.Datetime], \n",
    "    ascending=[True, False], \n",
    "    ignore_index=True,\n",
    "    inplace=True,\n",
    ")\n",
    "\n",
    "interactions_df['user_last_popularity'] = (\n",
    "    interactions_df.groupby('user_id')\n",
    "    ['item_popularity'].transform('first')\n",
    ")"
   ]
  },
  {
   "cell_type": "markdown",
   "id": "1d8a27a3-8fee-497a-8685-784854ffaf9e",
   "metadata": {},
   "source": [
    "### Придуманные фичи"
   ]
  },
  {
   "cell_type": "markdown",
   "id": "99cc26da-7d86-4355-8ef2-334d1a8534d3",
   "metadata": {},
   "source": [
    "#### Доля сериалов в пользовательской истории"
   ]
  },
  {
   "cell_type": "code",
   "execution_count": 9,
   "id": "857b87b8-35ae-4117-904f-545cd930a3ef",
   "metadata": {},
   "outputs": [],
   "source": [
    "# Может каким-то пользователям заходят только сериалы или они наоборот терпеть не могуn сериалы\n",
    "# Доля сериалов у юзера\n",
    "serials = items_df[items_df[\"content_type\"] != 0][Columns.Item].values # 0 - код категории \"фильм\"\n",
    "interactions_df[\"is_serial\"] = interactions_df[\"item_id\"].isin(serials)\n",
    "\n",
    "group_df = (\n",
    "    interactions_df\n",
    "    .groupby([\"user_id\", \"is_serial\"])\n",
    "    [\"item_id\"].count()\n",
    "    .reset_index()\n",
    ")\n",
    "\n",
    "group_df = group_df.merge(\n",
    "    group_df, \n",
    "    left_on='user_id', \n",
    "    right_on='user_id',\n",
    "    suffixes=('_left', '_right')\n",
    ")\n",
    "\n",
    "users_watched_films_and_serials_df = (\n",
    "    group_df\n",
    "    [(group_df[\"is_serial_left\"] == True) & (group_df[\"is_serial_right\"] == False)]\n",
    "    .rename({\"item_id_left\": \"serials_count\", \"item_id_right\": \"films_count\"}, axis=1)\n",
    "    [[\"user_id\", \"serials_count\", \"films_count\"]]\n",
    ")\n",
    "\n",
    "users_watched_only_one = (\n",
    "    group_df\n",
    "    [~group_df[\"user_id\"].isin(users_watched_films_and_serials_df[\"user_id\"].unique())]\n",
    "    [\"user_id\"].unique()\n",
    ")\n",
    "users_watched_only_serials_df = (\n",
    "    group_df\n",
    "    [(group_df[\"user_id\"].isin(users_watched_only_one)) & (group_df[\"is_serial_left\"] == True)]\n",
    "    .rename({\"item_id_left\": \"serials_count\"}, axis=1)\n",
    "    [[\"user_id\", \"serials_count\"]]\n",
    ")\n",
    "users_watched_only_serials_df[\"films_count\"] = 0\n",
    "\n",
    "users_watched_only_films_df = (\n",
    "    group_df\n",
    "    [(group_df[\"user_id\"].isin(users_watched_only_one)) & (group_df[\"is_serial_left\"] == False)]\n",
    "    .rename({\"item_id_left\": \"films_count\"}, axis=1)\n",
    "    [[\"user_id\", \"films_count\"]]\n",
    ")\n",
    "users_watched_only_films_df[\"serials_count\"] = 0\n",
    "\n",
    "users_items_count_df = pd.concat([users_watched_films_and_serials_df, users_watched_only_serials_df, users_watched_only_films_df], ignore_index=True)\n",
    "users_items_count_df[\"all_count\"] = users_items_count_df[\"films_count\"] + users_items_count_df[\"serials_count\"]\n",
    "users_items_count_df[\"serials_part\"] = users_items_count_df[\"serials_count\"] / users_items_count_df[\"all_count\"]\n",
    "users_items_count_df.drop_duplicates([\"user_id\"], inplace=True)\n",
    "users_items_count_df.drop([\"all_count\"], axis=1, inplace=True)"
   ]
  },
  {
   "cell_type": "code",
   "execution_count": 10,
   "id": "a0520f10-b8d0-4ae2-9d37-2655fb63aaee",
   "metadata": {},
   "outputs": [
    {
     "data": {
      "text/html": [
       "<div>\n",
       "<style scoped>\n",
       "    .dataframe tbody tr th:only-of-type {\n",
       "        vertical-align: middle;\n",
       "    }\n",
       "\n",
       "    .dataframe tbody tr th {\n",
       "        vertical-align: top;\n",
       "    }\n",
       "\n",
       "    .dataframe thead th {\n",
       "        text-align: right;\n",
       "    }\n",
       "</style>\n",
       "<table border=\"1\" class=\"dataframe\">\n",
       "  <thead>\n",
       "    <tr style=\"text-align: right;\">\n",
       "      <th></th>\n",
       "      <th>user_id</th>\n",
       "      <th>serials_count</th>\n",
       "      <th>films_count</th>\n",
       "      <th>serials_part</th>\n",
       "    </tr>\n",
       "  </thead>\n",
       "  <tbody>\n",
       "    <tr>\n",
       "      <th>0</th>\n",
       "      <td>0</td>\n",
       "      <td>3</td>\n",
       "      <td>3</td>\n",
       "      <td>0.500000</td>\n",
       "    </tr>\n",
       "    <tr>\n",
       "      <th>1</th>\n",
       "      <td>10</td>\n",
       "      <td>1</td>\n",
       "      <td>2</td>\n",
       "      <td>0.333333</td>\n",
       "    </tr>\n",
       "    <tr>\n",
       "      <th>2</th>\n",
       "      <td>11</td>\n",
       "      <td>7</td>\n",
       "      <td>5</td>\n",
       "      <td>0.583333</td>\n",
       "    </tr>\n",
       "    <tr>\n",
       "      <th>3</th>\n",
       "      <td>13</td>\n",
       "      <td>2</td>\n",
       "      <td>11</td>\n",
       "      <td>0.153846</td>\n",
       "    </tr>\n",
       "    <tr>\n",
       "      <th>4</th>\n",
       "      <td>15</td>\n",
       "      <td>5</td>\n",
       "      <td>3</td>\n",
       "      <td>0.625000</td>\n",
       "    </tr>\n",
       "  </tbody>\n",
       "</table>\n",
       "</div>"
      ],
      "text/plain": [
       "   user_id  serials_count  films_count  serials_part\n",
       "0        0              3            3      0.500000\n",
       "1       10              1            2      0.333333\n",
       "2       11              7            5      0.583333\n",
       "3       13              2           11      0.153846\n",
       "4       15              5            3      0.625000"
      ]
     },
     "execution_count": 10,
     "metadata": {},
     "output_type": "execute_result"
    }
   ],
   "source": [
    "users_items_count_df.head()"
   ]
  },
  {
   "cell_type": "markdown",
   "id": "1b77514d-6fcf-4941-b3d5-e080e7d3eede",
   "metadata": {},
   "source": [
    "Проверим, что никого не потеряли"
   ]
  },
  {
   "cell_type": "code",
   "execution_count": 11,
   "id": "940853a8-4ac9-41f5-a0bb-880323d7d843",
   "metadata": {},
   "outputs": [
    {
     "data": {
      "text/plain": [
       "True"
      ]
     },
     "execution_count": 11,
     "metadata": {},
     "output_type": "execute_result"
    }
   ],
   "source": [
    "interactions_df[\"user_id\"].nunique() == len(users_items_count_df)"
   ]
  },
  {
   "cell_type": "markdown",
   "id": "576ce418-c063-49d3-992b-97612322f1c7",
   "metadata": {},
   "source": [
    "### Количество актеров в фильме"
   ]
  },
  {
   "cell_type": "markdown",
   "id": "b401c58a-336c-464c-b3de-90291cd227bd",
   "metadata": {},
   "source": [
    "Обычно в секции \"актеры\" указаны наиболее известные, чтобы привлечь пользователя к просмотру, поэтому стоит учесть количество именитых"
   ]
  },
  {
   "cell_type": "code",
   "execution_count": 12,
   "id": "8532452a-8ad3-4ac5-864e-d8c41360c329",
   "metadata": {},
   "outputs": [],
   "source": [
    "items_df[\"actors_count\"] = items_df[\"actors\"].apply(lambda string: len(string.split(\", \")))"
   ]
  },
  {
   "cell_type": "code",
   "execution_count": 13,
   "id": "87c7507a-da47-4d9f-bfba-90da13c709c0",
   "metadata": {},
   "outputs": [
    {
     "data": {
      "text/plain": [
       "array([[<Axes: title={'center': 'actors_count'}>]], dtype=object)"
      ]
     },
     "execution_count": 13,
     "metadata": {},
     "output_type": "execute_result"
    },
    {
     "data": {
      "image/png": "[encoded data removed]",
      "text/plain": [
       "<Figure size 640x480 with 1 Axes>"
      ]
     },
     "metadata": {},
     "output_type": "display_data"
    }
   ],
   "source": [
    "items_df[items_df[\"actors_count\"] < 30].hist(column=[\"actors_count\"], bins=20)"
   ]
  },
  {
   "cell_type": "markdown",
   "id": "1069d820-3595-4fed-a7b1-141bf2bf7bd7",
   "metadata": {},
   "source": [
    "### Длина описания"
   ]
  },
  {
   "cell_type": "code",
   "execution_count": 14,
   "id": "9345aa41-bb2d-4d4d-82da-e0a5eff50ef9",
   "metadata": {},
   "outputs": [],
   "source": [
    "items_df[\"description_len\"] = items_df[\"description\"].apply(lambda description: len(description))"
   ]
  },
  {
   "cell_type": "code",
   "execution_count": 15,
   "id": "be3bfca5-0226-4dda-84ca-5fb937a987fe",
   "metadata": {},
   "outputs": [
    {
     "data": {
      "text/plain": [
       "<Axes: >"
      ]
     },
     "execution_count": 15,
     "metadata": {},
     "output_type": "execute_result"
    },
    {
     "data": {
      "image/png": "[encoded data removed]",
      "text/plain": [
       "<Figure size 640x480 with 1 Axes>"
      ]
     },
     "metadata": {},
     "output_type": "display_data"
    }
   ],
   "source": [
    "items_df[\"description_len\"].hist()"
   ]
  },
  {
   "cell_type": "markdown",
   "id": "ba2f3352-b768-419f-83ac-a01320c69425",
   "metadata": {},
   "source": [
    "### Любимый жанр юзера"
   ]
  },
  {
   "cell_type": "markdown",
   "id": "c4aef795-9a49-483e-a8cb-56e2028b92be",
   "metadata": {},
   "source": [
    "Будем считать, что любимый жанр это самый распространенный жанр среди фильмов, которые пользователь досмотрел до 30%"
   ]
  },
  {
   "cell_type": "code",
   "execution_count": 16,
   "id": "0a2fe27b-ba4a-4375-8414-938b48a25967",
   "metadata": {},
   "outputs": [],
   "source": [
    "interactions_with_genres = pd.merge(\n",
    "    left = interactions_df[interactions_df[\"weight\"] > 30][[\"user_id\", \"item_id\", \"weight\"]],\n",
    "    right = items_df[[\"item_id\", \"genres\"]],\n",
    "    on = \"item_id\"\n",
    ")\n",
    "\n",
    "interactions_with_genres[\"genre\"] = interactions_with_genres[\"genres\"].apply(lambda x: x.split(\", \"))"
   ]
  },
  {
   "cell_type": "code",
   "execution_count": 17,
   "id": "4b85d776-68f5-48cd-8afd-958345004e39",
   "metadata": {},
   "outputs": [],
   "source": [
    "users_with_genres = (\n",
    "    interactions_with_genres\n",
    "    .explode([\"genre\"])\n",
    "    .reset_index(drop=True)\n",
    "    .groupby([\"user_id\", \"genre\"])\n",
    "    [\"item_id\"].count()\n",
    "    .reset_index()\n",
    "    .sort_values(by=[\"user_id\", \"item_id\"], ascending=[True, False])\n",
    "    .drop_duplicates([\"user_id\"], keep=\"first\")\n",
    "    .rename({\"item_id\": \"items_count\", \"genre\": \"favorite_genre\"}, axis=1)\n",
    ")"
   ]
  },
  {
   "cell_type": "code",
   "execution_count": 18,
   "id": "d2bad2e2-2dc8-45f0-a69a-b48afdeee53a",
   "metadata": {},
   "outputs": [
    {
     "data": {
      "text/html": [
       "<div>\n",
       "<style scoped>\n",
       "    .dataframe tbody tr th:only-of-type {\n",
       "        vertical-align: middle;\n",
       "    }\n",
       "\n",
       "    .dataframe tbody tr th {\n",
       "        vertical-align: top;\n",
       "    }\n",
       "\n",
       "    .dataframe thead th {\n",
       "        text-align: right;\n",
       "    }\n",
       "</style>\n",
       "<table border=\"1\" class=\"dataframe\">\n",
       "  <thead>\n",
       "    <tr style=\"text-align: right;\">\n",
       "      <th></th>\n",
       "      <th>user_id</th>\n",
       "      <th>favorite_genre</th>\n",
       "      <th>items_count</th>\n",
       "    </tr>\n",
       "  </thead>\n",
       "  <tbody>\n",
       "    <tr>\n",
       "      <th>7</th>\n",
       "      <td>2</td>\n",
       "      <td>мультфильм</td>\n",
       "      <td>31</td>\n",
       "    </tr>\n",
       "    <tr>\n",
       "      <th>16</th>\n",
       "      <td>4</td>\n",
       "      <td>драмы</td>\n",
       "      <td>1</td>\n",
       "    </tr>\n",
       "    <tr>\n",
       "      <th>19</th>\n",
       "      <td>11</td>\n",
       "      <td>драмы</td>\n",
       "      <td>4</td>\n",
       "    </tr>\n",
       "    <tr>\n",
       "      <th>29</th>\n",
       "      <td>13</td>\n",
       "      <td>триллеры</td>\n",
       "      <td>3</td>\n",
       "    </tr>\n",
       "    <tr>\n",
       "      <th>31</th>\n",
       "      <td>14</td>\n",
       "      <td>детективы</td>\n",
       "      <td>1</td>\n",
       "    </tr>\n",
       "  </tbody>\n",
       "</table>\n",
       "</div>"
      ],
      "text/plain": [
       "    user_id favorite_genre  items_count\n",
       "7         2     мультфильм           31\n",
       "16        4          драмы            1\n",
       "19       11          драмы            4\n",
       "29       13       триллеры            3\n",
       "31       14      детективы            1"
      ]
     },
     "execution_count": 18,
     "metadata": {},
     "output_type": "execute_result"
    }
   ],
   "source": [
    "users_with_genres.head()"
   ]
  },
  {
   "cell_type": "code",
   "execution_count": 19,
   "id": "09c2b6a4-1763-41bf-8a91-53b3e2447bdf",
   "metadata": {},
   "outputs": [
    {
     "data": {
      "text/plain": [
       "<Axes: >"
      ]
     },
     "execution_count": 19,
     "metadata": {},
     "output_type": "execute_result"
    },
    {
     "data": {
      "image/png": "[encoded data removed]",
      "text/plain": [
       "<Figure size 640x480 with 1 Axes>"
      ]
     },
     "metadata": {},
     "output_type": "display_data"
    }
   ],
   "source": [
    "users_with_genres[\"favorite_genre\"].value_counts()[:10].plot(kind=\"barh\")"
   ]
  },
  {
   "cell_type": "markdown",
   "id": "b853bd6b-2c28-4869-bd27-72af6655eeef",
   "metadata": {},
   "source": [
    "Видно, что Россия для грустных)\n",
    "Но на самом деле почти в половине фильмов указан жанр \"драмы\""
   ]
  },
  {
   "cell_type": "code",
   "execution_count": 20,
   "id": "0406d5af-b6e7-466d-aef7-b76498fe8e44",
   "metadata": {},
   "outputs": [
    {
     "data": {
      "text/plain": [
       "Нет драмы в жанрах    8827\n",
       "Драма в жанрах        7136\n",
       "Name: genres, dtype: int64"
      ]
     },
     "execution_count": 20,
     "metadata": {},
     "output_type": "execute_result"
    }
   ],
   "source": [
    "items_df[\"genres\"].apply(lambda x: \"Драма в жанрах\" if 'драмы' in x else \"Нет драмы в жанрах\").value_counts()"
   ]
  },
  {
   "cell_type": "markdown",
   "id": "17f277ba-5b85-478b-8bbb-b5d5ee297586",
   "metadata": {},
   "source": [
    "### Принадлежность к определенной стране"
   ]
  },
  {
   "cell_type": "markdown",
   "id": "aa8b9e07-f9b8-4bed-836c-9384d8bc84b4",
   "metadata": {},
   "source": [
    "Не будем порождать большое количество признаков с помощью One Hot Encoding, вместо этого выберем три страны, по которым чаще всего (по субъективному мнению) называют фильмы или сериалы"
   ]
  },
  {
   "cell_type": "code",
   "execution_count": 21,
   "id": "1b153f30-5431-4d55-a261-34dbcbd08697",
   "metadata": {},
   "outputs": [],
   "source": [
    "items_df[\"american\"] = items_df[\"countries\"].apply(lambda countries: 'сша' in countries)\n",
    "items_df[\"russian\"] = items_df[\"countries\"].apply(lambda countries: 'россия' in countries)\n",
    "items_df[\"soviet\"] = items_df[\"countries\"].apply(lambda countries: 'ссср' in countries)"
   ]
  },
  {
   "cell_type": "code",
   "execution_count": 22,
   "id": "06b49fa8-6f0d-4442-a172-9afa5e17745a",
   "metadata": {},
   "outputs": [
    {
     "data": {
      "text/plain": [
       "Американских фильмов     5065\n",
       "Других фильмов          10898\n",
       "Name: american, dtype: int64"
      ]
     },
     "execution_count": 22,
     "metadata": {},
     "output_type": "execute_result"
    }
   ],
   "source": [
    "items_df[\"american\"].apply(lambda flag: \"Американских фильмов\" if flag else \"Других фильмов\").value_counts(ascending=True)"
   ]
  },
  {
   "cell_type": "code",
   "execution_count": 23,
   "id": "5ffc92c4-8529-40ee-981f-b09812d18cc2",
   "metadata": {},
   "outputs": [
    {
     "data": {
      "text/plain": [
       "Российских фильмов     4377\n",
       "Других фильмов        11586\n",
       "Name: russian, dtype: int64"
      ]
     },
     "execution_count": 23,
     "metadata": {},
     "output_type": "execute_result"
    }
   ],
   "source": [
    "items_df[\"russian\"].apply(lambda flag: \"Российских фильмов\" if flag else \"Других фильмов\").value_counts(ascending=True)"
   ]
  },
  {
   "cell_type": "code",
   "execution_count": 24,
   "id": "c05faa12-a7be-40a2-956e-4347944fa46c",
   "metadata": {},
   "outputs": [
    {
     "data": {
      "text/plain": [
       "Советских фильмов     1417\n",
       "Других фильмов       14546\n",
       "Name: soviet, dtype: int64"
      ]
     },
     "execution_count": 24,
     "metadata": {},
     "output_type": "execute_result"
    }
   ],
   "source": [
    "items_df[\"soviet\"].apply(lambda flag: \"Советских фильмов\" if flag else \"Других фильмов\").value_counts(ascending=True)"
   ]
  },
  {
   "cell_type": "markdown",
   "id": "a50b2c49-966b-4f39-aa93-76625172b9c1",
   "metadata": {},
   "source": [
    "## Добавление полученных признаков в датафреймы юзеров и айтемов"
   ]
  },
  {
   "cell_type": "markdown",
   "id": "98a9d42b-e873-4772-b57a-a8ffa342e48a",
   "metadata": {},
   "source": [
    "### Юзеры"
   ]
  },
  {
   "cell_type": "code",
   "execution_count": 25,
   "id": "77139d34-c5db-49fb-b203-8a1ad0f76003",
   "metadata": {},
   "outputs": [],
   "source": [
    "users_df = pd.merge(\n",
    "    left=users_df, \n",
    "    right=(\n",
    "        interactions_df\n",
    "        [['user_id', 'user_history', 'user_avg_popularity', 'user_last_popularity']]\n",
    "        .drop_duplicates()\n",
    "    ),\n",
    "    how='left',\n",
    "    on='user_id',\n",
    ")"
   ]
  },
  {
   "cell_type": "code",
   "execution_count": 26,
   "id": "e8b9ef6e-248a-4067-9881-d1879d3efe3b",
   "metadata": {},
   "outputs": [],
   "source": [
    "users_df = pd.merge(\n",
    "    left=users_df, \n",
    "    right=users_items_count_df,\n",
    "    how='left',\n",
    "    on='user_id',\n",
    ")"
   ]
  },
  {
   "cell_type": "code",
   "execution_count": 27,
   "id": "12ac129d-3462-4417-a303-1bded16238ab",
   "metadata": {},
   "outputs": [],
   "source": [
    "users_df = pd.merge(\n",
    "    left=users_df, \n",
    "    right=users_with_genres[[\"user_id\", \"favorite_genre\"]],\n",
    "    how='left',\n",
    "    on='user_id',\n",
    ")"
   ]
  },
  {
   "cell_type": "code",
   "execution_count": 28,
   "id": "98394efd-2372-48d8-a191-92015c69fc9f",
   "metadata": {},
   "outputs": [
    {
     "data": {
      "text/html": [
       "<div>\n",
       "<style scoped>\n",
       "    .dataframe tbody tr th:only-of-type {\n",
       "        vertical-align: middle;\n",
       "    }\n",
       "\n",
       "    .dataframe tbody tr th {\n",
       "        vertical-align: top;\n",
       "    }\n",
       "\n",
       "    .dataframe thead th {\n",
       "        text-align: right;\n",
       "    }\n",
       "</style>\n",
       "<table border=\"1\" class=\"dataframe\">\n",
       "  <thead>\n",
       "    <tr style=\"text-align: right;\">\n",
       "      <th></th>\n",
       "      <th>user_id</th>\n",
       "      <th>age</th>\n",
       "      <th>income</th>\n",
       "      <th>sex</th>\n",
       "      <th>kids_flg</th>\n",
       "      <th>user_history</th>\n",
       "      <th>user_avg_popularity</th>\n",
       "      <th>user_last_popularity</th>\n",
       "      <th>serials_count</th>\n",
       "      <th>films_count</th>\n",
       "      <th>serials_part</th>\n",
       "      <th>favorite_genre</th>\n",
       "    </tr>\n",
       "  </thead>\n",
       "  <tbody>\n",
       "    <tr>\n",
       "      <th>0</th>\n",
       "      <td>973171</td>\n",
       "      <td>1</td>\n",
       "      <td>4</td>\n",
       "      <td>1</td>\n",
       "      <td>1</td>\n",
       "      <td>5.0</td>\n",
       "      <td>19316.800000</td>\n",
       "      <td>92281.0</td>\n",
       "      <td>2.0</td>\n",
       "      <td>3.0</td>\n",
       "      <td>0.400000</td>\n",
       "      <td>драмы</td>\n",
       "    </tr>\n",
       "    <tr>\n",
       "      <th>1</th>\n",
       "      <td>962099</td>\n",
       "      <td>0</td>\n",
       "      <td>2</td>\n",
       "      <td>1</td>\n",
       "      <td>0</td>\n",
       "      <td>13.0</td>\n",
       "      <td>1308.307692</td>\n",
       "      <td>256.0</td>\n",
       "      <td>6.0</td>\n",
       "      <td>7.0</td>\n",
       "      <td>0.461538</td>\n",
       "      <td>боевики</td>\n",
       "    </tr>\n",
       "    <tr>\n",
       "      <th>2</th>\n",
       "      <td>1047345</td>\n",
       "      <td>3</td>\n",
       "      <td>3</td>\n",
       "      <td>0</td>\n",
       "      <td>0</td>\n",
       "      <td>NaN</td>\n",
       "      <td>NaN</td>\n",
       "      <td>NaN</td>\n",
       "      <td>NaN</td>\n",
       "      <td>NaN</td>\n",
       "      <td>NaN</td>\n",
       "      <td>NaN</td>\n",
       "    </tr>\n",
       "    <tr>\n",
       "      <th>3</th>\n",
       "      <td>721985</td>\n",
       "      <td>3</td>\n",
       "      <td>2</td>\n",
       "      <td>0</td>\n",
       "      <td>0</td>\n",
       "      <td>13.0</td>\n",
       "      <td>5914.307692</td>\n",
       "      <td>443.0</td>\n",
       "      <td>0.0</td>\n",
       "      <td>13.0</td>\n",
       "      <td>0.000000</td>\n",
       "      <td>драмы</td>\n",
       "    </tr>\n",
       "    <tr>\n",
       "      <th>4</th>\n",
       "      <td>704055</td>\n",
       "      <td>2</td>\n",
       "      <td>4</td>\n",
       "      <td>0</td>\n",
       "      <td>0</td>\n",
       "      <td>7.0</td>\n",
       "      <td>526.428571</td>\n",
       "      <td>67.0</td>\n",
       "      <td>0.0</td>\n",
       "      <td>7.0</td>\n",
       "      <td>0.000000</td>\n",
       "      <td>детективы</td>\n",
       "    </tr>\n",
       "  </tbody>\n",
       "</table>\n",
       "</div>"
      ],
      "text/plain": [
       "   user_id  age  income  sex  kids_flg  user_history  user_avg_popularity  \\\n",
       "0   973171    1       4    1         1           5.0         19316.800000   \n",
       "1   962099    0       2    1         0          13.0          1308.307692   \n",
       "2  1047345    3       3    0         0           NaN                  NaN   \n",
       "3   721985    3       2    0         0          13.0          5914.307692   \n",
       "4   704055    2       4    0         0           7.0           526.428571   \n",
       "\n",
       "   user_last_popularity  serials_count  films_count  serials_part  \\\n",
       "0               92281.0            2.0          3.0      0.400000   \n",
       "1                 256.0            6.0          7.0      0.461538   \n",
       "2                   NaN            NaN          NaN           NaN   \n",
       "3                 443.0            0.0         13.0      0.000000   \n",
       "4                  67.0            0.0          7.0      0.000000   \n",
       "\n",
       "  favorite_genre  \n",
       "0          драмы  \n",
       "1        боевики  \n",
       "2            NaN  \n",
       "3          драмы  \n",
       "4      детективы  "
      ]
     },
     "execution_count": 28,
     "metadata": {},
     "output_type": "execute_result"
    }
   ],
   "source": [
    "users_df.head()"
   ]
  },
  {
   "cell_type": "markdown",
   "id": "ef80c3f5-4860-4238-9263-4ae0e61a28f2",
   "metadata": {},
   "source": [
    "### Айтемы"
   ]
  },
  {
   "cell_type": "code",
   "execution_count": 29,
   "id": "66a5de66-d6f0-4e97-bf72-bc37961d9571",
   "metadata": {},
   "outputs": [],
   "source": [
    "items_df = pd.merge(\n",
    "    left=items_df, \n",
    "    right=(\n",
    "        interactions_df\n",
    "        [['item_id', 'item_popularity', 'item_avg_history']]\n",
    "        .drop_duplicates()\n",
    "    ),\n",
    "    how='left',\n",
    "    on='item_id',\n",
    ")"
   ]
  },
  {
   "cell_type": "code",
   "execution_count": 30,
   "id": "5fa23a7a-1f2f-438a-a4da-549f3d9fb257",
   "metadata": {},
   "outputs": [],
   "source": [
    "items_df = items_df[[\n",
    "    \"item_id\", \"content_type\", \"release_year_cat\", \"for_kids\", \"age_rating\", \"genres\", \n",
    "    \"actors_count\", \"description_len\", \"american\", \"russian\", \"soviet\", \"item_popularity\", \"item_avg_history\"\n",
    "]]"
   ]
  },
  {
   "cell_type": "code",
   "execution_count": 31,
   "id": "1ac481f8-7315-450a-9b51-0c2d8830897a",
   "metadata": {},
   "outputs": [
    {
     "data": {
      "text/html": [
       "<div>\n",
       "<style scoped>\n",
       "    .dataframe tbody tr th:only-of-type {\n",
       "        vertical-align: middle;\n",
       "    }\n",
       "\n",
       "    .dataframe tbody tr th {\n",
       "        vertical-align: top;\n",
       "    }\n",
       "\n",
       "    .dataframe thead th {\n",
       "        text-align: right;\n",
       "    }\n",
       "</style>\n",
       "<table border=\"1\" class=\"dataframe\">\n",
       "  <thead>\n",
       "    <tr style=\"text-align: right;\">\n",
       "      <th></th>\n",
       "      <th>item_id</th>\n",
       "      <th>content_type</th>\n",
       "      <th>release_year_cat</th>\n",
       "      <th>for_kids</th>\n",
       "      <th>age_rating</th>\n",
       "      <th>genres</th>\n",
       "      <th>actors_count</th>\n",
       "      <th>description_len</th>\n",
       "      <th>american</th>\n",
       "      <th>russian</th>\n",
       "      <th>soviet</th>\n",
       "      <th>item_popularity</th>\n",
       "      <th>item_avg_history</th>\n",
       "    </tr>\n",
       "  </thead>\n",
       "  <tbody>\n",
       "    <tr>\n",
       "      <th>0</th>\n",
       "      <td>10711</td>\n",
       "      <td>0</td>\n",
       "      <td>8</td>\n",
       "      <td>0</td>\n",
       "      <td>3</td>\n",
       "      <td>детективы, драмы, зарубежные, мелодрамы</td>\n",
       "      <td>20</td>\n",
       "      <td>956</td>\n",
       "      <td>False</td>\n",
       "      <td>False</td>\n",
       "      <td>False</td>\n",
       "      <td>NaN</td>\n",
       "      <td>NaN</td>\n",
       "    </tr>\n",
       "    <tr>\n",
       "      <th>1</th>\n",
       "      <td>2508</td>\n",
       "      <td>0</td>\n",
       "      <td>9</td>\n",
       "      <td>0</td>\n",
       "      <td>3</td>\n",
       "      <td>зарубежные, комедии, приключения</td>\n",
       "      <td>20</td>\n",
       "      <td>1036</td>\n",
       "      <td>True</td>\n",
       "      <td>False</td>\n",
       "      <td>False</td>\n",
       "      <td>NaN</td>\n",
       "      <td>NaN</td>\n",
       "    </tr>\n",
       "    <tr>\n",
       "      <th>2</th>\n",
       "      <td>10716</td>\n",
       "      <td>0</td>\n",
       "      <td>9</td>\n",
       "      <td>0</td>\n",
       "      <td>3</td>\n",
       "      <td>боевики, зарубежные, комедии, криминал, триллеры</td>\n",
       "      <td>14</td>\n",
       "      <td>1034</td>\n",
       "      <td>False</td>\n",
       "      <td>False</td>\n",
       "      <td>False</td>\n",
       "      <td>NaN</td>\n",
       "      <td>NaN</td>\n",
       "    </tr>\n",
       "    <tr>\n",
       "      <th>3</th>\n",
       "      <td>7868</td>\n",
       "      <td>0</td>\n",
       "      <td>9</td>\n",
       "      <td>0</td>\n",
       "      <td>3</td>\n",
       "      <td>драмы, зарубежные, мелодрамы</td>\n",
       "      <td>20</td>\n",
       "      <td>997</td>\n",
       "      <td>False</td>\n",
       "      <td>False</td>\n",
       "      <td>False</td>\n",
       "      <td>NaN</td>\n",
       "      <td>NaN</td>\n",
       "    </tr>\n",
       "    <tr>\n",
       "      <th>4</th>\n",
       "      <td>16268</td>\n",
       "      <td>0</td>\n",
       "      <td>5</td>\n",
       "      <td>1</td>\n",
       "      <td>2</td>\n",
       "      <td>драмы, мелодрамы, советские, спорт</td>\n",
       "      <td>20</td>\n",
       "      <td>1352</td>\n",
       "      <td>False</td>\n",
       "      <td>False</td>\n",
       "      <td>True</td>\n",
       "      <td>NaN</td>\n",
       "      <td>NaN</td>\n",
       "    </tr>\n",
       "  </tbody>\n",
       "</table>\n",
       "</div>"
      ],
      "text/plain": [
       "   item_id  content_type  release_year_cat  for_kids  age_rating  \\\n",
       "0    10711             0                 8         0           3   \n",
       "1     2508             0                 9         0           3   \n",
       "2    10716             0                 9         0           3   \n",
       "3     7868             0                 9         0           3   \n",
       "4    16268             0                 5         1           2   \n",
       "\n",
       "                                             genres  actors_count  \\\n",
       "0           детективы, драмы, зарубежные, мелодрамы            20   \n",
       "1                  зарубежные, комедии, приключения            20   \n",
       "2  боевики, зарубежные, комедии, криминал, триллеры            14   \n",
       "3                      драмы, зарубежные, мелодрамы            20   \n",
       "4                драмы, мелодрамы, советские, спорт            20   \n",
       "\n",
       "   description_len  american  russian  soviet  item_popularity  \\\n",
       "0              956     False    False   False              NaN   \n",
       "1             1036      True    False   False              NaN   \n",
       "2             1034     False    False   False              NaN   \n",
       "3              997     False    False   False              NaN   \n",
       "4             1352     False    False    True              NaN   \n",
       "\n",
       "   item_avg_history  \n",
       "0               NaN  \n",
       "1               NaN  \n",
       "2               NaN  \n",
       "3               NaN  \n",
       "4               NaN  "
      ]
     },
     "execution_count": 31,
     "metadata": {},
     "output_type": "execute_result"
    }
   ],
   "source": [
    "items_df.head()"
   ]
  },
  {
   "cell_type": "markdown",
   "id": "9bcb8421-15d0-4f33-b162-cf19cc7132c3",
   "metadata": {},
   "source": [
    "## Получение дефолтных значений для заполнения пропусков"
   ]
  },
  {
   "cell_type": "markdown",
   "id": "d5b4c79c-afa8-4a61-9e09-f4254730b6f9",
   "metadata": {},
   "source": [
    "В данных образовалось довольно много пропусков"
   ]
  },
  {
   "cell_type": "code",
   "execution_count": 32,
   "id": "fe208d08-924b-4d67-b67f-7c9bf815d0eb",
   "metadata": {},
   "outputs": [
    {
     "name": "stdout",
     "output_type": "stream",
     "text": [
      "<class 'pandas.core.frame.DataFrame'>\n",
      "Int64Index: 840197 entries, 0 to 840196\n",
      "Data columns (total 12 columns):\n",
      " #   Column                Non-Null Count   Dtype  \n",
      "---  ------                --------------   -----  \n",
      " 0   user_id               840197 non-null  int64  \n",
      " 1   age                   840197 non-null  int64  \n",
      " 2   income                840197 non-null  int64  \n",
      " 3   sex                   840197 non-null  int64  \n",
      " 4   kids_flg              840197 non-null  int64  \n",
      " 5   user_history          558404 non-null  float64\n",
      " 6   user_avg_popularity   558404 non-null  float64\n",
      " 7   user_last_popularity  558404 non-null  float64\n",
      " 8   serials_count         558404 non-null  float64\n",
      " 9   films_count           558404 non-null  float64\n",
      " 10  serials_part          558404 non-null  float64\n",
      " 11  favorite_genre        375563 non-null  object \n",
      "dtypes: float64(6), int64(5), object(1)\n",
      "memory usage: 83.3+ MB\n"
     ]
    }
   ],
   "source": [
    "users_df.info()"
   ]
  },
  {
   "cell_type": "code",
   "execution_count": 38,
   "id": "43494b9f-fe69-4357-be24-c6f6f31e53e7",
   "metadata": {},
   "outputs": [
    {
     "name": "stdout",
     "output_type": "stream",
     "text": [
      "<class 'pandas.core.frame.DataFrame'>\n",
      "Int64Index: 15963 entries, 0 to 15962\n",
      "Data columns (total 13 columns):\n",
      " #   Column            Non-Null Count  Dtype  \n",
      "---  ------            --------------  -----  \n",
      " 0   item_id           15963 non-null  int64  \n",
      " 1   content_type      15963 non-null  int64  \n",
      " 2   release_year_cat  15963 non-null  int64  \n",
      " 3   for_kids          15963 non-null  int64  \n",
      " 4   age_rating        15963 non-null  int64  \n",
      " 5   genres            15963 non-null  object \n",
      " 6   actors_count      15963 non-null  int64  \n",
      " 7   description_len   15963 non-null  int64  \n",
      " 8   american          15963 non-null  bool   \n",
      " 9   russian           15963 non-null  bool   \n",
      " 10  soviet            15963 non-null  bool   \n",
      " 11  item_popularity   6014 non-null   float64\n",
      " 12  item_avg_history  6014 non-null   float64\n",
      "dtypes: bool(3), float64(2), int64(7), object(1)\n",
      "memory usage: 1.4+ MB\n"
     ]
    }
   ],
   "source": [
    "items_df.info()"
   ]
  },
  {
   "cell_type": "markdown",
   "id": "396a0f7f-e7c9-4510-9519-4bfb9a2e8efe",
   "metadata": {},
   "source": [
    "В семинарском коде медиана по признаку считалась на основе датафрейма с интеракциями. Я думаю, что корректней считать на датафрейме с юзерами или айтемами, чтобы значения не были смещенными из-за количества интеракций."
   ]
  },
  {
   "cell_type": "code",
   "execution_count": 39,
   "id": "9db4eeec-18d6-47f7-9433-0ea9052cafda",
   "metadata": {},
   "outputs": [
    {
     "name": "stdout",
     "output_type": "stream",
     "text": [
      "Медиана на айтемах 124.0\n",
      "Медиана на интеракциях 2859.0\n"
     ]
    }
   ],
   "source": [
    "print(\"Медиана на айтемах\", items_df['item_popularity'].median())\n",
    "print(\"Медиана на интеракциях\", interactions_df['item_popularity'].median())"
   ]
  },
  {
   "cell_type": "code",
   "execution_count": 58,
   "id": "0cbebb09-88c2-427c-9aa2-74bd41465642",
   "metadata": {},
   "outputs": [],
   "source": [
    "serials_count = float(users_df[\"serials_count\"].median())\n",
    "films_count = float(users_df[\"films_count\"].median())\n",
    "\n",
    "users_default_values = {\n",
    "    \"user_history\": serials_count + films_count,\n",
    "    \"user_avg_popularity\": float(users_df[\"user_avg_popularity\"].median()),\n",
    "    \"user_last_popularity\": float(users_df[\"user_last_popularity\"].median()),\n",
    "    \"serials_count\": serials_count,\n",
    "    \"films_count\": films_count,\n",
    "    \"serials_part\": serials_count / (serials_count + films_count),\n",
    "    \"favorite_genre\": users_df[\"favorite_genre\"].mode().values[0]\n",
    "}\n",
    "\n",
    "users_df = users_df.fillna(users_default_values)"
   ]
  },
  {
   "cell_type": "code",
   "execution_count": 59,
   "id": "16a6c5be-012c-4e02-b3a0-3252b9a51bc7",
   "metadata": {},
   "outputs": [],
   "source": [
    "items_default_values = {\n",
    "    \"item_popularity\": float(items_df[\"item_popularity\"].median()),\n",
    "    \"item_avg_history\": float(items_df[\"item_avg_history\"].median())\n",
    "}\n",
    "\n",
    "items_df = items_df.fillna(items_default_values)"
   ]
  },
  {
   "cell_type": "markdown",
   "id": "36f9b62c-9726-47a7-91c5-43d60ce48c22",
   "metadata": {},
   "source": [
    "## Сохранение данных"
   ]
  },
  {
   "cell_type": "code",
   "execution_count": 60,
   "id": "502a4c08-deb7-4159-9415-0c9fadb4cfd2",
   "metadata": {},
   "outputs": [],
   "source": [
    "items_df.to_csv(\"new_data/item_new_features_data.csv\", index=False)"
   ]
  },
  {
   "cell_type": "code",
   "execution_count": 61,
   "id": "cedaf01f-f6ab-4bfa-97c9-15859637708f",
   "metadata": {},
   "outputs": [],
   "source": [
    "users_df.to_csv(\"new_data/user_new_features_data.csv\", index=False)"
   ]
  },
  {
   "cell_type": "code",
   "execution_count": 64,
   "id": "d6bb92ed-1143-4edc-927f-9b1fa071fc86",
   "metadata": {},
   "outputs": [],
   "source": [
    "with open(\"new_data/users_default_values.json\", \"w\", encoding=\"utf-8\") as f:\n",
    "    json.dump(users_default_values, f)"
   ]
  },
  {
   "cell_type": "code",
   "execution_count": 65,
   "id": "5785eda9-371b-4a4a-abe9-a224a3374349",
   "metadata": {},
   "outputs": [],
   "source": [
    "with open(\"new_data/items_default_values.json\", \"w\", encoding=\"utf-8\") as f:\n",
    "    json.dump(items_default_values, f)"
   ]
  },
  {
   "cell_type": "code",
   "execution_count": null,
   "id": "299e2bac-da72-4131-b18d-8790db7e4272",
   "metadata": {},
   "outputs": [],
   "source": []
  }
 ],
 "metadata": {
  "kernelspec": {
   "display_name": "Python 3 (ipykernel)",
   "language": "python",
   "name": "python3"
  },
  "language_info": {
   "codemirror_mode": {
    "name": "ipython",
    "version": 3
   },
   "file_extension": ".py",
   "mimetype": "text/x-python",
   "name": "python",
   "nbconvert_exporter": "python",
   "pygments_lexer": "ipython3",
   "version": "3.10.11"
  }
 },
 "nbformat": 4,
 "nbformat_minor": 5
}
