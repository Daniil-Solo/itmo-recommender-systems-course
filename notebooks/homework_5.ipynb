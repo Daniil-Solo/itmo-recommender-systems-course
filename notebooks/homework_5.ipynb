{
 "cells": [
  {
   "cell_type": "markdown",
   "id": "5ae2e60d-0808-43df-8b08-4f3c165d9996",
   "metadata": {
    "collapsed": true,
    "jupyter": {
     "outputs_hidden": true
    }
   },
   "source": [
    "## Импорт библиотек и константы"
   ]
  },
  {
   "cell_type": "code",
   "execution_count": 1,
   "id": "d89b75b7-0530-437b-9ff4-0a9189698614",
   "metadata": {},
   "outputs": [],
   "source": [
    "import warnings\n",
    "warnings.filterwarnings('ignore')"
   ]
  },
  {
   "cell_type": "code",
   "execution_count": 2,
   "id": "ea1e3a4d-bf2d-42ba-bd14-4b4c384b0f81",
   "metadata": {},
   "outputs": [
    {
     "name": "stderr",
     "output_type": "stream",
     "text": [
      "2023-12-20 13:11:44.871717: W tensorflow/stream_executor/platform/default/dso_loader.cc:64] Could not load dynamic library 'libcudart.so.11.0'; dlerror: libcudart.so.11.0: cannot open shared object file: No such file or directory\n",
      "2023-12-20 13:11:44.871750: I tensorflow/stream_executor/cuda/cudart_stub.cc:29] Ignore above cudart dlerror if you do not have a GPU set up on your machine.\n"
     ]
    }
   ],
   "source": [
    "import json\n",
    "import faiss\n",
    "import pandas as pd\n",
    "import numpy as np\n",
    "import matplotlib.pyplot as plt\n",
    "from tqdm.auto import tqdm\n",
    "from scipy import sparse\n",
    "from collections import Counter\n",
    "from random import randint, random\n",
    "from tensorflow import keras\n",
    "import tensorflow as tf\n",
    "import tensorflow.keras.backend as K\n",
    "\n",
    "import torch\n",
    "from torch import nn\n",
    "from torch.nn import functional as F\n",
    "from torch.utils.data import Dataset, DataLoader\n",
    "\n",
    "from sklearn.model_selection import train_test_split\n",
    "from rectools import Columns\n",
    "from rectools.metrics import MAP, Serendipity, calc_metrics\n",
    "from rectools.model_selection import TimeRangeSplitter"
   ]
  },
  {
   "cell_type": "code",
   "execution_count": 3,
   "id": "99397d38-de29-4674-878f-1c026140d9dc",
   "metadata": {},
   "outputs": [],
   "source": [
    "# Constants\n",
    "INTERACTIONS_PATH = \"./data/interactions.csv\"\n",
    "ITEMS_PATH = \"./data/items.csv\"\n",
    "USERS_PATH = \"./data/users.csv\"\n",
    "K_RECOMMENDATIONS = 10"
   ]
  },
  {
   "cell_type": "markdown",
   "id": "a191a7ac-7238-4c3d-84ac-73d24e3cc610",
   "metadata": {},
   "source": [
    "## Загрузка данных"
   ]
  },
  {
   "cell_type": "code",
   "execution_count": 4,
   "id": "68781e58-d85e-4480-9ca2-ee07efe018b5",
   "metadata": {},
   "outputs": [
    {
     "data": {
      "text/html": [
       "<div>\n",
       "<style scoped>\n",
       "    .dataframe tbody tr th:only-of-type {\n",
       "        vertical-align: middle;\n",
       "    }\n",
       "\n",
       "    .dataframe tbody tr th {\n",
       "        vertical-align: top;\n",
       "    }\n",
       "\n",
       "    .dataframe thead th {\n",
       "        text-align: right;\n",
       "    }\n",
       "</style>\n",
       "<table border=\"1\" class=\"dataframe\">\n",
       "  <thead>\n",
       "    <tr style=\"text-align: right;\">\n",
       "      <th></th>\n",
       "      <th>user_id</th>\n",
       "      <th>item_id</th>\n",
       "      <th>datetime</th>\n",
       "      <th>total_dur</th>\n",
       "      <th>weight</th>\n",
       "    </tr>\n",
       "  </thead>\n",
       "  <tbody>\n",
       "    <tr>\n",
       "      <th>0</th>\n",
       "      <td>176549</td>\n",
       "      <td>9506</td>\n",
       "      <td>2021-05-11</td>\n",
       "      <td>4250</td>\n",
       "      <td>72.0</td>\n",
       "    </tr>\n",
       "    <tr>\n",
       "      <th>1</th>\n",
       "      <td>699317</td>\n",
       "      <td>1659</td>\n",
       "      <td>2021-05-29</td>\n",
       "      <td>8317</td>\n",
       "      <td>100.0</td>\n",
       "    </tr>\n",
       "    <tr>\n",
       "      <th>2</th>\n",
       "      <td>656683</td>\n",
       "      <td>7107</td>\n",
       "      <td>2021-05-09</td>\n",
       "      <td>10</td>\n",
       "      <td>0.0</td>\n",
       "    </tr>\n",
       "    <tr>\n",
       "      <th>3</th>\n",
       "      <td>864613</td>\n",
       "      <td>7638</td>\n",
       "      <td>2021-07-05</td>\n",
       "      <td>14483</td>\n",
       "      <td>100.0</td>\n",
       "    </tr>\n",
       "    <tr>\n",
       "      <th>4</th>\n",
       "      <td>964868</td>\n",
       "      <td>9506</td>\n",
       "      <td>2021-04-30</td>\n",
       "      <td>6725</td>\n",
       "      <td>100.0</td>\n",
       "    </tr>\n",
       "  </tbody>\n",
       "</table>\n",
       "</div>"
      ],
      "text/plain": [
       "   user_id  item_id   datetime  total_dur  weight\n",
       "0   176549     9506 2021-05-11       4250    72.0\n",
       "1   699317     1659 2021-05-29       8317   100.0\n",
       "2   656683     7107 2021-05-09         10     0.0\n",
       "3   864613     7638 2021-07-05      14483   100.0\n",
       "4   964868     9506 2021-04-30       6725   100.0"
      ]
     },
     "execution_count": 4,
     "metadata": {},
     "output_type": "execute_result"
    }
   ],
   "source": [
    "interactions_df = pd.read_csv(INTERACTIONS_PATH)\n",
    "interactions_df = interactions_df.rename(columns={\"watched_pct\": \"weight\", \"last_watch_dt\": \"datetime\"})\n",
    "interactions_df['datetime'] = pd.to_datetime(interactions_df['datetime'])\n",
    "interactions_df.head(5)"
   ]
  },
  {
   "cell_type": "code",
   "execution_count": 5,
   "id": "7415f1b8-7efc-4097-8301-4dbbfd8d80ef",
   "metadata": {
    "scrolled": true
   },
   "outputs": [
    {
     "data": {
      "text/html": [
       "<div>\n",
       "<style scoped>\n",
       "    .dataframe tbody tr th:only-of-type {\n",
       "        vertical-align: middle;\n",
       "    }\n",
       "\n",
       "    .dataframe tbody tr th {\n",
       "        vertical-align: top;\n",
       "    }\n",
       "\n",
       "    .dataframe thead th {\n",
       "        text-align: right;\n",
       "    }\n",
       "</style>\n",
       "<table border=\"1\" class=\"dataframe\">\n",
       "  <thead>\n",
       "    <tr style=\"text-align: right;\">\n",
       "      <th></th>\n",
       "      <th>item_id</th>\n",
       "      <th>content_type</th>\n",
       "      <th>title</th>\n",
       "      <th>title_orig</th>\n",
       "      <th>release_year</th>\n",
       "      <th>genres</th>\n",
       "      <th>countries</th>\n",
       "      <th>for_kids</th>\n",
       "      <th>age_rating</th>\n",
       "      <th>studios</th>\n",
       "      <th>directors</th>\n",
       "      <th>actors</th>\n",
       "      <th>description</th>\n",
       "      <th>keywords</th>\n",
       "    </tr>\n",
       "  </thead>\n",
       "  <tbody>\n",
       "    <tr>\n",
       "      <th>0</th>\n",
       "      <td>10711</td>\n",
       "      <td>film</td>\n",
       "      <td>Поговори с ней</td>\n",
       "      <td>Hable con ella</td>\n",
       "      <td>2002.0</td>\n",
       "      <td>драмы, зарубежные, детективы, мелодрамы</td>\n",
       "      <td>Испания</td>\n",
       "      <td>NaN</td>\n",
       "      <td>16.0</td>\n",
       "      <td>NaN</td>\n",
       "      <td>Педро Альмодовар</td>\n",
       "      <td>Адольфо Фернандес, Ана Фернандес, Дарио Гранди...</td>\n",
       "      <td>Мелодрама легендарного Педро Альмодовара «Пого...</td>\n",
       "      <td>Поговори, ней, 2002, Испания, друзья, любовь, ...</td>\n",
       "    </tr>\n",
       "    <tr>\n",
       "      <th>1</th>\n",
       "      <td>2508</td>\n",
       "      <td>film</td>\n",
       "      <td>Голые перцы</td>\n",
       "      <td>Search Party</td>\n",
       "      <td>2014.0</td>\n",
       "      <td>зарубежные, приключения, комедии</td>\n",
       "      <td>США</td>\n",
       "      <td>NaN</td>\n",
       "      <td>16.0</td>\n",
       "      <td>NaN</td>\n",
       "      <td>Скот Армстронг</td>\n",
       "      <td>Адам Палли, Брайан Хаски, Дж.Б. Смув, Джейсон ...</td>\n",
       "      <td>Уморительная современная комедия на популярную...</td>\n",
       "      <td>Голые, перцы, 2014, США, друзья, свадьбы, прео...</td>\n",
       "    </tr>\n",
       "    <tr>\n",
       "      <th>2</th>\n",
       "      <td>10716</td>\n",
       "      <td>film</td>\n",
       "      <td>Тактическая сила</td>\n",
       "      <td>Tactical Force</td>\n",
       "      <td>2011.0</td>\n",
       "      <td>криминал, зарубежные, триллеры, боевики, комедии</td>\n",
       "      <td>Канада</td>\n",
       "      <td>NaN</td>\n",
       "      <td>16.0</td>\n",
       "      <td>NaN</td>\n",
       "      <td>Адам П. Калтраро</td>\n",
       "      <td>Адриан Холмс, Даррен Шалави, Джерри Вассерман,...</td>\n",
       "      <td>Профессиональный рестлер Стив Остин («Все или ...</td>\n",
       "      <td>Тактическая, сила, 2011, Канада, бандиты, ганг...</td>\n",
       "    </tr>\n",
       "    <tr>\n",
       "      <th>3</th>\n",
       "      <td>7868</td>\n",
       "      <td>film</td>\n",
       "      <td>45 лет</td>\n",
       "      <td>45 Years</td>\n",
       "      <td>2015.0</td>\n",
       "      <td>драмы, зарубежные, мелодрамы</td>\n",
       "      <td>Великобритания</td>\n",
       "      <td>NaN</td>\n",
       "      <td>16.0</td>\n",
       "      <td>NaN</td>\n",
       "      <td>Эндрю Хэй</td>\n",
       "      <td>Александра Риддлстон-Барретт, Джеральдин Джейм...</td>\n",
       "      <td>Шарлотта Рэмплинг, Том Кортни, Джеральдин Джей...</td>\n",
       "      <td>45, лет, 2015, Великобритания, брак, жизнь, лю...</td>\n",
       "    </tr>\n",
       "    <tr>\n",
       "      <th>4</th>\n",
       "      <td>16268</td>\n",
       "      <td>film</td>\n",
       "      <td>Все решает мгновение</td>\n",
       "      <td>NaN</td>\n",
       "      <td>1978.0</td>\n",
       "      <td>драмы, спорт, советские, мелодрамы</td>\n",
       "      <td>СССР</td>\n",
       "      <td>NaN</td>\n",
       "      <td>12.0</td>\n",
       "      <td>Ленфильм</td>\n",
       "      <td>Виктор Садовский</td>\n",
       "      <td>Александр Абдулов, Александр Демьяненко, Алекс...</td>\n",
       "      <td>Расчетливая чаровница из советского кинохита «...</td>\n",
       "      <td>Все, решает, мгновение, 1978, СССР, сильные, ж...</td>\n",
       "    </tr>\n",
       "  </tbody>\n",
       "</table>\n",
       "</div>"
      ],
      "text/plain": [
       "   item_id content_type                 title      title_orig  release_year  \\\n",
       "0    10711         film        Поговори с ней  Hable con ella        2002.0   \n",
       "1     2508         film           Голые перцы    Search Party        2014.0   \n",
       "2    10716         film      Тактическая сила  Tactical Force        2011.0   \n",
       "3     7868         film                45 лет        45 Years        2015.0   \n",
       "4    16268         film  Все решает мгновение             NaN        1978.0   \n",
       "\n",
       "                                             genres       countries  for_kids  \\\n",
       "0           драмы, зарубежные, детективы, мелодрамы         Испания       NaN   \n",
       "1                  зарубежные, приключения, комедии             США       NaN   \n",
       "2  криминал, зарубежные, триллеры, боевики, комедии          Канада       NaN   \n",
       "3                      драмы, зарубежные, мелодрамы  Великобритания       NaN   \n",
       "4                драмы, спорт, советские, мелодрамы            СССР       NaN   \n",
       "\n",
       "   age_rating   studios         directors  \\\n",
       "0        16.0       NaN  Педро Альмодовар   \n",
       "1        16.0       NaN    Скот Армстронг   \n",
       "2        16.0       NaN  Адам П. Калтраро   \n",
       "3        16.0       NaN         Эндрю Хэй   \n",
       "4        12.0  Ленфильм  Виктор Садовский   \n",
       "\n",
       "                                              actors  \\\n",
       "0  Адольфо Фернандес, Ана Фернандес, Дарио Гранди...   \n",
       "1  Адам Палли, Брайан Хаски, Дж.Б. Смув, Джейсон ...   \n",
       "2  Адриан Холмс, Даррен Шалави, Джерри Вассерман,...   \n",
       "3  Александра Риддлстон-Барретт, Джеральдин Джейм...   \n",
       "4  Александр Абдулов, Александр Демьяненко, Алекс...   \n",
       "\n",
       "                                         description  \\\n",
       "0  Мелодрама легендарного Педро Альмодовара «Пого...   \n",
       "1  Уморительная современная комедия на популярную...   \n",
       "2  Профессиональный рестлер Стив Остин («Все или ...   \n",
       "3  Шарлотта Рэмплинг, Том Кортни, Джеральдин Джей...   \n",
       "4  Расчетливая чаровница из советского кинохита «...   \n",
       "\n",
       "                                            keywords  \n",
       "0  Поговори, ней, 2002, Испания, друзья, любовь, ...  \n",
       "1  Голые, перцы, 2014, США, друзья, свадьбы, прео...  \n",
       "2  Тактическая, сила, 2011, Канада, бандиты, ганг...  \n",
       "3  45, лет, 2015, Великобритания, брак, жизнь, лю...  \n",
       "4  Все, решает, мгновение, 1978, СССР, сильные, ж...  "
      ]
     },
     "execution_count": 5,
     "metadata": {},
     "output_type": "execute_result"
    }
   ],
   "source": [
    "items_df = pd.read_csv(ITEMS_PATH)\n",
    "items_df.head(5)"
   ]
  },
  {
   "cell_type": "code",
   "execution_count": 6,
   "id": "a688c3a3-2fcc-4c0a-85aa-cfe9b9f6e405",
   "metadata": {},
   "outputs": [
    {
     "data": {
      "text/html": [
       "<div>\n",
       "<style scoped>\n",
       "    .dataframe tbody tr th:only-of-type {\n",
       "        vertical-align: middle;\n",
       "    }\n",
       "\n",
       "    .dataframe tbody tr th {\n",
       "        vertical-align: top;\n",
       "    }\n",
       "\n",
       "    .dataframe thead th {\n",
       "        text-align: right;\n",
       "    }\n",
       "</style>\n",
       "<table border=\"1\" class=\"dataframe\">\n",
       "  <thead>\n",
       "    <tr style=\"text-align: right;\">\n",
       "      <th></th>\n",
       "      <th>user_id</th>\n",
       "      <th>age</th>\n",
       "      <th>income</th>\n",
       "      <th>sex</th>\n",
       "      <th>kids_flg</th>\n",
       "    </tr>\n",
       "  </thead>\n",
       "  <tbody>\n",
       "    <tr>\n",
       "      <th>0</th>\n",
       "      <td>973171</td>\n",
       "      <td>age_25_34</td>\n",
       "      <td>income_60_90</td>\n",
       "      <td>М</td>\n",
       "      <td>1</td>\n",
       "    </tr>\n",
       "    <tr>\n",
       "      <th>1</th>\n",
       "      <td>962099</td>\n",
       "      <td>age_18_24</td>\n",
       "      <td>income_20_40</td>\n",
       "      <td>М</td>\n",
       "      <td>0</td>\n",
       "    </tr>\n",
       "    <tr>\n",
       "      <th>2</th>\n",
       "      <td>1047345</td>\n",
       "      <td>age_45_54</td>\n",
       "      <td>income_40_60</td>\n",
       "      <td>Ж</td>\n",
       "      <td>0</td>\n",
       "    </tr>\n",
       "    <tr>\n",
       "      <th>3</th>\n",
       "      <td>721985</td>\n",
       "      <td>age_45_54</td>\n",
       "      <td>income_20_40</td>\n",
       "      <td>Ж</td>\n",
       "      <td>0</td>\n",
       "    </tr>\n",
       "    <tr>\n",
       "      <th>4</th>\n",
       "      <td>704055</td>\n",
       "      <td>age_35_44</td>\n",
       "      <td>income_60_90</td>\n",
       "      <td>Ж</td>\n",
       "      <td>0</td>\n",
       "    </tr>\n",
       "  </tbody>\n",
       "</table>\n",
       "</div>"
      ],
      "text/plain": [
       "   user_id        age        income sex  kids_flg\n",
       "0   973171  age_25_34  income_60_90   М         1\n",
       "1   962099  age_18_24  income_20_40   М         0\n",
       "2  1047345  age_45_54  income_40_60   Ж         0\n",
       "3   721985  age_45_54  income_20_40   Ж         0\n",
       "4   704055  age_35_44  income_60_90   Ж         0"
      ]
     },
     "execution_count": 6,
     "metadata": {},
     "output_type": "execute_result"
    }
   ],
   "source": [
    "users_df = pd.read_csv(USERS_PATH)\n",
    "users_df.head(5)"
   ]
  },
  {
   "cell_type": "markdown",
   "id": "3ae6120e-96eb-4085-9418-2ff731b44e1a",
   "metadata": {},
   "source": [
    "## Подготовка данных для модели"
   ]
  },
  {
   "cell_type": "markdown",
   "id": "38ae4c31-a3ea-4968-9f71-a1e05f7b149c",
   "metadata": {},
   "source": [
    "### Работа с пропущенными значениями у юзеров"
   ]
  },
  {
   "cell_type": "code",
   "execution_count": 7,
   "id": "5af9d943-37c3-43c3-ba5c-0cd16f60ccea",
   "metadata": {},
   "outputs": [
    {
     "data": {
      "text/plain": [
       "age_25_34      233926\n",
       "age_35_44      207043\n",
       "age_45_54      135925\n",
       "age_18_24      127672\n",
       "age_55_64       75265\n",
       "age_65_inf      46271\n",
       "age_unknown     14095\n",
       "Name: age, dtype: int64"
      ]
     },
     "execution_count": 7,
     "metadata": {},
     "output_type": "execute_result"
    }
   ],
   "source": [
    "users_df['age'] = users_df['age'].fillna('age_unknown')\n",
    "users_df['age'] = users_df['age'].astype('category')\n",
    "users_df['age'].value_counts()"
   ]
  },
  {
   "cell_type": "code",
   "execution_count": 8,
   "id": "d1b5d0f3-a4de-4325-91ad-5fa307c53b22",
   "metadata": {},
   "outputs": [
    {
     "data": {
      "text/plain": [
       "income_20_40      471519\n",
       "income_40_60      248330\n",
       "income_60_90       68674\n",
       "income_0_20        21836\n",
       "income_unknown     14776\n",
       "income_90_150      13985\n",
       "income_150_inf      1077\n",
       "Name: income, dtype: int64"
      ]
     },
     "execution_count": 8,
     "metadata": {},
     "output_type": "execute_result"
    }
   ],
   "source": [
    "users_df['income'] = users_df['income'].fillna('income_unknown')\n",
    "users_df['income'] = users_df['income'].astype('category')\n",
    "users_df['income'].value_counts()"
   ]
  },
  {
   "cell_type": "code",
   "execution_count": 9,
   "id": "a70caa45-ddba-4c47-8836-26013ce54e02",
   "metadata": {},
   "outputs": [
    {
     "data": {
      "text/plain": [
       "sex_F          425270\n",
       "sex_M          401096\n",
       "sex_unknown     13831\n",
       "Name: sex, dtype: int64"
      ]
     },
     "execution_count": 9,
     "metadata": {},
     "output_type": "execute_result"
    }
   ],
   "source": [
    "users_df['sex'] = users_df['sex'].fillna('sex_unknown')\n",
    "users_df.loc[users_df.sex == 'М', 'sex'] = 'sex_M'\n",
    "users_df.loc[users_df.sex == 'Ж', 'sex'] = 'sex_F'\n",
    "users_df['sex'] = users_df['sex'].astype('category')\n",
    "users_df['sex'].value_counts()"
   ]
  },
  {
   "cell_type": "code",
   "execution_count": 10,
   "id": "7471a2a0-ee0b-4031-bb92-9168feb08576",
   "metadata": {},
   "outputs": [
    {
     "data": {
      "text/plain": [
       "kids_flg_False    587209\n",
       "kids_flg_True     252988\n",
       "Name: kids_flg, dtype: int64"
      ]
     },
     "execution_count": 10,
     "metadata": {},
     "output_type": "execute_result"
    }
   ],
   "source": [
    "users_df['kids_flg'] = users_df['kids_flg'].astype('bool')\n",
    "users_df['kids_flg'] = users_df['kids_flg'].apply(lambda x: f\"kids_flg_{x}\")\n",
    "users_df['kids_flg'].value_counts(dropna=False)"
   ]
  },
  {
   "cell_type": "code",
   "execution_count": 11,
   "id": "4a889892-7385-495e-9f12-25ad9c426c8d",
   "metadata": {},
   "outputs": [
    {
     "name": "stdout",
     "output_type": "stream",
     "text": [
      "<class 'pandas.core.frame.DataFrame'>\n",
      "RangeIndex: 840197 entries, 0 to 840196\n",
      "Data columns (total 5 columns):\n",
      " #   Column    Non-Null Count   Dtype   \n",
      "---  ------    --------------   -----   \n",
      " 0   user_id   840197 non-null  int64   \n",
      " 1   age       840197 non-null  category\n",
      " 2   income    840197 non-null  category\n",
      " 3   sex       840197 non-null  category\n",
      " 4   kids_flg  840197 non-null  object  \n",
      "dtypes: category(3), int64(1), object(1)\n",
      "memory usage: 15.2+ MB\n"
     ]
    }
   ],
   "source": [
    "users_df.info(verbose=True, null_counts=True)"
   ]
  },
  {
   "cell_type": "markdown",
   "id": "dbaa1c7e-9790-4590-8c89-8988d89990e0",
   "metadata": {},
   "source": [
    "### Работа с пропущенными значениями у айтемов"
   ]
  },
  {
   "cell_type": "code",
   "execution_count": 12,
   "id": "0a66baef-323a-43d4-9175-a15ab16859a7",
   "metadata": {},
   "outputs": [],
   "source": [
    "# В основном Тренировки от Motify и Лига чемпионов AFC, относящиеся к 2020 году\n",
    "# Остальная часть относится к 2021 году, но мы потом переведем к категории \"2020_inf\", поэтому можно и просто 2020 год указать\n",
    "items_df.loc[items_df['release_year'].isna(), 'release_year'] = 2020."
   ]
  },
  {
   "cell_type": "code",
   "execution_count": 13,
   "id": "07b258e6-c091-49c0-b743-7e1dae298830",
   "metadata": {},
   "outputs": [
    {
     "data": {
      "text/plain": [
       "2010-2020    8788\n",
       "2020_inf     2276\n",
       "2000-2010    2168\n",
       "1980-1990     745\n",
       "1990-2000     636\n",
       "1970-1980     553\n",
       "1960-1970     342\n",
       "1950-1960     199\n",
       "1940-1950     117\n",
       "1930-1940     104\n",
       "1920-1930      24\n",
       "inf_1920       11\n",
       "Name: release_year_cat, dtype: int64"
      ]
     },
     "execution_count": 13,
     "metadata": {},
     "output_type": "execute_result"
    }
   ],
   "source": [
    "items_df.loc[items_df['release_year'] < 1920, 'release_year_cat'] = 'inf_1920'\n",
    "items_df.loc[items_df['release_year'] >= 2020, 'release_year_cat'] = '2020_inf'\n",
    "\n",
    "for i in range (1920, 2020, 10):\n",
    "    items_df.loc[(items_df['release_year'] >= i) & (items_df['release_year'] < i+10), 'release_year_cat'] = f'{i}-{i+10}'\n",
    "\n",
    "items_df = items_df.drop(columns=['release_year'])\n",
    "items_df['release_year_cat'] = items_df['release_year_cat'].astype('category')\n",
    "\n",
    "items_df.release_year_cat.value_counts()"
   ]
  },
  {
   "cell_type": "code",
   "execution_count": 14,
   "id": "2ec9f759-3bac-46ab-a338-814bbe1729c1",
   "metadata": {},
   "outputs": [
    {
     "data": {
      "text/plain": [
       "россия                 4274\n",
       "сша                    4090\n",
       "ссср                   1401\n",
       "франция                1158\n",
       "великобритания          718\n",
       "украина                 340\n",
       "италия                  256\n",
       "канада                  233\n",
       "республика корея        230\n",
       "великобритания, сша     193\n",
       "Name: countries, dtype: int64"
      ]
     },
     "execution_count": 14,
     "metadata": {},
     "output_type": "execute_result"
    }
   ],
   "source": [
    "# Тренировки от Motify \n",
    "items_df.loc[items_df.countries.isna(), 'countries'] = 'Россия'\n",
    "items_df['countries'] = items_df['countries'].str.lower()\n",
    "items_df['countries'] = items_df['countries'].apply(lambda x: ', '.join(sorted(list(set(x.split(', '))))))\n",
    "items_df['countries'] = items_df['countries'].astype('category')\n",
    "items_df['countries'].value_counts().head(10)"
   ]
  },
  {
   "cell_type": "code",
   "execution_count": 15,
   "id": "aa6bdbbc-2522-4fa2-92a1-ee615a5fbb6d",
   "metadata": {},
   "outputs": [
    {
     "data": {
      "text/plain": [
       "16.0    5729\n",
       "12.0    4147\n",
       "18.0    2547\n",
       "6.0     1538\n",
       "0.0     1520\n",
       "21.0     482\n",
       "Name: age_rating, dtype: int64"
      ]
     },
     "execution_count": 15,
     "metadata": {},
     "output_type": "execute_result"
    }
   ],
   "source": [
    "# Машины-помощники и БиБаБу, которые являются детскими\n",
    "items_df.loc[items_df.age_rating.isna(), 'age_rating'] = 0\n",
    "items_df['age_rating'] = items_df['age_rating'].astype('category')\n",
    "items_df['age_rating'].value_counts()"
   ]
  },
  {
   "cell_type": "code",
   "execution_count": 16,
   "id": "70ebafaa-09aa-4b1a-9ddd-3cc746b89043",
   "metadata": {},
   "outputs": [
    {
     "data": {
      "text/plain": [
       "False    14417\n",
       "True      1546\n",
       "Name: for_kids, dtype: int64"
      ]
     },
     "execution_count": 16,
     "metadata": {},
     "output_type": "execute_result"
    }
   ],
   "source": [
    "# считаем, что айтемы для детей это айтемы с возрастным ограниченим 0+ и 8+ лет\n",
    "items_df.loc[items_df['for_kids'].isna(), \"for_kids\"] = items_df[items_df['for_kids'].isna()]['age_rating'].isin([0, 8])\n",
    "items_df['for_kids'] = items_df['for_kids'].astype('bool')\n",
    "items_df['for_kids'].value_counts()"
   ]
  },
  {
   "cell_type": "code",
   "execution_count": 17,
   "id": "dd402106-5853-4191-a38c-f6d6811a25af",
   "metadata": {},
   "outputs": [
    {
     "data": {
      "text/plain": [
       "документальное        816\n",
       "драмы                 719\n",
       "комедии               564\n",
       "для взрослых          482\n",
       "мелодрамы, русские    416\n",
       "Name: genres, dtype: int64"
      ]
     },
     "execution_count": 17,
     "metadata": {},
     "output_type": "execute_result"
    }
   ],
   "source": [
    "items_df['genres'] = items_df['genres'].fillna('unknown')\n",
    "items_df['genres'] = items_df['genres'].str.lower()\n",
    "items_df['genres'] = items_df['genres'].apply(lambda x: ', '.join(sorted(list(set(x.split(', '))))))\n",
    "items_df['genres'] = items_df['genres'].astype('category')\n",
    "items_df['genres'].value_counts().head()"
   ]
  },
  {
   "cell_type": "code",
   "execution_count": 18,
   "id": "184ad362-4b3f-4fc7-88b7-c156503188f8",
   "metadata": {},
   "outputs": [
    {
     "data": {
      "text/plain": [
       "unknown          14898\n",
       "hbo                353\n",
       "ленфильм           212\n",
       "sony pictures      162\n",
       "paramount           46\n",
       "Name: studios, dtype: int64"
      ]
     },
     "execution_count": 18,
     "metadata": {},
     "output_type": "execute_result"
    }
   ],
   "source": [
    "items_df['studios'] = items_df['studios'].fillna('unknown')\n",
    "items_df['studios'] = items_df['studios'].str.lower()\n",
    "items_df['studios'] = items_df['studios'].apply(lambda x: ', '.join(sorted(list(set(x.split(', '))))))\n",
    "items_df['studios'] = items_df['studios'].astype('category')\n",
    "items_df['studios'].value_counts().head()"
   ]
  },
  {
   "cell_type": "code",
   "execution_count": 19,
   "id": "660ac108-a781-4ef5-bf79-3410fa9f6b58",
   "metadata": {},
   "outputs": [
    {
     "data": {
      "text/plain": [
       "unknown                1509\n",
       "оливье шиабоду          511\n",
       "денис франческо          49\n",
       "глова роман юрьевич      36\n",
       "сергей зарев             29\n",
       "Name: directors, dtype: int64"
      ]
     },
     "execution_count": 19,
     "metadata": {},
     "output_type": "execute_result"
    }
   ],
   "source": [
    "items_df['directors'] = items_df['directors'].fillna('unknown')\n",
    "items_df['directors'] = items_df['directors'].str.lower()\n",
    "items_df['directors'] = items_df['directors'].astype('category')\n",
    "items_df['directors'].value_counts().head()"
   ]
  },
  {
   "cell_type": "code",
   "execution_count": 20,
   "id": "5e1a9992-1580-4d09-b7dd-f1b7c8d0853a",
   "metadata": {},
   "outputs": [
    {
     "data": {
      "text/plain": [
       "unknown                                     2619\n",
       "александр клюквин                             25\n",
       "тайлер никсон, маркус лондон, томми ганн      16\n",
       "жан-пьер морель, оливье шиабоду                8\n",
       "кэти морган                                    6\n",
       "Name: actors, dtype: int64"
      ]
     },
     "execution_count": 20,
     "metadata": {},
     "output_type": "execute_result"
    }
   ],
   "source": [
    "items_df['actors'] = items_df['actors'].fillna('unknown')\n",
    "items_df['actors'] = items_df['actors'].str.lower()\n",
    "items_df['actors'] = items_df['actors'].astype('category')\n",
    "items_df['actors'].value_counts().head()"
   ]
  },
  {
   "cell_type": "code",
   "execution_count": 21,
   "id": "3cd37671-b745-48b7-94ec-2b2093a0da5c",
   "metadata": {},
   "outputs": [
    {
     "data": {
      "text/plain": [
       "unknown                        423\n",
       "2015, чехия, компания, трех      6\n",
       "2015, чехия, секс, страсть       6\n",
       "2011, италия, дом, желаний       5\n",
       "2006, италия, эвротико           5\n",
       "Name: keywords, dtype: int64"
      ]
     },
     "execution_count": 21,
     "metadata": {},
     "output_type": "execute_result"
    }
   ],
   "source": [
    "items_df['keywords'] = items_df['keywords'].fillna('unknown')\n",
    "items_df['keywords'] = items_df['keywords'].str.lower()\n",
    "items_df['keywords'] = items_df['keywords'].astype('category')\n",
    "items_df['keywords'].value_counts().head()"
   ]
  },
  {
   "cell_type": "code",
   "execution_count": 22,
   "id": "c134c796-4e09-40f4-941d-fd8e7c752b70",
   "metadata": {},
   "outputs": [
    {
     "data": {
      "text/plain": [
       "0    мелодрама легендарного педро альмодовара «пого...\n",
       "1    уморительная современная комедия на популярную...\n",
       "2    профессиональный рестлер стив остин («все или ...\n",
       "3    шарлотта рэмплинг, том кортни, джеральдин джей...\n",
       "4    расчетливая чаровница из советского кинохита «...\n",
       "Name: description, dtype: object"
      ]
     },
     "execution_count": 22,
     "metadata": {},
     "output_type": "execute_result"
    }
   ],
   "source": [
    "items_df['description'] = items_df['description'].fillna('-')\n",
    "items_df['description'] = items_df['description'].str.lower()\n",
    "items_df['description'].head()"
   ]
  },
  {
   "cell_type": "code",
   "execution_count": 23,
   "id": "6f79f19b-4769-42e0-9165-228592e38742",
   "metadata": {},
   "outputs": [],
   "source": [
    "items_df = items_df.drop(columns=[\"title_orig\"])"
   ]
  },
  {
   "cell_type": "code",
   "execution_count": 24,
   "id": "5d10fae2-71a9-4273-80ca-291743d249ef",
   "metadata": {},
   "outputs": [
    {
     "name": "stdout",
     "output_type": "stream",
     "text": [
      "<class 'pandas.core.frame.DataFrame'>\n",
      "RangeIndex: 15963 entries, 0 to 15962\n",
      "Data columns (total 13 columns):\n",
      " #   Column            Non-Null Count  Dtype   \n",
      "---  ------            --------------  -----   \n",
      " 0   item_id           15963 non-null  int64   \n",
      " 1   content_type      15963 non-null  object  \n",
      " 2   title             15963 non-null  object  \n",
      " 3   genres            15963 non-null  category\n",
      " 4   countries         15963 non-null  category\n",
      " 5   for_kids          15963 non-null  bool    \n",
      " 6   age_rating        15963 non-null  category\n",
      " 7   studios           15963 non-null  category\n",
      " 8   directors         15963 non-null  category\n",
      " 9   actors            15963 non-null  category\n",
      " 10  description       15963 non-null  object  \n",
      " 11  keywords          15963 non-null  category\n",
      " 12  release_year_cat  15963 non-null  category\n",
      "dtypes: bool(1), category(8), int64(1), object(3)\n",
      "memory usage: 2.3+ MB\n"
     ]
    }
   ],
   "source": [
    "items_df.info(verbose=True, null_counts=True)"
   ]
  },
  {
   "cell_type": "markdown",
   "id": "919028bd-95b5-4c81-9e90-55879554b341",
   "metadata": {},
   "source": [
    "### Работа с пропущенными значениями у интеракций"
   ]
  },
  {
   "cell_type": "code",
   "execution_count": 25,
   "id": "b23c7c13-9129-45a6-9c5a-d3170adb3799",
   "metadata": {},
   "outputs": [],
   "source": [
    "interactions_df['weight'] = interactions_df['weight'].fillna(0)"
   ]
  },
  {
   "cell_type": "code",
   "execution_count": 26,
   "id": "006533c6-923e-48a7-812e-cc293bade668",
   "metadata": {},
   "outputs": [
    {
     "name": "stdout",
     "output_type": "stream",
     "text": [
      "<class 'pandas.core.frame.DataFrame'>\n",
      "RangeIndex: 5476251 entries, 0 to 5476250\n",
      "Data columns (total 5 columns):\n",
      " #   Column     Non-Null Count    Dtype         \n",
      "---  ------     --------------    -----         \n",
      " 0   user_id    5476251 non-null  int64         \n",
      " 1   item_id    5476251 non-null  int64         \n",
      " 2   datetime   5476251 non-null  datetime64[ns]\n",
      " 3   total_dur  5476251 non-null  int64         \n",
      " 4   weight     5476251 non-null  float64       \n",
      "dtypes: datetime64[ns](1), float64(1), int64(3)\n",
      "memory usage: 208.9 MB\n"
     ]
    }
   ],
   "source": [
    "interactions_df.info(verbose=True, null_counts=True)"
   ]
  },
  {
   "cell_type": "markdown",
   "id": "0a88cb6c-8c77-4a09-9749-62b6607519b2",
   "metadata": {},
   "source": [
    "### Подготовка OneHot-фичей для юзеров"
   ]
  },
  {
   "cell_type": "code",
   "execution_count": 27,
   "id": "4b43e95f-1f33-47dc-8549-7bdf0918b75d",
   "metadata": {},
   "outputs": [],
   "source": [
    "user_cat_features = [\"age\", \"income\", \"sex\", \"kids_flg\"]\n",
    "users_ohe_df = users_df[[\"user_id\"]].copy()\n",
    "for feature in user_cat_features:\n",
    "    ohe_feat_df = pd.get_dummies(users_df[feature])\n",
    "    users_ohe_df = pd.concat([users_ohe_df, ohe_feat_df], axis=1)"
   ]
  },
  {
   "cell_type": "code",
   "execution_count": 28,
   "id": "83995cbe-8762-428b-8f31-74e39749553e",
   "metadata": {},
   "outputs": [
    {
     "data": {
      "text/html": [
       "<div>\n",
       "<style scoped>\n",
       "    .dataframe tbody tr th:only-of-type {\n",
       "        vertical-align: middle;\n",
       "    }\n",
       "\n",
       "    .dataframe tbody tr th {\n",
       "        vertical-align: top;\n",
       "    }\n",
       "\n",
       "    .dataframe thead th {\n",
       "        text-align: right;\n",
       "    }\n",
       "</style>\n",
       "<table border=\"1\" class=\"dataframe\">\n",
       "  <thead>\n",
       "    <tr style=\"text-align: right;\">\n",
       "      <th></th>\n",
       "      <th>user_id</th>\n",
       "      <th>age_18_24</th>\n",
       "      <th>age_25_34</th>\n",
       "      <th>age_35_44</th>\n",
       "      <th>age_45_54</th>\n",
       "      <th>age_55_64</th>\n",
       "      <th>age_65_inf</th>\n",
       "      <th>age_unknown</th>\n",
       "      <th>income_0_20</th>\n",
       "      <th>income_150_inf</th>\n",
       "      <th>income_20_40</th>\n",
       "      <th>income_40_60</th>\n",
       "      <th>income_60_90</th>\n",
       "      <th>income_90_150</th>\n",
       "      <th>income_unknown</th>\n",
       "      <th>sex_F</th>\n",
       "      <th>sex_M</th>\n",
       "      <th>sex_unknown</th>\n",
       "      <th>kids_flg_False</th>\n",
       "      <th>kids_flg_True</th>\n",
       "    </tr>\n",
       "  </thead>\n",
       "  <tbody>\n",
       "    <tr>\n",
       "      <th>0</th>\n",
       "      <td>973171</td>\n",
       "      <td>0</td>\n",
       "      <td>1</td>\n",
       "      <td>0</td>\n",
       "      <td>0</td>\n",
       "      <td>0</td>\n",
       "      <td>0</td>\n",
       "      <td>0</td>\n",
       "      <td>0</td>\n",
       "      <td>0</td>\n",
       "      <td>0</td>\n",
       "      <td>0</td>\n",
       "      <td>1</td>\n",
       "      <td>0</td>\n",
       "      <td>0</td>\n",
       "      <td>0</td>\n",
       "      <td>1</td>\n",
       "      <td>0</td>\n",
       "      <td>0</td>\n",
       "      <td>1</td>\n",
       "    </tr>\n",
       "    <tr>\n",
       "      <th>1</th>\n",
       "      <td>962099</td>\n",
       "      <td>1</td>\n",
       "      <td>0</td>\n",
       "      <td>0</td>\n",
       "      <td>0</td>\n",
       "      <td>0</td>\n",
       "      <td>0</td>\n",
       "      <td>0</td>\n",
       "      <td>0</td>\n",
       "      <td>0</td>\n",
       "      <td>1</td>\n",
       "      <td>0</td>\n",
       "      <td>0</td>\n",
       "      <td>0</td>\n",
       "      <td>0</td>\n",
       "      <td>0</td>\n",
       "      <td>1</td>\n",
       "      <td>0</td>\n",
       "      <td>1</td>\n",
       "      <td>0</td>\n",
       "    </tr>\n",
       "    <tr>\n",
       "      <th>2</th>\n",
       "      <td>1047345</td>\n",
       "      <td>0</td>\n",
       "      <td>0</td>\n",
       "      <td>0</td>\n",
       "      <td>1</td>\n",
       "      <td>0</td>\n",
       "      <td>0</td>\n",
       "      <td>0</td>\n",
       "      <td>0</td>\n",
       "      <td>0</td>\n",
       "      <td>0</td>\n",
       "      <td>1</td>\n",
       "      <td>0</td>\n",
       "      <td>0</td>\n",
       "      <td>0</td>\n",
       "      <td>1</td>\n",
       "      <td>0</td>\n",
       "      <td>0</td>\n",
       "      <td>1</td>\n",
       "      <td>0</td>\n",
       "    </tr>\n",
       "    <tr>\n",
       "      <th>3</th>\n",
       "      <td>721985</td>\n",
       "      <td>0</td>\n",
       "      <td>0</td>\n",
       "      <td>0</td>\n",
       "      <td>1</td>\n",
       "      <td>0</td>\n",
       "      <td>0</td>\n",
       "      <td>0</td>\n",
       "      <td>0</td>\n",
       "      <td>0</td>\n",
       "      <td>1</td>\n",
       "      <td>0</td>\n",
       "      <td>0</td>\n",
       "      <td>0</td>\n",
       "      <td>0</td>\n",
       "      <td>1</td>\n",
       "      <td>0</td>\n",
       "      <td>0</td>\n",
       "      <td>1</td>\n",
       "      <td>0</td>\n",
       "    </tr>\n",
       "    <tr>\n",
       "      <th>4</th>\n",
       "      <td>704055</td>\n",
       "      <td>0</td>\n",
       "      <td>0</td>\n",
       "      <td>1</td>\n",
       "      <td>0</td>\n",
       "      <td>0</td>\n",
       "      <td>0</td>\n",
       "      <td>0</td>\n",
       "      <td>0</td>\n",
       "      <td>0</td>\n",
       "      <td>0</td>\n",
       "      <td>0</td>\n",
       "      <td>1</td>\n",
       "      <td>0</td>\n",
       "      <td>0</td>\n",
       "      <td>1</td>\n",
       "      <td>0</td>\n",
       "      <td>0</td>\n",
       "      <td>1</td>\n",
       "      <td>0</td>\n",
       "    </tr>\n",
       "  </tbody>\n",
       "</table>\n",
       "</div>"
      ],
      "text/plain": [
       "   user_id  age_18_24  age_25_34  age_35_44  age_45_54  age_55_64  age_65_inf  \\\n",
       "0   973171          0          1          0          0          0           0   \n",
       "1   962099          1          0          0          0          0           0   \n",
       "2  1047345          0          0          0          1          0           0   \n",
       "3   721985          0          0          0          1          0           0   \n",
       "4   704055          0          0          1          0          0           0   \n",
       "\n",
       "   age_unknown  income_0_20  income_150_inf  income_20_40  income_40_60  \\\n",
       "0            0            0               0             0             0   \n",
       "1            0            0               0             1             0   \n",
       "2            0            0               0             0             1   \n",
       "3            0            0               0             1             0   \n",
       "4            0            0               0             0             0   \n",
       "\n",
       "   income_60_90  income_90_150  income_unknown  sex_F  sex_M  sex_unknown  \\\n",
       "0             1              0               0      0      1            0   \n",
       "1             0              0               0      0      1            0   \n",
       "2             0              0               0      1      0            0   \n",
       "3             0              0               0      1      0            0   \n",
       "4             1              0               0      1      0            0   \n",
       "\n",
       "   kids_flg_False  kids_flg_True  \n",
       "0               0              1  \n",
       "1               1              0  \n",
       "2               1              0  \n",
       "3               1              0  \n",
       "4               1              0  "
      ]
     },
     "execution_count": 28,
     "metadata": {},
     "output_type": "execute_result"
    }
   ],
   "source": [
    "users_ohe_df.head()"
   ]
  },
  {
   "cell_type": "markdown",
   "id": "0a269bf1-5c83-4673-a781-9510b524dc30",
   "metadata": {},
   "source": [
    "### Подготовка OneHot-фичей для айтемов"
   ]
  },
  {
   "cell_type": "markdown",
   "id": "669c3d6d-c83a-4f4e-82bd-96c6ccd0f168",
   "metadata": {},
   "source": [
    "Некоторые столбцы могут содержать несколько значений через запятую, например, студии и страны. Для них требуется особенная One-hot-обработка"
   ]
  },
  {
   "cell_type": "code",
   "execution_count": 29,
   "id": "241304c0-0d92-4e0c-85ce-c8b0c3ebd8b7",
   "metadata": {},
   "outputs": [],
   "source": [
    "item_cat_features = ['content_type', 'release_year_cat', 'for_kids', 'age_rating']\n",
    "\n",
    "items_ohe_df = items_df[[\"item_id\"]].copy()\n",
    "\n",
    "for feature in item_cat_features:\n",
    "    ohe_feat_df = pd.get_dummies(items_df[feature], prefix=feature)\n",
    "    items_ohe_df = pd.concat([items_ohe_df, ohe_feat_df], axis=1) "
   ]
  },
  {
   "cell_type": "code",
   "execution_count": 30,
   "id": "2c9ac965-e234-4b16-b45c-93935e58a699",
   "metadata": {},
   "outputs": [],
   "source": [
    "item_multi_cat_features = ['studios', 'countries', 'genres']\n",
    "\n",
    "for feature in item_multi_cat_features:\n",
    "    ohe_feat_df = items_df[feature].str.get_dummies(', ')\n",
    "    ohe_feat_df.columns = [f\"{feature}_{value}\" for value in ohe_feat_df.columns]\n",
    "    items_ohe_df = pd.concat([items_ohe_df, ohe_feat_df], axis=1) "
   ]
  },
  {
   "cell_type": "code",
   "execution_count": 31,
   "id": "22c13f23-691e-4836-beed-9e23cc3dd1ca",
   "metadata": {},
   "outputs": [
    {
     "data": {
      "text/html": [
       "<div>\n",
       "<style scoped>\n",
       "    .dataframe tbody tr th:only-of-type {\n",
       "        vertical-align: middle;\n",
       "    }\n",
       "\n",
       "    .dataframe tbody tr th {\n",
       "        vertical-align: top;\n",
       "    }\n",
       "\n",
       "    .dataframe thead th {\n",
       "        text-align: right;\n",
       "    }\n",
       "</style>\n",
       "<table border=\"1\" class=\"dataframe\">\n",
       "  <thead>\n",
       "    <tr style=\"text-align: right;\">\n",
       "      <th></th>\n",
       "      <th>item_id</th>\n",
       "      <th>content_type_film</th>\n",
       "      <th>content_type_series</th>\n",
       "      <th>release_year_cat_1920-1930</th>\n",
       "      <th>release_year_cat_1930-1940</th>\n",
       "      <th>release_year_cat_1940-1950</th>\n",
       "      <th>release_year_cat_1950-1960</th>\n",
       "      <th>release_year_cat_1960-1970</th>\n",
       "      <th>release_year_cat_1970-1980</th>\n",
       "      <th>release_year_cat_1980-1990</th>\n",
       "      <th>...</th>\n",
       "      <th>genres_фильмы</th>\n",
       "      <th>genres_фильмы hbo</th>\n",
       "      <th>genres_фильмы-спектакли</th>\n",
       "      <th>genres_фитнес</th>\n",
       "      <th>genres_футбол</th>\n",
       "      <th>genres_фэнтези</th>\n",
       "      <th>genres_хочу всё знать</th>\n",
       "      <th>genres_шоу</th>\n",
       "      <th>genres_экранизации</th>\n",
       "      <th>genres_юмор</th>\n",
       "    </tr>\n",
       "  </thead>\n",
       "  <tbody>\n",
       "    <tr>\n",
       "      <th>0</th>\n",
       "      <td>10711</td>\n",
       "      <td>1</td>\n",
       "      <td>0</td>\n",
       "      <td>0</td>\n",
       "      <td>0</td>\n",
       "      <td>0</td>\n",
       "      <td>0</td>\n",
       "      <td>0</td>\n",
       "      <td>0</td>\n",
       "      <td>0</td>\n",
       "      <td>...</td>\n",
       "      <td>0</td>\n",
       "      <td>0</td>\n",
       "      <td>0</td>\n",
       "      <td>0</td>\n",
       "      <td>0</td>\n",
       "      <td>0</td>\n",
       "      <td>0</td>\n",
       "      <td>0</td>\n",
       "      <td>0</td>\n",
       "      <td>0</td>\n",
       "    </tr>\n",
       "    <tr>\n",
       "      <th>1</th>\n",
       "      <td>2508</td>\n",
       "      <td>1</td>\n",
       "      <td>0</td>\n",
       "      <td>0</td>\n",
       "      <td>0</td>\n",
       "      <td>0</td>\n",
       "      <td>0</td>\n",
       "      <td>0</td>\n",
       "      <td>0</td>\n",
       "      <td>0</td>\n",
       "      <td>...</td>\n",
       "      <td>0</td>\n",
       "      <td>0</td>\n",
       "      <td>0</td>\n",
       "      <td>0</td>\n",
       "      <td>0</td>\n",
       "      <td>0</td>\n",
       "      <td>0</td>\n",
       "      <td>0</td>\n",
       "      <td>0</td>\n",
       "      <td>0</td>\n",
       "    </tr>\n",
       "    <tr>\n",
       "      <th>2</th>\n",
       "      <td>10716</td>\n",
       "      <td>1</td>\n",
       "      <td>0</td>\n",
       "      <td>0</td>\n",
       "      <td>0</td>\n",
       "      <td>0</td>\n",
       "      <td>0</td>\n",
       "      <td>0</td>\n",
       "      <td>0</td>\n",
       "      <td>0</td>\n",
       "      <td>...</td>\n",
       "      <td>0</td>\n",
       "      <td>0</td>\n",
       "      <td>0</td>\n",
       "      <td>0</td>\n",
       "      <td>0</td>\n",
       "      <td>0</td>\n",
       "      <td>0</td>\n",
       "      <td>0</td>\n",
       "      <td>0</td>\n",
       "      <td>0</td>\n",
       "    </tr>\n",
       "    <tr>\n",
       "      <th>3</th>\n",
       "      <td>7868</td>\n",
       "      <td>1</td>\n",
       "      <td>0</td>\n",
       "      <td>0</td>\n",
       "      <td>0</td>\n",
       "      <td>0</td>\n",
       "      <td>0</td>\n",
       "      <td>0</td>\n",
       "      <td>0</td>\n",
       "      <td>0</td>\n",
       "      <td>...</td>\n",
       "      <td>0</td>\n",
       "      <td>0</td>\n",
       "      <td>0</td>\n",
       "      <td>0</td>\n",
       "      <td>0</td>\n",
       "      <td>0</td>\n",
       "      <td>0</td>\n",
       "      <td>0</td>\n",
       "      <td>0</td>\n",
       "      <td>0</td>\n",
       "    </tr>\n",
       "    <tr>\n",
       "      <th>4</th>\n",
       "      <td>16268</td>\n",
       "      <td>1</td>\n",
       "      <td>0</td>\n",
       "      <td>0</td>\n",
       "      <td>0</td>\n",
       "      <td>0</td>\n",
       "      <td>0</td>\n",
       "      <td>0</td>\n",
       "      <td>1</td>\n",
       "      <td>0</td>\n",
       "      <td>...</td>\n",
       "      <td>0</td>\n",
       "      <td>0</td>\n",
       "      <td>0</td>\n",
       "      <td>0</td>\n",
       "      <td>0</td>\n",
       "      <td>0</td>\n",
       "      <td>0</td>\n",
       "      <td>0</td>\n",
       "      <td>0</td>\n",
       "      <td>0</td>\n",
       "    </tr>\n",
       "  </tbody>\n",
       "</table>\n",
       "<p>5 rows × 242 columns</p>\n",
       "</div>"
      ],
      "text/plain": [
       "   item_id  content_type_film  content_type_series  \\\n",
       "0    10711                  1                    0   \n",
       "1     2508                  1                    0   \n",
       "2    10716                  1                    0   \n",
       "3     7868                  1                    0   \n",
       "4    16268                  1                    0   \n",
       "\n",
       "   release_year_cat_1920-1930  release_year_cat_1930-1940  \\\n",
       "0                           0                           0   \n",
       "1                           0                           0   \n",
       "2                           0                           0   \n",
       "3                           0                           0   \n",
       "4                           0                           0   \n",
       "\n",
       "   release_year_cat_1940-1950  release_year_cat_1950-1960  \\\n",
       "0                           0                           0   \n",
       "1                           0                           0   \n",
       "2                           0                           0   \n",
       "3                           0                           0   \n",
       "4                           0                           0   \n",
       "\n",
       "   release_year_cat_1960-1970  release_year_cat_1970-1980  \\\n",
       "0                           0                           0   \n",
       "1                           0                           0   \n",
       "2                           0                           0   \n",
       "3                           0                           0   \n",
       "4                           0                           1   \n",
       "\n",
       "   release_year_cat_1980-1990  ...  genres_фильмы  genres_фильмы hbo  \\\n",
       "0                           0  ...              0                  0   \n",
       "1                           0  ...              0                  0   \n",
       "2                           0  ...              0                  0   \n",
       "3                           0  ...              0                  0   \n",
       "4                           0  ...              0                  0   \n",
       "\n",
       "   genres_фильмы-спектакли  genres_фитнес  genres_футбол  genres_фэнтези  \\\n",
       "0                        0              0              0               0   \n",
       "1                        0              0              0               0   \n",
       "2                        0              0              0               0   \n",
       "3                        0              0              0               0   \n",
       "4                        0              0              0               0   \n",
       "\n",
       "   genres_хочу всё знать  genres_шоу  genres_экранизации  genres_юмор  \n",
       "0                      0           0                   0            0  \n",
       "1                      0           0                   0            0  \n",
       "2                      0           0                   0            0  \n",
       "3                      0           0                   0            0  \n",
       "4                      0           0                   0            0  \n",
       "\n",
       "[5 rows x 242 columns]"
      ]
     },
     "execution_count": 31,
     "metadata": {},
     "output_type": "execute_result"
    }
   ],
   "source": [
    "items_ohe_df.head()"
   ]
  },
  {
   "cell_type": "markdown",
   "id": "9cab2e8f-d81d-4f16-8920-c9c65d8cf0bb",
   "metadata": {},
   "source": [
    "### Создание матрицы взаимодействий"
   ]
  },
  {
   "cell_type": "code",
   "execution_count": 32,
   "id": "0f4da281-6e0c-4d49-aa2f-1d6c85b2283a",
   "metadata": {},
   "outputs": [
    {
     "name": "stdout",
     "output_type": "stream",
     "text": [
      "Взаимодействия, в которых до 5% досмотра: 1390416\n",
      "Процент таких взаимодействий во всем датасете: 25.39\n"
     ]
    }
   ],
   "source": [
    "less_5 = len(interactions_df[interactions_df[\"weight\"] < 5])\n",
    "more_5 = len(interactions_df[interactions_df[\"weight\"] >= 5])\n",
    "print(\"Взаимодействия, в которых до 5% досмотра:\", less_5)\n",
    "print(\"Процент таких взаимодействий во всем датасете:\", round(less_5 / (less_5 + more_5) * 100, 2))"
   ]
  },
  {
   "cell_type": "markdown",
   "id": "a943c911-41ee-4a03-9f38-7736b4256efd",
   "metadata": {},
   "source": [
    "Как видно 25% взаимодействий были не очень продолжительными, их можно идентифицировать как негативные примеры для TripletLoss вместо негативного семплирования"
   ]
  },
  {
   "cell_type": "code",
   "execution_count": 33,
   "id": "52dbf375-aecf-4778-8e98-d578b49f3796",
   "metadata": {},
   "outputs": [
    {
     "data": {
      "text/plain": [
       "416206     1341\n",
       "1010539     764\n",
       "555233      685\n",
       "11526       676\n",
       "409259      625\n",
       "           ... \n",
       "45493         1\n",
       "615194        1\n",
       "96848         1\n",
       "425823        1\n",
       "697262        1\n",
       "Name: user_id, Length: 962179, dtype: int64"
      ]
     },
     "execution_count": 33,
     "metadata": {},
     "output_type": "execute_result"
    }
   ],
   "source": [
    "interactions_df[\"user_id\"].value_counts()"
   ]
  },
  {
   "cell_type": "markdown",
   "id": "87b3488c-bf35-4775-ba77-b96913a9e4fb",
   "metadata": {},
   "source": [
    "Также в датасете есть юзеры, которые имеют очень мало взаимодействий, таких нужно отфильтровать"
   ]
  },
  {
   "cell_type": "code",
   "execution_count": 34,
   "id": "a4cadfd8-6558-439f-982e-a6ad4029a0fd",
   "metadata": {},
   "outputs": [],
   "source": [
    "MIN_WATCH_PERCENTAGE = 5\n",
    "MIN_N_LONG_INTERATCIONS = 5"
   ]
  },
  {
   "cell_type": "code",
   "execution_count": 35,
   "id": "89ab7233-de32-4d97-b51e-f059b78e7676",
   "metadata": {},
   "outputs": [],
   "source": [
    "filtered_interactions_df = interactions_df[interactions_df[\"weight\"] >= MIN_WATCH_PERCENTAGE].copy()"
   ]
  },
  {
   "cell_type": "code",
   "execution_count": 36,
   "id": "a4470ec2-adfe-48b9-a87d-55bef53408f5",
   "metadata": {},
   "outputs": [],
   "source": [
    "short_interactions_df = interactions_df[interactions_df[\"weight\"] < MIN_WATCH_PERCENTAGE].copy()"
   ]
  },
  {
   "cell_type": "code",
   "execution_count": 37,
   "id": "39d79e13-116c-4a73-8c3a-bf2bf076fe82",
   "metadata": {},
   "outputs": [],
   "source": [
    "valid_users = []\n",
    "c = Counter(filtered_interactions_df.user_id)\n",
    "for user_id, entries in c.most_common():\n",
    "    if entries > MIN_N_LONG_INTERATCIONS:\n",
    "        valid_users.append(user_id)"
   ]
  },
  {
   "cell_type": "code",
   "execution_count": 38,
   "id": "cc1dd0eb-3180-4065-be9b-87f9c093893d",
   "metadata": {},
   "outputs": [],
   "source": [
    "valid_items = filtered_interactions_df[\"item_id\"].unique()"
   ]
  },
  {
   "cell_type": "code",
   "execution_count": 39,
   "id": "20683284-ef7d-41c3-bc34-a4ad41ecd6bd",
   "metadata": {},
   "outputs": [],
   "source": [
    "items_ohe_df = items_ohe_df[items_ohe_df[\"item_id\"].isin(valid_items)]\n",
    "users_ohe_df = users_ohe_df[users_ohe_df[\"user_id\"].isin(valid_users)]\n",
    "valid_users = users_ohe_df[\"user_id\"].values"
   ]
  },
  {
   "cell_type": "code",
   "execution_count": 40,
   "id": "4ce4ca3d-d417-4556-af3b-044a52c9fd7f",
   "metadata": {},
   "outputs": [],
   "source": [
    "filtered_interactions_df = filtered_interactions_df[filtered_interactions_df[\"user_id\"].isin(valid_users)]"
   ]
  },
  {
   "cell_type": "markdown",
   "id": "355758d2-5330-4970-92c3-bc2aded55ee1",
   "metadata": {},
   "source": [
    "Отфильтруем короткие интеракции"
   ]
  },
  {
   "cell_type": "code",
   "execution_count": 41,
   "id": "19533c33-145a-4231-a359-3e451b7cb3bd",
   "metadata": {},
   "outputs": [],
   "source": [
    "short_interactions_df = short_interactions_df[short_interactions_df[\"user_id\"].isin(valid_users)]\n",
    "short_interactions_df = short_interactions_df[short_interactions_df[\"item_id\"].isin(valid_items)]"
   ]
  },
  {
   "cell_type": "markdown",
   "id": "ab26f72d-13aa-4f2f-9de0-24b2ab85dbbb",
   "metadata": {},
   "source": [
    "Получим внутренние индексы для user_id и item_id"
   ]
  },
  {
   "cell_type": "code",
   "execution_count": 42,
   "id": "0de71c96-c81f-446f-a1b3-0ea44eb3be86",
   "metadata": {},
   "outputs": [],
   "source": [
    "user_id_to_internal = {user_id: internal_user_id for (user_id, internal_user_id) in zip(valid_users, range(len(valid_users)))}\n",
    "item_id_to_internal = {item_id: internal_item_id for (item_id, internal_item_id) in zip(valid_items, range(len(valid_items)))}\n",
    "internal_to_item_id = {v: k for (k, v) in item_id_to_internal.items()}"
   ]
  },
  {
   "cell_type": "code",
   "execution_count": 43,
   "id": "d49edfbc-8417-498f-8113-de590f750bcd",
   "metadata": {},
   "outputs": [],
   "source": [
    "filtered_interactions_df[\"internal_user_id\"] = filtered_interactions_df[\"user_id\"].apply(lambda x: user_id_to_internal[x])\n",
    "filtered_interactions_df[\"internal_item_id\"] = filtered_interactions_df[\"item_id\"].apply(lambda x: item_id_to_internal[x])"
   ]
  },
  {
   "cell_type": "code",
   "execution_count": 44,
   "id": "b75f43ae-49c3-4554-82d3-330e509fd916",
   "metadata": {},
   "outputs": [],
   "source": [
    "short_interactions_df[\"internal_user_id\"] = short_interactions_df[\"user_id\"].apply(lambda x: user_id_to_internal[x])\n",
    "short_interactions_df[\"internal_item_id\"] = short_interactions_df[\"item_id\"].apply(lambda x: item_id_to_internal[x])"
   ]
  },
  {
   "cell_type": "markdown",
   "id": "efa3a4db-3706-4185-8ee1-6b537af00389",
   "metadata": {},
   "source": [
    "Создадим разреженную матрицу (потому что аллоцировать 20 гигабайт памяти достаточно тяжело 😅)"
   ]
  },
  {
   "cell_type": "code",
   "execution_count": 45,
   "id": "d8bbefd8-fdf6-4d6e-bbf2-438698e4a247",
   "metadata": {},
   "outputs": [],
   "source": [
    "n_rows = len(valid_users)\n",
    "n_cols = len(valid_items)\n",
    "\n",
    "interactions_matrix = sparse.coo_matrix(\n",
    "    (np.log(filtered_interactions_df[\"weight\"].values + 1), \n",
    "     (\n",
    "         filtered_interactions_df[\"internal_user_id\"].values, \n",
    "         filtered_interactions_df[\"internal_item_id\"].values\n",
    "     )\n",
    "    ), shape=(n_rows, n_cols)\n",
    ")\n",
    "interactions_matrix = interactions_matrix.tocsr()"
   ]
  },
  {
   "cell_type": "code",
   "execution_count": 46,
   "id": "aabf48d7-6f02-4ea0-9e7d-2921a668e4d8",
   "metadata": {},
   "outputs": [
    {
     "data": {
      "text/plain": [
       "<157374x14143 sparse matrix of type '<class 'numpy.float64'>'\n",
       "\twith 2367249 stored elements in Compressed Sparse Row format>"
      ]
     },
     "execution_count": 46,
     "metadata": {},
     "output_type": "execute_result"
    }
   ],
   "source": [
    "interactions_matrix"
   ]
  },
  {
   "cell_type": "markdown",
   "id": "ae6cc336-0f8a-4f94-b41c-43d14f9f4539",
   "metadata": {},
   "source": [
    "И проиндексируем датасеты users_ohe_df и items_ohe_df по внутренним айди:"
   ]
  },
  {
   "cell_type": "code",
   "execution_count": 47,
   "id": "7550e53e-3d74-4f44-9da0-51d9709a684e",
   "metadata": {},
   "outputs": [],
   "source": [
    "users_ohe_df[\"internal_user_id\"] = users_ohe_df[\"user_id\"].apply(lambda x: user_id_to_internal[x])\n",
    "users_ohe_df = users_ohe_df.set_index(\"internal_user_id\")\n",
    "\n",
    "items_ohe_df[\"internal_item_id\"] = items_ohe_df[\"item_id\"].apply(lambda x: item_id_to_internal[x])\n",
    "items_ohe_df = items_ohe_df.set_index(\"internal_item_id\")"
   ]
  },
  {
   "cell_type": "code",
   "execution_count": 48,
   "id": "46fcd94c-d64d-4d83-8fa5-bda6b762117e",
   "metadata": {},
   "outputs": [
    {
     "data": {
      "text/html": [
       "<div>\n",
       "<style scoped>\n",
       "    .dataframe tbody tr th:only-of-type {\n",
       "        vertical-align: middle;\n",
       "    }\n",
       "\n",
       "    .dataframe tbody tr th {\n",
       "        vertical-align: top;\n",
       "    }\n",
       "\n",
       "    .dataframe thead th {\n",
       "        text-align: right;\n",
       "    }\n",
       "</style>\n",
       "<table border=\"1\" class=\"dataframe\">\n",
       "  <thead>\n",
       "    <tr style=\"text-align: right;\">\n",
       "      <th></th>\n",
       "      <th>item_id</th>\n",
       "      <th>content_type_film</th>\n",
       "      <th>content_type_series</th>\n",
       "      <th>release_year_cat_1920-1930</th>\n",
       "      <th>release_year_cat_1930-1940</th>\n",
       "      <th>release_year_cat_1940-1950</th>\n",
       "      <th>release_year_cat_1950-1960</th>\n",
       "      <th>release_year_cat_1960-1970</th>\n",
       "      <th>release_year_cat_1970-1980</th>\n",
       "      <th>release_year_cat_1980-1990</th>\n",
       "      <th>...</th>\n",
       "      <th>genres_фильмы</th>\n",
       "      <th>genres_фильмы hbo</th>\n",
       "      <th>genres_фильмы-спектакли</th>\n",
       "      <th>genres_фитнес</th>\n",
       "      <th>genres_футбол</th>\n",
       "      <th>genres_фэнтези</th>\n",
       "      <th>genres_хочу всё знать</th>\n",
       "      <th>genres_шоу</th>\n",
       "      <th>genres_экранизации</th>\n",
       "      <th>genres_юмор</th>\n",
       "    </tr>\n",
       "    <tr>\n",
       "      <th>internal_item_id</th>\n",
       "      <th></th>\n",
       "      <th></th>\n",
       "      <th></th>\n",
       "      <th></th>\n",
       "      <th></th>\n",
       "      <th></th>\n",
       "      <th></th>\n",
       "      <th></th>\n",
       "      <th></th>\n",
       "      <th></th>\n",
       "      <th></th>\n",
       "      <th></th>\n",
       "      <th></th>\n",
       "      <th></th>\n",
       "      <th></th>\n",
       "      <th></th>\n",
       "      <th></th>\n",
       "      <th></th>\n",
       "      <th></th>\n",
       "      <th></th>\n",
       "      <th></th>\n",
       "    </tr>\n",
       "  </thead>\n",
       "  <tbody>\n",
       "    <tr>\n",
       "      <th>10775</th>\n",
       "      <td>10711</td>\n",
       "      <td>1</td>\n",
       "      <td>0</td>\n",
       "      <td>0</td>\n",
       "      <td>0</td>\n",
       "      <td>0</td>\n",
       "      <td>0</td>\n",
       "      <td>0</td>\n",
       "      <td>0</td>\n",
       "      <td>0</td>\n",
       "      <td>...</td>\n",
       "      <td>0</td>\n",
       "      <td>0</td>\n",
       "      <td>0</td>\n",
       "      <td>0</td>\n",
       "      <td>0</td>\n",
       "      <td>0</td>\n",
       "      <td>0</td>\n",
       "      <td>0</td>\n",
       "      <td>0</td>\n",
       "      <td>0</td>\n",
       "    </tr>\n",
       "    <tr>\n",
       "      <th>8154</th>\n",
       "      <td>2508</td>\n",
       "      <td>1</td>\n",
       "      <td>0</td>\n",
       "      <td>0</td>\n",
       "      <td>0</td>\n",
       "      <td>0</td>\n",
       "      <td>0</td>\n",
       "      <td>0</td>\n",
       "      <td>0</td>\n",
       "      <td>0</td>\n",
       "      <td>...</td>\n",
       "      <td>0</td>\n",
       "      <td>0</td>\n",
       "      <td>0</td>\n",
       "      <td>0</td>\n",
       "      <td>0</td>\n",
       "      <td>0</td>\n",
       "      <td>0</td>\n",
       "      <td>0</td>\n",
       "      <td>0</td>\n",
       "      <td>0</td>\n",
       "    </tr>\n",
       "    <tr>\n",
       "      <th>3206</th>\n",
       "      <td>10716</td>\n",
       "      <td>1</td>\n",
       "      <td>0</td>\n",
       "      <td>0</td>\n",
       "      <td>0</td>\n",
       "      <td>0</td>\n",
       "      <td>0</td>\n",
       "      <td>0</td>\n",
       "      <td>0</td>\n",
       "      <td>0</td>\n",
       "      <td>...</td>\n",
       "      <td>0</td>\n",
       "      <td>0</td>\n",
       "      <td>0</td>\n",
       "      <td>0</td>\n",
       "      <td>0</td>\n",
       "      <td>0</td>\n",
       "      <td>0</td>\n",
       "      <td>0</td>\n",
       "      <td>0</td>\n",
       "      <td>0</td>\n",
       "    </tr>\n",
       "    <tr>\n",
       "      <th>10488</th>\n",
       "      <td>7868</td>\n",
       "      <td>1</td>\n",
       "      <td>0</td>\n",
       "      <td>0</td>\n",
       "      <td>0</td>\n",
       "      <td>0</td>\n",
       "      <td>0</td>\n",
       "      <td>0</td>\n",
       "      <td>0</td>\n",
       "      <td>0</td>\n",
       "      <td>...</td>\n",
       "      <td>0</td>\n",
       "      <td>0</td>\n",
       "      <td>0</td>\n",
       "      <td>0</td>\n",
       "      <td>0</td>\n",
       "      <td>0</td>\n",
       "      <td>0</td>\n",
       "      <td>0</td>\n",
       "      <td>0</td>\n",
       "      <td>0</td>\n",
       "    </tr>\n",
       "    <tr>\n",
       "      <th>13907</th>\n",
       "      <td>16268</td>\n",
       "      <td>1</td>\n",
       "      <td>0</td>\n",
       "      <td>0</td>\n",
       "      <td>0</td>\n",
       "      <td>0</td>\n",
       "      <td>0</td>\n",
       "      <td>0</td>\n",
       "      <td>1</td>\n",
       "      <td>0</td>\n",
       "      <td>...</td>\n",
       "      <td>0</td>\n",
       "      <td>0</td>\n",
       "      <td>0</td>\n",
       "      <td>0</td>\n",
       "      <td>0</td>\n",
       "      <td>0</td>\n",
       "      <td>0</td>\n",
       "      <td>0</td>\n",
       "      <td>0</td>\n",
       "      <td>0</td>\n",
       "    </tr>\n",
       "  </tbody>\n",
       "</table>\n",
       "<p>5 rows × 242 columns</p>\n",
       "</div>"
      ],
      "text/plain": [
       "                  item_id  content_type_film  content_type_series  \\\n",
       "internal_item_id                                                    \n",
       "10775               10711                  1                    0   \n",
       "8154                 2508                  1                    0   \n",
       "3206                10716                  1                    0   \n",
       "10488                7868                  1                    0   \n",
       "13907               16268                  1                    0   \n",
       "\n",
       "                  release_year_cat_1920-1930  release_year_cat_1930-1940  \\\n",
       "internal_item_id                                                           \n",
       "10775                                      0                           0   \n",
       "8154                                       0                           0   \n",
       "3206                                       0                           0   \n",
       "10488                                      0                           0   \n",
       "13907                                      0                           0   \n",
       "\n",
       "                  release_year_cat_1940-1950  release_year_cat_1950-1960  \\\n",
       "internal_item_id                                                           \n",
       "10775                                      0                           0   \n",
       "8154                                       0                           0   \n",
       "3206                                       0                           0   \n",
       "10488                                      0                           0   \n",
       "13907                                      0                           0   \n",
       "\n",
       "                  release_year_cat_1960-1970  release_year_cat_1970-1980  \\\n",
       "internal_item_id                                                           \n",
       "10775                                      0                           0   \n",
       "8154                                       0                           0   \n",
       "3206                                       0                           0   \n",
       "10488                                      0                           0   \n",
       "13907                                      0                           1   \n",
       "\n",
       "                  release_year_cat_1980-1990  ...  genres_фильмы  \\\n",
       "internal_item_id                              ...                  \n",
       "10775                                      0  ...              0   \n",
       "8154                                       0  ...              0   \n",
       "3206                                       0  ...              0   \n",
       "10488                                      0  ...              0   \n",
       "13907                                      0  ...              0   \n",
       "\n",
       "                  genres_фильмы hbo  genres_фильмы-спектакли  genres_фитнес  \\\n",
       "internal_item_id                                                              \n",
       "10775                             0                        0              0   \n",
       "8154                              0                        0              0   \n",
       "3206                              0                        0              0   \n",
       "10488                             0                        0              0   \n",
       "13907                             0                        0              0   \n",
       "\n",
       "                  genres_футбол  genres_фэнтези  genres_хочу всё знать  \\\n",
       "internal_item_id                                                         \n",
       "10775                         0               0                      0   \n",
       "8154                          0               0                      0   \n",
       "3206                          0               0                      0   \n",
       "10488                         0               0                      0   \n",
       "13907                         0               0                      0   \n",
       "\n",
       "                  genres_шоу  genres_экранизации  genres_юмор  \n",
       "internal_item_id                                               \n",
       "10775                      0                   0            0  \n",
       "8154                       0                   0            0  \n",
       "3206                       0                   0            0  \n",
       "10488                      0                   0            0  \n",
       "13907                      0                   0            0  \n",
       "\n",
       "[5 rows x 242 columns]"
      ]
     },
     "execution_count": 48,
     "metadata": {},
     "output_type": "execute_result"
    }
   ],
   "source": [
    "items_ohe_df.head(5)"
   ]
  },
  {
   "cell_type": "code",
   "execution_count": 49,
   "id": "bdcafdd3-bbea-4715-a181-19d46e1a8ed2",
   "metadata": {},
   "outputs": [
    {
     "data": {
      "text/html": [
       "<div>\n",
       "<style scoped>\n",
       "    .dataframe tbody tr th:only-of-type {\n",
       "        vertical-align: middle;\n",
       "    }\n",
       "\n",
       "    .dataframe tbody tr th {\n",
       "        vertical-align: top;\n",
       "    }\n",
       "\n",
       "    .dataframe thead th {\n",
       "        text-align: right;\n",
       "    }\n",
       "</style>\n",
       "<table border=\"1\" class=\"dataframe\">\n",
       "  <thead>\n",
       "    <tr style=\"text-align: right;\">\n",
       "      <th></th>\n",
       "      <th>user_id</th>\n",
       "      <th>age_18_24</th>\n",
       "      <th>age_25_34</th>\n",
       "      <th>age_35_44</th>\n",
       "      <th>age_45_54</th>\n",
       "      <th>age_55_64</th>\n",
       "      <th>age_65_inf</th>\n",
       "      <th>age_unknown</th>\n",
       "      <th>income_0_20</th>\n",
       "      <th>income_150_inf</th>\n",
       "      <th>income_20_40</th>\n",
       "      <th>income_40_60</th>\n",
       "      <th>income_60_90</th>\n",
       "      <th>income_90_150</th>\n",
       "      <th>income_unknown</th>\n",
       "      <th>sex_F</th>\n",
       "      <th>sex_M</th>\n",
       "      <th>sex_unknown</th>\n",
       "      <th>kids_flg_False</th>\n",
       "      <th>kids_flg_True</th>\n",
       "    </tr>\n",
       "    <tr>\n",
       "      <th>internal_user_id</th>\n",
       "      <th></th>\n",
       "      <th></th>\n",
       "      <th></th>\n",
       "      <th></th>\n",
       "      <th></th>\n",
       "      <th></th>\n",
       "      <th></th>\n",
       "      <th></th>\n",
       "      <th></th>\n",
       "      <th></th>\n",
       "      <th></th>\n",
       "      <th></th>\n",
       "      <th></th>\n",
       "      <th></th>\n",
       "      <th></th>\n",
       "      <th></th>\n",
       "      <th></th>\n",
       "      <th></th>\n",
       "      <th></th>\n",
       "      <th></th>\n",
       "    </tr>\n",
       "  </thead>\n",
       "  <tbody>\n",
       "    <tr>\n",
       "      <th>0</th>\n",
       "      <td>962099</td>\n",
       "      <td>1</td>\n",
       "      <td>0</td>\n",
       "      <td>0</td>\n",
       "      <td>0</td>\n",
       "      <td>0</td>\n",
       "      <td>0</td>\n",
       "      <td>0</td>\n",
       "      <td>0</td>\n",
       "      <td>0</td>\n",
       "      <td>1</td>\n",
       "      <td>0</td>\n",
       "      <td>0</td>\n",
       "      <td>0</td>\n",
       "      <td>0</td>\n",
       "      <td>0</td>\n",
       "      <td>1</td>\n",
       "      <td>0</td>\n",
       "      <td>1</td>\n",
       "      <td>0</td>\n",
       "    </tr>\n",
       "    <tr>\n",
       "      <th>1</th>\n",
       "      <td>721985</td>\n",
       "      <td>0</td>\n",
       "      <td>0</td>\n",
       "      <td>0</td>\n",
       "      <td>1</td>\n",
       "      <td>0</td>\n",
       "      <td>0</td>\n",
       "      <td>0</td>\n",
       "      <td>0</td>\n",
       "      <td>0</td>\n",
       "      <td>1</td>\n",
       "      <td>0</td>\n",
       "      <td>0</td>\n",
       "      <td>0</td>\n",
       "      <td>0</td>\n",
       "      <td>1</td>\n",
       "      <td>0</td>\n",
       "      <td>0</td>\n",
       "      <td>1</td>\n",
       "      <td>0</td>\n",
       "    </tr>\n",
       "    <tr>\n",
       "      <th>2</th>\n",
       "      <td>846063</td>\n",
       "      <td>0</td>\n",
       "      <td>0</td>\n",
       "      <td>1</td>\n",
       "      <td>0</td>\n",
       "      <td>0</td>\n",
       "      <td>0</td>\n",
       "      <td>0</td>\n",
       "      <td>0</td>\n",
       "      <td>0</td>\n",
       "      <td>0</td>\n",
       "      <td>1</td>\n",
       "      <td>0</td>\n",
       "      <td>0</td>\n",
       "      <td>0</td>\n",
       "      <td>1</td>\n",
       "      <td>0</td>\n",
       "      <td>0</td>\n",
       "      <td>0</td>\n",
       "      <td>1</td>\n",
       "    </tr>\n",
       "    <tr>\n",
       "      <th>3</th>\n",
       "      <td>401219</td>\n",
       "      <td>0</td>\n",
       "      <td>0</td>\n",
       "      <td>1</td>\n",
       "      <td>0</td>\n",
       "      <td>0</td>\n",
       "      <td>0</td>\n",
       "      <td>0</td>\n",
       "      <td>0</td>\n",
       "      <td>0</td>\n",
       "      <td>0</td>\n",
       "      <td>1</td>\n",
       "      <td>0</td>\n",
       "      <td>0</td>\n",
       "      <td>0</td>\n",
       "      <td>1</td>\n",
       "      <td>0</td>\n",
       "      <td>0</td>\n",
       "      <td>1</td>\n",
       "      <td>0</td>\n",
       "    </tr>\n",
       "    <tr>\n",
       "      <th>4</th>\n",
       "      <td>155520</td>\n",
       "      <td>0</td>\n",
       "      <td>1</td>\n",
       "      <td>0</td>\n",
       "      <td>0</td>\n",
       "      <td>0</td>\n",
       "      <td>0</td>\n",
       "      <td>0</td>\n",
       "      <td>0</td>\n",
       "      <td>0</td>\n",
       "      <td>0</td>\n",
       "      <td>1</td>\n",
       "      <td>0</td>\n",
       "      <td>0</td>\n",
       "      <td>0</td>\n",
       "      <td>0</td>\n",
       "      <td>1</td>\n",
       "      <td>0</td>\n",
       "      <td>1</td>\n",
       "      <td>0</td>\n",
       "    </tr>\n",
       "  </tbody>\n",
       "</table>\n",
       "</div>"
      ],
      "text/plain": [
       "                  user_id  age_18_24  age_25_34  age_35_44  age_45_54  \\\n",
       "internal_user_id                                                        \n",
       "0                  962099          1          0          0          0   \n",
       "1                  721985          0          0          0          1   \n",
       "2                  846063          0          0          1          0   \n",
       "3                  401219          0          0          1          0   \n",
       "4                  155520          0          1          0          0   \n",
       "\n",
       "                  age_55_64  age_65_inf  age_unknown  income_0_20  \\\n",
       "internal_user_id                                                    \n",
       "0                         0           0            0            0   \n",
       "1                         0           0            0            0   \n",
       "2                         0           0            0            0   \n",
       "3                         0           0            0            0   \n",
       "4                         0           0            0            0   \n",
       "\n",
       "                  income_150_inf  income_20_40  income_40_60  income_60_90  \\\n",
       "internal_user_id                                                             \n",
       "0                              0             1             0             0   \n",
       "1                              0             1             0             0   \n",
       "2                              0             0             1             0   \n",
       "3                              0             0             1             0   \n",
       "4                              0             0             1             0   \n",
       "\n",
       "                  income_90_150  income_unknown  sex_F  sex_M  sex_unknown  \\\n",
       "internal_user_id                                                             \n",
       "0                             0               0      0      1            0   \n",
       "1                             0               0      1      0            0   \n",
       "2                             0               0      1      0            0   \n",
       "3                             0               0      1      0            0   \n",
       "4                             0               0      0      1            0   \n",
       "\n",
       "                  kids_flg_False  kids_flg_True  \n",
       "internal_user_id                                 \n",
       "0                              1              0  \n",
       "1                              1              0  \n",
       "2                              0              1  \n",
       "3                              1              0  \n",
       "4                              1              0  "
      ]
     },
     "execution_count": 49,
     "metadata": {},
     "output_type": "execute_result"
    }
   ],
   "source": [
    "users_ohe_df.head(5)"
   ]
  },
  {
   "cell_type": "markdown",
   "id": "2ece5735-b7c4-4d5e-be69-0cc857ebce5b",
   "metadata": {},
   "source": [
    "## DSSM"
   ]
  },
  {
   "cell_type": "markdown",
   "id": "3959bbba-237e-475d-b2de-ac6454026606",
   "metadata": {},
   "source": [
    "### Лосс"
   ]
  },
  {
   "cell_type": "code",
   "execution_count": 50,
   "id": "23c2085a-ee99-4f1d-ae45-6ca659ee328f",
   "metadata": {},
   "outputs": [],
   "source": [
    "def triplet_loss(y_true, y_pred, n_dims=256, alpha=0.4):\n",
    "    anchor = y_pred[:, 0:n_dims]\n",
    "    positive = y_pred[:, n_dims:n_dims*2]\n",
    "    negative = y_pred[:, n_dims*2:n_dims*3]\n",
    "\n",
    "    pos_dist = K.sum(K.square(anchor - positive), axis=1)\n",
    "    neg_dist = K.sum(K.square(anchor - negative), axis=1)\n",
    "    \n",
    "    basic_loss = pos_dist - neg_dist\n",
    "    loss = K.maximum(basic_loss + alpha, 0.0)\n",
    " \n",
    "    return loss"
   ]
  },
  {
   "cell_type": "markdown",
   "id": "6a04fd43-a439-4838-b271-d8f5795db392",
   "metadata": {},
   "source": [
    "### Сделать репрезентативное сэмплирование для триплет лосса. (3 балла)"
   ]
  },
  {
   "cell_type": "markdown",
   "id": "ee716f94-0915-4aa0-b4de-3295f1392d95",
   "metadata": {},
   "source": [
    "__позитивный атйем - из числа просмотренных, причем большая вероятность у тех, у кого выше процент просмотра__\n",
    "\n",
    "__негативный айтем - айтем, с которым пользователь взаимодействовал очень короткое время или случайный айтем (не включая просмотренные)__\n",
    "\n",
    "Вариант, который был предложен на лекции в качестве негативного айтема выдавал случайный (туда даже мог попасть айтем из числа просмотренных)\n",
    "\n",
    "В генераторе была ошибка с получением фичей, оно осуществлялось через iloc, хотя нужно было использовать loc, так как мы именно в индекс устанавливаем внутренний айдишник айтема"
   ]
  },
  {
   "cell_type": "code",
   "execution_count": 51,
   "id": "e3b8c1dd-a083-4c2b-a902-13762cf591d5",
   "metadata": {},
   "outputs": [],
   "source": [
    "def generator(items, users, interaction_matrix, short_interactions_df, batch_size=1024):\n",
    "    while True:\n",
    "        user_id_meta = []\n",
    "        user_id_interactions = []\n",
    "        pos = []\n",
    "        neg = []\n",
    "        for _ in range(batch_size):\n",
    "            uid_i = randint(0, interaction_matrix.shape[0] - 1)\n",
    "\n",
    "            user_interactions = interaction_matrix[uid_i, :].toarray().reshape(-1)\n",
    "            n_positive_probs = (user_interactions > 0).sum()\n",
    "            sum_weight = user_interactions.sum()\n",
    "            positive_probs = np.where(user_interactions > 0, user_interactions / sum_weight, 0)\n",
    "\n",
    "            short_interacted_items = short_interactions_df[short_interactions_df[\"internal_user_id\"] == uid_i][\"internal_item_id\"].values\n",
    "            if short_interacted_items.shape[0] > 0 and random() > 0.9:\n",
    "                neg_i = np.random.choice(short_interacted_items)\n",
    "            else:             \n",
    "                n_negative_probs = interaction_matrix.shape[1] - n_positive_probs\n",
    "                negative_probs = np.where(user_interactions > 0, 0, 1 / n_negative_probs)\n",
    "                neg_i = np.random.choice(range(interaction_matrix.shape[1]), p=negative_probs)\n",
    "\n",
    "            pos_i = np.random.choice(range(interaction_matrix.shape[1]), p=positive_probs)\n",
    "            user_id_meta.append(users.loc[uid_i])\n",
    "            user_id_interactions.append(user_interactions)\n",
    "            \n",
    "            pos.append(items.loc[pos_i])\n",
    "            neg.append(items.loc[neg_i])\n",
    "            \n",
    "        yield [np.array(user_id_meta), np.array(user_id_interactions), np.array(pos), np.array(neg)], [np.array(user_id_meta), np.array(user_id_interactions)]"
   ]
  },
  {
   "cell_type": "markdown",
   "id": "76935839-e3c7-4a40-8697-6c03e5cf39a2",
   "metadata": {},
   "source": [
    "### Обучение модели"
   ]
  },
  {
   "cell_type": "code",
   "execution_count": 52,
   "id": "18442351-de41-488b-9581-a655dc77f03c",
   "metadata": {},
   "outputs": [],
   "source": [
    "N_FACTORS = 256\n",
    "ITEM_MODEL_SHAPE = (items_ohe_df.drop([\"item_id\"], axis=1).shape[1], ) \n",
    "USER_META_MODEL_SHAPE = (users_ohe_df.drop([\"user_id\"], axis=1).shape[1], )\n",
    "USER_INTERACTION_MODEL_SHAPE = (interactions_matrix.shape[1], )"
   ]
  },
  {
   "cell_type": "code",
   "execution_count": 53,
   "id": "e0e837c4-e5e4-466c-a00e-7f0fd7584275",
   "metadata": {},
   "outputs": [
    {
     "name": "stdout",
     "output_type": "stream",
     "text": [
      "N_FACTORS: 256\n",
      "ITEM_MODEL_SHAPE: (241,)\n",
      "USER_META_MODEL_SHAPE: (19,)\n",
      "USER_INTERACTION_MODEL_SHAPE: (14143,)\n"
     ]
    }
   ],
   "source": [
    "print(f\"N_FACTORS: {N_FACTORS}\")\n",
    "print(f\"ITEM_MODEL_SHAPE: {ITEM_MODEL_SHAPE}\")\n",
    "print(f\"USER_META_MODEL_SHAPE: {USER_META_MODEL_SHAPE}\")\n",
    "print(f\"USER_INTERACTION_MODEL_SHAPE: {USER_INTERACTION_MODEL_SHAPE}\")"
   ]
  },
  {
   "cell_type": "code",
   "execution_count": 54,
   "id": "924366c3-6fb1-49ce-b416-c8cea7b5b65b",
   "metadata": {},
   "outputs": [
    {
     "name": "stderr",
     "output_type": "stream",
     "text": [
      "2023-12-20 13:16:27.844370: W tensorflow/stream_executor/platform/default/dso_loader.cc:64] Could not load dynamic library 'libcuda.so.1'; dlerror: libcuda.so.1: cannot open shared object file: No such file or directory\n",
      "2023-12-20 13:16:27.844410: W tensorflow/stream_executor/cuda/cuda_driver.cc:269] failed call to cuInit: UNKNOWN ERROR (303)\n",
      "2023-12-20 13:16:27.844430: I tensorflow/stream_executor/cuda/cuda_diagnostics.cc:156] kernel driver does not appear to be running on this host (564fd50a9bc2): /proc/driver/nvidia/version does not exist\n",
      "2023-12-20 13:16:27.845239: I tensorflow/core/platform/cpu_feature_guard.cc:151] This TensorFlow binary is optimized with oneAPI Deep Neural Network Library (oneDNN) to use the following CPU instructions in performance-critical operations:  AVX2 FMA\n",
      "To enable them in other operations, rebuild TensorFlow with the appropriate compiler flags.\n"
     ]
    }
   ],
   "source": [
    "def item_model(n_factors=N_FACTORS):\n",
    "    inp = keras.layers.Input(shape=ITEM_MODEL_SHAPE)\n",
    "    layer_1 = keras.layers.Dense(N_FACTORS, activation='elu', use_bias=False,\n",
    "                               kernel_regularizer=keras.regularizers.l2(1e-6),\n",
    "                               activity_regularizer=keras.regularizers.l2(l2=1e-6))(inp)\n",
    "    layer_2 = keras.layers.Dense(N_FACTORS, activation='elu', use_bias=False,\n",
    "                             kernel_regularizer=keras.regularizers.l2(1e-6),\n",
    "                             activity_regularizer=keras.regularizers.l2(l2=1e-6))(layer_1)\n",
    "    add = keras.layers.Add()([layer_1, layer_2])\n",
    "    out = keras.layers.Dense(N_FACTORS, activation='linear', use_bias=False,\n",
    "                             kernel_regularizer=keras.regularizers.l2(1e-6),\n",
    "                             activity_regularizer=keras.regularizers.l2(l2=1e-6))(add)\n",
    "    return keras.models.Model(inp, out)\n",
    "\n",
    "\n",
    "def user_model(n_factors=N_FACTORS):\n",
    "    inp_meta = keras.layers.Input(shape=USER_META_MODEL_SHAPE)\n",
    "    inp_interaction = keras.layers.Input(shape=USER_INTERACTION_MODEL_SHAPE)\n",
    "\n",
    "    layer_1_meta = keras.layers.Dense(N_FACTORS, activation='elu', use_bias=False,\n",
    "                                 kernel_regularizer=keras.regularizers.l2(1e-6),\n",
    "                                 activity_regularizer=keras.regularizers.l2(l2=1e-6))(inp_meta)\n",
    "    layer_1_interaction = keras.layers.Dense(N_FACTORS, activation='elu', use_bias=False,\n",
    "                                 kernel_regularizer=keras.regularizers.l2(1e-6),\n",
    "                                 activity_regularizer=keras.regularizers.l2(l2=1e-6))(inp_interaction)\n",
    "    layer_2_meta = keras.layers.Dense(N_FACTORS, activation='elu', use_bias=False,\n",
    "                                 kernel_regularizer=keras.regularizers.l2(1e-6),\n",
    "                                 activity_regularizer=keras.regularizers.l2(l2=1e-6))(layer_1_meta)\n",
    "    add = keras.layers.Add()([layer_1_meta, layer_2_meta])\n",
    "\n",
    "    concat_meta_interaction = keras.layers.Concatenate()([add, layer_1_interaction])\n",
    "    out = keras.layers.Dense(N_FACTORS, activation='linear', use_bias=False,\n",
    "                             kernel_regularizer=keras.regularizers.l2(1e-6),\n",
    "                             activity_regularizer=keras.regularizers.l2(l2=1e-6))(concat_meta_interaction)\n",
    "    return keras.models.Model([inp_meta, inp_interaction], out)\n",
    "\n",
    "# инициализируем модели юзера и айтема\n",
    "i2v = item_model()\n",
    "u2v = user_model()\n",
    "\n",
    "\n",
    "ancor_meta_in = keras.layers.Input(shape=USER_META_MODEL_SHAPE)\n",
    "ancor_interaction_in = keras.layers.Input(shape=USER_INTERACTION_MODEL_SHAPE)\n",
    "\n",
    "pos_in = keras.layers.Input(shape=ITEM_MODEL_SHAPE)\n",
    "neg_in = keras.layers.Input(shape=ITEM_MODEL_SHAPE)\n",
    "\n",
    "ancor = u2v([ancor_meta_in, ancor_interaction_in])\n",
    "pos = i2v(pos_in)\n",
    "neg = i2v(neg_in)\n",
    "res = keras.layers.Concatenate(name=\"concat_ancor_pos_neg\")([ancor, pos, neg])\n",
    "\n",
    "model = keras.models.Model([ancor_meta_in, ancor_interaction_in, pos_in, neg_in], res)"
   ]
  },
  {
   "cell_type": "code",
   "execution_count": 55,
   "id": "b8df4daa-6daf-4dcf-8479-cebf5c72372a",
   "metadata": {},
   "outputs": [],
   "source": [
    "model_name = 'dssm'\n",
    "decay = keras.callbacks.ReduceLROnPlateau(monitor='loss', patience=1, factor=0.8, verbose=1)\n",
    "opt = keras.optimizers.Adam(learning_rate=0.001)\n",
    "model.compile(loss=triplet_loss, optimizer=opt)"
   ]
  },
  {
   "cell_type": "code",
   "execution_count": 56,
   "id": "23f3ad53-269d-4b6b-8b3a-19978ca558e5",
   "metadata": {},
   "outputs": [
    {
     "name": "stdout",
     "output_type": "stream",
     "text": [
      "Epoch 1/15\n",
      "100/100 [==============================] - 30s 301ms/step - loss: 0.4685 - lr: 0.0010\n",
      "Epoch 2/15\n",
      "100/100 [==============================] - 30s 299ms/step - loss: 0.3039 - lr: 0.0010\n",
      "Epoch 3/15\n",
      "100/100 [==============================] - 30s 300ms/step - loss: 0.2538 - lr: 0.0010\n",
      "Epoch 4/15\n",
      "100/100 [==============================] - ETA: 0s - loss: 0.2646\n",
      "Epoch 4: ReduceLROnPlateau reducing learning rate to 0.000800000037997961.\n",
      "100/100 [==============================] - 30s 299ms/step - loss: 0.2646 - lr: 0.0010\n",
      "Epoch 5/15\n",
      "100/100 [==============================] - 30s 301ms/step - loss: 0.2007 - lr: 8.0000e-04\n",
      "Epoch 6/15\n",
      "100/100 [==============================] - 30s 299ms/step - loss: 0.1888 - lr: 8.0000e-04\n",
      "Epoch 7/15\n",
      "100/100 [==============================] - 30s 298ms/step - loss: 0.1818 - lr: 8.0000e-04\n",
      "Epoch 8/15\n",
      "100/100 [==============================] - 30s 300ms/step - loss: 0.1777 - lr: 8.0000e-04\n",
      "Epoch 9/15\n",
      "100/100 [==============================] - 30s 301ms/step - loss: 0.1556 - lr: 8.0000e-04\n",
      "Epoch 10/15\n",
      "100/100 [==============================] - ETA: 0s - loss: 0.1631\n",
      "Epoch 10: ReduceLROnPlateau reducing learning rate to 0.0006400000303983689.\n",
      "100/100 [==============================] - 30s 302ms/step - loss: 0.1631 - lr: 8.0000e-04\n",
      "Epoch 11/15\n",
      "100/100 [==============================] - 30s 299ms/step - loss: 0.1318 - lr: 6.4000e-04\n",
      "Epoch 12/15\n",
      "100/100 [==============================] - ETA: 0s - loss: 0.1350\n",
      "Epoch 12: ReduceLROnPlateau reducing learning rate to 0.0005120000336319208.\n",
      "100/100 [==============================] - 30s 300ms/step - loss: 0.1350 - lr: 6.4000e-04\n",
      "Epoch 13/15\n",
      "100/100 [==============================] - 30s 301ms/step - loss: 0.1253 - lr: 5.1200e-04\n",
      "Epoch 14/15\n",
      "100/100 [==============================] - 30s 302ms/step - loss: 0.1159 - lr: 5.1200e-04\n",
      "Epoch 15/15\n",
      "100/100 [==============================] - ETA: 0s - loss: 0.1160\n",
      "Epoch 15: ReduceLROnPlateau reducing learning rate to 0.00040960004553198815.\n",
      "100/100 [==============================] - 30s 299ms/step - loss: 0.1160 - lr: 5.1200e-04\n"
     ]
    },
    {
     "data": {
      "text/plain": [
       "<keras.callbacks.History at 0x7f2650211480>"
      ]
     },
     "execution_count": 56,
     "metadata": {},
     "output_type": "execute_result"
    }
   ],
   "source": [
    "model.fit(generator(items=items_ohe_df.drop([\"item_id\"], axis=1), \n",
    "                    users=users_ohe_df.drop([\"user_id\"], axis=1), \n",
    "                    interaction_matrix=interactions_matrix,\n",
    "                    short_interactions_df=short_interactions_df,\n",
    "                    batch_size=128), \n",
    "          steps_per_epoch=100, \n",
    "          epochs=15, \n",
    "          initial_epoch=0,\n",
    "          callbacks=[decay]\n",
    ")"
   ]
  },
  {
   "cell_type": "code",
   "execution_count": null,
   "id": "13285fe4-8a00-4363-a24c-118b96fcba81",
   "metadata": {},
   "outputs": [],
   "source": []
  },
  {
   "cell_type": "markdown",
   "id": "62a4b567-6c30-47ce-87cb-6aba8f521a07",
   "metadata": {},
   "source": [
    "## Autoencoders"
   ]
  },
  {
   "cell_type": "markdown",
   "id": "9144a113-0b2a-46a1-b294-802b1e53831b",
   "metadata": {},
   "source": [
    "### Подготовка данных"
   ]
  },
  {
   "cell_type": "code",
   "execution_count": 250,
   "id": "f6b6cb12-c706-45ab-b67e-815619e4a5a7",
   "metadata": {},
   "outputs": [],
   "source": [
    "BATCH_SIZE = 256"
   ]
  },
  {
   "cell_type": "code",
   "execution_count": 251,
   "id": "03eafd23-8f54-4ea6-862f-91c8437afce2",
   "metadata": {},
   "outputs": [
    {
     "data": {
      "text/html": [
       "<div>\n",
       "<style scoped>\n",
       "    .dataframe tbody tr th:only-of-type {\n",
       "        vertical-align: middle;\n",
       "    }\n",
       "\n",
       "    .dataframe tbody tr th {\n",
       "        vertical-align: top;\n",
       "    }\n",
       "\n",
       "    .dataframe thead th {\n",
       "        text-align: right;\n",
       "    }\n",
       "</style>\n",
       "<table border=\"1\" class=\"dataframe\">\n",
       "  <thead>\n",
       "    <tr style=\"text-align: right;\">\n",
       "      <th></th>\n",
       "      <th>user_id</th>\n",
       "      <th>item_id</th>\n",
       "      <th>datetime</th>\n",
       "      <th>total_dur</th>\n",
       "      <th>weight</th>\n",
       "      <th>internal_user_id</th>\n",
       "      <th>internal_item_id</th>\n",
       "    </tr>\n",
       "  </thead>\n",
       "  <tbody>\n",
       "    <tr>\n",
       "      <th>0</th>\n",
       "      <td>176549</td>\n",
       "      <td>9506</td>\n",
       "      <td>2021-05-11</td>\n",
       "      <td>4250</td>\n",
       "      <td>4.290459</td>\n",
       "      <td>0</td>\n",
       "      <td>0</td>\n",
       "    </tr>\n",
       "    <tr>\n",
       "      <th>1</th>\n",
       "      <td>699317</td>\n",
       "      <td>1659</td>\n",
       "      <td>2021-05-29</td>\n",
       "      <td>8317</td>\n",
       "      <td>4.615121</td>\n",
       "      <td>1</td>\n",
       "      <td>1</td>\n",
       "    </tr>\n",
       "    <tr>\n",
       "      <th>3</th>\n",
       "      <td>864613</td>\n",
       "      <td>7638</td>\n",
       "      <td>2021-07-05</td>\n",
       "      <td>14483</td>\n",
       "      <td>4.615121</td>\n",
       "      <td>2</td>\n",
       "      <td>2</td>\n",
       "    </tr>\n",
       "    <tr>\n",
       "      <th>6</th>\n",
       "      <td>1016458</td>\n",
       "      <td>354</td>\n",
       "      <td>2021-08-14</td>\n",
       "      <td>1672</td>\n",
       "      <td>3.258097</td>\n",
       "      <td>3</td>\n",
       "      <td>3</td>\n",
       "    </tr>\n",
       "    <tr>\n",
       "      <th>7</th>\n",
       "      <td>884009</td>\n",
       "      <td>693</td>\n",
       "      <td>2021-08-04</td>\n",
       "      <td>703</td>\n",
       "      <td>2.708050</td>\n",
       "      <td>4</td>\n",
       "      <td>4</td>\n",
       "    </tr>\n",
       "  </tbody>\n",
       "</table>\n",
       "</div>"
      ],
      "text/plain": [
       "   user_id  item_id   datetime  total_dur    weight  internal_user_id  \\\n",
       "0   176549     9506 2021-05-11       4250  4.290459                 0   \n",
       "1   699317     1659 2021-05-29       8317  4.615121                 1   \n",
       "3   864613     7638 2021-07-05      14483  4.615121                 2   \n",
       "6  1016458      354 2021-08-14       1672  3.258097                 3   \n",
       "7   884009      693 2021-08-04        703  2.708050                 4   \n",
       "\n",
       "   internal_item_id  \n",
       "0                 0  \n",
       "1                 1  \n",
       "3                 2  \n",
       "6                 3  \n",
       "7                 4  "
      ]
     },
     "execution_count": 251,
     "metadata": {},
     "output_type": "execute_result"
    }
   ],
   "source": [
    "ae_interactions_df = filtered_interactions_df.copy()\n",
    "ae_interactions_df[\"weight\"] = ae_interactions_df[\"weight\"].apply(lambda x: np.log(x + 1))\n",
    "ae_interactions_df.head()"
   ]
  },
  {
   "cell_type": "code",
   "execution_count": 252,
   "id": "388ce547-f09b-4be0-842b-3ce6fceb3985",
   "metadata": {},
   "outputs": [],
   "source": [
    "interactions_train_df, interactions_test_df = train_test_split(ae_interactions_df,\n",
    "                                   stratify=ae_interactions_df['user_id'], \n",
    "                                   test_size=0.20,\n",
    "                                   random_state=42)"
   ]
  },
  {
   "cell_type": "code",
   "execution_count": 253,
   "id": "481ff29f-f93f-41fc-bd9a-640bbc357ac1",
   "metadata": {},
   "outputs": [
    {
     "data": {
      "text/plain": [
       "(143176, 12641)"
      ]
     },
     "execution_count": 253,
     "metadata": {},
     "output_type": "execute_result"
    }
   ],
   "source": [
    "n_users = ae_interactions_df[\"internal_user_id\"].max() + 1\n",
    "n_items =  ae_interactions_df[\"internal_item_id\"].max() + 1\n",
    "n_users, n_items"
   ]
  },
  {
   "cell_type": "code",
   "execution_count": 254,
   "id": "3295153b-9779-4b50-a7c0-6d3bad0957c6",
   "metadata": {},
   "outputs": [
    {
     "data": {
      "text/plain": [
       "<143176x12641 sparse matrix of type '<class 'numpy.float32'>'\n",
       "\twith 1678303 stored elements in Compressed Sparse Row format>"
      ]
     },
     "execution_count": 254,
     "metadata": {},
     "output_type": "execute_result"
    }
   ],
   "source": [
    "train_matrix = sparse.coo_matrix(\n",
    "    (interactions_train_df[\"weight\"].values, \n",
    "     (\n",
    "         interactions_train_df[\"internal_user_id\"].values, \n",
    "         interactions_train_df[\"internal_item_id\"].values\n",
    "     )\n",
    "    ), shape=(n_users, n_items)\n",
    ")\n",
    "train_matrix = train_matrix.tocsr().astype(np.float32)\n",
    "train_matrix"
   ]
  },
  {
   "cell_type": "code",
   "execution_count": 255,
   "id": "4869832d-db9c-4f9b-994a-3bc578be9e08",
   "metadata": {},
   "outputs": [
    {
     "data": {
      "text/plain": [
       "<143176x12641 sparse matrix of type '<class 'numpy.float32'>'\n",
       "\twith 419576 stored elements in Compressed Sparse Row format>"
      ]
     },
     "execution_count": 255,
     "metadata": {},
     "output_type": "execute_result"
    }
   ],
   "source": [
    "test_matrix = sparse.coo_matrix(\n",
    "    (interactions_test_df[\"weight\"].values, \n",
    "     (\n",
    "         interactions_test_df[\"internal_user_id\"].values, \n",
    "         interactions_test_df[\"internal_item_id\"].values\n",
    "     )\n",
    "    ), shape=(n_users, n_items)\n",
    ")\n",
    "test_matrix = test_matrix.tocsr().astype(np.float32)\n",
    "test_matrix"
   ]
  },
  {
   "cell_type": "code",
   "execution_count": 256,
   "id": "9fcbbbba-79ad-4b6b-9f50-078399c808d7",
   "metadata": {},
   "outputs": [],
   "source": [
    "class UserOrientedDataset(Dataset):\n",
    "    def __init__(self, X):\n",
    "        super().__init__()\n",
    "        self.X = X\n",
    "        self.n = X.shape[0]\n",
    "\n",
    "    def __len__(self):\n",
    "        return self.n\n",
    "\n",
    "    def __getitem__(self, index):\n",
    "        return torch.from_numpy(self.X[index, :].toarray().reshape(-1))"
   ]
  },
  {
   "cell_type": "code",
   "execution_count": 257,
   "id": "f7a8952d-26d1-4c94-a668-1a2db7b8178d",
   "metadata": {},
   "outputs": [],
   "source": [
    "train_dl = DataLoader(\n",
    "    UserOrientedDataset(train_matrix),\n",
    "    batch_size = BATCH_SIZE,\n",
    "    shuffle = True\n",
    ")\n",
    "\n",
    "test_dl = DataLoader(\n",
    "    UserOrientedDataset(test_matrix),\n",
    "    batch_size = EVAL_BATCH_SIZE,\n",
    "    shuffle = False\n",
    ")"
   ]
  },
  {
   "cell_type": "code",
   "execution_count": 258,
   "id": "51dde281-2b56-491a-9d55-afa8d17ed7bc",
   "metadata": {},
   "outputs": [],
   "source": [
    "dls = {'train': train_dl, 'test': test_dl}"
   ]
  },
  {
   "cell_type": "markdown",
   "id": "26044ebd-3fc7-4734-a95f-b8432f25474a",
   "metadata": {},
   "source": [
    "### Модель и доработка её архитектуры (2 балла)"
   ]
  },
  {
   "cell_type": "code",
   "execution_count": 287,
   "id": "bbf6b765-c209-424d-8a93-f094a6fba459",
   "metadata": {},
   "outputs": [],
   "source": [
    "SEED = 0\n",
    "LR = 1e-3\n",
    "WEIGHT_DECAY = 0.01\n",
    "GAMMA = 0.9995"
   ]
  },
  {
   "cell_type": "code",
   "execution_count": 288,
   "id": "5f62696a-00ae-4418-bcdd-0af840447b2d",
   "metadata": {},
   "outputs": [
    {
     "data": {
      "text/plain": [
       "('Входных нейронов', 12641)"
      ]
     },
     "execution_count": 288,
     "metadata": {},
     "output_type": "execute_result"
    }
   ],
   "source": [
    "'Входных нейронов', n_items"
   ]
  },
  {
   "cell_type": "code",
   "execution_count": 361,
   "id": "7ffd6a70-ddda-469a-ac2f-f341002993e5",
   "metadata": {},
   "outputs": [],
   "source": [
    "class AutoEncoder(nn.Module):\n",
    "    def __init__(self, in_and_out_features):\n",
    "        super().__init__()\n",
    "        self.in_and_out_features = in_and_out_features\n",
    "        self.hidden_size = 500\n",
    "\n",
    "        self.sequential = nn.Sequential(\n",
    "            nn.Linear(in_and_out_features, self.hidden_size, bias=True),\n",
    "            nn.ReLU(),\n",
    "            nn.Linear(self.hidden_size, in_and_out_features, bias=True)\n",
    "        )\n",
    "\n",
    "    def forward(self, x):\n",
    "        x = self.sequential(x)\n",
    "        return x"
   ]
  },
  {
   "cell_type": "code",
   "execution_count": 362,
   "id": "bd4e0fac-43bf-44d7-8910-bfdc7ba67728",
   "metadata": {},
   "outputs": [
    {
     "data": {
      "text/plain": [
       "<torch._C.Generator at 0x7f1d03546470>"
      ]
     },
     "execution_count": 362,
     "metadata": {},
     "output_type": "execute_result"
    }
   ],
   "source": [
    "torch.manual_seed(SEED)"
   ]
  },
  {
   "cell_type": "code",
   "execution_count": 363,
   "id": "948b2667-5cb1-4177-944c-894d3db92a4d",
   "metadata": {},
   "outputs": [],
   "source": [
    "autoencoder = AutoEncoder(n_items)\n",
    "optimizer = torch.optim.AdamW(autoencoder.parameters(), lr=LR, weight_decay=WEIGHT_DECAY)\n",
    "scheduler = torch.optim.lr_scheduler.ExponentialLR(optimizer, gamma=GAMMA)"
   ]
  },
  {
   "cell_type": "code",
   "execution_count": 364,
   "id": "8e2641b5-8aeb-466c-b56f-3c9d9f28c9b1",
   "metadata": {},
   "outputs": [
    {
     "data": {
      "text/plain": [
       "AutoEncoder(\n",
       "  (sequential): Sequential(\n",
       "    (0): Linear(in_features=12641, out_features=500, bias=True)\n",
       "    (1): ReLU()\n",
       "    (2): Linear(in_features=500, out_features=12641, bias=True)\n",
       "  )\n",
       ")"
      ]
     },
     "execution_count": 364,
     "metadata": {},
     "output_type": "execute_result"
    }
   ],
   "source": [
    "autoencoder"
   ]
  },
  {
   "cell_type": "markdown",
   "id": "f87d7f24-d81e-48f2-9d28-2a902b556be9",
   "metadata": {},
   "source": [
    "### Обучение"
   ]
  },
  {
   "cell_type": "code",
   "execution_count": 365,
   "id": "f3c040a8-8e3a-461c-82bf-311653fb0374",
   "metadata": {},
   "outputs": [],
   "source": [
    "NUM_EPOCHS = 15"
   ]
  },
  {
   "cell_type": "code",
   "execution_count": 366,
   "id": "7115d4ec-76b0-440b-aa81-b06ad422d16b",
   "metadata": {},
   "outputs": [],
   "source": [
    "def rmse_for_sparse(x_pred, x_true):\n",
    "    mask = (x_true > 0)\n",
    "    sq_diff = (x_pred * mask - x_true) ** 2\n",
    "    mse = sq_diff.sum() / mask.sum()\n",
    "    return mse ** (1/2)"
   ]
  },
  {
   "cell_type": "code",
   "execution_count": 367,
   "id": "f3ab54bb-b72c-426e-9a98-4921e8b17fe4",
   "metadata": {},
   "outputs": [],
   "source": [
    "metrics_dict = {\n",
    "    \"Epoch\": [],\n",
    "    \"Train RMSE\": [],\n",
    "    \"Test RMSE\": [],\n",
    "}"
   ]
  },
  {
   "cell_type": "code",
   "execution_count": 368,
   "id": "d4c5460f-bc2d-4100-bf0c-7313b56c7470",
   "metadata": {},
   "outputs": [
    {
     "data": {
      "application/vnd.jupyter.widget-view+json": {
       "model_id": "410dcb3896d146ee94c53702180bbaa5",
       "version_major": 2,
       "version_minor": 0
      },
      "text/plain": [
       "  0%|          | 0/15 [00:00<?, ?it/s]"
      ]
     },
     "metadata": {},
     "output_type": "display_data"
    }
   ],
   "source": [
    "for epoch in tqdm(range(NUM_EPOCHS)):\n",
    "    metrics_dict[\"Epoch\"].append(epoch)\n",
    "    for stage in ['train', 'test']:\n",
    "        with torch.set_grad_enabled(stage == 'train'):\n",
    "            if stage == 'train':\n",
    "                autoencoder.train()\n",
    "            else:\n",
    "                autoencoder.eval()\n",
    "\n",
    "            loss_at_stage = 0 \n",
    "            for batch in dls[stage]:\n",
    "                x_pred = autoencoder(batch)\n",
    "                loss = rmse_for_sparse(x_pred, batch)\n",
    "                if stage == \"train\":\n",
    "                    loss.backward()\n",
    "                    optimizer.step()\n",
    "                    scheduler.step()\n",
    "                    optimizer.zero_grad()\n",
    "                loss_at_stage += loss.item() * len(batch)\n",
    "            rmse_at_stage = (loss_at_stage / len(dls[stage].dataset)) ** (1/2)\n",
    "            metrics_dict[f\"{stage.title()} RMSE\"].append(rmse_at_stage)"
   ]
  },
  {
   "cell_type": "code",
   "execution_count": 369,
   "id": "9c63ac9d-cad9-49f2-a033-4224bb52311f",
   "metadata": {},
   "outputs": [
    {
     "data": {
      "image/png": "[encoded data removed]",
      "text/plain": [
       "<Figure size 640x480 with 1 Axes>"
      ]
     },
     "metadata": {},
     "output_type": "display_data"
    }
   ],
   "source": [
    "pd.DataFrame(metrics_dict)[[\"Train RMSE\", \"Test RMSE\"]].plot()\n",
    "plt.show()"
   ]
  },
  {
   "cell_type": "markdown",
   "id": "3146092e-6a41-428a-a03d-216249bf2650",
   "metadata": {},
   "source": [
    "Возможно стоило и дальше обучать, но разрыв бы продолжал увеличиваться. При других архитектурах (добавление уровней) обучается значительно дольше и ошибка выше"
   ]
  },
  {
   "cell_type": "markdown",
   "id": "6add482a-7dad-49ed-8cbc-7d4fb276cec4",
   "metadata": {},
   "source": [
    "### Оценка качества автоэнкодера"
   ]
  },
  {
   "cell_type": "code",
   "execution_count": 370,
   "id": "af087b20-fb46-4c7e-9541-b32b70174c5d",
   "metadata": {},
   "outputs": [],
   "source": [
    "internal_user_id = 1000"
   ]
  },
  {
   "cell_type": "code",
   "execution_count": 371,
   "id": "dd0d7da9-54e8-4ad9-ab87-b08339acab3b",
   "metadata": {},
   "outputs": [],
   "source": [
    "def get_recommendation(model, matrix, internal_user_id, k):\n",
    "    reals = matrix[internal_user_id, :].toarray()\n",
    "    with torch.no_grad():\n",
    "        predictions = model(torch.Tensor(reals))\n",
    "    predicted_items = np.argpartition(predictions.numpy().reshape(-1), -k)[-k:][::-1]\n",
    "    return predicted_items[:k]"
   ]
  },
  {
   "cell_type": "code",
   "execution_count": 372,
   "id": "0b8485fb-d42c-43fa-b980-6c8855d0a3ad",
   "metadata": {},
   "outputs": [
    {
     "data": {
      "text/plain": [
       "array([ 9528, 10381,  9029, 11566,  5322,  5656, 11059,  9563,  7111,\n",
       "        7182])"
      ]
     },
     "execution_count": 372,
     "metadata": {},
     "output_type": "execute_result"
    }
   ],
   "source": [
    "get_recommendation(autoencoder, test_matrix, internal_user_id, 10) "
   ]
  },
  {
   "cell_type": "markdown",
   "id": "67f01506-0f4d-4348-87fe-690063e2b672",
   "metadata": {},
   "source": [
    "Для оценки будем использовать пользователей, у которых больше 10 айтемов в числе просмотренных"
   ]
  },
  {
   "cell_type": "code",
   "execution_count": 373,
   "id": "1c17b80c-db56-4928-ae13-faa5c43d5532",
   "metadata": {},
   "outputs": [
    {
     "data": {
      "text/plain": [
       "user_id\n",
       "576        19\n",
       "840        10\n",
       "858        18\n",
       "1456       11\n",
       "1823       16\n",
       "           ..\n",
       "1097444    33\n",
       "1097459    10\n",
       "1097470    10\n",
       "1097508    19\n",
       "1097513    12\n",
       "Name: item_id, Length: 4529, dtype: int64"
      ]
     },
     "execution_count": 373,
     "metadata": {},
     "output_type": "execute_result"
    }
   ],
   "source": [
    "test_users_items_count = interactions_test_df.groupby([\"user_id\"])[\"item_id\"].agg(\"count\")\n",
    "users_more_10_items = test_users_items_count[test_users_items_count >= 10]\n",
    "users_more_10_items"
   ]
  },
  {
   "cell_type": "code",
   "execution_count": 374,
   "id": "c422447c-5633-4098-8481-4a6dcb525b05",
   "metadata": {},
   "outputs": [
    {
     "data": {
      "application/vnd.jupyter.widget-view+json": {
       "model_id": "773089d370d34163b067e1ab9dea5425",
       "version_major": 2,
       "version_minor": 0
      },
      "text/plain": [
       "  0%|          | 0/4529 [00:00<?, ?it/s]"
      ]
     },
     "metadata": {},
     "output_type": "display_data"
    }
   ],
   "source": [
    "reco_data = []\n",
    "\n",
    "for user_id in tqdm(users_more_10_items.index):\n",
    "    internal_user_id = user_id_to_internal[user_id]\n",
    "    internal_items = get_recommendation(autoencoder, train_matrix, internal_user_id, 10)\n",
    "    items = [internal_to_item_id[internal_item_id] for internal_item_id in internal_items]\n",
    "    for (ind, item_id) in enumerate(items):\n",
    "        reco_data.append(dict(item_id=item_id, user_id=user_id, rank=ind+1))"
   ]
  },
  {
   "cell_type": "code",
   "execution_count": 375,
   "id": "bf380ddd-3291-45cf-a1bf-4b944ff54385",
   "metadata": {},
   "outputs": [],
   "source": [
    "reco_df = pd.DataFrame(reco_data)"
   ]
  },
  {
   "cell_type": "code",
   "execution_count": 376,
   "id": "4471e1ee-febb-445a-8f5a-4521b4068db2",
   "metadata": {},
   "outputs": [
    {
     "data": {
      "text/plain": [
       "{'map@10': 1.678540479405457e-05, 'serendipity': 6.119929068345077e-06}"
      ]
     },
     "execution_count": 376,
     "metadata": {},
     "output_type": "execute_result"
    }
   ],
   "source": [
    "calc_metrics(\n",
    "    {'map@10': MAP(k=10), 'serendipity': Serendipity(k=10)},\n",
    "    reco=reco_df,\n",
    "    interactions=interactions_test_df[interactions_test_df[\"user_id\"].isin(users_more_10_items.index)],\n",
    "    prev_interactions=interactions_train_df[interactions_train_df[\"user_id\"].isin(users_more_10_items.index)],\n",
    "    catalog=interactions_train_df[interactions_train_df[\"user_id\"].isin(users_more_10_items.index)][Columns.Item].unique()\n",
    ")"
   ]
  },
  {
   "cell_type": "markdown",
   "id": "5eb3598f-b86a-4482-886d-93466de53113",
   "metadata": {},
   "source": [
    "### Подготовка модели для сервиса"
   ]
  },
  {
   "cell_type": "code",
   "execution_count": 377,
   "id": "d8180fbb-1865-4e80-96f3-5e4c495c01e7",
   "metadata": {},
   "outputs": [
    {
     "data": {
      "text/plain": [
       "<143176x12641 sparse matrix of type '<class 'numpy.float32'>'\n",
       "\twith 2097879 stored elements in Compressed Sparse Row format>"
      ]
     },
     "execution_count": 377,
     "metadata": {},
     "output_type": "execute_result"
    }
   ],
   "source": [
    "full_matrix = sparse.coo_matrix(\n",
    "    (ae_interactions_df[\"weight\"].values, \n",
    "     (\n",
    "         ae_interactions_df[\"internal_user_id\"].values, \n",
    "         ae_interactions_df[\"internal_item_id\"].values\n",
    "     )\n",
    "    ), shape=(n_users, n_items)\n",
    ")\n",
    "full_matrix = full_matrix.tocsr().astype(np.float32)\n",
    "full_matrix"
   ]
  },
  {
   "cell_type": "code",
   "execution_count": 378,
   "id": "047c7f24-083c-40ac-ab82-9acd113d92d7",
   "metadata": {},
   "outputs": [],
   "source": [
    "full_dl = DataLoader(\n",
    "    UserOrientedDataset(full_matrix),\n",
    "    batch_size = BATCH_SIZE,\n",
    "    shuffle = True\n",
    ")"
   ]
  },
  {
   "cell_type": "code",
   "execution_count": 379,
   "id": "eef8073e-f145-45cf-9106-49678d25eb07",
   "metadata": {},
   "outputs": [],
   "source": [
    "autoencoder = AutoEncoder(n_items)\n",
    "optimizer = torch.optim.AdamW(autoencoder.parameters(), lr=LR, weight_decay=WEIGHT_DECAY)\n",
    "scheduler = torch.optim.lr_scheduler.ExponentialLR(optimizer, gamma=GAMMA)"
   ]
  },
  {
   "cell_type": "code",
   "execution_count": 380,
   "id": "c95e2104-f86a-400c-bdf7-f5896823b3e8",
   "metadata": {},
   "outputs": [
    {
     "data": {
      "application/vnd.jupyter.widget-view+json": {
       "model_id": "a79b413ee5834c5084da9e28f3bc480e",
       "version_major": 2,
       "version_minor": 0
      },
      "text/plain": [
       "  0%|          | 0/15 [00:00<?, ?it/s]"
      ]
     },
     "metadata": {},
     "output_type": "display_data"
    }
   ],
   "source": [
    "autoencoder.train()\n",
    "for epoch in tqdm(range(NUM_EPOCHS)):\n",
    "    for batch in full_dl:\n",
    "        x_pred = autoencoder(batch)\n",
    "        loss = rmse_for_sparse(x_pred, batch)\n",
    "        loss.backward()\n",
    "        optimizer.step()\n",
    "        scheduler.step()\n",
    "        optimizer.zero_grad()"
   ]
  },
  {
   "cell_type": "code",
   "execution_count": 381,
   "id": "2038ab24-b64a-41d9-85e2-3bca7cbd8409",
   "metadata": {},
   "outputs": [],
   "source": [
    "torch.save(autoencoder.state_dict(), 'autoencoder.pth')"
   ]
  },
  {
   "cell_type": "code",
   "execution_count": 385,
   "id": "9853bdcf-7475-4982-b13f-674755272a52",
   "metadata": {},
   "outputs": [
    {
     "data": {
      "text/plain": [
       "Model(\n",
       "  (sequential): Sequential(\n",
       "    (0): Linear(in_features=12641, out_features=500, bias=True)\n",
       "    (1): ReLU()\n",
       "    (2): Linear(in_features=500, out_features=12641, bias=True)\n",
       "  )\n",
       ")"
      ]
     },
     "execution_count": 385,
     "metadata": {},
     "output_type": "execute_result"
    }
   ],
   "source": [
    "autoencoder_loaded = Model(n_items)\n",
    "autoencoder_loaded.load_state_dict(torch.load('autoencoder.pth'))\n",
    "autoencoder_loaded.eval()"
   ]
  },
  {
   "cell_type": "code",
   "execution_count": 386,
   "id": "e1d8d9a3-9023-4ea2-8d0b-7a05bbb95a42",
   "metadata": {},
   "outputs": [
    {
     "data": {
      "text/plain": [
       "array([10201,   322, 12208, 11059,  7494,   885,  7949,  7944,  8188,\n",
       "       10628])"
      ]
     },
     "execution_count": 386,
     "metadata": {},
     "output_type": "execute_result"
    }
   ],
   "source": [
    "get_recommendation(autoencoder_loaded, test_matrix, internal_user_id, 10) "
   ]
  },
  {
   "cell_type": "code",
   "execution_count": 387,
   "id": "c191647c-e680-407b-8d16-662a10a6eafd",
   "metadata": {},
   "outputs": [],
   "source": [
    "with open('autoencoder_item_inv_mappings.json', 'w', encoding=\"utf-8\") as f:\n",
    "    json.dump({int(k): int(v) for (k, v) in internal_to_item_id.items()}, f)"
   ]
  },
  {
   "cell_type": "code",
   "execution_count": 388,
   "id": "fa43e117-f7d4-438c-853c-532d933273a6",
   "metadata": {},
   "outputs": [],
   "source": [
    "with open('autoencoder_user_mappings.json', 'w', encoding=\"utf-8\") as f:\n",
    "    json.dump({int(k): int(v) for (k, v) in user_id_to_internal.items()}, f)"
   ]
  },
  {
   "cell_type": "code",
   "execution_count": 389,
   "id": "35218366-7d90-4d56-a8ea-84c58572ea43",
   "metadata": {},
   "outputs": [],
   "source": [
    "sparse.save_npz(\"autoencoder_user_item_matrix.npz\", full_matrix)"
   ]
  },
  {
   "cell_type": "markdown",
   "id": "a8382b1d-1e89-45e8-9f33-1d5d03df95c9",
   "metadata": {},
   "source": [
    "## Frameworks (Recbole)"
   ]
  },
  {
   "cell_type": "code",
   "execution_count": 407,
   "id": "e56db511-1a3c-4d05-9f04-0c5e13cc6d7a",
   "metadata": {},
   "outputs": [],
   "source": [
    "import logging\n",
    "from recbole.config import Config\n",
    "from recbole.utils.case_study import full_sort_topk\n",
    "from recbole.quick_start import load_data_and_model\n",
    "from recbole.data import create_dataset, data_preparation, Interaction\n",
    "from recbole.model.sequential_recommender import BERT4Rec\n",
    "from recbole.model.general_recommender import RecVAE\n",
    "from recbole.trainer import Trainer\n",
    "from recbole.utils import init_seed\n",
    "from recbole.quick_start import run_recbole"
   ]
  },
  {
   "cell_type": "code",
   "execution_count": 325,
   "id": "add38307-3922-4316-83ff-672185bf39d3",
   "metadata": {},
   "outputs": [],
   "source": [
    "logger = logging.getLogger()\n",
    "logger.setLevel(logging.CRITICAL)"
   ]
  },
  {
   "cell_type": "markdown",
   "id": "878ec8b1-a14b-4d4c-ae3e-50e073cbcc7e",
   "metadata": {},
   "source": [
    "### Подготовка и сохранение данных для Recbole"
   ]
  },
  {
   "cell_type": "code",
   "execution_count": 326,
   "id": "11560d03-e12c-4bb6-967e-d77f64de255f",
   "metadata": {},
   "outputs": [],
   "source": [
    "recbole_df = interactions_df[[\"user_id\", \"item_id\", \"datetime\"]].copy()\n",
    "recbole_df[\"datetime\"] = recbole_df[\"datetime\"].values.astype(np.int64) // 10 ** 9\n",
    "recbole_df = recbole_df.rename(columns={'user_id': 'user_id:token', 'item_id': 'item_id:token', 'datetime': 'timestamp:float'})"
   ]
  },
  {
   "cell_type": "code",
   "execution_count": 327,
   "id": "f3e48656-539f-4a15-b683-f6340df0b181",
   "metadata": {},
   "outputs": [
    {
     "name": "stdout",
     "output_type": "stream",
     "text": [
      "mkdir: cannot create directory ‘recbox_data’: File exists\n"
     ]
    }
   ],
   "source": [
    "!mkdir recbox_data"
   ]
  },
  {
   "cell_type": "code",
   "execution_count": 328,
   "id": "10a0df0e-0800-466e-8a57-9359d670f336",
   "metadata": {},
   "outputs": [],
   "source": [
    "recbole_df.to_csv('recbox_data/recbox_data.inter', index=False, sep='\\t')"
   ]
  },
  {
   "cell_type": "markdown",
   "id": "325ce523-89fa-4192-99ac-7302fe65cabf",
   "metadata": {},
   "source": [
    "### Конфиг для Recbole"
   ]
  },
  {
   "cell_type": "code",
   "execution_count": 338,
   "id": "0691e67c-ec2c-4376-9859-1b0b569414ba",
   "metadata": {},
   "outputs": [],
   "source": [
    "parameter_dict = {\n",
    "    'data_path': '',\n",
    "    'USER_ID_FIELD': 'user_id',\n",
    "    'ITEM_ID_FIELD': 'item_id',\n",
    "    'TIME_FIELD': 'timestamp',\n",
    "    'device': 'CPU',\n",
    "    'user_inter_num_interval': \"[40,inf)\",\n",
    "    'item_inter_num_interval': \"[40,inf)\",\n",
    "    'load_col': {'inter': ['user_id', 'item_id', 'timestamp']},\n",
    "    'neg_sampling': None,\n",
    "    'train_neg_sample_args': None,\n",
    "    'epochs': 10,\n",
    "    'eval_args': {\n",
    "        'split': {'RS': [9, 0, 1]},\n",
    "        'group_by': 'user',\n",
    "        'order': 'TO',\n",
    "        'mode': 'full'\n",
    "    },\n",
    "    'metrics': ['MAP', 'ItemCoverage', 'AveragePopularity']\n",
    "}"
   ]
  },
  {
   "cell_type": "markdown",
   "id": "61bffafe-7227-4fc0-a0ae-f08157232fdd",
   "metadata": {},
   "source": [
    "### Эксперименты с разными моделями (2 балла)"
   ]
  },
  {
   "cell_type": "code",
   "execution_count": 332,
   "id": "54728e63-e4df-450b-b7b9-74f53dc54c8f",
   "metadata": {},
   "outputs": [
    {
     "name": "stderr",
     "output_type": "stream",
     "text": [
      "19 Dec 08:52    INFO  ['/opt/conda/lib/python3.10/site-packages/ipykernel_launcher.py', '-f', '/home/jovyan/.local/share/jupyter/runtime/kernel-1c288f33-ef01-4fa5-a243-e411b426aea2.json']\n",
      "19 Dec 08:52    INFO  \n",
      "General Hyper Parameters:\n",
      "gpu_id = 0\n",
      "use_gpu = True\n",
      "seed = 2020\n",
      "state = INFO\n",
      "reproducibility = True\n",
      "data_path = recbox_data\n",
      "checkpoint_dir = saved\n",
      "show_progress = True\n",
      "save_dataset = False\n",
      "dataset_save_path = None\n",
      "save_dataloaders = False\n",
      "dataloaders_save_path = None\n",
      "log_wandb = False\n",
      "\n",
      "Training Hyper Parameters:\n",
      "epochs = 10\n",
      "train_batch_size = 2048\n",
      "learner = adam\n",
      "learning_rate = 0.001\n",
      "train_neg_sample_args = {'distribution': 'none', 'sample_num': 'none', 'alpha': 'none', 'dynamic': False, 'candidate_num': 0}\n",
      "eval_step = 1\n",
      "stopping_step = 10\n",
      "clip_grad_norm = None\n",
      "weight_decay = 0.0\n",
      "loss_decimal_place = 4\n",
      "\n",
      "Evaluation Hyper Parameters:\n",
      "eval_args = {'split': {'RS': [9, 0, 1]}, 'order': 'TO', 'group_by': 'user', 'mode': {'valid': 'full', 'test': 'full'}}\n",
      "repeatable = False\n",
      "metrics = ['MAP', 'ItemCoverage', 'AveragePopularity']\n",
      "topk = [10]\n",
      "valid_metric = MRR@10\n",
      "valid_metric_bigger = True\n",
      "eval_batch_size = 4096\n",
      "metric_decimal_place = 4\n",
      "\n",
      "Dataset Hyper Parameters:\n",
      "field_separator = \t\n",
      "seq_separator =  \n",
      "USER_ID_FIELD = user_id\n",
      "ITEM_ID_FIELD = item_id\n",
      "RATING_FIELD = rating\n",
      "TIME_FIELD = timestamp\n",
      "seq_len = None\n",
      "LABEL_FIELD = label\n",
      "threshold = None\n",
      "NEG_PREFIX = neg_\n",
      "load_col = {'inter': ['user_id', 'item_id', 'timestamp']}\n",
      "unload_col = None\n",
      "unused_col = None\n",
      "additional_feat_suffix = None\n",
      "rm_dup_inter = None\n",
      "val_interval = None\n",
      "filter_inter_by_user_or_item = True\n",
      "user_inter_num_interval = [40,inf)\n",
      "item_inter_num_interval = [40,inf)\n",
      "alias_of_user_id = None\n",
      "alias_of_item_id = None\n",
      "alias_of_entity_id = None\n",
      "alias_of_relation_id = None\n",
      "preload_weight = None\n",
      "normalize_field = None\n",
      "normalize_all = None\n",
      "ITEM_LIST_LENGTH_FIELD = item_length\n",
      "LIST_SUFFIX = _list\n",
      "MAX_ITEM_LIST_LENGTH = 50\n",
      "POSITION_FIELD = position_id\n",
      "HEAD_ENTITY_ID_FIELD = head_id\n",
      "TAIL_ENTITY_ID_FIELD = tail_id\n",
      "RELATION_ID_FIELD = relation_id\n",
      "ENTITY_ID_FIELD = entity_id\n",
      "benchmark_filename = None\n",
      "\n",
      "Other Hyper Parameters: \n",
      "worker = 0\n",
      "wandb_project = recbole\n",
      "shuffle = True\n",
      "require_pow = False\n",
      "enable_amp = False\n",
      "enable_scaler = False\n",
      "transform = None\n",
      "numerical_features = []\n",
      "discretization = None\n",
      "kg_reverse_r = False\n",
      "entity_kg_num_interval = [0,inf)\n",
      "relation_kg_num_interval = [0,inf)\n",
      "MODEL_TYPE = ModelType.TRADITIONAL\n",
      "device = cpu\n",
      "neg_sampling = None\n",
      "MODEL_INPUT_TYPE = InputType.POINTWISE\n",
      "eval_type = EvaluatorType.RANKING\n",
      "single_spec = True\n",
      "local_rank = 0\n",
      "valid_neg_sample_args = {'distribution': 'uniform', 'sample_num': 'none'}\n",
      "test_neg_sample_args = {'distribution': 'uniform', 'sample_num': 'none'}\n",
      "\n",
      "\n",
      "19 Dec 08:53    INFO  recbox_data\n",
      "The number of users: 13355\n",
      "Average actions of users: 63.815710648494836\n",
      "The number of items: 3294\n",
      "Average actions of items: 258.78985727300335\n",
      "The number of inters: 852195\n",
      "The sparsity of the dataset: 98.06281322904924%\n",
      "Remain Fields: ['user_id', 'item_id', 'timestamp']\n",
      "19 Dec 08:53    INFO  [Training]: train_batch_size = [2048] train_neg_sample_args: [{'distribution': 'none', 'sample_num': 'none', 'alpha': 'none', 'dynamic': False, 'candidate_num': 0}]\n",
      "19 Dec 08:53    INFO  [Evaluation]: eval_batch_size = [4096] eval_args: [{'split': {'RS': [9, 0, 1]}, 'order': 'TO', 'group_by': 'user', 'mode': {'valid': 'full', 'test': 'full'}}]\n",
      "19 Dec 08:53    INFO  Pop()\n",
      "Trainable parameters: 1\n",
      "19 Dec 08:53    INFO  FLOPs: 1\n",
      "Train     0:   0%|                                                          | 0/378 [00:00<?, ?it/s]:  10%|████▌                                           | 36/378 [00:00<00:00, 354.21it/s]:  24%|███████████▌                                    | 91/378 [00:00<00:00, 464.34it/s]:  38%|█████████████████▊                             | 143/378 [00:00<00:00, 487.82it/s]:  51%|████████████████████████                       | 194/378 [00:00<00:00, 495.97it/s]:  65%|██████████████████████████████▍                | 245/378 [00:00<00:00, 498.32it/s]:  78%|████████████████████████████████████▊          | 296/378 [00:00<00:00, 500.30it/s]:  92%|███████████████████████████████████████████▏   | 347/378 [00:00<00:00, 502.36it/s]: 100%|███████████████████████████████████████████████| 378/378 [00:00<00:00, 475.28it/s]\n",
      "19 Dec 08:53    INFO  epoch 0 training [time: 0.80s, train loss: 0.0000]\n",
      "19 Dec 08:53    INFO  Saving current: saved/Pop-Dec-19-2023_08-53-17.pth\n",
      "19 Dec 08:53    INFO  Loading model structure and parameters from saved/Pop-Dec-19-2023_08-53-17.pth\n",
      "Evaluate   :   0%|                                                        | 0/13354 [00:00<?, ?it/s]:   3%|█▌                                          | 456/13354 [00:00<00:02, 4555.83it/s]:   7%|███                                         | 917/13354 [00:00<00:02, 4587.16it/s]:  10%|████▍                                      | 1376/13354 [00:00<00:02, 4343.47it/s]:  14%|█████▉                                     | 1828/13354 [00:00<00:02, 4409.90it/s]:  17%|███████▎                                   | 2290/13354 [00:00<00:02, 4480.69it/s]:  21%|████████▊                                  | 2747/13354 [00:00<00:02, 4507.84it/s]:  24%|██████████▎                                | 3199/13354 [00:00<00:02, 4343.86it/s]:  27%|███████████▋                               | 3635/13354 [00:00<00:02, 4070.42it/s]:  30%|█████████████                              | 4046/13354 [00:00<00:02, 3906.67it/s]:  33%|██████████████▎                            | 4440/13354 [00:01<00:02, 3590.05it/s]:  36%|███████████████▍                           | 4805/13354 [00:01<00:02, 3604.60it/s]:  39%|████████████████▋                          | 5170/13354 [00:01<00:02, 3570.31it/s]:  41%|█████████████████▊                         | 5530/13354 [00:01<00:02, 3517.37it/s]:  44%|██████████████████▉                        | 5884/13354 [00:01<00:02, 3457.74it/s]:  47%|████████████████████                       | 6231/13354 [00:01<00:02, 3414.05it/s]:  49%|█████████████████████▏                     | 6588/13354 [00:01<00:01, 3457.55it/s]:  52%|██████████████████████▍                    | 6963/13354 [00:01<00:01, 3541.69it/s]:  55%|███████████████████████▌                   | 7318/13354 [00:01<00:01, 3514.98it/s]:  58%|████████████████████████▊                  | 7695/13354 [00:02<00:01, 3588.50it/s]:  60%|█████████████████████████▉                 | 8055/13354 [00:02<00:01, 3387.39it/s]:  63%|███████████████████████████                | 8397/13354 [00:02<00:01, 3348.18it/s]:  65%|████████████████████████████               | 8734/13354 [00:02<00:01, 3338.03it/s]:  68%|█████████████████████████████▎             | 9107/13354 [00:02<00:01, 3448.41it/s]:  71%|██████████████████████████████▍            | 9454/13354 [00:02<00:01, 3377.23it/s]:  73%|███████████████████████████████▌           | 9793/13354 [00:02<00:01, 3347.90it/s]:  76%|███████████████████████████████▉          | 10155/13354 [00:02<00:00, 3424.56it/s]:  79%|█████████████████████████████████         | 10499/13354 [00:02<00:00, 3402.32it/s]:  81%|██████████████████████████████████        | 10840/13354 [00:02<00:00, 3303.98it/s]:  84%|███████████████████████████████████▏      | 11172/13354 [00:03<00:00, 3236.22it/s]:  86%|████████████████████████████████████▎     | 11539/13354 [00:03<00:00, 3359.58it/s]:  89%|█████████████████████████████████████▍    | 11902/13354 [00:03<00:00, 3435.96it/s]:  92%|██████████████████████████████████████▌   | 12278/13354 [00:03<00:00, 3529.81it/s]:  95%|███████████████████████████████████████▊  | 12649/13354 [00:03<00:00, 3580.80it/s]:  97%|████████████████████████████████████████▉ | 13008/13354 [00:03<00:00, 3395.81it/s]: 100%|█████████████████████████████████████████▉| 13350/13354 [00:03<00:00, 3253.84it/s]: 100%|██████████████████████████████████████████| 13354/13354 [00:03<00:00, 3589.06it/s]\n",
      "19 Dec 08:53    INFO  The running environment of this training is as follows:\n",
      "+-------------+----------------+\n",
      "| Environment |     Usage      |\n",
      "+=============+================+\n",
      "| CPU         |     0.00 %     |\n",
      "+-------------+----------------+\n",
      "| GPU         |   0.0 / 0.0    |\n",
      "+-------------+----------------+\n",
      "| Memory      | 5.22 G/15.58 G |\n",
      "+-------------+----------------+\n",
      "19 Dec 08:53    INFO  best valid : None\n",
      "19 Dec 08:53    INFO  test result: OrderedDict([('map@10', 0.0189), ('itemcoverage@10', 0.0112), ('averagepopularity@10', 3254.4746)])\n",
      "19 Dec 08:53    INFO  ['/opt/conda/lib/python3.10/site-packages/ipykernel_launcher.py', '-f', '/home/jovyan/.local/share/jupyter/runtime/kernel-1c288f33-ef01-4fa5-a243-e411b426aea2.json']\n",
      "19 Dec 08:53    INFO  \n",
      "General Hyper Parameters:\n",
      "gpu_id = 0\n",
      "use_gpu = True\n",
      "seed = 2020\n",
      "state = INFO\n",
      "reproducibility = True\n",
      "data_path = recbox_data\n",
      "checkpoint_dir = saved\n",
      "show_progress = True\n",
      "save_dataset = False\n",
      "dataset_save_path = None\n",
      "save_dataloaders = False\n",
      "dataloaders_save_path = None\n",
      "log_wandb = False\n",
      "\n",
      "Training Hyper Parameters:\n",
      "epochs = 10\n",
      "train_batch_size = 2048\n",
      "learner = adam\n",
      "learning_rate = 0.001\n",
      "train_neg_sample_args = {'distribution': 'none', 'sample_num': 'none', 'alpha': 'none', 'dynamic': False, 'candidate_num': 0}\n",
      "eval_step = 1\n",
      "stopping_step = 10\n",
      "clip_grad_norm = None\n",
      "weight_decay = 0.0\n",
      "loss_decimal_place = 4\n",
      "\n",
      "Evaluation Hyper Parameters:\n",
      "eval_args = {'split': {'RS': [9, 0, 1]}, 'order': 'TO', 'group_by': 'user', 'mode': {'valid': 'full', 'test': 'full'}}\n",
      "repeatable = False\n",
      "metrics = ['MAP', 'ItemCoverage', 'AveragePopularity']\n",
      "topk = [10]\n",
      "valid_metric = MRR@10\n",
      "valid_metric_bigger = True\n",
      "eval_batch_size = 4096\n",
      "metric_decimal_place = 4\n",
      "\n",
      "Dataset Hyper Parameters:\n",
      "field_separator = \t\n",
      "seq_separator =  \n",
      "USER_ID_FIELD = user_id\n",
      "ITEM_ID_FIELD = item_id\n",
      "RATING_FIELD = rating\n",
      "TIME_FIELD = timestamp\n",
      "seq_len = None\n",
      "LABEL_FIELD = label\n",
      "threshold = None\n",
      "NEG_PREFIX = neg_\n",
      "load_col = {'inter': ['user_id', 'item_id', 'timestamp']}\n",
      "unload_col = None\n",
      "unused_col = None\n",
      "additional_feat_suffix = None\n",
      "rm_dup_inter = None\n",
      "val_interval = None\n",
      "filter_inter_by_user_or_item = True\n",
      "user_inter_num_interval = [40,inf)\n",
      "item_inter_num_interval = [40,inf)\n",
      "alias_of_user_id = None\n",
      "alias_of_item_id = None\n",
      "alias_of_entity_id = None\n",
      "alias_of_relation_id = None\n",
      "preload_weight = None\n",
      "normalize_field = None\n",
      "normalize_all = None\n",
      "ITEM_LIST_LENGTH_FIELD = item_length\n",
      "LIST_SUFFIX = _list\n",
      "MAX_ITEM_LIST_LENGTH = 50\n",
      "POSITION_FIELD = position_id\n",
      "HEAD_ENTITY_ID_FIELD = head_id\n",
      "TAIL_ENTITY_ID_FIELD = tail_id\n",
      "RELATION_ID_FIELD = relation_id\n",
      "ENTITY_ID_FIELD = entity_id\n",
      "benchmark_filename = None\n",
      "\n",
      "Other Hyper Parameters: \n",
      "worker = 0\n",
      "wandb_project = recbole\n",
      "shuffle = True\n",
      "require_pow = False\n",
      "enable_amp = False\n",
      "enable_scaler = False\n",
      "transform = None\n",
      "mlp_hidden_size = [600]\n",
      "latent_dimension = 64\n",
      "dropout_prob = 0.5\n",
      "numerical_features = []\n",
      "discretization = None\n",
      "kg_reverse_r = False\n",
      "entity_kg_num_interval = [0,inf)\n",
      "relation_kg_num_interval = [0,inf)\n",
      "MODEL_TYPE = ModelType.GENERAL\n",
      "device = cpu\n",
      "neg_sampling = None\n",
      "MODEL_INPUT_TYPE = InputType.PAIRWISE\n",
      "eval_type = EvaluatorType.RANKING\n",
      "single_spec = True\n",
      "local_rank = 0\n",
      "valid_neg_sample_args = {'distribution': 'uniform', 'sample_num': 'none'}\n",
      "test_neg_sample_args = {'distribution': 'uniform', 'sample_num': 'none'}\n",
      "\n",
      "\n",
      "19 Dec 08:53    INFO  recbox_data\n",
      "The number of users: 13355\n",
      "Average actions of users: 63.815710648494836\n",
      "The number of items: 3294\n",
      "Average actions of items: 258.78985727300335\n",
      "The number of inters: 852195\n",
      "The sparsity of the dataset: 98.06281322904924%\n",
      "Remain Fields: ['user_id', 'item_id', 'timestamp']\n",
      "19 Dec 08:53    INFO  [Training]: train_batch_size = [2048] train_neg_sample_args: [{'distribution': 'none', 'sample_num': 'none', 'alpha': 'none', 'dynamic': False, 'candidate_num': 0}]\n",
      "19 Dec 08:53    INFO  [Evaluation]: eval_batch_size = [4096] eval_args: [{'split': {'RS': [9, 0, 1]}, 'order': 'TO', 'group_by': 'user', 'mode': {'valid': 'full', 'test': 'full'}}]\n",
      "19 Dec 08:53    WARNING  Max value of user's history interaction records has reached 20.9471766848816% of the total.\n",
      "19 Dec 08:53    INFO  MultiDAE(\n",
      "  (encoder): MLPLayers(\n",
      "    (mlp_layers): Sequential(\n",
      "      (0): Dropout(p=0.0, inplace=False)\n",
      "      (1): Linear(in_features=3294, out_features=600, bias=True)\n",
      "      (2): Tanh()\n",
      "      (3): Dropout(p=0.0, inplace=False)\n",
      "      (4): Linear(in_features=600, out_features=64, bias=True)\n",
      "      (5): Tanh()\n",
      "    )\n",
      "  )\n",
      "  (decoder): Sequential(\n",
      "    (0): Linear(in_features=64, out_features=600, bias=True)\n",
      "    (1): Tanh()\n",
      "    (2): Linear(in_features=600, out_features=3294, bias=True)\n",
      "  )\n",
      ")\n",
      "Trainable parameters: 4034158\n",
      "19 Dec 08:53    INFO  FLOPs: 4029600.0\n",
      "Train     0:   0%|                                                            | 0/7 [00:00<?, ?it/s]:  14%|███████▍                                            | 1/7 [00:00<00:01,  4.80it/s]:  29%|██████████████▊                                     | 2/7 [00:00<00:01,  4.93it/s]:  43%|██████████████████████▎                             | 3/7 [00:00<00:00,  5.01it/s]:  57%|█████████████████████████████▋                      | 4/7 [00:00<00:00,  5.08it/s]:  71%|█████████████████████████████████████▏              | 5/7 [00:00<00:00,  5.09it/s]:  86%|████████████████████████████████████████████▌       | 6/7 [00:01<00:00,  5.08it/s]: 100%|████████████████████████████████████████████████████| 7/7 [00:01<00:00,  5.85it/s]: 100%|████████████████████████████████████████████████████| 7/7 [00:01<00:00,  5.35it/s]\n",
      "19 Dec 08:53    INFO  epoch 0 training [time: 1.32s, train loss: 3248.4974]\n",
      "19 Dec 08:53    INFO  Saving current: saved/MultiDAE-Dec-19-2023_08-53-47.pth\n",
      "Train     1:   0%|                                                            | 0/7 [00:00<?, ?it/s]:  14%|███████▍                                            | 1/7 [00:00<00:01,  5.45it/s]:  29%|██████████████▊                                     | 2/7 [00:00<00:00,  5.33it/s]:  43%|██████████████████████▎                             | 3/7 [00:00<00:00,  5.43it/s]:  57%|█████████████████████████████▋                      | 4/7 [00:00<00:00,  5.19it/s]:  71%|█████████████████████████████████████▏              | 5/7 [00:00<00:00,  5.28it/s]:  86%|████████████████████████████████████████████▌       | 6/7 [00:01<00:00,  5.21it/s]: 100%|████████████████████████████████████████████████████| 7/7 [00:01<00:00,  6.05it/s]: 100%|████████████████████████████████████████████████████| 7/7 [00:01<00:00,  5.58it/s]\n",
      "19 Dec 08:53    INFO  epoch 1 training [time: 1.26s, train loss: 3093.6642]\n",
      "19 Dec 08:53    INFO  Saving current: saved/MultiDAE-Dec-19-2023_08-53-47.pth\n",
      "Train     2:   0%|                                                            | 0/7 [00:00<?, ?it/s]:  14%|███████▍                                            | 1/7 [00:00<00:01,  5.03it/s]:  29%|██████████████▊                                     | 2/7 [00:00<00:00,  5.23it/s]:  43%|██████████████████████▎                             | 3/7 [00:00<00:00,  5.27it/s]:  57%|█████████████████████████████▋                      | 4/7 [00:00<00:00,  5.37it/s]:  71%|█████████████████████████████████████▏              | 5/7 [00:00<00:00,  5.36it/s]:  86%|████████████████████████████████████████████▌       | 6/7 [00:01<00:00,  5.26it/s]: 100%|████████████████████████████████████████████████████| 7/7 [00:01<00:00,  5.98it/s]: 100%|████████████████████████████████████████████████████| 7/7 [00:01<00:00,  5.55it/s]\n",
      "19 Dec 08:53    INFO  epoch 2 training [time: 1.27s, train loss: 3038.2049]\n",
      "19 Dec 08:53    INFO  Saving current: saved/MultiDAE-Dec-19-2023_08-53-47.pth\n",
      "Train     3:   0%|                                                            | 0/7 [00:00<?, ?it/s]:  14%|███████▍                                            | 1/7 [00:00<00:01,  4.95it/s]:  29%|██████████████▊                                     | 2/7 [00:00<00:00,  5.07it/s]:  43%|██████████████████████▎                             | 3/7 [00:00<00:00,  4.89it/s]:  57%|█████████████████████████████▋                      | 4/7 [00:00<00:00,  5.05it/s]:  71%|█████████████████████████████████████▏              | 5/7 [00:00<00:00,  5.16it/s]:  86%|████████████████████████████████████████████▌       | 6/7 [00:01<00:00,  5.24it/s]: 100%|████████████████████████████████████████████████████| 7/7 [00:01<00:00,  5.52it/s]\n",
      "19 Dec 08:53    INFO  epoch 3 training [time: 1.27s, train loss: 2998.2585]\n",
      "19 Dec 08:53    INFO  Saving current: saved/MultiDAE-Dec-19-2023_08-53-47.pth\n",
      "Train     4:   0%|                                                            | 0/7 [00:00<?, ?it/s]:  14%|███████▍                                            | 1/7 [00:00<00:01,  5.46it/s]:  29%|██████████████▊                                     | 2/7 [00:00<00:00,  5.46it/s]:  43%|██████████████████████▎                             | 3/7 [00:00<00:00,  5.48it/s]:  57%|█████████████████████████████▋                      | 4/7 [00:00<00:00,  5.36it/s]:  71%|█████████████████████████████████████▏              | 5/7 [00:00<00:00,  5.37it/s]:  86%|████████████████████████████████████████████▌       | 6/7 [00:01<00:00,  5.39it/s]: 100%|████████████████████████████████████████████████████| 7/7 [00:01<00:00,  6.34it/s]: 100%|████████████████████████████████████████████████████| 7/7 [00:01<00:00,  5.77it/s]\n",
      "19 Dec 08:53    INFO  epoch 4 training [time: 1.22s, train loss: 2949.4852]\n",
      "19 Dec 08:53    INFO  Saving current: saved/MultiDAE-Dec-19-2023_08-53-47.pth\n",
      "Train     5:   0%|                                                            | 0/7 [00:00<?, ?it/s]:  14%|███████▍                                            | 1/7 [00:00<00:01,  5.37it/s]:  29%|██████████████▊                                     | 2/7 [00:00<00:00,  5.36it/s]:  43%|██████████████████████▎                             | 3/7 [00:00<00:00,  5.29it/s]:  57%|█████████████████████████████▋                      | 4/7 [00:00<00:00,  5.32it/s]:  71%|█████████████████████████████████████▏              | 5/7 [00:00<00:00,  5.32it/s]:  86%|████████████████████████████████████████████▌       | 6/7 [00:01<00:00,  5.26it/s]: 100%|████████████████████████████████████████████████████| 7/7 [00:01<00:00,  6.12it/s]: 100%|████████████████████████████████████████████████████| 7/7 [00:01<00:00,  5.62it/s]\n",
      "19 Dec 08:53    INFO  epoch 5 training [time: 1.25s, train loss: 2927.9620]\n",
      "19 Dec 08:53    INFO  Saving current: saved/MultiDAE-Dec-19-2023_08-53-47.pth\n",
      "Train     6:   0%|                                                            | 0/7 [00:00<?, ?it/s]:  14%|███████▍                                            | 1/7 [00:00<00:01,  5.11it/s]:  29%|██████████████▊                                     | 2/7 [00:00<00:01,  4.13it/s]:  43%|██████████████████████▎                             | 3/7 [00:00<00:00,  4.42it/s]:  57%|█████████████████████████████▋                      | 4/7 [00:00<00:00,  4.70it/s]:  71%|█████████████████████████████████████▏              | 5/7 [00:01<00:00,  4.79it/s]:  86%|████████████████████████████████████████████▌       | 6/7 [00:01<00:00,  4.98it/s]: 100%|████████████████████████████████████████████████████| 7/7 [00:01<00:00,  5.96it/s]: 100%|████████████████████████████████████████████████████| 7/7 [00:01<00:00,  5.15it/s]\n",
      "19 Dec 08:53    INFO  epoch 6 training [time: 1.37s, train loss: 2902.7534]\n",
      "19 Dec 08:53    INFO  Saving current: saved/MultiDAE-Dec-19-2023_08-53-47.pth\n",
      "Train     7:   0%|                                                            | 0/7 [00:00<?, ?it/s]:  14%|███████▍                                            | 1/7 [00:00<00:01,  5.47it/s]:  29%|██████████████▊                                     | 2/7 [00:00<00:00,  5.40it/s]:  43%|██████████████████████▎                             | 3/7 [00:00<00:00,  5.34it/s]:  57%|█████████████████████████████▋                      | 4/7 [00:00<00:00,  5.30it/s]:  71%|█████████████████████████████████████▏              | 5/7 [00:00<00:00,  5.34it/s]:  86%|████████████████████████████████████████████▌       | 6/7 [00:01<00:00,  5.38it/s]: 100%|████████████████████████████████████████████████████| 7/7 [00:01<00:00,  6.33it/s]: 100%|████████████████████████████████████████████████████| 7/7 [00:01<00:00,  5.73it/s]\n",
      "19 Dec 08:53    INFO  epoch 7 training [time: 1.23s, train loss: 2890.9279]\n",
      "19 Dec 08:53    INFO  Saving current: saved/MultiDAE-Dec-19-2023_08-53-47.pth\n",
      "Train     8:   0%|                                                            | 0/7 [00:00<?, ?it/s]:  14%|███████▍                                            | 1/7 [00:00<00:01,  5.34it/s]:  29%|██████████████▊                                     | 2/7 [00:00<00:00,  5.38it/s]:  43%|██████████████████████▎                             | 3/7 [00:00<00:00,  5.33it/s]:  57%|█████████████████████████████▋                      | 4/7 [00:00<00:00,  5.11it/s]:  71%|█████████████████████████████████████▏              | 5/7 [00:00<00:00,  5.01it/s]:  86%|████████████████████████████████████████████▌       | 6/7 [00:01<00:00,  5.12it/s]: 100%|████████████████████████████████████████████████████| 7/7 [00:01<00:00,  6.05it/s]: 100%|████████████████████████████████████████████████████| 7/7 [00:01<00:00,  5.51it/s]\n",
      "19 Dec 08:54    INFO  epoch 8 training [time: 1.28s, train loss: 2882.6920]\n",
      "19 Dec 08:54    INFO  Saving current: saved/MultiDAE-Dec-19-2023_08-53-47.pth\n",
      "Train     9:   0%|                                                            | 0/7 [00:00<?, ?it/s]:  14%|███████▍                                            | 1/7 [00:00<00:01,  5.35it/s]:  29%|██████████████▊                                     | 2/7 [00:00<00:00,  5.04it/s]:  43%|██████████████████████▎                             | 3/7 [00:00<00:00,  5.23it/s]:  57%|█████████████████████████████▋                      | 4/7 [00:00<00:00,  5.31it/s]:  71%|█████████████████████████████████████▏              | 5/7 [00:00<00:00,  5.33it/s]:  86%|████████████████████████████████████████████▌       | 6/7 [00:01<00:00,  5.35it/s]: 100%|████████████████████████████████████████████████████| 7/7 [00:01<00:00,  6.27it/s]: 100%|████████████████████████████████████████████████████| 7/7 [00:01<00:00,  5.66it/s]\n",
      "19 Dec 08:54    INFO  epoch 9 training [time: 1.24s, train loss: 2867.6552]\n",
      "19 Dec 08:54    INFO  Saving current: saved/MultiDAE-Dec-19-2023_08-53-47.pth\n",
      "19 Dec 08:54    INFO  Loading model structure and parameters from saved/MultiDAE-Dec-19-2023_08-53-47.pth\n",
      "Evaluate   :   0%|                                                        | 0/13354 [00:00<?, ?it/s]:   1%|▍                                           | 126/13354 [00:00<00:10, 1259.84it/s]:   2%|▊                                           | 252/13354 [00:00<00:12, 1078.70it/s]:   3%|█▎                                          | 382/13354 [00:00<00:11, 1169.42it/s]:   4%|█▋                                          | 517/13354 [00:00<00:10, 1235.45it/s]:   5%|██▏                                         | 651/13354 [00:00<00:09, 1271.62it/s]:   6%|██▌                                         | 781/13354 [00:00<00:09, 1278.75it/s]:   7%|██▉                                         | 910/13354 [00:00<00:09, 1254.42it/s]:   8%|███▎                                       | 1038/13354 [00:00<00:09, 1261.84it/s]:   9%|███▊                                       | 1173/13354 [00:00<00:09, 1288.63it/s]:  10%|████▏                                      | 1307/13354 [00:01<00:09, 1301.80it/s]:  11%|████▋                                      | 1440/13354 [00:01<00:09, 1308.32it/s]:  12%|█████                                      | 1575/13354 [00:01<00:08, 1318.29it/s]:  13%|█████▍                                     | 1707/13354 [00:01<00:09, 1256.91it/s]:  14%|█████▉                                     | 1834/13354 [00:01<00:09, 1213.72it/s]:  15%|██████▎                                    | 1957/13354 [00:01<00:10, 1060.04it/s]:  16%|██████▋                                    | 2076/13354 [00:01<00:10, 1093.67it/s]:  17%|███████                                    | 2211/13354 [00:01<00:09, 1162.51it/s]:  18%|███████▌                                   | 2342/13354 [00:01<00:09, 1203.10it/s]:  19%|███████▉                                   | 2474/13354 [00:02<00:08, 1236.09it/s]:  20%|████████▍                                  | 2607/13354 [00:02<00:08, 1262.03it/s]:  21%|████████▊                                  | 2740/13354 [00:02<00:08, 1280.00it/s]:  21%|█████████▏                                 | 2869/13354 [00:02<00:08, 1277.98it/s]:  22%|█████████▋                                 | 2998/13354 [00:02<00:08, 1265.36it/s]:  23%|██████████                                 | 3126/13354 [00:02<00:08, 1237.06it/s]:  24%|██████████▍                                | 3251/13354 [00:02<00:08, 1215.49it/s]:  25%|██████████▊                                | 3376/13354 [00:02<00:08, 1225.19it/s]:  26%|███████████▎                               | 3499/13354 [00:02<00:08, 1204.17it/s]:  27%|███████████▋                               | 3628/13354 [00:02<00:07, 1228.71it/s]:  28%|████████████                               | 3752/13354 [00:03<00:08, 1176.89it/s]:  29%|████████████▍                              | 3871/13354 [00:03<00:08, 1177.08it/s]:  30%|████████████▊                              | 3990/13354 [00:03<00:08, 1154.96it/s]:  31%|█████████████▏                             | 4106/13354 [00:03<00:08, 1132.88it/s]:  32%|█████████████▌                             | 4220/13354 [00:03<00:08, 1123.97it/s]:  33%|██████████████                             | 4348/13354 [00:03<00:07, 1167.11it/s]:  33%|██████████████▍                            | 4468/13354 [00:03<00:07, 1174.51it/s]:  34%|██████████████▊                            | 4586/13354 [00:03<00:08, 1083.73it/s]:  35%|███████████████▏                           | 4700/13354 [00:03<00:07, 1099.03it/s]:  36%|███████████████▌                           | 4817/13354 [00:04<00:07, 1117.87it/s]:  37%|███████████████▊                           | 4930/13354 [00:04<00:07, 1103.39it/s]:  38%|████████████████▏                          | 5043/13354 [00:04<00:07, 1110.41it/s]:  39%|████████████████▌                          | 5157/13354 [00:04<00:07, 1117.55it/s]:  39%|████████████████▉                          | 5274/13354 [00:04<00:07, 1132.15it/s]:  40%|█████████████████▎                         | 5388/13354 [00:04<00:07, 1130.01it/s]:  41%|█████████████████▋                         | 5508/13354 [00:04<00:06, 1150.42it/s]:  42%|██████████████████▏                        | 5630/13354 [00:04<00:06, 1170.06it/s]:  43%|██████████████████▌                        | 5754/13354 [00:04<00:06, 1188.86it/s]:  44%|██████████████████▉                        | 5873/13354 [00:04<00:06, 1187.68it/s]:  45%|███████████████████▎                       | 5992/13354 [00:05<00:06, 1151.06it/s]:  46%|███████████████████▋                       | 6108/13354 [00:05<00:06, 1152.16it/s]:  47%|████████████████████                       | 6224/13354 [00:05<00:06, 1119.93it/s]:  47%|████████████████████▍                      | 6337/13354 [00:05<00:06, 1049.86it/s]:  48%|████████████████████▊                      | 6445/13354 [00:05<00:06, 1055.80it/s]:  49%|█████████████████████▏                     | 6561/13354 [00:05<00:06, 1085.17it/s]:  50%|█████████████████████▌                     | 6682/13354 [00:05<00:05, 1119.17it/s]:  51%|█████████████████████▉                     | 6795/13354 [00:05<00:06, 1079.49it/s]:  52%|██████████████████████▎                    | 6917/13354 [00:05<00:05, 1118.74it/s]:  53%|██████████████████████▋                    | 7038/13354 [00:05<00:05, 1143.72it/s]:  54%|███████████████████████                    | 7153/13354 [00:06<00:05, 1103.36it/s]:  54%|███████████████████████▍                   | 7271/13354 [00:06<00:05, 1125.14it/s]:  55%|███████████████████████▊                   | 7385/13354 [00:06<00:05, 1124.66it/s]:  56%|████████████████████████▏                  | 7498/13354 [00:06<00:05, 1121.79it/s]:  57%|████████████████████████▌                  | 7611/13354 [00:06<00:05, 1118.92it/s]:  58%|████████████████████████▊                  | 7724/13354 [00:06<00:05, 1079.34it/s]:  59%|█████████████████████████▏                 | 7833/13354 [00:06<00:05, 1005.98it/s]:  59%|██████████████████████████▏                 | 7935/13354 [00:06<00:05, 939.70it/s]:  60%|█████████████████████████▉                 | 8055/13354 [00:06<00:05, 1008.67it/s]:  61%|██████████████████████████▎                | 8159/13354 [00:07<00:05, 1016.00it/s]:  62%|██████████████████████████▋                | 8277/13354 [00:07<00:04, 1062.15it/s]:  63%|██████████████████████████▉                | 8385/13354 [00:07<00:04, 1045.96it/s]:  64%|███████████████████████████▎               | 8496/13354 [00:07<00:04, 1062.66it/s]:  64%|███████████████████████████▋               | 8603/13354 [00:07<00:04, 1031.74it/s]:  65%|████████████████████████████               | 8707/13354 [00:07<00:04, 1013.63it/s]:  66%|████████████████████████████▎              | 8809/13354 [00:07<00:04, 1005.22it/s]:  67%|████████████████████████████▋              | 8915/13354 [00:07<00:04, 1020.46it/s]:  68%|█████████████████████████████              | 9025/13354 [00:07<00:04, 1042.37it/s]:  68%|█████████████████████████████▍             | 9131/13354 [00:08<00:04, 1046.44it/s]:  69%|█████████████████████████████▊             | 9240/13354 [00:08<00:03, 1058.34it/s]:  70%|██████████████████████████████             | 9346/13354 [00:08<00:03, 1038.12it/s]:  71%|██████████████████████████████▍            | 9450/13354 [00:08<00:03, 1015.17it/s]:  72%|██████████████████████████████▊            | 9553/13354 [00:08<00:03, 1018.61it/s]:  72%|███████████████████████████████▊            | 9655/13354 [00:08<00:03, 997.98it/s]:  73%|████████████████████████████████▏           | 9755/13354 [00:08<00:04, 810.57it/s]:  74%|████████████████████████████████▍           | 9853/13354 [00:08<00:04, 852.04it/s]:  75%|████████████████████████████████▊           | 9964/13354 [00:08<00:03, 920.14it/s]:  75%|████████████████████████████████▍          | 10073/13354 [00:09<00:03, 965.34it/s]:  76%|████████████████████████████████▊          | 10179/13354 [00:09<00:03, 990.65it/s]:  77%|█████████████████████████████████          | 10281/13354 [00:09<00:03, 983.55it/s]:  78%|████████████████████████████████▋         | 10393/13354 [00:09<00:02, 1021.92it/s]:  79%|█████████████████████████████████▊         | 10497/13354 [00:09<00:02, 994.76it/s]:  79%|█████████████████████████████████▎        | 10607/13354 [00:09<00:02, 1023.68it/s]:  80%|█████████████████████████████████▋        | 10711/13354 [00:09<00:02, 1012.39it/s]:  81%|██████████████████████████████████▊        | 10813/13354 [00:09<00:02, 946.91it/s]:  82%|███████████████████████████████████▏       | 10921/13354 [00:09<00:02, 981.91it/s]:  83%|███████████████████████████████████▍       | 11024/13354 [00:09<00:02, 993.78it/s]:  83%|███████████████████████████████████       | 11142/13354 [00:10<00:02, 1046.92it/s]:  84%|███████████████████████████████████▍      | 11248/13354 [00:10<00:02, 1036.54it/s]:  85%|███████████████████████████████████▋      | 11353/13354 [00:10<00:01, 1008.74it/s]:  86%|████████████████████████████████████▉      | 11455/13354 [00:10<00:01, 983.35it/s]:  87%|█████████████████████████████████████▏     | 11554/13354 [00:10<00:01, 976.79it/s]:  87%|████████████████████████████████████▋     | 11666/13354 [00:10<00:01, 1017.10it/s]:  88%|█████████████████████████████████████     | 11769/13354 [00:10<00:01, 1001.10it/s]:  89%|█████████████████████████████████████▎    | 11873/13354 [00:10<00:01, 1011.78it/s]:  90%|█████████████████████████████████████▋    | 11976/13354 [00:10<00:01, 1016.53it/s]:  90%|█████████████████████████████████████▉    | 12078/13354 [00:10<00:01, 1007.25it/s]:  91%|███████████████████████████████████████▏   | 12179/13354 [00:11<00:01, 989.77it/s]:  92%|███████████████████████████████████████▌   | 12279/13354 [00:11<00:01, 978.44it/s]:  93%|██████████████████████████████████████▉   | 12386/13354 [00:11<00:00, 1003.47it/s]:  94%|███████████████████████████████████████▎  | 12495/13354 [00:11<00:00, 1026.95it/s]:  94%|███████████████████████████████████████▋  | 12601/13354 [00:11<00:00, 1035.79it/s]:  95%|███████████████████████████████████████▉  | 12705/13354 [00:11<00:00, 1027.57it/s]:  96%|████████████████████████████████████████▎ | 12808/13354 [00:11<00:00, 1007.15it/s]:  97%|████████████████████████████████████████▌ | 12909/13354 [00:11<00:00, 1005.01it/s]:  97%|████████████████████████████████████████▉ | 13010/13354 [00:11<00:00, 1004.48it/s]:  98%|██████████████████████████████████████████▏| 13111/13354 [00:12<00:00, 997.73it/s]:  99%|█████████████████████████████████████████▌| 13217/13354 [00:12<00:00, 1013.89it/s]: 100%|█████████████████████████████████████████▉| 13331/13354 [00:12<00:00, 1050.26it/s]: 100%|██████████████████████████████████████████| 13354/13354 [00:12<00:00, 1090.01it/s]\n",
      "19 Dec 08:54    INFO  The running environment of this training is as follows:\n",
      "+-------------+----------------+\n",
      "| Environment |     Usage      |\n",
      "+=============+================+\n",
      "| CPU         |     0.00 %     |\n",
      "+-------------+----------------+\n",
      "| GPU         |   0.0 / 0.0    |\n",
      "+-------------+----------------+\n",
      "| Memory      | 5.29 G/15.58 G |\n",
      "+-------------+----------------+\n",
      "19 Dec 08:54    INFO  best valid : None\n",
      "19 Dec 08:54    INFO  test result: OrderedDict([('map@10', 0.0407), ('itemcoverage@10', 0.1582), ('averagepopularity@10', 2510.1628)])\n",
      "19 Dec 08:54    INFO  ['/opt/conda/lib/python3.10/site-packages/ipykernel_launcher.py', '-f', '/home/jovyan/.local/share/jupyter/runtime/kernel-1c288f33-ef01-4fa5-a243-e411b426aea2.json']\n",
      "19 Dec 08:54    INFO  \n",
      "General Hyper Parameters:\n",
      "gpu_id = 0\n",
      "use_gpu = True\n",
      "seed = 2020\n",
      "state = INFO\n",
      "reproducibility = True\n",
      "data_path = recbox_data\n",
      "checkpoint_dir = saved\n",
      "show_progress = True\n",
      "save_dataset = False\n",
      "dataset_save_path = None\n",
      "save_dataloaders = False\n",
      "dataloaders_save_path = None\n",
      "log_wandb = False\n",
      "\n",
      "Training Hyper Parameters:\n",
      "epochs = 10\n",
      "train_batch_size = 2048\n",
      "learner = adam\n",
      "learning_rate = 0.001\n",
      "train_neg_sample_args = {'distribution': 'none', 'sample_num': 'none', 'alpha': 'none', 'dynamic': False, 'candidate_num': 0}\n",
      "eval_step = 1\n",
      "stopping_step = 10\n",
      "clip_grad_norm = None\n",
      "weight_decay = 0.0\n",
      "loss_decimal_place = 4\n",
      "\n",
      "Evaluation Hyper Parameters:\n",
      "eval_args = {'split': {'RS': [9, 0, 1]}, 'order': 'TO', 'group_by': 'user', 'mode': {'valid': 'full', 'test': 'full'}}\n",
      "repeatable = False\n",
      "metrics = ['MAP', 'ItemCoverage', 'AveragePopularity']\n",
      "topk = [10]\n",
      "valid_metric = MRR@10\n",
      "valid_metric_bigger = True\n",
      "eval_batch_size = 4096\n",
      "metric_decimal_place = 4\n",
      "\n",
      "Dataset Hyper Parameters:\n",
      "field_separator = \t\n",
      "seq_separator =  \n",
      "USER_ID_FIELD = user_id\n",
      "ITEM_ID_FIELD = item_id\n",
      "RATING_FIELD = rating\n",
      "TIME_FIELD = timestamp\n",
      "seq_len = None\n",
      "LABEL_FIELD = label\n",
      "threshold = None\n",
      "NEG_PREFIX = neg_\n",
      "load_col = {'inter': ['user_id', 'item_id', 'timestamp']}\n",
      "unload_col = None\n",
      "unused_col = None\n",
      "additional_feat_suffix = None\n",
      "rm_dup_inter = None\n",
      "val_interval = None\n",
      "filter_inter_by_user_or_item = True\n",
      "user_inter_num_interval = [40,inf)\n",
      "item_inter_num_interval = [40,inf)\n",
      "alias_of_user_id = None\n",
      "alias_of_item_id = None\n",
      "alias_of_entity_id = None\n",
      "alias_of_relation_id = None\n",
      "preload_weight = None\n",
      "normalize_field = None\n",
      "normalize_all = None\n",
      "ITEM_LIST_LENGTH_FIELD = item_length\n",
      "LIST_SUFFIX = _list\n",
      "MAX_ITEM_LIST_LENGTH = 50\n",
      "POSITION_FIELD = position_id\n",
      "HEAD_ENTITY_ID_FIELD = head_id\n",
      "TAIL_ENTITY_ID_FIELD = tail_id\n",
      "RELATION_ID_FIELD = relation_id\n",
      "ENTITY_ID_FIELD = entity_id\n",
      "benchmark_filename = None\n",
      "\n",
      "Other Hyper Parameters: \n",
      "worker = 0\n",
      "wandb_project = recbole\n",
      "shuffle = True\n",
      "require_pow = False\n",
      "enable_amp = False\n",
      "enable_scaler = False\n",
      "transform = None\n",
      "embedding_size = 64\n",
      "dropout_prob = 0.5\n",
      "kfac = 10\n",
      "nogb = False\n",
      "std = 0.01\n",
      "encoder_hidden_size = [600]\n",
      "tau = 0.1\n",
      "anneal_cap = 0.2\n",
      "total_anneal_steps = 200000\n",
      "reg_weights = [0.0, 0.0]\n",
      "numerical_features = []\n",
      "discretization = None\n",
      "kg_reverse_r = False\n",
      "entity_kg_num_interval = [0,inf)\n",
      "relation_kg_num_interval = [0,inf)\n",
      "MODEL_TYPE = ModelType.GENERAL\n",
      "device = cpu\n",
      "neg_sampling = None\n",
      "MODEL_INPUT_TYPE = InputType.PAIRWISE\n",
      "eval_type = EvaluatorType.RANKING\n",
      "single_spec = True\n",
      "local_rank = 0\n",
      "valid_neg_sample_args = {'distribution': 'uniform', 'sample_num': 'none'}\n",
      "test_neg_sample_args = {'distribution': 'uniform', 'sample_num': 'none'}\n",
      "\n",
      "\n",
      "19 Dec 08:54    INFO  recbox_data\n",
      "The number of users: 13355\n",
      "Average actions of users: 63.815710648494836\n",
      "The number of items: 3294\n",
      "Average actions of items: 258.78985727300335\n",
      "The number of inters: 852195\n",
      "The sparsity of the dataset: 98.06281322904924%\n",
      "Remain Fields: ['user_id', 'item_id', 'timestamp']\n",
      "19 Dec 08:54    INFO  [Training]: train_batch_size = [2048] train_neg_sample_args: [{'distribution': 'none', 'sample_num': 'none', 'alpha': 'none', 'dynamic': False, 'candidate_num': 0}]\n",
      "19 Dec 08:54    INFO  [Evaluation]: eval_batch_size = [4096] eval_args: [{'split': {'RS': [9, 0, 1]}, 'order': 'TO', 'group_by': 'user', 'mode': {'valid': 'full', 'test': 'full'}}]\n",
      "19 Dec 08:54    WARNING  Max value of user's history interaction records has reached 20.9471766848816% of the total.\n",
      "19 Dec 08:54    INFO  MacridVAE(\n",
      "  (encoder): Sequential(\n",
      "    (0): Linear(in_features=3294, out_features=600, bias=True)\n",
      "    (1): Tanh()\n",
      "    (2): Linear(in_features=600, out_features=128, bias=True)\n",
      "  )\n",
      "  (item_embedding): Embedding(3294, 64)\n",
      "  (k_embedding): Embedding(10, 64)\n",
      "  (l2_loss): EmbLoss()\n",
      ")\n",
      "Trainable parameters: 2265384\n",
      "19 Dec 08:54    INFO  FLOPs: 20532000.0\n",
      "Train     0:   0%|                                                            | 0/7 [00:00<?, ?it/s]:  14%|███████▍                                            | 1/7 [00:01<00:10,  1.81s/it]:  29%|██████████████▊                                     | 2/7 [00:03<00:08,  1.75s/it]:  43%|██████████████████████▎                             | 3/7 [00:05<00:06,  1.68s/it]:  57%|█████████████████████████████▋                      | 4/7 [00:06<00:04,  1.66s/it]:  71%|█████████████████████████████████████▏              | 5/7 [00:08<00:03,  1.65s/it]:  86%|████████████████████████████████████████████▌       | 6/7 [00:09<00:01,  1.63s/it]: 100%|████████████████████████████████████████████████████| 7/7 [00:10<00:00,  1.36s/it]: 100%|████████████████████████████████████████████████████| 7/7 [00:10<00:00,  1.54s/it]\n",
      "19 Dec 08:54    INFO  epoch 0 training [time: 10.81s, train loss: 3203.0490]\n",
      "19 Dec 08:54    INFO  Saving current: saved/MacridVAE-Dec-19-2023_08-54-39.pth\n",
      "Train     1:   0%|                                                            | 0/7 [00:00<?, ?it/s]:  14%|███████▍                                            | 1/7 [00:01<00:10,  1.77s/it]:  29%|██████████████▊                                     | 2/7 [00:03<00:08,  1.68s/it]:  43%|██████████████████████▎                             | 3/7 [00:05<00:06,  1.66s/it]:  57%|█████████████████████████████▋                      | 4/7 [00:06<00:04,  1.65s/it]:  71%|█████████████████████████████████████▏              | 5/7 [00:08<00:03,  1.63s/it]:  86%|████████████████████████████████████████████▌       | 6/7 [00:09<00:01,  1.61s/it]: 100%|████████████████████████████████████████████████████| 7/7 [00:10<00:00,  1.35s/it]: 100%|████████████████████████████████████████████████████| 7/7 [00:10<00:00,  1.52s/it]\n",
      "19 Dec 08:55    INFO  epoch 1 training [time: 10.67s, train loss: 2840.4992]\n",
      "19 Dec 08:55    INFO  Saving current: saved/MacridVAE-Dec-19-2023_08-54-39.pth\n",
      "Train     2:   0%|                                                            | 0/7 [00:00<?, ?it/s]:  14%|███████▍                                            | 1/7 [00:01<00:09,  1.59s/it]:  29%|██████████████▊                                     | 2/7 [00:03<00:08,  1.67s/it]:  43%|██████████████████████▎                             | 3/7 [00:04<00:06,  1.67s/it]:  57%|█████████████████████████████▋                      | 4/7 [00:06<00:04,  1.64s/it]:  71%|█████████████████████████████████████▏              | 5/7 [00:08<00:03,  1.63s/it]:  86%|████████████████████████████████████████████▌       | 6/7 [00:09<00:01,  1.64s/it]: 100%|████████████████████████████████████████████████████| 7/7 [00:10<00:00,  1.36s/it]: 100%|████████████████████████████████████████████████████| 7/7 [00:10<00:00,  1.52s/it]\n",
      "19 Dec 08:55    INFO  epoch 2 training [time: 10.68s, train loss: 2745.8499]\n",
      "19 Dec 08:55    INFO  Saving current: saved/MacridVAE-Dec-19-2023_08-54-39.pth\n",
      "Train     3:   0%|                                                            | 0/7 [00:00<?, ?it/s]:  14%|███████▍                                            | 1/7 [00:01<00:09,  1.59s/it]:  29%|██████████████▊                                     | 2/7 [00:03<00:07,  1.59s/it]:  43%|██████████████████████▎                             | 3/7 [00:04<00:06,  1.60s/it]:  57%|█████████████████████████████▋                      | 4/7 [00:06<00:04,  1.64s/it]:  71%|█████████████████████████████████████▏              | 5/7 [00:08<00:03,  1.62s/it]:  86%|████████████████████████████████████████████▌       | 6/7 [00:09<00:01,  1.61s/it]: 100%|████████████████████████████████████████████████████| 7/7 [00:10<00:00,  1.35s/it]: 100%|████████████████████████████████████████████████████| 7/7 [00:10<00:00,  1.50s/it]\n",
      "19 Dec 08:55    INFO  epoch 3 training [time: 10.53s, train loss: 2690.4382]\n",
      "19 Dec 08:55    INFO  Saving current: saved/MacridVAE-Dec-19-2023_08-54-39.pth\n",
      "Train     4:   0%|                                                            | 0/7 [00:00<?, ?it/s]:  14%|███████▍                                            | 1/7 [00:01<00:10,  1.73s/it]:  29%|██████████████▊                                     | 2/7 [00:03<00:08,  1.67s/it]:  43%|██████████████████████▎                             | 3/7 [00:04<00:06,  1.64s/it]:  57%|█████████████████████████████▋                      | 4/7 [00:06<00:04,  1.62s/it]:  71%|█████████████████████████████████████▏              | 5/7 [00:08<00:03,  1.60s/it]:  86%|████████████████████████████████████████████▌       | 6/7 [00:09<00:01,  1.60s/it]: 100%|████████████████████████████████████████████████████| 7/7 [00:10<00:00,  1.34s/it]: 100%|████████████████████████████████████████████████████| 7/7 [00:10<00:00,  1.51s/it]\n",
      "19 Dec 08:55    INFO  epoch 4 training [time: 10.55s, train loss: 2655.5393]\n",
      "19 Dec 08:55    INFO  Saving current: saved/MacridVAE-Dec-19-2023_08-54-39.pth\n",
      "Train     5:   0%|                                                            | 0/7 [00:00<?, ?it/s]:  14%|███████▍                                            | 1/7 [00:01<00:09,  1.64s/it]:  29%|██████████████▊                                     | 2/7 [00:03<00:08,  1.65s/it]:  43%|██████████████████████▎                             | 3/7 [00:05<00:06,  1.69s/it]:  57%|█████████████████████████████▋                      | 4/7 [00:06<00:04,  1.66s/it]:  71%|█████████████████████████████████████▏              | 5/7 [00:08<00:03,  1.65s/it]:  86%|████████████████████████████████████████████▌       | 6/7 [00:09<00:01,  1.63s/it]: 100%|████████████████████████████████████████████████████| 7/7 [00:10<00:00,  1.36s/it]: 100%|████████████████████████████████████████████████████| 7/7 [00:10<00:00,  1.53s/it]\n",
      "19 Dec 08:55    INFO  epoch 5 training [time: 10.71s, train loss: 2628.3288]\n",
      "19 Dec 08:55    INFO  Saving current: saved/MacridVAE-Dec-19-2023_08-54-39.pth\n",
      "Train     6:   0%|                                                            | 0/7 [00:00<?, ?it/s]:  14%|███████▍                                            | 1/7 [00:01<00:09,  1.63s/it]:  29%|██████████████▊                                     | 2/7 [00:03<00:08,  1.62s/it]:  43%|██████████████████████▎                             | 3/7 [00:04<00:06,  1.65s/it]:  57%|█████████████████████████████▋                      | 4/7 [00:06<00:04,  1.66s/it]:  71%|█████████████████████████████████████▏              | 5/7 [00:08<00:03,  1.65s/it]:  86%|████████████████████████████████████████████▌       | 6/7 [00:09<00:01,  1.63s/it]: 100%|████████████████████████████████████████████████████| 7/7 [00:10<00:00,  1.37s/it]: 100%|████████████████████████████████████████████████████| 7/7 [00:10<00:00,  1.53s/it]\n",
      "19 Dec 08:55    INFO  epoch 6 training [time: 10.70s, train loss: 2607.3228]\n",
      "19 Dec 08:55    INFO  Saving current: saved/MacridVAE-Dec-19-2023_08-54-39.pth\n",
      "Train     7:   0%|                                                            | 0/7 [00:00<?, ?it/s]:  14%|███████▍                                            | 1/7 [00:01<00:11,  1.84s/it]:  29%|██████████████▊                                     | 2/7 [00:03<00:08,  1.76s/it]:  43%|██████████████████████▎                             | 3/7 [00:05<00:06,  1.74s/it]:  57%|█████████████████████████████▋                      | 4/7 [00:06<00:05,  1.69s/it]:  71%|█████████████████████████████████████▏              | 5/7 [00:08<00:03,  1.71s/it]:  86%|████████████████████████████████████████████▌       | 6/7 [00:10<00:01,  1.67s/it]: 100%|████████████████████████████████████████████████████| 7/7 [00:11<00:00,  1.40s/it]: 100%|████████████████████████████████████████████████████| 7/7 [00:11<00:00,  1.58s/it]\n",
      "19 Dec 08:56    INFO  epoch 7 training [time: 11.07s, train loss: 2590.8279]\n",
      "19 Dec 08:56    INFO  Saving current: saved/MacridVAE-Dec-19-2023_08-54-39.pth\n",
      "Train     8:   0%|                                                            | 0/7 [00:00<?, ?it/s]:  14%|███████▍                                            | 1/7 [00:01<00:09,  1.65s/it]:  29%|██████████████▊                                     | 2/7 [00:03<00:08,  1.67s/it]:  43%|██████████████████████▎                             | 3/7 [00:04<00:06,  1.66s/it]:  57%|█████████████████████████████▋                      | 4/7 [00:06<00:04,  1.66s/it]:  71%|█████████████████████████████████████▏              | 5/7 [00:08<00:03,  1.65s/it]:  86%|████████████████████████████████████████████▌       | 6/7 [00:09<00:01,  1.63s/it]: 100%|████████████████████████████████████████████████████| 7/7 [00:10<00:00,  1.36s/it]: 100%|████████████████████████████████████████████████████| 7/7 [00:10<00:00,  1.52s/it]\n",
      "19 Dec 08:56    INFO  epoch 8 training [time: 10.68s, train loss: 2579.1512]\n",
      "19 Dec 08:56    INFO  Saving current: saved/MacridVAE-Dec-19-2023_08-54-39.pth\n",
      "Train     9:   0%|                                                            | 0/7 [00:00<?, ?it/s]:  14%|███████▍                                            | 1/7 [00:01<00:09,  1.66s/it]:  29%|██████████████▊                                     | 2/7 [00:03<00:08,  1.66s/it]:  43%|██████████████████████▎                             | 3/7 [00:05<00:06,  1.70s/it]:  57%|█████████████████████████████▋                      | 4/7 [00:06<00:05,  1.70s/it]:  71%|█████████████████████████████████████▏              | 5/7 [00:08<00:03,  1.69s/it]:  86%|████████████████████████████████████████████▌       | 6/7 [00:10<00:01,  1.67s/it]: 100%|████████████████████████████████████████████████████| 7/7 [00:10<00:00,  1.39s/it]: 100%|████████████████████████████████████████████████████| 7/7 [00:10<00:00,  1.55s/it]\n",
      "19 Dec 08:56    INFO  epoch 9 training [time: 10.90s, train loss: 2567.3338]\n",
      "19 Dec 08:56    INFO  Saving current: saved/MacridVAE-Dec-19-2023_08-54-39.pth\n",
      "19 Dec 08:56    INFO  Loading model structure and parameters from saved/MacridVAE-Dec-19-2023_08-54-39.pth\n",
      "Evaluate   :   0%|                                                        | 0/13354 [00:00<?, ?it/s]:   0%|                                              | 23/13354 [00:00<00:59, 225.35it/s]:   0%|▏                                             | 50/13354 [00:00<00:53, 247.65it/s]:   1%|▎                                             | 76/13354 [00:00<00:53, 250.39it/s]:   1%|▎                                            | 106/13354 [00:00<00:49, 266.94it/s]:   1%|▍                                            | 133/13354 [00:00<00:52, 251.21it/s]:   1%|▌                                            | 159/13354 [00:00<00:52, 251.56it/s]:   1%|▋                                            | 186/13354 [00:00<00:51, 257.09it/s]:   2%|▋                                            | 212/13354 [00:00<00:52, 252.47it/s]:   2%|▊                                            | 242/13354 [00:00<00:49, 264.41it/s]:   2%|▉                                            | 269/13354 [00:01<00:50, 259.93it/s]:   2%|▉                                            | 296/13354 [00:01<00:51, 251.95it/s]:   2%|█                                            | 322/13354 [00:01<00:51, 252.91it/s]:   3%|█▏                                           | 348/13354 [00:01<00:53, 244.57it/s]:   3%|█▎                                           | 375/13354 [00:01<00:51, 251.15it/s]:   3%|█▎                                           | 401/13354 [00:01<00:52, 247.94it/s]:   3%|█▍                                           | 429/13354 [00:01<00:50, 256.87it/s]:   3%|█▌                                           | 455/13354 [00:01<00:50, 256.40it/s]:   4%|█▌                                           | 482/13354 [00:01<00:49, 259.87it/s]:   4%|█▋                                           | 509/13354 [00:02<00:56, 228.80it/s]:   4%|█▊                                           | 534/13354 [00:02<00:55, 232.42it/s]:   4%|█▉                                           | 561/13354 [00:02<00:53, 240.58it/s]:   4%|█▉                                           | 586/13354 [00:02<00:54, 233.64it/s]:   5%|██                                           | 610/13354 [00:02<00:55, 228.21it/s]:   5%|██▏                                          | 636/13354 [00:02<00:53, 236.30it/s]:   5%|██▏                                          | 663/13354 [00:02<00:52, 243.60it/s]:   5%|██▎                                          | 689/13354 [00:02<00:51, 246.76it/s]:   5%|██▍                                          | 715/13354 [00:02<00:50, 249.29it/s]:   6%|██▍                                          | 741/13354 [00:02<00:51, 245.67it/s]:   6%|██▌                                          | 766/13354 [00:03<00:52, 241.33it/s]:   6%|██▋                                          | 791/13354 [00:03<01:00, 208.44it/s]:   6%|██▊                                          | 818/13354 [00:03<00:56, 223.48it/s]:   6%|██▊                                          | 846/13354 [00:03<00:52, 236.81it/s]:   7%|██▉                                          | 871/13354 [00:03<00:53, 233.91it/s]:   7%|███                                          | 897/13354 [00:03<00:51, 240.07it/s]:   7%|███                                          | 927/13354 [00:03<00:48, 256.10it/s]:   7%|███▏                                         | 956/13354 [00:03<00:47, 263.46it/s]:   7%|███▎                                         | 983/13354 [00:04<00:50, 244.84it/s]:   8%|███▎                                        | 1010/13354 [00:04<00:49, 249.80it/s]:   8%|███▍                                        | 1036/13354 [00:04<00:49, 249.38it/s]:   8%|███▍                                        | 1062/13354 [00:04<00:50, 242.72it/s]:   8%|███▌                                        | 1087/13354 [00:04<00:51, 236.66it/s]:   8%|███▋                                        | 1111/13354 [00:04<00:52, 233.70it/s]:   8%|███▋                                        | 1135/13354 [00:04<00:52, 231.71it/s]:   9%|███▊                                        | 1159/13354 [00:04<00:52, 231.36it/s]:   9%|███▉                                        | 1184/13354 [00:04<00:51, 234.93it/s]:   9%|███▉                                        | 1208/13354 [00:04<00:51, 234.03it/s]:   9%|████                                        | 1232/13354 [00:05<00:52, 231.58it/s]:   9%|████▏                                       | 1259/13354 [00:05<00:50, 240.64it/s]:  10%|████▏                                       | 1287/13354 [00:05<00:47, 251.45it/s]:  10%|████▎                                       | 1313/13354 [00:05<00:48, 247.36it/s]:  10%|████▍                                       | 1338/13354 [00:05<00:48, 245.51it/s]:  10%|████▍                                       | 1363/13354 [00:05<00:48, 245.69it/s]:  10%|████▌                                       | 1392/13354 [00:05<00:46, 256.32it/s]:  11%|████▋                                       | 1422/13354 [00:05<00:44, 268.77it/s]:  11%|████▊                                       | 1452/13354 [00:05<00:42, 277.79it/s]:  11%|████▉                                       | 1480/13354 [00:05<00:42, 276.71it/s]:  11%|████▉                                       | 1508/13354 [00:06<00:43, 271.63it/s]:  12%|█████                                       | 1536/13354 [00:06<00:45, 261.26it/s]:  12%|█████▏                                      | 1563/13354 [00:06<00:45, 261.98it/s]:  12%|█████▏                                      | 1590/13354 [00:06<00:46, 253.07it/s]:  12%|█████▎                                      | 1616/13354 [00:06<00:49, 238.30it/s]:  12%|█████▍                                      | 1641/13354 [00:06<00:49, 237.53it/s]:  12%|█████▍                                      | 1665/13354 [00:06<00:50, 232.79it/s]:  13%|█████▌                                      | 1693/13354 [00:06<00:47, 244.34it/s]:  13%|█████▋                                      | 1721/13354 [00:06<00:45, 253.11it/s]:  13%|█████▊                                      | 1750/13354 [00:07<00:44, 262.29it/s]:  13%|█████▊                                      | 1777/13354 [00:07<00:44, 259.18it/s]:  14%|█████▉                                      | 1804/13354 [00:07<00:45, 251.78it/s]:  14%|██████                                      | 1830/13354 [00:07<00:45, 250.60it/s]:  14%|██████                                      | 1858/13354 [00:07<00:44, 257.72it/s]:  14%|██████▏                                     | 1884/13354 [00:07<00:44, 256.96it/s]:  14%|██████▎                                     | 1910/13354 [00:07<00:48, 238.18it/s]:  14%|██████▍                                     | 1935/13354 [00:07<00:47, 239.57it/s]:  15%|██████▍                                     | 1960/13354 [00:07<00:48, 236.31it/s]:  15%|██████▌                                     | 1984/13354 [00:08<00:48, 234.19it/s]:  15%|██████▌                                     | 2008/13354 [00:08<00:48, 232.54it/s]:  15%|██████▋                                     | 2032/13354 [00:08<00:49, 229.95it/s]:  15%|██████▊                                     | 2056/13354 [00:08<00:51, 217.81it/s]:  16%|██████▊                                     | 2079/13354 [00:08<00:51, 219.74it/s]:  16%|██████▉                                     | 2103/13354 [00:08<00:49, 225.20it/s]:  16%|███████                                     | 2130/13354 [00:08<00:47, 236.01it/s]:  16%|███████                                     | 2157/13354 [00:08<00:45, 245.47it/s]:  16%|███████▏                                    | 2185/13354 [00:08<00:44, 253.40it/s]:  17%|███████▎                                    | 2214/13354 [00:09<00:42, 262.93it/s]:  17%|███████▍                                    | 2242/13354 [00:09<00:41, 267.89it/s]:  17%|███████▍                                    | 2269/13354 [00:09<00:41, 267.66it/s]:  17%|███████▌                                    | 2296/13354 [00:09<00:41, 264.96it/s]:  17%|███████▋                                    | 2323/13354 [00:09<00:41, 264.31it/s]:  18%|███████▋                                    | 2350/13354 [00:09<00:41, 265.61it/s]:  18%|███████▊                                    | 2379/13354 [00:09<00:40, 269.91it/s]:  18%|███████▉                                    | 2406/13354 [00:09<00:40, 269.21it/s]:  18%|████████                                    | 2434/13354 [00:09<00:40, 270.24it/s]:  18%|████████                                    | 2462/13354 [00:09<00:41, 265.05it/s]:  19%|████████▏                                   | 2490/13354 [00:10<00:40, 267.51it/s]:  19%|████████▎                                   | 2517/13354 [00:10<00:41, 260.38it/s]:  19%|████████▍                                   | 2544/13354 [00:10<00:52, 207.06it/s]:  19%|████████▍                                   | 2567/13354 [00:10<00:52, 205.07it/s]:  19%|████████▌                                   | 2590/13354 [00:10<00:51, 211.04it/s]:  20%|████████▌                                   | 2615/13354 [00:10<00:48, 220.26it/s]:  20%|████████▋                                   | 2638/13354 [00:10<00:48, 222.27it/s]:  20%|████████▊                                   | 2667/13354 [00:10<00:44, 239.91it/s]:  20%|████████▉                                   | 2697/13354 [00:10<00:41, 256.56it/s]:  20%|████████▉                                   | 2724/13354 [00:11<00:41, 258.11it/s]:  21%|█████████                                   | 2752/13354 [00:11<00:40, 262.54it/s]:  21%|█████████▏                                  | 2779/13354 [00:11<00:40, 258.05it/s]:  21%|█████████▏                                  | 2805/13354 [00:11<00:41, 253.14it/s]:  21%|█████████▎                                  | 2833/13354 [00:11<00:40, 259.37it/s]:  21%|█████████▍                                  | 2862/13354 [00:11<00:39, 267.03it/s]:  22%|█████████▌                                  | 2889/13354 [00:11<00:40, 259.78it/s]:  22%|█████████▌                                  | 2916/13354 [00:11<00:42, 248.43it/s]:  22%|█████████▋                                  | 2945/13354 [00:11<00:40, 259.42it/s]:  22%|█████████▊                                  | 2972/13354 [00:12<00:40, 254.30it/s]:  22%|█████████▉                                  | 2998/13354 [00:12<00:40, 255.87it/s]:  23%|█████████▉                                  | 3024/13354 [00:12<00:41, 249.62it/s]:  23%|██████████                                  | 3052/13354 [00:12<00:40, 256.47it/s]:  23%|██████████▏                                 | 3078/13354 [00:12<00:39, 257.43it/s]:  23%|██████████▏                                 | 3106/13354 [00:12<00:39, 261.86it/s]:  23%|██████████▎                                 | 3135/13354 [00:12<00:37, 269.53it/s]:  24%|██████████▍                                 | 3163/13354 [00:12<00:40, 253.01it/s]:  24%|██████████▌                                 | 3189/13354 [00:12<00:41, 247.29it/s]:  24%|██████████▌                                 | 3214/13354 [00:12<00:41, 243.63it/s]:  24%|██████████▋                                 | 3240/13354 [00:13<00:40, 248.20it/s]:  24%|██████████▊                                 | 3266/13354 [00:13<00:40, 248.78it/s]:  25%|██████████▊                                 | 3291/13354 [00:13<00:40, 246.88it/s]:  25%|██████████▉                                 | 3316/13354 [00:13<00:40, 246.28it/s]:  25%|███████████                                 | 3341/13354 [00:13<00:40, 246.81it/s]:  25%|███████████                                 | 3366/13354 [00:13<00:41, 241.94it/s]:  25%|███████████▏                                | 3395/13354 [00:13<00:39, 255.08it/s]:  26%|███████████▎                                | 3421/13354 [00:13<00:39, 252.66it/s]:  26%|███████████▎                                | 3450/13354 [00:13<00:37, 262.53it/s]:  26%|███████████▍                                | 3477/13354 [00:14<00:38, 259.23it/s]:  26%|███████████▌                                | 3503/13354 [00:14<00:38, 253.36it/s]:  26%|███████████▋                                | 3530/13354 [00:14<00:38, 257.32it/s]:  27%|███████████▋                                | 3556/13354 [00:14<00:39, 249.31it/s]:  27%|███████████▊                                | 3582/13354 [00:14<00:38, 250.69it/s]:  27%|███████████▉                                | 3613/13354 [00:14<00:36, 266.04it/s]:  27%|███████████▉                                | 3640/13354 [00:14<00:36, 265.81it/s]:  27%|████████████                                | 3667/13354 [00:14<00:36, 262.68it/s]:  28%|████████████▏                               | 3694/13354 [00:14<00:38, 252.48it/s]:  28%|████████████▎                               | 3722/13354 [00:14<00:37, 260.05it/s]:  28%|████████████▎                               | 3749/13354 [00:15<00:37, 255.76it/s]:  28%|████████████▍                               | 3777/13354 [00:15<00:36, 262.54it/s]:  28%|████████████▌                               | 3805/13354 [00:15<00:35, 265.29it/s]:  29%|████████████▋                               | 3832/13354 [00:15<00:39, 242.81it/s]:  29%|████████████▋                               | 3857/13354 [00:15<00:40, 234.57it/s]:  29%|████████████▊                               | 3884/13354 [00:15<00:38, 243.74it/s]:  29%|████████████▉                               | 3913/13354 [00:15<00:37, 254.73it/s]:  29%|████████████▉                               | 3939/13354 [00:15<00:37, 248.38it/s]:  30%|█████████████                               | 3965/13354 [00:15<00:37, 247.97it/s]:  30%|█████████████▏                              | 3995/13354 [00:16<00:35, 261.64it/s]:  30%|█████████████▎                              | 4023/13354 [00:16<00:35, 265.98it/s]:  30%|█████████████▎                              | 4051/13354 [00:16<00:34, 269.75it/s]:  31%|█████████████▍                              | 4079/13354 [00:16<00:34, 265.25it/s]:  31%|█████████████▌                              | 4106/13354 [00:16<00:34, 265.20it/s]:  31%|█████████████▌                              | 4133/13354 [00:16<00:35, 261.12it/s]:  31%|█████████████▋                              | 4160/13354 [00:16<00:36, 251.79it/s]:  31%|█████████████▊                              | 4190/13354 [00:16<00:34, 263.23it/s]:  32%|█████████████▉                              | 4217/13354 [00:16<00:36, 253.30it/s]:  32%|█████████████▉                              | 4246/13354 [00:17<00:34, 261.91it/s]:  32%|██████████████                              | 4274/13354 [00:17<00:34, 265.34it/s]:  32%|██████████████▏                             | 4301/13354 [00:17<00:37, 240.63it/s]:  32%|██████████████▎                             | 4326/13354 [00:17<00:38, 236.33it/s]:  33%|██████████████▎                             | 4350/13354 [00:17<00:38, 236.87it/s]:  33%|██████████████▍                             | 4374/13354 [00:17<00:37, 236.39it/s]:  33%|██████████████▍                             | 4398/13354 [00:17<00:38, 232.98it/s]:  33%|██████████████▌                             | 4426/13354 [00:17<00:36, 244.35it/s]:  33%|██████████████▋                             | 4451/13354 [00:17<00:37, 238.45it/s]:  34%|██████████████▋                             | 4475/13354 [00:17<00:37, 233.71it/s]:  34%|██████████████▊                             | 4503/13354 [00:18<00:35, 246.37it/s]:  34%|██████████████▉                             | 4528/13354 [00:18<00:35, 245.46it/s]:  34%|███████████████                             | 4553/13354 [00:18<00:36, 239.26it/s]:  34%|███████████████                             | 4578/13354 [00:18<00:36, 241.47it/s]:  34%|███████████████▏                            | 4603/13354 [00:18<00:36, 239.05it/s]:  35%|███████████████▎                            | 4629/13354 [00:18<00:35, 243.78it/s]:  35%|███████████████▎                            | 4655/13354 [00:18<00:35, 248.09it/s]:  35%|███████████████▍                            | 4683/13354 [00:18<00:33, 256.19it/s]:  35%|███████████████▌                            | 4709/13354 [00:18<00:34, 250.70it/s]:  35%|███████████████▌                            | 4736/13354 [00:19<00:33, 255.71it/s]:  36%|███████████████▋                            | 4762/13354 [00:19<00:33, 253.61it/s]:  36%|███████████████▊                            | 4788/13354 [00:19<00:34, 248.74it/s]:  36%|███████████████▊                            | 4816/13354 [00:19<00:33, 257.03it/s]:  36%|███████████████▉                            | 4843/13354 [00:19<00:32, 260.17it/s]:  36%|████████████████                            | 4870/13354 [00:19<00:34, 249.43it/s]:  37%|████████████████▏                           | 4896/13354 [00:19<00:34, 248.20it/s]:  37%|████████████████▏                           | 4923/13354 [00:19<00:33, 253.75it/s]:  37%|████████████████▎                           | 4953/13354 [00:19<00:31, 266.95it/s]:  37%|████████████████▍                           | 4981/13354 [00:19<00:31, 269.57it/s]:  38%|████████████████▌                           | 5009/13354 [00:20<00:32, 260.54it/s]:  38%|████████████████▌                           | 5036/13354 [00:20<00:32, 252.34it/s]:  38%|████████████████▋                           | 5066/13354 [00:20<00:31, 263.74it/s]:  38%|████████████████▊                           | 5093/13354 [00:20<00:31, 262.26it/s]:  38%|████████████████▊                           | 5120/13354 [00:20<00:33, 243.99it/s]:  39%|████████████████▉                           | 5145/13354 [00:20<00:33, 242.35it/s]:  39%|█████████████████                           | 5173/13354 [00:20<00:32, 250.95it/s]:  39%|█████████████████▏                          | 5200/13354 [00:20<00:32, 254.80it/s]:  39%|█████████████████▏                          | 5226/13354 [00:20<00:33, 243.92it/s]:  39%|█████████████████▎                          | 5252/13354 [00:21<00:32, 248.35it/s]:  40%|█████████████████▍                          | 5277/13354 [00:21<00:33, 244.49it/s]:  40%|█████████████████▍                          | 5306/13354 [00:21<00:31, 256.34it/s]:  40%|█████████████████▌                          | 5336/13354 [00:21<00:29, 267.46it/s]:  40%|█████████████████▋                          | 5363/13354 [00:21<00:30, 264.18it/s]:  40%|█████████████████▊                          | 5391/13354 [00:21<00:29, 268.64it/s]:  41%|█████████████████▊                          | 5418/13354 [00:21<00:30, 260.43it/s]:  41%|█████████████████▉                          | 5445/13354 [00:21<00:30, 258.71it/s]:  41%|██████████████████                          | 5474/13354 [00:21<00:29, 267.18it/s]:  41%|██████████████████▏                         | 5501/13354 [00:22<00:29, 265.56it/s]:  41%|██████████████████▏                         | 5528/13354 [00:22<00:30, 260.46it/s]:  42%|██████████████████▎                         | 5555/13354 [00:22<00:31, 251.51it/s]:  42%|██████████████████▍                         | 5581/13354 [00:22<00:31, 245.24it/s]:  42%|██████████████████▍                         | 5607/13354 [00:22<00:31, 246.58it/s]:  42%|██████████████████▌                         | 5635/13354 [00:22<00:30, 253.91it/s]:  42%|██████████████████▋                         | 5661/13354 [00:22<00:30, 254.32it/s]:  43%|██████████████████▋                         | 5688/13354 [00:22<00:29, 257.07it/s]:  43%|██████████████████▊                         | 5716/13354 [00:22<00:29, 263.03it/s]:  43%|██████████████████▉                         | 5743/13354 [00:22<00:28, 263.25it/s]:  43%|███████████████████                         | 5770/13354 [00:23<00:31, 240.16it/s]:  43%|███████████████████                         | 5799/13354 [00:23<00:29, 252.59it/s]:  44%|███████████████████▏                        | 5825/13354 [00:23<00:29, 254.00it/s]:  44%|███████████████████▎                        | 5851/13354 [00:23<00:29, 255.31it/s]:  44%|███████████████████▎                        | 5877/13354 [00:23<00:29, 253.99it/s]:  44%|███████████████████▍                        | 5906/13354 [00:23<00:28, 262.70it/s]:  44%|███████████████████▌                        | 5933/13354 [00:23<00:31, 237.81it/s]:  45%|███████████████████▋                        | 5958/13354 [00:23<00:30, 239.60it/s]:  45%|███████████████████▋                        | 5983/13354 [00:23<00:31, 236.49it/s]:  45%|███████████████████▊                        | 6009/13354 [00:24<00:30, 240.67it/s]:  45%|███████████████████▉                        | 6034/13354 [00:24<00:41, 176.13it/s]:  45%|███████████████████▉                        | 6056/13354 [00:24<00:39, 185.21it/s]:  46%|████████████████████                        | 6080/13354 [00:24<00:36, 197.42it/s]:  46%|████████████████████                        | 6107/13354 [00:24<00:33, 214.87it/s]:  46%|████████████████████▏                       | 6133/13354 [00:24<00:31, 226.48it/s]:  46%|████████████████████▎                       | 6157/13354 [00:24<00:32, 223.63it/s]:  46%|████████████████████▎                       | 6181/13354 [00:24<00:32, 224.14it/s]:  46%|████████████████████▍                       | 6204/13354 [00:25<00:31, 223.92it/s]:  47%|████████████████████▌                       | 6227/13354 [00:25<00:31, 223.44it/s]:  47%|████████████████████▌                       | 6251/13354 [00:25<00:31, 226.22it/s]:  47%|████████████████████▋                       | 6278/13354 [00:25<00:29, 237.29it/s]:  47%|████████████████████▊                       | 6302/13354 [00:25<00:30, 233.76it/s]:  47%|████████████████████▊                       | 6326/13354 [00:25<00:30, 230.41it/s]:  48%|████████████████████▉                       | 6353/13354 [00:25<00:28, 241.65it/s]:  48%|█████████████████████                       | 6378/13354 [00:25<00:29, 234.65it/s]:  48%|█████████████████████                       | 6402/13354 [00:25<00:30, 225.87it/s]:  48%|█████████████████████▏                      | 6426/13354 [00:25<00:30, 228.26it/s]:  48%|█████████████████████▏                      | 6449/13354 [00:26<00:30, 225.09it/s]:  49%|█████████████████████▎                      | 6477/13354 [00:26<00:28, 239.44it/s]:  49%|█████████████████████▍                      | 6503/13354 [00:26<00:28, 244.10it/s]:  49%|█████████████████████▌                      | 6528/13354 [00:26<00:28, 242.51it/s]:  49%|█████████████████████▌                      | 6553/13354 [00:26<00:28, 236.88it/s]:  49%|█████████████████████▋                      | 6577/13354 [00:26<00:28, 236.05it/s]:  49%|█████████████████████▊                      | 6604/13354 [00:26<00:27, 245.39it/s]:  50%|█████████████████████▊                      | 6629/13354 [00:26<00:28, 237.97it/s]:  50%|█████████████████████▉                      | 6657/13354 [00:26<00:27, 247.79it/s]:  50%|██████████████████████                      | 6682/13354 [00:27<00:27, 242.69it/s]:  50%|██████████████████████                      | 6707/13354 [00:27<00:28, 233.70it/s]:  50%|██████████████████████▏                     | 6731/13354 [00:27<00:29, 225.87it/s]:  51%|██████████████████████▎                     | 6754/13354 [00:27<00:29, 222.12it/s]:  51%|██████████████████████▎                     | 6778/13354 [00:27<00:29, 225.91it/s]:  51%|██████████████████████▍                     | 6801/13354 [00:27<00:29, 224.68it/s]:  51%|██████████████████████▍                     | 6824/13354 [00:27<00:29, 224.43it/s]:  51%|██████████████████████▌                     | 6852/13354 [00:27<00:27, 240.16it/s]:  51%|██████████████████████▋                     | 6877/13354 [00:27<00:27, 236.06it/s]:  52%|██████████████████████▋                     | 6901/13354 [00:28<00:29, 216.59it/s]:  52%|██████████████████████▊                     | 6926/13354 [00:28<00:28, 224.60it/s]:  52%|██████████████████████▉                     | 6949/13354 [00:28<00:32, 199.77it/s]:  52%|██████████████████████▉                     | 6970/13354 [00:28<00:33, 192.51it/s]:  52%|███████████████████████                     | 6991/13354 [00:28<00:32, 197.01it/s]:  53%|███████████████████████                     | 7014/13354 [00:28<00:30, 204.85it/s]:  53%|███████████████████████▏                    | 7040/13354 [00:28<00:28, 218.82it/s]:  53%|███████████████████████▎                    | 7066/13354 [00:28<00:27, 228.49it/s]:  53%|███████████████████████▎                    | 7091/13354 [00:28<00:26, 232.99it/s]:  53%|███████████████████████▍                    | 7118/13354 [00:29<00:25, 243.01it/s]:  54%|███████████████████████▌                    | 7146/13354 [00:29<00:24, 251.65it/s]:  54%|███████████████████████▋                    | 7172/13354 [00:29<00:25, 244.85it/s]:  54%|███████████████████████▋                    | 7198/13354 [00:29<00:24, 247.42it/s]:  54%|███████████████████████▊                    | 7224/13354 [00:29<00:24, 248.76it/s]:  54%|███████████████████████▉                    | 7251/13354 [00:29<00:23, 254.36it/s]:  54%|███████████████████████▉                    | 7277/13354 [00:29<00:24, 250.55it/s]:  55%|████████████████████████                    | 7306/13354 [00:29<00:23, 260.88it/s]:  55%|████████████████████████▏                   | 7333/13354 [00:29<00:24, 247.08it/s]:  55%|████████████████████████▎                   | 7361/13354 [00:29<00:23, 256.02it/s]:  55%|████████████████████████▎                   | 7387/13354 [00:30<00:23, 256.23it/s]:  56%|████████████████████████▍                   | 7413/13354 [00:30<00:24, 246.03it/s]:  56%|████████████████████████▌                   | 7439/13354 [00:30<00:23, 248.17it/s]:  56%|████████████████████████▌                   | 7465/13354 [00:30<00:23, 250.70it/s]:  56%|████████████████████████▋                   | 7491/13354 [00:30<00:23, 245.48it/s]:  56%|████████████████████████▊                   | 7519/13354 [00:30<00:22, 254.27it/s]:  56%|████████████████████████▊                   | 7545/13354 [00:30<00:22, 255.27it/s]:  57%|████████████████████████▉                   | 7575/13354 [00:30<00:21, 268.08it/s]:  57%|█████████████████████████                   | 7602/13354 [00:30<00:22, 255.39it/s]:  57%|█████████████████████████▏                  | 7628/13354 [00:31<00:23, 242.70it/s]:  57%|█████████████████████████▏                  | 7653/13354 [00:31<00:23, 241.42it/s]:  57%|█████████████████████████▎                  | 7678/13354 [00:31<00:23, 243.48it/s]:  58%|█████████████████████████▍                  | 7704/13354 [00:31<00:22, 245.86it/s]:  58%|█████████████████████████▍                  | 7729/13354 [00:31<00:22, 245.71it/s]:  58%|█████████████████████████▌                  | 7754/13354 [00:31<00:23, 243.04it/s]:  58%|█████████████████████████▋                  | 7781/13354 [00:31<00:22, 248.77it/s]:  58%|█████████████████████████▋                  | 7807/13354 [00:31<00:22, 250.26it/s]:  59%|█████████████████████████▊                  | 7833/13354 [00:31<00:22, 244.20it/s]:  59%|█████████████████████████▉                  | 7858/13354 [00:31<00:22, 242.15it/s]:  59%|█████████████████████████▉                  | 7885/13354 [00:32<00:21, 249.90it/s]:  59%|██████████████████████████                  | 7911/13354 [00:32<00:22, 246.97it/s]:  59%|██████████████████████████▏                 | 7936/13354 [00:32<00:22, 241.15it/s]:  60%|██████████████████████████▏                 | 7962/13354 [00:32<00:21, 245.96it/s]:  60%|██████████████████████████▎                 | 7987/13354 [00:32<00:21, 245.05it/s]:  60%|██████████████████████████▍                 | 8015/13354 [00:32<00:20, 254.97it/s]:  60%|██████████████████████████▍                 | 8041/13354 [00:32<00:20, 255.22it/s]:  60%|██████████████████████████▌                 | 8067/13354 [00:32<00:20, 252.22it/s]:  61%|██████████████████████████▋                 | 8093/13354 [00:32<00:21, 245.78it/s]:  61%|██████████████████████████▊                 | 8123/13354 [00:33<00:20, 260.30it/s]:  61%|██████████████████████████▊                 | 8150/13354 [00:33<00:20, 256.04it/s]:  61%|██████████████████████████▉                 | 8176/13354 [00:33<00:21, 245.73it/s]:  61%|███████████████████████████                 | 8201/13354 [00:33<00:21, 241.39it/s]:  62%|███████████████████████████                 | 8230/13354 [00:33<00:20, 253.98it/s]:  62%|███████████████████████████▏                | 8257/13354 [00:33<00:19, 257.04it/s]:  62%|███████████████████████████▎                | 8283/13354 [00:33<00:19, 254.11it/s]:  62%|███████████████████████████▍                | 8309/13354 [00:33<00:20, 241.03it/s]:  62%|███████████████████████████▍                | 8334/13354 [00:33<00:21, 233.60it/s]:  63%|███████████████████████████▌                | 8358/13354 [00:33<00:21, 232.27it/s]:  63%|███████████████████████████▋                | 8385/13354 [00:34<00:20, 241.25it/s]:  63%|███████████████████████████▋                | 8412/13354 [00:34<00:19, 248.57it/s]:  63%|███████████████████████████▊                | 8440/13354 [00:34<00:19, 255.62it/s]:  63%|███████████████████████████▉                | 8466/13354 [00:34<00:19, 247.05it/s]:  64%|███████████████████████████▉                | 8494/13354 [00:34<00:19, 255.69it/s]:  64%|████████████████████████████                | 8520/13354 [00:34<00:19, 249.74it/s]:  64%|████████████████████████████▏               | 8547/13354 [00:34<00:18, 254.28it/s]:  64%|████████████████████████████▏               | 8573/13354 [00:34<00:19, 247.09it/s]:  64%|████████████████████████████▎               | 8600/13354 [00:34<00:18, 253.09it/s]:  65%|████████████████████████████▍               | 8628/13354 [00:35<00:18, 260.20it/s]:  65%|████████████████████████████▌               | 8656/13354 [00:35<00:17, 264.50it/s]:  65%|████████████████████████████▌               | 8683/13354 [00:35<00:21, 221.26it/s]:  65%|████████████████████████████▋               | 8708/13354 [00:35<00:20, 228.36it/s]:  65%|████████████████████████████▊               | 8735/13354 [00:35<00:19, 238.21it/s]:  66%|████████████████████████████▊               | 8760/13354 [00:35<00:19, 241.27it/s]:  66%|████████████████████████████▉               | 8789/13354 [00:35<00:18, 253.60it/s]:  66%|█████████████████████████████               | 8816/13354 [00:35<00:17, 257.46it/s]:  66%|█████████████████████████████▏              | 8843/13354 [00:35<00:17, 251.97it/s]:  66%|█████████████████████████████▏              | 8869/13354 [00:36<00:18, 244.63it/s]:  67%|█████████████████████████████▎              | 8894/13354 [00:36<00:18, 244.98it/s]:  67%|█████████████████████████████▍              | 8920/13354 [00:36<00:17, 249.06it/s]:  67%|█████████████████████████████▍              | 8946/13354 [00:36<00:17, 250.49it/s]:  67%|█████████████████████████████▌              | 8972/13354 [00:36<00:18, 234.83it/s]:  67%|█████████████████████████████▋              | 9000/13354 [00:36<00:17, 245.11it/s]:  68%|█████████████████████████████▋              | 9025/13354 [00:36<00:17, 240.62it/s]:  68%|█████████████████████████████▊              | 9053/13354 [00:36<00:17, 250.36it/s]:  68%|█████████████████████████████▉              | 9080/13354 [00:36<00:16, 253.62it/s]:  68%|██████████████████████████████              | 9107/13354 [00:36<00:16, 256.02it/s]:  68%|██████████████████████████████              | 9134/13354 [00:37<00:16, 260.01it/s]:  69%|██████████████████████████████▏             | 9163/13354 [00:37<00:15, 267.98it/s]:  69%|██████████████████████████████▎             | 9191/13354 [00:37<00:15, 271.19it/s]:  69%|██████████████████████████████▍             | 9219/13354 [00:37<00:16, 257.17it/s]:  69%|██████████████████████████████▍             | 9245/13354 [00:37<00:16, 256.55it/s]:  69%|██████████████████████████████▌             | 9271/13354 [00:37<00:16, 251.97it/s]:  70%|██████████████████████████████▋             | 9297/13354 [00:37<00:16, 244.74it/s]:  70%|██████████████████████████████▋             | 9326/13354 [00:37<00:15, 254.86it/s]:  70%|██████████████████████████████▊             | 9353/13354 [00:37<00:15, 256.99it/s]:  70%|██████████████████████████████▉             | 9379/13354 [00:38<00:16, 243.37it/s]:  70%|██████████████████████████████▉             | 9404/13354 [00:38<00:16, 240.33it/s]:  71%|███████████████████████████████             | 9429/13354 [00:38<00:16, 235.81it/s]:  71%|███████████████████████████████▏            | 9453/13354 [00:38<00:16, 231.42it/s]:  71%|███████████████████████████████▏            | 9482/13354 [00:38<00:15, 246.27it/s]:  71%|███████████████████████████████▎            | 9510/13354 [00:38<00:15, 254.73it/s]:  71%|███████████████████████████████▍            | 9536/13354 [00:38<00:15, 247.76it/s]:  72%|███████████████████████████████▌            | 9561/13354 [00:38<00:15, 240.64it/s]:  72%|███████████████████████████████▌            | 9587/13354 [00:38<00:15, 244.70it/s]:  72%|███████████████████████████████▋            | 9612/13354 [00:39<00:16, 221.53it/s]:  72%|███████████████████████████████▋            | 9635/13354 [00:39<00:17, 218.23it/s]:  72%|███████████████████████████████▊            | 9658/13354 [00:39<00:17, 210.70it/s]:  73%|███████████████████████████████▉            | 9686/13354 [00:39<00:16, 228.66it/s]:  73%|███████████████████████████████▉            | 9710/13354 [00:39<00:16, 227.60it/s]:  73%|████████████████████████████████            | 9733/13354 [00:39<00:16, 225.45it/s]:  73%|████████████████████████████████▏           | 9759/13354 [00:39<00:15, 234.16it/s]:  73%|████████████████████████████████▏           | 9783/13354 [00:39<00:15, 233.92it/s]:  73%|████████████████████████████████▎           | 9807/13354 [00:39<00:15, 233.62it/s]:  74%|████████████████████████████████▍           | 9832/13354 [00:40<00:14, 237.63it/s]:  74%|████████████████████████████████▍           | 9856/13354 [00:40<00:14, 236.33it/s]:  74%|████████████████████████████████▌           | 9880/13354 [00:40<00:14, 233.41it/s]:  74%|████████████████████████████████▋           | 9904/13354 [00:40<00:14, 230.76it/s]:  74%|████████████████████████████████▋           | 9929/13354 [00:40<00:14, 236.13it/s]:  75%|████████████████████████████████▊           | 9958/13354 [00:40<00:13, 251.80it/s]:  75%|████████████████████████████████▉           | 9985/13354 [00:40<00:13, 255.22it/s]:  75%|████████████████████████████████▏          | 10015/13354 [00:40<00:12, 266.12it/s]:  75%|████████████████████████████████▎          | 10042/13354 [00:40<00:12, 258.21it/s]:  75%|████████████████████████████████▍          | 10069/13354 [00:40<00:12, 259.56it/s]:  76%|████████████████████████████████▌          | 10096/13354 [00:41<00:12, 254.45it/s]:  76%|████████████████████████████████▌          | 10122/13354 [00:41<00:12, 250.20it/s]:  76%|████████████████████████████████▋          | 10148/13354 [00:41<00:13, 246.51it/s]:  76%|████████████████████████████████▊          | 10173/13354 [00:41<00:13, 244.66it/s]:  76%|████████████████████████████████▊          | 10199/13354 [00:41<00:12, 248.79it/s]:  77%|████████████████████████████████▉          | 10225/13354 [00:41<00:12, 251.87it/s]:  77%|█████████████████████████████████          | 10251/13354 [00:41<00:12, 243.15it/s]:  77%|█████████████████████████████████          | 10278/13354 [00:41<00:12, 250.06it/s]:  77%|█████████████████████████████████▏         | 10304/13354 [00:41<00:12, 252.14it/s]:  77%|█████████████████████████████████▎         | 10330/13354 [00:42<00:11, 253.83it/s]:  78%|█████████████████████████████████▎         | 10358/13354 [00:42<00:11, 260.53it/s]:  78%|█████████████████████████████████▍         | 10385/13354 [00:42<00:12, 232.49it/s]:  78%|█████████████████████████████████▌         | 10411/13354 [00:42<00:12, 237.33it/s]:  78%|█████████████████████████████████▌         | 10436/13354 [00:42<00:12, 235.42it/s]:  78%|█████████████████████████████████▋         | 10460/13354 [00:42<00:12, 229.87it/s]:  79%|█████████████████████████████████▊         | 10484/13354 [00:42<00:12, 227.14it/s]:  79%|█████████████████████████████████▊         | 10512/13354 [00:42<00:11, 240.53it/s]:  79%|█████████████████████████████████▉         | 10540/13354 [00:42<00:11, 249.49it/s]:  79%|██████████████████████████████████         | 10566/13354 [00:43<00:11, 242.16it/s]:  79%|██████████████████████████████████         | 10594/13354 [00:43<00:11, 250.50it/s]:  80%|██████████████████████████████████▏        | 10620/13354 [00:43<00:10, 249.62it/s]:  80%|██████████████████████████████████▎        | 10646/13354 [00:43<00:10, 249.33it/s]:  80%|██████████████████████████████████▎        | 10671/13354 [00:43<00:10, 246.75it/s]:  80%|██████████████████████████████████▍        | 10697/13354 [00:43<00:10, 249.21it/s]:  80%|██████████████████████████████████▌        | 10722/13354 [00:43<00:10, 244.61it/s]:  80%|██████████████████████████████████▌        | 10747/13354 [00:43<00:10, 244.71it/s]:  81%|██████████████████████████████████▋        | 10772/13354 [00:43<00:10, 242.32it/s]:  81%|██████████████████████████████████▊        | 10799/13354 [00:43<00:10, 248.10it/s]:  81%|██████████████████████████████████▊        | 10824/13354 [00:44<00:10, 242.08it/s]:  81%|██████████████████████████████████▉        | 10851/13354 [00:44<00:10, 247.91it/s]:  81%|███████████████████████████████████        | 10876/13354 [00:44<00:10, 243.75it/s]:  82%|███████████████████████████████████        | 10901/13354 [00:44<00:10, 238.29it/s]:  82%|███████████████████████████████████▏       | 10926/13354 [00:44<00:10, 241.13it/s]:  82%|███████████████████████████████████▎       | 10955/13354 [00:44<00:09, 254.55it/s]:  82%|███████████████████████████████████▎       | 10981/13354 [00:44<00:09, 239.22it/s]:  82%|███████████████████████████████████▍       | 11006/13354 [00:44<00:09, 237.07it/s]:  83%|███████████████████████████████████▌       | 11033/13354 [00:44<00:09, 244.29it/s]:  83%|███████████████████████████████████▌       | 11060/13354 [00:45<00:09, 249.28it/s]:  83%|███████████████████████████████████▋       | 11086/13354 [00:45<00:09, 240.89it/s]:  83%|███████████████████████████████████▊       | 11111/13354 [00:45<00:09, 242.72it/s]:  83%|███████████████████████████████████▊       | 11138/13354 [00:45<00:08, 247.85it/s]:  84%|███████████████████████████████████▉       | 11163/13354 [00:45<00:08, 246.41it/s]:  84%|████████████████████████████████████       | 11188/13354 [00:45<00:08, 245.17it/s]:  84%|████████████████████████████████████       | 11215/13354 [00:45<00:08, 250.55it/s]:  84%|████████████████████████████████████▏      | 11241/13354 [00:45<00:08, 241.49it/s]:  84%|████████████████████████████████████▎      | 11266/13354 [00:45<00:08, 242.55it/s]:  85%|████████████████████████████████████▎      | 11293/13354 [00:45<00:08, 249.53it/s]:  85%|████████████████████████████████████▍      | 11319/13354 [00:46<00:08, 245.94it/s]:  85%|████████████████████████████████████▌      | 11345/13354 [00:46<00:08, 249.88it/s]:  85%|████████████████████████████████████▌      | 11371/13354 [00:46<00:08, 247.42it/s]:  85%|████████████████████████████████████▋      | 11399/13354 [00:46<00:07, 254.82it/s]:  86%|████████████████████████████████████▊      | 11425/13354 [00:46<00:07, 252.31it/s]:  86%|████████████████████████████████████▉      | 11453/13354 [00:46<00:07, 258.09it/s]:  86%|████████████████████████████████████▉      | 11482/13354 [00:46<00:07, 267.21it/s]:  86%|█████████████████████████████████████      | 11509/13354 [00:46<00:07, 261.06it/s]:  86%|█████████████████████████████████████▏     | 11536/13354 [00:46<00:07, 251.09it/s]:  87%|█████████████████████████████████████▏     | 11564/13354 [00:47<00:06, 259.06it/s]:  87%|█████████████████████████████████████▎     | 11594/13354 [00:47<00:06, 268.40it/s]:  87%|█████████████████████████████████████▍     | 11621/13354 [00:47<00:06, 266.90it/s]:  87%|█████████████████████████████████████▌     | 11648/13354 [00:47<00:07, 233.00it/s]:  87%|█████████████████████████████████████▌     | 11673/13354 [00:47<00:07, 237.06it/s]:  88%|█████████████████████████████████████▋     | 11703/13354 [00:47<00:06, 252.35it/s]:  88%|█████████████████████████████████████▊     | 11729/13354 [00:47<00:06, 245.36it/s]:  88%|█████████████████████████████████████▊     | 11754/13354 [00:47<00:06, 234.67it/s]:  88%|█████████████████████████████████████▉     | 11778/13354 [00:47<00:06, 233.02it/s]:  88%|██████████████████████████████████████     | 11802/13354 [00:48<00:06, 229.60it/s]:  89%|██████████████████████████████████████     | 11830/13354 [00:48<00:06, 242.83it/s]:  89%|██████████████████████████████████████▏    | 11855/13354 [00:48<00:06, 239.36it/s]:  89%|██████████████████████████████████████▎    | 11880/13354 [00:48<00:06, 239.55it/s]:  89%|██████████████████████████████████████▎    | 11905/13354 [00:48<00:06, 234.36it/s]:  89%|██████████████████████████████████████▍    | 11932/13354 [00:48<00:05, 242.46it/s]:  90%|██████████████████████████████████████▌    | 11957/13354 [00:48<00:05, 242.51it/s]:  90%|██████████████████████████████████████▌    | 11982/13354 [00:48<00:05, 242.55it/s]:  90%|██████████████████████████████████████▋    | 12007/13354 [00:48<00:05, 238.66it/s]:  90%|██████████████████████████████████████▋    | 12031/13354 [00:48<00:05, 234.43it/s]:  90%|██████████████████████████████████████▊    | 12055/13354 [00:49<00:05, 234.79it/s]:  90%|██████████████████████████████████████▉    | 12082/13354 [00:49<00:05, 242.53it/s]:  91%|██████████████████████████████████████▉    | 12107/13354 [00:49<00:05, 233.39it/s]:  91%|███████████████████████████████████████    | 12131/13354 [00:49<00:05, 232.76it/s]:  91%|███████████████████████████████████████▏   | 12157/13354 [00:49<00:04, 240.07it/s]:  91%|███████████████████████████████████████▏   | 12185/13354 [00:49<00:04, 251.46it/s]:  91%|███████████████████████████████████████▎   | 12212/13354 [00:49<00:04, 254.47it/s]:  92%|███████████████████████████████████████▍   | 12239/13354 [00:49<00:04, 257.54it/s]:  92%|███████████████████████████████████████▍   | 12265/13354 [00:49<00:04, 250.16it/s]:  92%|███████████████████████████████████████▌   | 12291/13354 [00:50<00:04, 245.73it/s]:  92%|███████████████████████████████████████▋   | 12317/13354 [00:50<00:04, 248.59it/s]:  92%|███████████████████████████████████████▊   | 12345/13354 [00:50<00:03, 256.56it/s]:  93%|███████████████████████████████████████▊   | 12371/13354 [00:50<00:04, 243.63it/s]:  93%|███████████████████████████████████████▉   | 12399/13354 [00:50<00:03, 251.95it/s]:  93%|████████████████████████████████████████   | 12428/13354 [00:50<00:03, 261.49it/s]:  93%|████████████████████████████████████████   | 12456/13354 [00:50<00:03, 264.49it/s]:  93%|████████████████████████████████████████▏  | 12483/13354 [00:50<00:03, 266.00it/s]:  94%|████████████████████████████████████████▎  | 12510/13354 [00:50<00:03, 265.34it/s]:  94%|████████████████████████████████████████▎  | 12537/13354 [00:50<00:03, 261.27it/s]:  94%|████████████████████████████████████████▍  | 12564/13354 [00:51<00:03, 258.69it/s]:  94%|████████████████████████████████████████▌  | 12590/13354 [00:51<00:02, 258.93it/s]:  94%|████████████████████████████████████████▌  | 12616/13354 [00:51<00:02, 248.87it/s]:  95%|████████████████████████████████████████▋  | 12641/13354 [00:51<00:02, 246.77it/s]:  95%|████████████████████████████████████████▊  | 12666/13354 [00:51<00:02, 241.81it/s]:  95%|████████████████████████████████████████▊  | 12691/13354 [00:51<00:02, 237.84it/s]:  95%|████████████████████████████████████████▉  | 12716/13354 [00:51<00:02, 240.93it/s]:  95%|█████████████████████████████████████████  | 12741/13354 [00:51<00:02, 241.40it/s]:  96%|█████████████████████████████████████████  | 12766/13354 [00:51<00:02, 241.27it/s]:  96%|█████████████████████████████████████████▏ | 12792/13354 [00:52<00:02, 245.78it/s]:  96%|█████████████████████████████████████████▎ | 12817/13354 [00:52<00:02, 243.78it/s]:  96%|█████████████████████████████████████████▎ | 12845/13354 [00:52<00:02, 253.63it/s]:  96%|█████████████████████████████████████████▍ | 12871/13354 [00:52<00:01, 252.08it/s]:  97%|█████████████████████████████████████████▌ | 12899/13354 [00:52<00:01, 257.98it/s]:  97%|█████████████████████████████████████████▋ | 12928/13354 [00:52<00:01, 266.20it/s]:  97%|█████████████████████████████████████████▋ | 12955/13354 [00:52<00:01, 262.07it/s]:  97%|█████████████████████████████████████████▊ | 12982/13354 [00:52<00:01, 259.74it/s]:  97%|█████████████████████████████████████████▉ | 13009/13354 [00:52<00:01, 260.29it/s]:  98%|█████████████████████████████████████████▉ | 13036/13354 [00:52<00:01, 254.67it/s]:  98%|██████████████████████████████████████████ | 13062/13354 [00:53<00:01, 254.80it/s]:  98%|██████████████████████████████████████████▏| 13088/13354 [00:53<00:01, 238.07it/s]:  98%|██████████████████████████████████████████▏| 13113/13354 [00:53<00:01, 232.24it/s]:  98%|██████████████████████████████████████████▎| 13137/13354 [00:53<00:00, 225.94it/s]:  99%|██████████████████████████████████████████▍| 13161/13354 [00:53<00:00, 229.30it/s]:  99%|██████████████████████████████████████████▍| 13185/13354 [00:53<00:00, 231.94it/s]:  99%|██████████████████████████████████████████▌| 13209/13354 [00:53<00:00, 229.32it/s]:  99%|██████████████████████████████████████████▋| 13238/13354 [00:53<00:00, 244.62it/s]:  99%|██████████████████████████████████████████▋| 13263/13354 [00:53<00:00, 240.27it/s]: 100%|██████████████████████████████████████████▊| 13292/13354 [00:54<00:00, 253.73it/s]: 100%|██████████████████████████████████████████▉| 13318/13354 [00:54<00:00, 243.10it/s]: 100%|██████████████████████████████████████████▉| 13343/13354 [00:54<00:00, 237.49it/s]: 100%|███████████████████████████████████████████| 13354/13354 [00:54<00:00, 245.90it/s]\n",
      "19 Dec 08:57    INFO  The running environment of this training is as follows:\n",
      "+-------------+----------------+\n",
      "| Environment |     Usage      |\n",
      "+=============+================+\n",
      "| CPU         |     0.40 %     |\n",
      "+-------------+----------------+\n",
      "| GPU         |   0.0 / 0.0    |\n",
      "+-------------+----------------+\n",
      "| Memory      | 6.97 G/15.58 G |\n",
      "+-------------+----------------+\n",
      "19 Dec 08:57    INFO  best valid : None\n",
      "19 Dec 08:57    INFO  test result: OrderedDict([('map@10', 0.0385), ('itemcoverage@10', 0.4104), ('averagepopularity@10', 2273.6575)])\n",
      "19 Dec 08:57    INFO  ['/opt/conda/lib/python3.10/site-packages/ipykernel_launcher.py', '-f', '/home/jovyan/.local/share/jupyter/runtime/kernel-1c288f33-ef01-4fa5-a243-e411b426aea2.json']\n",
      "19 Dec 08:57    INFO  \n",
      "General Hyper Parameters:\n",
      "gpu_id = 0\n",
      "use_gpu = True\n",
      "seed = 2020\n",
      "state = INFO\n",
      "reproducibility = True\n",
      "data_path = recbox_data\n",
      "checkpoint_dir = saved\n",
      "show_progress = True\n",
      "save_dataset = False\n",
      "dataset_save_path = None\n",
      "save_dataloaders = False\n",
      "dataloaders_save_path = None\n",
      "log_wandb = False\n",
      "\n",
      "Training Hyper Parameters:\n",
      "epochs = 10\n",
      "train_batch_size = 2048\n",
      "learner = adam\n",
      "learning_rate = 0.001\n",
      "train_neg_sample_args = {'distribution': 'none', 'sample_num': 'none', 'alpha': 'none', 'dynamic': False, 'candidate_num': 0}\n",
      "eval_step = 1\n",
      "stopping_step = 10\n",
      "clip_grad_norm = None\n",
      "weight_decay = 0.0\n",
      "loss_decimal_place = 4\n",
      "\n",
      "Evaluation Hyper Parameters:\n",
      "eval_args = {'split': {'RS': [9, 0, 1]}, 'order': 'TO', 'group_by': 'user', 'mode': {'valid': 'full', 'test': 'full'}}\n",
      "repeatable = False\n",
      "metrics = ['MAP', 'ItemCoverage', 'AveragePopularity']\n",
      "topk = [10]\n",
      "valid_metric = MRR@10\n",
      "valid_metric_bigger = True\n",
      "eval_batch_size = 4096\n",
      "metric_decimal_place = 4\n",
      "\n",
      "Dataset Hyper Parameters:\n",
      "field_separator = \t\n",
      "seq_separator =  \n",
      "USER_ID_FIELD = user_id\n",
      "ITEM_ID_FIELD = item_id\n",
      "RATING_FIELD = rating\n",
      "TIME_FIELD = timestamp\n",
      "seq_len = None\n",
      "LABEL_FIELD = label\n",
      "threshold = None\n",
      "NEG_PREFIX = neg_\n",
      "load_col = {'inter': ['user_id', 'item_id', 'timestamp']}\n",
      "unload_col = None\n",
      "unused_col = None\n",
      "additional_feat_suffix = None\n",
      "rm_dup_inter = None\n",
      "val_interval = None\n",
      "filter_inter_by_user_or_item = True\n",
      "user_inter_num_interval = [40,inf)\n",
      "item_inter_num_interval = [40,inf)\n",
      "alias_of_user_id = None\n",
      "alias_of_item_id = None\n",
      "alias_of_entity_id = None\n",
      "alias_of_relation_id = None\n",
      "preload_weight = None\n",
      "normalize_field = None\n",
      "normalize_all = None\n",
      "ITEM_LIST_LENGTH_FIELD = item_length\n",
      "LIST_SUFFIX = _list\n",
      "MAX_ITEM_LIST_LENGTH = 50\n",
      "POSITION_FIELD = position_id\n",
      "HEAD_ENTITY_ID_FIELD = head_id\n",
      "TAIL_ENTITY_ID_FIELD = tail_id\n",
      "RELATION_ID_FIELD = relation_id\n",
      "ENTITY_ID_FIELD = entity_id\n",
      "benchmark_filename = None\n",
      "\n",
      "Other Hyper Parameters: \n",
      "worker = 0\n",
      "wandb_project = recbole\n",
      "shuffle = True\n",
      "require_pow = False\n",
      "enable_amp = False\n",
      "enable_scaler = False\n",
      "transform = None\n",
      "hidden_dimension = 600\n",
      "latent_dimension = 200\n",
      "dropout_prob = 0.5\n",
      "beta = 0.2\n",
      "gamma = 0.005\n",
      "mixture_weights = [0.15, 0.75, 0.1]\n",
      "n_enc_epochs = 3\n",
      "n_dec_epochs = 1\n",
      "numerical_features = []\n",
      "discretization = None\n",
      "kg_reverse_r = False\n",
      "entity_kg_num_interval = [0,inf)\n",
      "relation_kg_num_interval = [0,inf)\n",
      "MODEL_TYPE = ModelType.GENERAL\n",
      "device = cpu\n",
      "neg_sampling = None\n",
      "MODEL_INPUT_TYPE = InputType.PAIRWISE\n",
      "eval_type = EvaluatorType.RANKING\n",
      "single_spec = True\n",
      "local_rank = 0\n",
      "valid_neg_sample_args = {'distribution': 'uniform', 'sample_num': 'none'}\n",
      "test_neg_sample_args = {'distribution': 'uniform', 'sample_num': 'none'}\n",
      "\n",
      "\n",
      "19 Dec 08:57    INFO  recbox_data\n",
      "The number of users: 13355\n",
      "Average actions of users: 63.815710648494836\n",
      "The number of items: 3294\n",
      "Average actions of items: 258.78985727300335\n",
      "The number of inters: 852195\n",
      "The sparsity of the dataset: 98.06281322904924%\n",
      "Remain Fields: ['user_id', 'item_id', 'timestamp']\n",
      "19 Dec 08:57    INFO  [Training]: train_batch_size = [2048] train_neg_sample_args: [{'distribution': 'none', 'sample_num': 'none', 'alpha': 'none', 'dynamic': False, 'candidate_num': 0}]\n",
      "19 Dec 08:57    INFO  [Evaluation]: eval_batch_size = [4096] eval_args: [{'split': {'RS': [9, 0, 1]}, 'order': 'TO', 'group_by': 'user', 'mode': {'valid': 'full', 'test': 'full'}}]\n",
      "19 Dec 08:57    WARNING  Max value of user's history interaction records has reached 20.9471766848816% of the total.\n",
      "19 Dec 08:57    INFO  RecVAE(\n",
      "  (encoder): Encoder(\n",
      "    (fc1): Linear(in_features=3294, out_features=600, bias=True)\n",
      "    (ln1): LayerNorm((600,), eps=0.1, elementwise_affine=True)\n",
      "    (fc2): Linear(in_features=600, out_features=600, bias=True)\n",
      "    (ln2): LayerNorm((600,), eps=0.1, elementwise_affine=True)\n",
      "    (fc3): Linear(in_features=600, out_features=600, bias=True)\n",
      "    (ln3): LayerNorm((600,), eps=0.1, elementwise_affine=True)\n",
      "    (fc4): Linear(in_features=600, out_features=600, bias=True)\n",
      "    (ln4): LayerNorm((600,), eps=0.1, elementwise_affine=True)\n",
      "    (fc5): Linear(in_features=600, out_features=600, bias=True)\n",
      "    (ln5): LayerNorm((600,), eps=0.1, elementwise_affine=True)\n",
      "    (fc_mu): Linear(in_features=600, out_features=200, bias=True)\n",
      "    (fc_logvar): Linear(in_features=600, out_features=200, bias=True)\n",
      "  )\n",
      "  (prior): CompositePrior(\n",
      "    (encoder_old): Encoder(\n",
      "      (fc1): Linear(in_features=3294, out_features=600, bias=True)\n",
      "      (ln1): LayerNorm((600,), eps=0.1, elementwise_affine=True)\n",
      "      (fc2): Linear(in_features=600, out_features=600, bias=True)\n",
      "      (ln2): LayerNorm((600,), eps=0.1, elementwise_affine=True)\n",
      "      (fc3): Linear(in_features=600, out_features=600, bias=True)\n",
      "      (ln3): LayerNorm((600,), eps=0.1, elementwise_affine=True)\n",
      "      (fc4): Linear(in_features=600, out_features=600, bias=True)\n",
      "      (ln4): LayerNorm((600,), eps=0.1, elementwise_affine=True)\n",
      "      (fc5): Linear(in_features=600, out_features=600, bias=True)\n",
      "      (ln5): LayerNorm((600,), eps=0.1, elementwise_affine=True)\n",
      "      (fc_mu): Linear(in_features=600, out_features=200, bias=True)\n",
      "      (fc_logvar): Linear(in_features=600, out_features=200, bias=True)\n",
      "    )\n",
      "  )\n",
      "  (decoder): Linear(in_features=200, out_features=3294, bias=True)\n",
      ")\n",
      "Trainable parameters: 4327894\n",
      "19 Dec 08:57    INFO  FLOPs: 4321200.0\n",
      "Train     0:   0%|                                                            | 0/7 [00:00<?, ?it/s]:  14%|███████▍                                            | 1/7 [00:00<00:02,  2.79it/s]:  29%|██████████████▊                                     | 2/7 [00:00<00:01,  2.91it/s]:  43%|██████████████████████▎                             | 3/7 [00:01<00:01,  2.97it/s]:  57%|█████████████████████████████▋                      | 4/7 [00:01<00:01,  2.99it/s]:  71%|█████████████████████████████████████▏              | 5/7 [00:01<00:00,  3.00it/s]:  86%|████████████████████████████████████████████▌       | 6/7 [00:01<00:00,  3.05it/s]: 100%|████████████████████████████████████████████████████| 7/7 [00:02<00:00,  3.61it/s]: 100%|████████████████████████████████████████████████████| 7/7 [00:02<00:00,  3.22it/s]\n",
      "Train     0:   0%|                                                            | 0/7 [00:00<?, ?it/s]:  14%|███████▍                                            | 1/7 [00:00<00:02,  2.94it/s]:  29%|██████████████▊                                     | 2/7 [00:00<00:01,  2.95it/s]:  43%|██████████████████████▎                             | 3/7 [00:01<00:01,  2.95it/s]:  57%|█████████████████████████████▋                      | 4/7 [00:01<00:00,  3.01it/s]:  71%|█████████████████████████████████████▏              | 5/7 [00:01<00:00,  2.97it/s]:  86%|████████████████████████████████████████████▌       | 6/7 [00:02<00:00,  2.97it/s]: 100%|████████████████████████████████████████████████████| 7/7 [00:02<00:00,  3.55it/s]: 100%|████████████████████████████████████████████████████| 7/7 [00:02<00:00,  3.19it/s]\n",
      "Train     0:   0%|                                                            | 0/7 [00:00<?, ?it/s]:  14%|███████▍                                            | 1/7 [00:00<00:02,  2.84it/s]:  29%|██████████████▊                                     | 2/7 [00:00<00:01,  2.96it/s]:  43%|██████████████████████▎                             | 3/7 [00:01<00:01,  3.00it/s]:  57%|█████████████████████████████▋                      | 4/7 [00:01<00:00,  3.08it/s]:  71%|█████████████████████████████████████▏              | 5/7 [00:01<00:00,  3.08it/s]:  86%|████████████████████████████████████████████▌       | 6/7 [00:01<00:00,  3.11it/s]: 100%|████████████████████████████████████████████████████| 7/7 [00:02<00:00,  3.67it/s]: 100%|████████████████████████████████████████████████████| 7/7 [00:02<00:00,  3.28it/s]\n",
      "Train     0:   0%|                                                            | 0/7 [00:00<?, ?it/s]:  14%|███████▍                                            | 1/7 [00:00<00:01,  3.06it/s]:  29%|██████████████▊                                     | 2/7 [00:00<00:01,  3.08it/s]:  43%|██████████████████████▎                             | 3/7 [00:00<00:01,  3.11it/s]:  57%|█████████████████████████████▋                      | 4/7 [00:01<00:00,  3.16it/s]:  71%|█████████████████████████████████████▏              | 5/7 [00:01<00:00,  2.95it/s]:  86%|████████████████████████████████████████████▌       | 6/7 [00:01<00:00,  3.08it/s]: 100%|████████████████████████████████████████████████████| 7/7 [00:02<00:00,  3.68it/s]: 100%|████████████████████████████████████████████████████| 7/7 [00:02<00:00,  3.31it/s]\n",
      "19 Dec 08:57    INFO  epoch 0 training [time: 8.66s, train loss: 2353.6623]\n",
      "19 Dec 08:57    INFO  Saving current: saved/RecVAE-Dec-19-2023_08-57-48.pth\n",
      "Train     1:   0%|                                                            | 0/7 [00:00<?, ?it/s]:  14%|███████▍                                            | 1/7 [00:00<00:02,  2.79it/s]:  29%|██████████████▊                                     | 2/7 [00:00<00:01,  2.89it/s]:  43%|██████████████████████▎                             | 3/7 [00:01<00:01,  2.96it/s]:  57%|█████████████████████████████▋                      | 4/7 [00:01<00:00,  3.04it/s]:  71%|█████████████████████████████████████▏              | 5/7 [00:01<00:00,  3.06it/s]:  86%|████████████████████████████████████████████▌       | 6/7 [00:01<00:00,  3.10it/s]: 100%|████████████████████████████████████████████████████| 7/7 [00:02<00:00,  3.67it/s]: 100%|████████████████████████████████████████████████████| 7/7 [00:02<00:00,  3.26it/s]\n",
      "Train     1:   0%|                                                            | 0/7 [00:00<?, ?it/s]:  14%|███████▍                                            | 1/7 [00:00<00:02,  2.86it/s]:  29%|██████████████▊                                     | 2/7 [00:00<00:01,  2.97it/s]:  43%|██████████████████████▎                             | 3/7 [00:01<00:01,  2.98it/s]:  57%|█████████████████████████████▋                      | 4/7 [00:01<00:00,  3.01it/s]:  71%|█████████████████████████████████████▏              | 5/7 [00:01<00:00,  2.97it/s]:  86%|████████████████████████████████████████████▌       | 6/7 [00:01<00:00,  3.03it/s]: 100%|████████████████████████████████████████████████████| 7/7 [00:02<00:00,  3.57it/s]: 100%|████████████████████████████████████████████████████| 7/7 [00:02<00:00,  3.21it/s]\n",
      "Train     1:   0%|                                                            | 0/7 [00:00<?, ?it/s]:  14%|███████▍                                            | 1/7 [00:00<00:02,  2.92it/s]:  29%|██████████████▊                                     | 2/7 [00:00<00:01,  2.85it/s]:  43%|██████████████████████▎                             | 3/7 [00:01<00:01,  2.99it/s]:  57%|█████████████████████████████▋                      | 4/7 [00:01<00:00,  3.05it/s]:  71%|█████████████████████████████████████▏              | 5/7 [00:01<00:00,  3.09it/s]:  86%|████████████████████████████████████████████▌       | 6/7 [00:02<00:00,  3.00it/s]: 100%|████████████████████████████████████████████████████| 7/7 [00:02<00:00,  3.57it/s]: 100%|████████████████████████████████████████████████████| 7/7 [00:02<00:00,  3.22it/s]\n",
      "Train     1:   0%|                                                            | 0/7 [00:00<?, ?it/s]:  14%|███████▍                                            | 1/7 [00:00<00:01,  3.24it/s]:  29%|██████████████▊                                     | 2/7 [00:00<00:01,  3.22it/s]:  43%|██████████████████████▎                             | 3/7 [00:00<00:01,  3.25it/s]:  57%|█████████████████████████████▋                      | 4/7 [00:01<00:00,  3.31it/s]:  71%|█████████████████████████████████████▏              | 5/7 [00:01<00:00,  3.32it/s]:  86%|████████████████████████████████████████████▌       | 6/7 [00:01<00:00,  3.31it/s]: 100%|████████████████████████████████████████████████████| 7/7 [00:01<00:00,  3.90it/s]: 100%|████████████████████████████████████████████████████| 7/7 [00:01<00:00,  3.52it/s]\n",
      "19 Dec 08:58    INFO  epoch 1 training [time: 8.54s, train loss: 2244.7568]\n",
      "19 Dec 08:58    INFO  Saving current: saved/RecVAE-Dec-19-2023_08-57-48.pth\n",
      "Train     2:   0%|                                                            | 0/7 [00:00<?, ?it/s]:  14%|███████▍                                            | 1/7 [00:00<00:02,  2.71it/s]:  29%|██████████████▊                                     | 2/7 [00:00<00:01,  2.85it/s]:  43%|██████████████████████▎                             | 3/7 [00:01<00:01,  2.94it/s]:  57%|█████████████████████████████▋                      | 4/7 [00:01<00:00,  3.05it/s]:  71%|█████████████████████████████████████▏              | 5/7 [00:01<00:00,  3.05it/s]:  86%|████████████████████████████████████████████▌       | 6/7 [00:01<00:00,  3.10it/s]: 100%|████████████████████████████████████████████████████| 7/7 [00:02<00:00,  3.66it/s]: 100%|████████████████████████████████████████████████████| 7/7 [00:02<00:00,  3.24it/s]\n",
      "Train     2:   0%|                                                            | 0/7 [00:00<?, ?it/s]:  14%|███████▍                                            | 1/7 [00:00<00:01,  3.09it/s]:  29%|██████████████▊                                     | 2/7 [00:00<00:01,  3.07it/s]:  43%|██████████████████████▎                             | 3/7 [00:01<00:01,  2.95it/s]:  57%|█████████████████████████████▋                      | 4/7 [00:01<00:01,  2.96it/s]:  71%|█████████████████████████████████████▏              | 5/7 [00:01<00:00,  3.04it/s]:  86%|████████████████████████████████████████████▌       | 6/7 [00:01<00:00,  3.08it/s]: 100%|████████████████████████████████████████████████████| 7/7 [00:02<00:00,  3.66it/s]: 100%|████████████████████████████████████████████████████| 7/7 [00:02<00:00,  3.27it/s]\n",
      "Train     2:   0%|                                                            | 0/7 [00:00<?, ?it/s]:  14%|███████▍                                            | 1/7 [00:00<00:02,  2.26it/s]:  29%|██████████████▊                                     | 2/7 [00:00<00:01,  2.52it/s]:  43%|██████████████████████▎                             | 3/7 [00:01<00:01,  2.76it/s]:  57%|█████████████████████████████▋                      | 4/7 [00:01<00:01,  2.90it/s]:  71%|█████████████████████████████████████▏              | 5/7 [00:01<00:00,  3.02it/s]:  86%|████████████████████████████████████████████▌       | 6/7 [00:02<00:00,  3.08it/s]: 100%|████████████████████████████████████████████████████| 7/7 [00:02<00:00,  3.61it/s]: 100%|████████████████████████████████████████████████████| 7/7 [00:02<00:00,  3.11it/s]\n",
      "Train     2:   0%|                                                            | 0/7 [00:00<?, ?it/s]:  14%|███████▍                                            | 1/7 [00:00<00:01,  3.11it/s]:  29%|██████████████▊                                     | 2/7 [00:00<00:01,  2.91it/s]:  43%|██████████████████████▎                             | 3/7 [00:00<00:01,  3.02it/s]:  57%|█████████████████████████████▋                      | 4/7 [00:01<00:00,  3.13it/s]:  71%|█████████████████████████████████████▏              | 5/7 [00:01<00:00,  3.18it/s]:  86%|████████████████████████████████████████████▌       | 6/7 [00:01<00:00,  3.17it/s]: 100%|████████████████████████████████████████████████████| 7/7 [00:02<00:00,  3.77it/s]: 100%|████████████████████████████████████████████████████| 7/7 [00:02<00:00,  3.35it/s]\n",
      "19 Dec 08:58    INFO  epoch 2 training [time: 8.68s, train loss: 2184.6198]\n",
      "19 Dec 08:58    INFO  Saving current: saved/RecVAE-Dec-19-2023_08-57-48.pth\n",
      "Train     3:   0%|                                                            | 0/7 [00:00<?, ?it/s]:  14%|███████▍                                            | 1/7 [00:00<00:02,  2.82it/s]:  29%|██████████████▊                                     | 2/7 [00:00<00:01,  2.99it/s]:  43%|██████████████████████▎                             | 3/7 [00:00<00:01,  3.05it/s]:  57%|█████████████████████████████▋                      | 4/7 [00:01<00:00,  3.10it/s]:  71%|█████████████████████████████████████▏              | 5/7 [00:01<00:00,  3.09it/s]:  86%|████████████████████████████████████████████▌       | 6/7 [00:01<00:00,  3.09it/s]: 100%|████████████████████████████████████████████████████| 7/7 [00:02<00:00,  3.65it/s]: 100%|████████████████████████████████████████████████████| 7/7 [00:02<00:00,  3.28it/s]\n",
      "Train     3:   0%|                                                            | 0/7 [00:00<?, ?it/s]:  14%|███████▍                                            | 1/7 [00:00<00:02,  2.90it/s]:  29%|██████████████▊                                     | 2/7 [00:00<00:01,  2.71it/s]:  43%|██████████████████████▎                             | 3/7 [00:01<00:01,  2.88it/s]:  57%|█████████████████████████████▋                      | 4/7 [00:01<00:01,  2.97it/s]:  71%|█████████████████████████████████████▏              | 5/7 [00:01<00:00,  3.02it/s]:  86%|████████████████████████████████████████████▌       | 6/7 [00:02<00:00,  3.06it/s]: 100%|████████████████████████████████████████████████████| 7/7 [00:02<00:00,  3.61it/s]: 100%|████████████████████████████████████████████████████| 7/7 [00:02<00:00,  3.20it/s]\n",
      "Train     3:   0%|                                                            | 0/7 [00:00<?, ?it/s]:  14%|███████▍                                            | 1/7 [00:00<00:02,  2.87it/s]:  29%|██████████████▊                                     | 2/7 [00:00<00:01,  2.87it/s]:  43%|██████████████████████▎                             | 3/7 [00:01<00:01,  2.95it/s]:  57%|█████████████████████████████▋                      | 4/7 [00:01<00:01,  2.86it/s]:  71%|█████████████████████████████████████▏              | 5/7 [00:01<00:00,  2.92it/s]:  86%|████████████████████████████████████████████▌       | 6/7 [00:02<00:00,  2.97it/s]: 100%|████████████████████████████████████████████████████| 7/7 [00:02<00:00,  3.52it/s]: 100%|████████████████████████████████████████████████████| 7/7 [00:02<00:00,  3.14it/s]\n",
      "Train     3:   0%|                                                            | 0/7 [00:00<?, ?it/s]:  14%|███████▍                                            | 1/7 [00:00<00:02,  2.81it/s]:  29%|██████████████▊                                     | 2/7 [00:00<00:01,  3.01it/s]:  43%|██████████████████████▎                             | 3/7 [00:00<00:01,  3.11it/s]:  57%|█████████████████████████████▋                      | 4/7 [00:01<00:00,  3.17it/s]:  71%|█████████████████████████████████████▏              | 5/7 [00:01<00:00,  3.19it/s]:  86%|████████████████████████████████████████████▌       | 6/7 [00:01<00:00,  3.16it/s]: 100%|████████████████████████████████████████████████████| 7/7 [00:02<00:00,  3.79it/s]: 100%|████████████████████████████████████████████████████| 7/7 [00:02<00:00,  3.37it/s]\n",
      "19 Dec 08:58    INFO  epoch 3 training [time: 8.67s, train loss: 2145.9088]\n",
      "19 Dec 08:58    INFO  Saving current: saved/RecVAE-Dec-19-2023_08-57-48.pth\n",
      "Train     4:   0%|                                                            | 0/7 [00:00<?, ?it/s]:  14%|███████▍                                            | 1/7 [00:00<00:02,  2.93it/s]:  29%|██████████████▊                                     | 2/7 [00:00<00:01,  3.06it/s]:  43%|██████████████████████▎                             | 3/7 [00:01<00:01,  2.75it/s]:  57%|█████████████████████████████▋                      | 4/7 [00:01<00:01,  2.82it/s]:  71%|█████████████████████████████████████▏              | 5/7 [00:01<00:00,  2.91it/s]:  86%|████████████████████████████████████████████▌       | 6/7 [00:02<00:00,  3.01it/s]: 100%|████████████████████████████████████████████████████| 7/7 [00:02<00:00,  3.55it/s]: 100%|████████████████████████████████████████████████████| 7/7 [00:02<00:00,  3.15it/s]\n",
      "Train     4:   0%|                                                            | 0/7 [00:00<?, ?it/s]:  14%|███████▍                                            | 1/7 [00:00<00:02,  2.93it/s]:  29%|██████████████▊                                     | 2/7 [00:00<00:01,  3.02it/s]:  43%|██████████████████████▎                             | 3/7 [00:00<00:01,  3.05it/s]:  57%|█████████████████████████████▋                      | 4/7 [00:01<00:00,  3.10it/s]:  71%|█████████████████████████████████████▏              | 5/7 [00:01<00:00,  3.12it/s]:  86%|████████████████████████████████████████████▌       | 6/7 [00:01<00:00,  3.12it/s]: 100%|████████████████████████████████████████████████████| 7/7 [00:02<00:00,  3.62it/s]: 100%|████████████████████████████████████████████████████| 7/7 [00:02<00:00,  3.28it/s]\n",
      "Train     4:   0%|                                                            | 0/7 [00:00<?, ?it/s]:  14%|███████▍                                            | 1/7 [00:00<00:02,  2.99it/s]:  29%|██████████████▊                                     | 2/7 [00:00<00:01,  3.07it/s]:  43%|██████████████████████▎                             | 3/7 [00:00<00:01,  3.12it/s]:  57%|█████████████████████████████▋                      | 4/7 [00:01<00:00,  3.12it/s]:  71%|█████████████████████████████████████▏              | 5/7 [00:01<00:00,  3.03it/s]:  86%|████████████████████████████████████████████▌       | 6/7 [00:01<00:00,  3.03it/s]: 100%|████████████████████████████████████████████████████| 7/7 [00:02<00:00,  3.58it/s]: 100%|████████████████████████████████████████████████████| 7/7 [00:02<00:00,  3.26it/s]\n",
      "Train     4:   0%|                                                            | 0/7 [00:00<?, ?it/s]:  14%|███████▍                                            | 1/7 [00:00<00:01,  3.14it/s]:  29%|██████████████▊                                     | 2/7 [00:00<00:01,  3.11it/s]:  43%|██████████████████████▎                             | 3/7 [00:00<00:01,  3.18it/s]:  57%|█████████████████████████████▋                      | 4/7 [00:01<00:00,  3.21it/s]:  71%|█████████████████████████████████████▏              | 5/7 [00:01<00:00,  3.11it/s]:  86%|████████████████████████████████████████████▌       | 6/7 [00:01<00:00,  3.04it/s]: 100%|████████████████████████████████████████████████████| 7/7 [00:02<00:00,  3.65it/s]: 100%|████████████████████████████████████████████████████| 7/7 [00:02<00:00,  3.33it/s]\n",
      "19 Dec 08:58    INFO  epoch 4 training [time: 8.64s, train loss: 2107.9062]\n",
      "19 Dec 08:58    INFO  Saving current: saved/RecVAE-Dec-19-2023_08-57-48.pth\n",
      "Train     5:   0%|                                                            | 0/7 [00:00<?, ?it/s]:  14%|███████▍                                            | 1/7 [00:00<00:02,  2.89it/s]:  29%|██████████████▊                                     | 2/7 [00:00<00:01,  3.07it/s]:  43%|██████████████████████▎                             | 3/7 [00:00<00:01,  3.06it/s]:  57%|█████████████████████████████▋                      | 4/7 [00:01<00:00,  3.05it/s]:  71%|█████████████████████████████████████▏              | 5/7 [00:01<00:00,  3.07it/s]:  86%|████████████████████████████████████████████▌       | 6/7 [00:01<00:00,  3.09it/s]: 100%|████████████████████████████████████████████████████| 7/7 [00:02<00:00,  3.68it/s]: 100%|████████████████████████████████████████████████████| 7/7 [00:02<00:00,  3.29it/s]\n",
      "Train     5:   0%|                                                            | 0/7 [00:00<?, ?it/s]:  14%|███████▍                                            | 1/7 [00:00<00:02,  2.98it/s]:  29%|██████████████▊                                     | 2/7 [00:00<00:01,  2.98it/s]:  43%|██████████████████████▎                             | 3/7 [00:00<00:01,  3.04it/s]:  57%|█████████████████████████████▋                      | 4/7 [00:01<00:01,  2.99it/s]:  71%|█████████████████████████████████████▏              | 5/7 [00:01<00:00,  3.00it/s]:  86%|████████████████████████████████████████████▌       | 6/7 [00:01<00:00,  3.03it/s]: 100%|████████████████████████████████████████████████████| 7/7 [00:02<00:00,  3.59it/s]: 100%|████████████████████████████████████████████████████| 7/7 [00:02<00:00,  3.23it/s]\n",
      "Train     5:   0%|                                                            | 0/7 [00:00<?, ?it/s]:  14%|███████▍                                            | 1/7 [00:00<00:01,  3.01it/s]:  29%|██████████████▊                                     | 2/7 [00:00<00:01,  2.89it/s]:  43%|██████████████████████▎                             | 3/7 [00:01<00:01,  2.95it/s]:  57%|█████████████████████████████▋                      | 4/7 [00:01<00:00,  3.04it/s]:  71%|█████████████████████████████████████▏              | 5/7 [00:01<00:00,  3.03it/s]:  86%|████████████████████████████████████████████▌       | 6/7 [00:02<00:00,  3.00it/s]: 100%|████████████████████████████████████████████████████| 7/7 [00:02<00:00,  3.54it/s]: 100%|████████████████████████████████████████████████████| 7/7 [00:02<00:00,  3.20it/s]\n",
      "Train     5:   0%|                                                            | 0/7 [00:00<?, ?it/s]:  14%|███████▍                                            | 1/7 [00:00<00:01,  3.14it/s]:  29%|██████████████▊                                     | 2/7 [00:00<00:01,  3.17it/s]:  43%|██████████████████████▎                             | 3/7 [00:00<00:01,  3.28it/s]:  57%|█████████████████████████████▋                      | 4/7 [00:01<00:00,  3.26it/s]:  71%|█████████████████████████████████████▏              | 5/7 [00:01<00:00,  3.26it/s]:  86%|████████████████████████████████████████████▌       | 6/7 [00:01<00:00,  3.29it/s]: 100%|████████████████████████████████████████████████████| 7/7 [00:01<00:00,  3.91it/s]: 100%|████████████████████████████████████████████████████| 7/7 [00:02<00:00,  3.50it/s]\n",
      "19 Dec 08:58    INFO  epoch 5 training [time: 8.52s, train loss: 2075.3958]\n",
      "19 Dec 08:58    INFO  Saving current: saved/RecVAE-Dec-19-2023_08-57-48.pth\n",
      "Train     6:   0%|                                                            | 0/7 [00:00<?, ?it/s]:  14%|███████▍                                            | 1/7 [00:00<00:02,  2.78it/s]:  29%|██████████████▊                                     | 2/7 [00:00<00:01,  2.92it/s]:  43%|██████████████████████▎                             | 3/7 [00:01<00:01,  2.99it/s]:  57%|█████████████████████████████▋                      | 4/7 [00:01<00:00,  3.04it/s]:  71%|█████████████████████████████████████▏              | 5/7 [00:01<00:00,  3.07it/s]:  86%|████████████████████████████████████████████▌       | 6/7 [00:01<00:00,  3.10it/s]: 100%|████████████████████████████████████████████████████| 7/7 [00:02<00:00,  3.63it/s]: 100%|████████████████████████████████████████████████████| 7/7 [00:02<00:00,  3.25it/s]\n",
      "Train     6:   0%|                                                            | 0/7 [00:00<?, ?it/s]:  14%|███████▍                                            | 1/7 [00:00<00:02,  2.72it/s]:  29%|██████████████▊                                     | 2/7 [00:00<00:01,  2.81it/s]:  43%|██████████████████████▎                             | 3/7 [00:01<00:01,  2.91it/s]:  57%|█████████████████████████████▋                      | 4/7 [00:01<00:01,  2.96it/s]:  71%|█████████████████████████████████████▏              | 5/7 [00:01<00:00,  2.93it/s]:  86%|████████████████████████████████████████████▌       | 6/7 [00:02<00:00,  3.00it/s]: 100%|████████████████████████████████████████████████████| 7/7 [00:02<00:00,  3.55it/s]: 100%|████████████████████████████████████████████████████| 7/7 [00:02<00:00,  3.16it/s]\n",
      "Train     6:   0%|                                                            | 0/7 [00:00<?, ?it/s]:  14%|███████▍                                            | 1/7 [00:00<00:02,  2.13it/s]:  29%|██████████████▊                                     | 2/7 [00:00<00:01,  2.53it/s]:  43%|██████████████████████▎                             | 3/7 [00:01<00:01,  2.78it/s]:  57%|█████████████████████████████▋                      | 4/7 [00:01<00:01,  2.86it/s]:  71%|█████████████████████████████████████▏              | 5/7 [00:01<00:00,  2.97it/s]:  86%|████████████████████████████████████████████▌       | 6/7 [00:02<00:00,  3.05it/s]: 100%|████████████████████████████████████████████████████| 7/7 [00:02<00:00,  3.61it/s]: 100%|████████████████████████████████████████████████████| 7/7 [00:02<00:00,  3.09it/s]\n",
      "Train     6:   0%|                                                            | 0/7 [00:00<?, ?it/s]:  14%|███████▍                                            | 1/7 [00:00<00:01,  3.12it/s]:  29%|██████████████▊                                     | 2/7 [00:00<00:01,  3.13it/s]:  43%|██████████████████████▎                             | 3/7 [00:00<00:01,  3.14it/s]:  57%|█████████████████████████████▋                      | 4/7 [00:01<00:00,  3.19it/s]:  71%|█████████████████████████████████████▏              | 5/7 [00:01<00:00,  3.20it/s]:  86%|████████████████████████████████████████████▌       | 6/7 [00:01<00:00,  3.24it/s]: 100%|████████████████████████████████████████████████████| 7/7 [00:02<00:00,  3.83it/s]: 100%|████████████████████████████████████████████████████| 7/7 [00:02<00:00,  3.43it/s]\n",
      "19 Dec 08:58    INFO  epoch 6 training [time: 8.71s, train loss: 2044.5481]\n",
      "19 Dec 08:58    INFO  Saving current: saved/RecVAE-Dec-19-2023_08-57-48.pth\n",
      "Train     7:   0%|                                                            | 0/7 [00:00<?, ?it/s]:  14%|███████▍                                            | 1/7 [00:00<00:02,  2.88it/s]:  29%|██████████████▊                                     | 2/7 [00:00<00:01,  2.97it/s]:  43%|██████████████████████▎                             | 3/7 [00:00<00:01,  3.04it/s]:  57%|█████████████████████████████▋                      | 4/7 [00:01<00:00,  3.03it/s]:  71%|█████████████████████████████████████▏              | 5/7 [00:01<00:00,  3.06it/s]:  86%|████████████████████████████████████████████▌       | 6/7 [00:01<00:00,  3.07it/s]: 100%|████████████████████████████████████████████████████| 7/7 [00:02<00:00,  3.65it/s]: 100%|████████████████████████████████████████████████████| 7/7 [00:02<00:00,  3.27it/s]\n",
      "Train     7:   0%|                                                            | 0/7 [00:00<?, ?it/s]:  14%|███████▍                                            | 1/7 [00:00<00:02,  2.91it/s]:  29%|██████████████▊                                     | 2/7 [00:00<00:01,  2.86it/s]:  43%|██████████████████████▎                             | 3/7 [00:01<00:01,  2.90it/s]:  57%|█████████████████████████████▋                      | 4/7 [00:01<00:01,  2.99it/s]:  71%|█████████████████████████████████████▏              | 5/7 [00:01<00:00,  3.06it/s]:  86%|████████████████████████████████████████████▌       | 6/7 [00:01<00:00,  3.11it/s]: 100%|████████████████████████████████████████████████████| 7/7 [00:02<00:00,  3.67it/s]: 100%|████████████████████████████████████████████████████| 7/7 [00:02<00:00,  3.25it/s]\n",
      "Train     7:   0%|                                                            | 0/7 [00:00<?, ?it/s]:  14%|███████▍                                            | 1/7 [00:00<00:02,  2.87it/s]:  29%|██████████████▊                                     | 2/7 [00:00<00:01,  2.98it/s]:  43%|██████████████████████▎                             | 3/7 [00:01<00:01,  3.02it/s]:  57%|█████████████████████████████▋                      | 4/7 [00:01<00:01,  2.96it/s]:  71%|█████████████████████████████████████▏              | 5/7 [00:01<00:00,  3.00it/s]:  86%|████████████████████████████████████████████▌       | 6/7 [00:02<00:00,  3.00it/s]: 100%|████████████████████████████████████████████████████| 7/7 [00:02<00:00,  3.56it/s]: 100%|████████████████████████████████████████████████████| 7/7 [00:02<00:00,  3.20it/s]\n",
      "Train     7:   0%|                                                            | 0/7 [00:00<?, ?it/s]:  14%|███████▍                                            | 1/7 [00:00<00:02,  2.42it/s]:  29%|██████████████▊                                     | 2/7 [00:00<00:01,  2.76it/s]:  43%|██████████████████████▎                             | 3/7 [00:01<00:01,  2.95it/s]:  57%|█████████████████████████████▋                      | 4/7 [00:01<00:00,  3.05it/s]:  71%|█████████████████████████████████████▏              | 5/7 [00:01<00:00,  3.15it/s]:  86%|████████████████████████████████████████████▌       | 6/7 [00:01<00:00,  3.18it/s]: 100%|████████████████████████████████████████████████████| 7/7 [00:02<00:00,  3.78it/s]: 100%|████████████████████████████████████████████████████| 7/7 [00:02<00:00,  3.28it/s]\n",
      "19 Dec 08:58    INFO  epoch 7 training [time: 8.66s, train loss: 2016.3142]\n",
      "19 Dec 08:58    INFO  Saving current: saved/RecVAE-Dec-19-2023_08-57-48.pth\n",
      "Train     8:   0%|                                                            | 0/7 [00:00<?, ?it/s]:  14%|███████▍                                            | 1/7 [00:00<00:02,  2.80it/s]:  29%|██████████████▊                                     | 2/7 [00:00<00:01,  2.96it/s]:  43%|██████████████████████▎                             | 3/7 [00:01<00:01,  2.99it/s]:  57%|█████████████████████████████▋                      | 4/7 [00:01<00:00,  3.01it/s]:  71%|█████████████████████████████████████▏              | 5/7 [00:01<00:00,  3.00it/s]:  86%|████████████████████████████████████████████▌       | 6/7 [00:01<00:00,  3.05it/s]: 100%|████████████████████████████████████████████████████| 7/7 [00:02<00:00,  3.59it/s]: 100%|████████████████████████████████████████████████████| 7/7 [00:02<00:00,  3.22it/s]\n",
      "Train     8:   0%|                                                            | 0/7 [00:00<?, ?it/s]:  14%|███████▍                                            | 1/7 [00:00<00:02,  2.79it/s]:  29%|██████████████▊                                     | 2/7 [00:00<00:01,  2.90it/s]:  43%|██████████████████████▎                             | 3/7 [00:01<00:01,  3.00it/s]:  57%|█████████████████████████████▋                      | 4/7 [00:01<00:00,  3.03it/s]:  71%|█████████████████████████████████████▏              | 5/7 [00:01<00:00,  2.97it/s]:  86%|████████████████████████████████████████████▌       | 6/7 [00:02<00:00,  3.01it/s]: 100%|████████████████████████████████████████████████████| 7/7 [00:02<00:00,  3.58it/s]: 100%|████████████████████████████████████████████████████| 7/7 [00:02<00:00,  3.20it/s]\n",
      "Train     8:   0%|                                                            | 0/7 [00:00<?, ?it/s]:  14%|███████▍                                            | 1/7 [00:00<00:01,  3.05it/s]:  29%|██████████████▊                                     | 2/7 [00:00<00:01,  2.89it/s]:  43%|██████████████████████▎                             | 3/7 [00:01<00:01,  2.99it/s]:  57%|█████████████████████████████▋                      | 4/7 [00:01<00:00,  3.03it/s]:  71%|█████████████████████████████████████▏              | 5/7 [00:01<00:00,  3.08it/s]:  86%|████████████████████████████████████████████▌       | 6/7 [00:01<00:00,  3.09it/s]: 100%|████████████████████████████████████████████████████| 7/7 [00:02<00:00,  3.66it/s]: 100%|████████████████████████████████████████████████████| 7/7 [00:02<00:00,  3.27it/s]\n",
      "Train     8:   0%|                                                            | 0/7 [00:00<?, ?it/s]:  14%|███████▍                                            | 1/7 [00:00<00:01,  3.10it/s]:  29%|██████████████▊                                     | 2/7 [00:00<00:01,  3.14it/s]:  43%|██████████████████████▎                             | 3/7 [00:00<00:01,  3.17it/s]:  57%|█████████████████████████████▋                      | 4/7 [00:01<00:00,  3.22it/s]:  71%|█████████████████████████████████████▏              | 5/7 [00:01<00:00,  3.23it/s]:  86%|████████████████████████████████████████████▌       | 6/7 [00:01<00:00,  3.21it/s]: 100%|████████████████████████████████████████████████████| 7/7 [00:02<00:00,  3.69it/s]: 100%|████████████████████████████████████████████████████| 7/7 [00:02<00:00,  3.38it/s]\n",
      "19 Dec 08:59    INFO  epoch 8 training [time: 8.60s, train loss: 2000.3311]\n",
      "19 Dec 08:59    INFO  Saving current: saved/RecVAE-Dec-19-2023_08-57-48.pth\n",
      "Train     9:   0%|                                                            | 0/7 [00:00<?, ?it/s]:  14%|███████▍                                            | 1/7 [00:00<00:02,  2.90it/s]:  29%|██████████████▊                                     | 2/7 [00:00<00:01,  3.06it/s]:  43%|██████████████████████▎                             | 3/7 [00:00<00:01,  3.06it/s]:  57%|█████████████████████████████▋                      | 4/7 [00:01<00:00,  3.05it/s]:  71%|█████████████████████████████████████▏              | 5/7 [00:01<00:00,  3.03it/s]:  86%|████████████████████████████████████████████▌       | 6/7 [00:01<00:00,  3.04it/s]: 100%|████████████████████████████████████████████████████| 7/7 [00:02<00:00,  3.59it/s]: 100%|████████████████████████████████████████████████████| 7/7 [00:02<00:00,  3.25it/s]\n",
      "Train     9:   0%|                                                            | 0/7 [00:00<?, ?it/s]:  14%|███████▍                                            | 1/7 [00:00<00:02,  2.87it/s]:  29%|██████████████▊                                     | 2/7 [00:00<00:01,  3.06it/s]:  43%|██████████████████████▎                             | 3/7 [00:00<00:01,  3.08it/s]:  57%|█████████████████████████████▋                      | 4/7 [00:01<00:01,  2.95it/s]:  71%|█████████████████████████████████████▏              | 5/7 [00:01<00:00,  2.97it/s]:  86%|████████████████████████████████████████████▌       | 6/7 [00:02<00:00,  2.98it/s]: 100%|████████████████████████████████████████████████████| 7/7 [00:02<00:00,  3.53it/s]: 100%|████████████████████████████████████████████████████| 7/7 [00:02<00:00,  3.20it/s]\n",
      "Train     9:   0%|                                                            | 0/7 [00:00<?, ?it/s]:  14%|███████▍                                            | 1/7 [00:00<00:02,  2.76it/s]:  29%|██████████████▊                                     | 2/7 [00:00<00:01,  2.80it/s]:  43%|██████████████████████▎                             | 3/7 [00:01<00:01,  2.95it/s]:  57%|█████████████████████████████▋                      | 4/7 [00:01<00:00,  3.02it/s]:  71%|█████████████████████████████████████▏              | 5/7 [00:01<00:00,  3.10it/s]:  86%|████████████████████████████████████████████▌       | 6/7 [00:01<00:00,  3.13it/s]: 100%|████████████████████████████████████████████████████| 7/7 [00:02<00:00,  3.68it/s]: 100%|████████████████████████████████████████████████████| 7/7 [00:02<00:00,  3.26it/s]\n",
      "Train     9:   0%|                                                            | 0/7 [00:00<?, ?it/s]:  14%|███████▍                                            | 1/7 [00:00<00:01,  3.11it/s]:  29%|██████████████▊                                     | 2/7 [00:00<00:01,  3.24it/s]:  43%|██████████████████████▎                             | 3/7 [00:00<00:01,  3.27it/s]:  57%|█████████████████████████████▋                      | 4/7 [00:01<00:00,  3.31it/s]:  71%|█████████████████████████████████████▏              | 5/7 [00:01<00:00,  3.33it/s]:  86%|████████████████████████████████████████████▌       | 6/7 [00:01<00:00,  3.36it/s]: 100%|████████████████████████████████████████████████████| 7/7 [00:01<00:00,  3.96it/s]: 100%|████████████████████████████████████████████████████| 7/7 [00:01<00:00,  3.55it/s]\n",
      "19 Dec 08:59    INFO  epoch 9 training [time: 8.50s, train loss: 1979.2951]\n",
      "19 Dec 08:59    INFO  Saving current: saved/RecVAE-Dec-19-2023_08-57-48.pth\n",
      "19 Dec 08:59    INFO  Loading model structure and parameters from saved/RecVAE-Dec-19-2023_08-57-48.pth\n",
      "Evaluate   :   0%|                                                        | 0/13354 [00:00<?, ?it/s]:   1%|▎                                             | 92/13354 [00:00<00:14, 915.50it/s]:   1%|▋                                            | 191/13354 [00:00<00:13, 954.58it/s]:   2%|▉                                            | 289/13354 [00:00<00:13, 962.42it/s]:   3%|█▎                                          | 396/13354 [00:00<00:12, 1003.26it/s]:   4%|█▋                                          | 497/13354 [00:00<00:12, 1002.33it/s]:   4%|█▉                                          | 598/13354 [00:00<00:12, 1003.34it/s]:   5%|██▎                                         | 700/13354 [00:00<00:12, 1008.43it/s]:   6%|██▋                                         | 801/13354 [00:00<00:12, 1001.88it/s]:   7%|██▉                                         | 906/13354 [00:00<00:12, 1014.13it/s]:   8%|███▎                                        | 1008/13354 [00:01<00:12, 998.42it/s]:   8%|███▌                                       | 1110/13354 [00:01<00:12, 1004.67it/s]:   9%|███▉                                        | 1211/13354 [00:01<00:12, 949.79it/s]:  10%|████▎                                       | 1307/13354 [00:01<00:13, 883.39it/s]:  11%|████▋                                       | 1405/13354 [00:01<00:13, 908.14it/s]:  11%|████▉                                       | 1497/13354 [00:01<00:13, 891.17it/s]:  12%|█████▎                                      | 1600/13354 [00:01<00:12, 928.52it/s]:  13%|█████▌                                      | 1699/13354 [00:01<00:12, 945.38it/s]:  13%|█████▉                                      | 1801/13354 [00:01<00:11, 966.79it/s]:  14%|██████▎                                     | 1902/13354 [00:01<00:11, 977.74it/s]:  15%|██████▌                                     | 2001/13354 [00:02<00:11, 965.09it/s]:  16%|██████▉                                     | 2105/13354 [00:02<00:11, 985.31it/s]:  17%|███████▎                                    | 2205/13354 [00:02<00:11, 988.21it/s]:  17%|███████▌                                    | 2304/13354 [00:02<00:11, 987.50it/s]:  18%|███████▉                                    | 2403/13354 [00:02<00:11, 974.75it/s]:  19%|████████▏                                   | 2501/13354 [00:02<00:11, 962.84it/s]:  19%|████████▌                                   | 2601/13354 [00:02<00:11, 973.69it/s]:  20%|████████▉                                   | 2699/13354 [00:02<00:10, 973.71it/s]:  21%|█████████▏                                  | 2800/13354 [00:02<00:10, 983.03it/s]:  22%|█████████▌                                  | 2899/13354 [00:02<00:10, 970.15it/s]:  22%|█████████▊                                  | 2997/13354 [00:03<00:10, 963.95it/s]:  23%|██████████▏                                 | 3094/13354 [00:03<00:11, 923.55it/s]:  24%|██████████▌                                 | 3187/13354 [00:03<00:11, 896.79it/s]:  25%|██████████▊                                 | 3278/13354 [00:03<00:11, 889.34it/s]:  25%|███████████                                 | 3370/13354 [00:03<00:11, 897.72it/s]:  26%|███████████▍                                | 3460/13354 [00:03<00:11, 855.53it/s]:  27%|███████████▋                                | 3556/13354 [00:03<00:11, 884.24it/s]:  27%|████████████                                | 3650/13354 [00:03<00:10, 897.23it/s]:  28%|████████████▎                               | 3741/13354 [00:03<00:10, 900.34it/s]:  29%|████████████▋                               | 3832/13354 [00:04<00:11, 864.33it/s]:  29%|████████████▉                               | 3919/13354 [00:04<00:11, 832.22it/s]:  30%|█████████████▏                              | 4015/13354 [00:04<00:10, 866.97it/s]:  31%|█████████████▌                              | 4103/13354 [00:04<00:11, 808.90it/s]:  31%|█████████████▊                              | 4185/13354 [00:04<00:11, 786.15it/s]:  32%|██████████████                              | 4266/13354 [00:04<00:11, 792.69it/s]:  33%|██████████████▎                             | 4357/13354 [00:04<00:10, 823.68it/s]:  33%|██████████████▋                             | 4442/13354 [00:04<00:10, 829.30it/s]:  34%|██████████████▉                             | 4526/13354 [00:04<00:10, 808.92it/s]:  35%|███████████████▏                            | 4608/13354 [00:05<00:10, 804.11it/s]:  35%|███████████████▍                            | 4689/13354 [00:05<00:11, 761.47it/s]:  36%|███████████████▋                            | 4770/13354 [00:05<00:11, 773.85it/s]:  36%|███████████████▉                            | 4848/13354 [00:05<00:11, 767.51it/s]:  37%|████████████████▎                           | 4933/13354 [00:05<00:10, 790.76it/s]:  38%|████████████████▌                           | 5020/13354 [00:05<00:10, 812.05it/s]:  38%|████████████████▊                           | 5102/13354 [00:05<00:10, 801.07it/s]:  39%|█████████████████                           | 5183/13354 [00:05<00:10, 784.84it/s]:  39%|█████████████████▎                          | 5262/13354 [00:05<00:10, 782.94it/s]:  40%|█████████████████▋                          | 5354/13354 [00:05<00:09, 820.70it/s]:  41%|█████████████████▉                          | 5437/13354 [00:06<00:09, 793.89it/s]:  41%|██████████████████▏                         | 5526/13354 [00:06<00:09, 819.78it/s]:  42%|██████████████████▍                         | 5609/13354 [00:06<00:09, 804.27it/s]:  43%|██████████████████▊                         | 5694/13354 [00:06<00:09, 815.13it/s]:  43%|███████████████████                         | 5776/13354 [00:06<00:09, 813.71it/s]:  44%|███████████████████▎                        | 5863/13354 [00:06<00:09, 827.48it/s]:  45%|███████████████████▌                        | 5946/13354 [00:06<00:09, 777.65it/s]:  45%|███████████████████▊                        | 6028/13354 [00:06<00:09, 789.07it/s]:  46%|████████████████████▏                       | 6115/13354 [00:06<00:08, 810.15it/s]:  46%|████████████████████▍                       | 6197/13354 [00:07<00:09, 751.77it/s]:  47%|████████████████████▋                       | 6274/13354 [00:07<00:09, 745.35it/s]:  48%|████████████████████▉                       | 6350/13354 [00:07<00:09, 743.70it/s]:  48%|█████████████████████▏                      | 6427/13354 [00:07<00:09, 750.68it/s]:  49%|█████████████████████▍                      | 6516/13354 [00:07<00:08, 789.06it/s]:  49%|█████████████████████▋                      | 6601/13354 [00:07<00:08, 804.86it/s]:  50%|██████████████████████                      | 6682/13354 [00:07<00:08, 789.99it/s]:  51%|██████████████████████▎                     | 6774/13354 [00:07<00:07, 826.28it/s]:  51%|██████████████████████▌                     | 6857/13354 [00:07<00:07, 822.75it/s]:  52%|██████████████████████▊                     | 6940/13354 [00:07<00:07, 810.87it/s]:  53%|███████████████████████▏                    | 7022/13354 [00:08<00:08, 787.59it/s]:  53%|███████████████████████▍                    | 7103/13354 [00:08<00:07, 792.46it/s]:  54%|███████████████████████▋                    | 7183/13354 [00:08<00:07, 792.36it/s]:  54%|███████████████████████▉                    | 7270/13354 [00:08<00:07, 814.67it/s]:  55%|████████████████████████▏                   | 7352/13354 [00:08<00:07, 801.00it/s]:  56%|████████████████████████▍                   | 7433/13354 [00:08<00:07, 750.68it/s]:  56%|████████████████████████▊                   | 7516/13354 [00:08<00:07, 772.51it/s]:  57%|█████████████████████████                   | 7594/13354 [00:08<00:07, 772.51it/s]:  58%|█████████████████████████▎                  | 7680/13354 [00:08<00:07, 794.74it/s]:  58%|█████████████████████████▌                  | 7760/13354 [00:09<00:07, 793.22it/s]:  59%|█████████████████████████▊                  | 7840/13354 [00:09<00:06, 790.68it/s]:  59%|██████████████████████████                  | 7920/13354 [00:09<00:07, 774.98it/s]:  60%|██████████████████████████▎                 | 8002/13354 [00:09<00:06, 785.17it/s]:  61%|██████████████████████████▋                 | 8082/13354 [00:09<00:06, 787.09it/s]:  61%|██████████████████████████▉                 | 8161/13354 [00:09<00:06, 765.64it/s]:  62%|███████████████████████████▏                | 8252/13354 [00:09<00:06, 805.94it/s]:  62%|███████████████████████████▍                | 8333/13354 [00:09<00:06, 754.67it/s]:  63%|███████████████████████████▋                | 8410/13354 [00:09<00:06, 749.47it/s]:  64%|███████████████████████████▉                | 8486/13354 [00:09<00:06, 706.37it/s]:  64%|████████████████████████████▏               | 8566/13354 [00:10<00:06, 731.18it/s]:  65%|████████████████████████████▍               | 8647/13354 [00:10<00:06, 751.84it/s]:  65%|████████████████████████████▋               | 8723/13354 [00:10<00:06, 721.10it/s]:  66%|█████████████████████████████               | 8804/13354 [00:10<00:06, 746.05it/s]:  67%|█████████████████████████████▎              | 8889/13354 [00:10<00:05, 774.77it/s]:  67%|█████████████████████████████▌              | 8968/13354 [00:10<00:05, 752.64it/s]:  68%|█████████████████████████████▊              | 9062/13354 [00:10<00:05, 804.68it/s]:  68%|██████████████████████████████▏             | 9144/13354 [00:10<00:05, 792.31it/s]:  69%|██████████████████████████████▍             | 9224/13354 [00:10<00:05, 737.72it/s]:  70%|██████████████████████████████▋             | 9299/13354 [00:11<00:05, 737.91it/s]:  70%|██████████████████████████████▉             | 9377/13354 [00:11<00:05, 749.11it/s]:  71%|███████████████████████████████▏            | 9465/13354 [00:11<00:04, 784.83it/s]:  71%|███████████████████████████████▍            | 9544/13354 [00:11<00:04, 783.22it/s]:  72%|███████████████████████████████▋            | 9623/13354 [00:11<00:04, 778.33it/s]:  73%|████████████████████████████████            | 9713/13354 [00:11<00:04, 813.19it/s]:  73%|████████████████████████████████▎           | 9795/13354 [00:11<00:04, 809.19it/s]:  74%|████████████████████████████████▌           | 9877/13354 [00:11<00:04, 792.45it/s]:  75%|████████████████████████████████▊           | 9957/13354 [00:11<00:04, 792.81it/s]:  75%|████████████████████████████████▎          | 10037/13354 [00:11<00:04, 791.19it/s]:  76%|████████████████████████████████▌          | 10117/13354 [00:12<00:04, 784.71it/s]:  76%|████████████████████████████████▊          | 10205/13354 [00:12<00:03, 810.26it/s]:  77%|█████████████████████████████████          | 10287/13354 [00:12<00:03, 786.72it/s]:  78%|█████████████████████████████████▍         | 10366/13354 [00:12<00:03, 776.31it/s]:  78%|█████████████████████████████████▋         | 10444/13354 [00:12<00:03, 771.69it/s]:  79%|█████████████████████████████████▉         | 10522/13354 [00:12<00:03, 771.20it/s]:  79%|██████████████████████████████████▏        | 10605/13354 [00:12<00:03, 787.24it/s]:  80%|██████████████████████████████████▍        | 10688/13354 [00:12<00:03, 798.85it/s]:  81%|██████████████████████████████████▋        | 10768/13354 [00:12<00:03, 787.39it/s]:  81%|██████████████████████████████████▉        | 10847/13354 [00:13<00:03, 784.73it/s]:  82%|███████████████████████████████████▏       | 10929/13354 [00:13<00:03, 795.00it/s]:  82%|███████████████████████████████████▍       | 11012/13354 [00:13<00:02, 804.32it/s]:  83%|███████████████████████████████████▋       | 11093/13354 [00:13<00:02, 795.65it/s]:  84%|███████████████████████████████████▉       | 11175/13354 [00:13<00:02, 802.19it/s]:  84%|████████████████████████████████████▏      | 11256/13354 [00:13<00:02, 772.79it/s]:  85%|████████████████████████████████████▌      | 11339/13354 [00:13<00:02, 788.47it/s]:  86%|████████████████████████████████████▊      | 11419/13354 [00:13<00:02, 788.09it/s]:  86%|█████████████████████████████████████      | 11498/13354 [00:13<00:02, 768.00it/s]:  87%|█████████████████████████████████████▎     | 11579/13354 [00:13<00:02, 778.22it/s]:  87%|█████████████████████████████████████▌     | 11657/13354 [00:14<00:02, 748.18it/s]:  88%|█████████████████████████████████████▊     | 11741/13354 [00:14<00:02, 773.25it/s]:  89%|██████████████████████████████████████     | 11819/13354 [00:14<00:01, 769.95it/s]:  89%|██████████████████████████████████████▎    | 11897/13354 [00:14<00:01, 750.86it/s]:  90%|██████████████████████████████████████▌    | 11985/13354 [00:14<00:01, 786.80it/s]:  90%|██████████████████████████████████████▊    | 12068/13354 [00:14<00:01, 797.03it/s]:  91%|███████████████████████████████████████    | 12148/13354 [00:14<00:01, 769.78it/s]:  92%|███████████████████████████████████████▍   | 12230/13354 [00:14<00:01, 781.89it/s]:  92%|███████████████████████████████████████▋   | 12309/13354 [00:14<00:01, 756.18it/s]:  93%|███████████████████████████████████████▉   | 12385/13354 [00:15<00:01, 739.18it/s]:  93%|████████████████████████████████████████   | 12460/13354 [00:15<00:01, 696.34it/s]:  94%|████████████████████████████████████████▎  | 12532/13354 [00:15<00:01, 701.63it/s]:  94%|████████████████████████████████████████▌  | 12608/13354 [00:15<00:01, 716.47it/s]:  95%|████████████████████████████████████████▊  | 12681/13354 [00:15<00:00, 702.47it/s]:  95%|█████████████████████████████████████████  | 12752/13354 [00:15<00:00, 641.94it/s]:  96%|█████████████████████████████████████████▎ | 12838/13354 [00:15<00:00, 699.44it/s]:  97%|█████████████████████████████████████████▌ | 12916/13354 [00:15<00:00, 721.74it/s]:  97%|█████████████████████████████████████████▊ | 12990/13354 [00:15<00:00, 714.26it/s]:  98%|██████████████████████████████████████████ | 13063/13354 [00:15<00:00, 715.40it/s]:  98%|██████████████████████████████████████████▎| 13136/13354 [00:16<00:00, 717.50it/s]:  99%|██████████████████████████████████████████▌| 13216/13354 [00:16<00:00, 740.37it/s]: 100%|██████████████████████████████████████████▊| 13291/13354 [00:16<00:00, 719.41it/s]: 100%|███████████████████████████████████████████| 13354/13354 [00:16<00:00, 815.33it/s]\n",
      "19 Dec 08:59    INFO  The running environment of this training is as follows:\n",
      "+-------------+----------------+\n",
      "| Environment |     Usage      |\n",
      "+=============+================+\n",
      "| CPU         |     0.10 %     |\n",
      "+-------------+----------------+\n",
      "| GPU         |   0.0 / 0.0    |\n",
      "+-------------+----------------+\n",
      "| Memory      | 5.48 G/15.58 G |\n",
      "+-------------+----------------+\n",
      "19 Dec 08:59    INFO  best valid : None\n",
      "19 Dec 08:59    INFO  test result: OrderedDict([('map@10', 0.0415), ('itemcoverage@10', 0.1427), ('averagepopularity@10', 2552.3366)])\n"
     ]
    }
   ],
   "source": [
    "model_list = ['Pop', 'MultiDAE', 'MacridVAE', \"RecVAE\"] \n",
    "\n",
    "model_results = []\n",
    "for model_name in model_list:\n",
    "    result = run_recbole(model=model_name, dataset=\"recbox_data\", config_dict = parameter_dict)\n",
    "    model_results.append({**result, 'model_name': model_name})"
   ]
  },
  {
   "cell_type": "code",
   "execution_count": 333,
   "id": "cf06c222-afde-4c7b-be09-6a93a330f449",
   "metadata": {},
   "outputs": [
    {
     "data": {
      "text/plain": [
       "[{'best_valid_score': -inf,\n",
       "  'valid_score_bigger': True,\n",
       "  'best_valid_result': None,\n",
       "  'test_result': OrderedDict([('map@10', 0.0189),\n",
       "               ('itemcoverage@10', 0.0112),\n",
       "               ('averagepopularity@10', 3254.4746)]),\n",
       "  'model_name': 'Pop'},\n",
       " {'best_valid_score': -inf,\n",
       "  'valid_score_bigger': True,\n",
       "  'best_valid_result': None,\n",
       "  'test_result': OrderedDict([('map@10', 0.0407),\n",
       "               ('itemcoverage@10', 0.1582),\n",
       "               ('averagepopularity@10', 2510.1628)]),\n",
       "  'model_name': 'MultiDAE'},\n",
       " {'best_valid_score': -inf,\n",
       "  'valid_score_bigger': True,\n",
       "  'best_valid_result': None,\n",
       "  'test_result': OrderedDict([('map@10', 0.0385),\n",
       "               ('itemcoverage@10', 0.4104),\n",
       "               ('averagepopularity@10', 2273.6575)]),\n",
       "  'model_name': 'MacridVAE'},\n",
       " {'best_valid_score': -inf,\n",
       "  'valid_score_bigger': True,\n",
       "  'best_valid_result': None,\n",
       "  'test_result': OrderedDict([('map@10', 0.0415),\n",
       "               ('itemcoverage@10', 0.1427),\n",
       "               ('averagepopularity@10', 2552.3366)]),\n",
       "  'model_name': 'RecVAE'}]"
      ]
     },
     "execution_count": 333,
     "metadata": {},
     "output_type": "execute_result"
    }
   ],
   "source": [
    "model_results"
   ]
  },
  {
   "cell_type": "markdown",
   "id": "27615fb9-44b0-4773-be4c-eab2aa70024e",
   "metadata": {},
   "source": [
    "Лучшее значение MAP@10 достигается у RecVAE"
   ]
  },
  {
   "cell_type": "markdown",
   "id": "1ae5fcb0-5383-4c0d-91a3-051e1e2eea78",
   "metadata": {},
   "source": [
    "### Обучение и тестирование потенциально хорошей модели BERT4Rec"
   ]
  },
  {
   "cell_type": "code",
   "execution_count": 348,
   "id": "4690b026-b3bf-4736-ba3b-a27171ffef69",
   "metadata": {},
   "outputs": [],
   "source": [
    "config = Config(model='BERT4Rec', dataset='recbox_data', config_dict=parameter_dict)\n",
    "init_seed(config['seed'], config['reproducibility'])"
   ]
  },
  {
   "cell_type": "code",
   "execution_count": 349,
   "id": "09e6aceb-1eea-4d4c-828e-bc240480d3a9",
   "metadata": {},
   "outputs": [
    {
     "name": "stderr",
     "output_type": "stream",
     "text": [
      "19 Dec 09:26    INFO  [Training]: train_batch_size = [2048] train_neg_sample_args: [{'distribution': 'none', 'sample_num': 'none', 'alpha': 'none', 'dynamic': False, 'candidate_num': 0}]\n",
      "19 Dec 09:26    INFO  [Evaluation]: eval_batch_size = [4096] eval_args: [{'split': {'RS': [9, 0, 1]}, 'order': 'TO', 'group_by': 'user', 'mode': {'valid': 'full', 'test': 'full'}}]\n"
     ]
    }
   ],
   "source": [
    "dataset = create_dataset(config)\n",
    "train_data, valid_data, test_data = data_preparation(config, dataset)"
   ]
  },
  {
   "cell_type": "code",
   "execution_count": 350,
   "id": "878f1b5c-70a9-4deb-a00d-393a88715b9a",
   "metadata": {},
   "outputs": [],
   "source": [
    "model = BERT4Rec(config, train_data.dataset)"
   ]
  },
  {
   "cell_type": "code",
   "execution_count": 352,
   "id": "b07bf75e-b980-4be8-a12c-f96e94d0d1f1",
   "metadata": {},
   "outputs": [
    {
     "data": {
      "text/plain": [
       "BERT4Rec(\n",
       "  (item_embedding): Embedding(3295, 64, padding_idx=0)\n",
       "  (position_embedding): Embedding(50, 64)\n",
       "  (trm_encoder): TransformerEncoder(\n",
       "    (layer): ModuleList(\n",
       "      (0-1): 2 x TransformerLayer(\n",
       "        (multi_head_attention): MultiHeadAttention(\n",
       "          (query): Linear(in_features=64, out_features=64, bias=True)\n",
       "          (key): Linear(in_features=64, out_features=64, bias=True)\n",
       "          (value): Linear(in_features=64, out_features=64, bias=True)\n",
       "          (softmax): Softmax(dim=-1)\n",
       "          (attn_dropout): Dropout(p=0.2, inplace=False)\n",
       "          (dense): Linear(in_features=64, out_features=64, bias=True)\n",
       "          (LayerNorm): LayerNorm((64,), eps=1e-12, elementwise_affine=True)\n",
       "          (out_dropout): Dropout(p=0.2, inplace=False)\n",
       "        )\n",
       "        (feed_forward): FeedForward(\n",
       "          (dense_1): Linear(in_features=64, out_features=256, bias=True)\n",
       "          (dense_2): Linear(in_features=256, out_features=64, bias=True)\n",
       "          (LayerNorm): LayerNorm((64,), eps=1e-12, elementwise_affine=True)\n",
       "          (dropout): Dropout(p=0.2, inplace=False)\n",
       "        )\n",
       "      )\n",
       "    )\n",
       "  )\n",
       "  (LayerNorm): LayerNorm((64,), eps=1e-12, elementwise_affine=True)\n",
       "  (dropout): Dropout(p=0.2, inplace=False)\n",
       "  (output_ffn): Linear(in_features=64, out_features=64, bias=True)\n",
       "  (output_gelu): GELU(approximate='none')\n",
       "  (output_ln): LayerNorm((64,), eps=1e-12, elementwise_affine=True)\n",
       ")"
      ]
     },
     "execution_count": 352,
     "metadata": {},
     "output_type": "execute_result"
    }
   ],
   "source": [
    "model"
   ]
  },
  {
   "cell_type": "code",
   "execution_count": 351,
   "id": "04620426-7257-4ee6-aee2-ba4320b60e9e",
   "metadata": {},
   "outputs": [
    {
     "name": "stderr",
     "output_type": "stream",
     "text": [
      "19 Dec 09:41    INFO  epoch 0 training [time: 877.63s, train loss: 2757.1272]\n",
      "19 Dec 09:41    INFO  Saving current: saved/BERT4Rec-Dec-19-2023_09-26-42.pth\n",
      "19 Dec 09:56    INFO  epoch 1 training [time: 906.15s, train loss: 2592.0990]\n",
      "19 Dec 09:56    INFO  Saving current: saved/BERT4Rec-Dec-19-2023_09-26-42.pth\n",
      "19 Dec 10:09    INFO  epoch 2 training [time: 808.08s, train loss: 2534.2304]\n",
      "19 Dec 10:09    INFO  Saving current: saved/BERT4Rec-Dec-19-2023_09-26-42.pth\n",
      "19 Dec 10:23    INFO  epoch 3 training [time: 791.07s, train loss: 2508.9247]\n",
      "19 Dec 10:23    INFO  Saving current: saved/BERT4Rec-Dec-19-2023_09-26-42.pth\n",
      "19 Dec 10:36    INFO  epoch 4 training [time: 788.79s, train loss: 2490.9033]\n",
      "19 Dec 10:36    INFO  Saving current: saved/BERT4Rec-Dec-19-2023_09-26-42.pth\n",
      "19 Dec 10:49    INFO  epoch 5 training [time: 792.64s, train loss: 2476.8456]\n",
      "19 Dec 10:49    INFO  Saving current: saved/BERT4Rec-Dec-19-2023_09-26-42.pth\n",
      "19 Dec 11:02    INFO  epoch 6 training [time: 806.36s, train loss: 2466.6794]\n",
      "19 Dec 11:02    INFO  Saving current: saved/BERT4Rec-Dec-19-2023_09-26-42.pth\n",
      "19 Dec 11:17    INFO  epoch 7 training [time: 883.50s, train loss: 2456.7316]\n",
      "19 Dec 11:17    INFO  Saving current: saved/BERT4Rec-Dec-19-2023_09-26-42.pth\n",
      "19 Dec 11:31    INFO  epoch 8 training [time: 822.56s, train loss: 2447.3239]\n",
      "19 Dec 11:31    INFO  Saving current: saved/BERT4Rec-Dec-19-2023_09-26-42.pth\n",
      "19 Dec 11:44    INFO  epoch 9 training [time: 790.80s, train loss: 2442.7178]\n",
      "19 Dec 11:44    INFO  Saving current: saved/BERT4Rec-Dec-19-2023_09-26-42.pth\n"
     ]
    }
   ],
   "source": [
    "trainer = Trainer(config, model)\n",
    "best_valid_score, best_valid_result = trainer.fit(train_data, valid_data)"
   ]
  },
  {
   "cell_type": "code",
   "execution_count": 354,
   "id": "4c34b5db-82ba-4f5b-a7fe-c49721db44a2",
   "metadata": {},
   "outputs": [
    {
     "name": "stderr",
     "output_type": "stream",
     "text": [
      "19 Dec 14:03    INFO  Loading model structure and parameters from saved/BERT4Rec-Dec-19-2023_09-26-42.pth\n"
     ]
    }
   ],
   "source": [
    "test_result = trainer.evaluate(test_data)"
   ]
  },
  {
   "cell_type": "code",
   "execution_count": 355,
   "id": "841c38a3-d518-4b8f-9cac-818510f7f356",
   "metadata": {},
   "outputs": [
    {
     "data": {
      "text/plain": [
       "OrderedDict([('map@10', 0.035),\n",
       "             ('itemcoverage@10', 0.5935),\n",
       "             ('averagepopularity@10', 1347.109)])"
      ]
     },
     "execution_count": 355,
     "metadata": {},
     "output_type": "execute_result"
    }
   ],
   "source": [
    "test_result"
   ]
  },
  {
   "cell_type": "markdown",
   "id": "a12dfe8b-6290-43dc-8f98-a6c47ea22176",
   "metadata": {},
   "source": [
    "Результат не такой хороший как ожидалось. Возможно стоило дольше обучать. Но для сервиса будем использовать RecVAE"
   ]
  }
 ],
 "metadata": {
  "kernelspec": {
   "display_name": "Python 3 (ipykernel)",
   "language": "python",
   "name": "python3"
  },
  "language_info": {
   "codemirror_mode": {
    "name": "ipython",
    "version": 3
   },
   "file_extension": ".py",
   "mimetype": "text/x-python",
   "name": "python",
   "nbconvert_exporter": "python",
   "pygments_lexer": "ipython3",
   "version": "3.10.11"
  }
 },
 "nbformat": 4,
 "nbformat_minor": 5
}
